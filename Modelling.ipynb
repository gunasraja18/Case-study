{
 "cells": [
  {
   "cell_type": "markdown",
   "metadata": {
    "id": "LHeiR61XJaTQ"
   },
   "source": [
    "# Porto Seguro’s Safe Driver Prediction"
   ]
  },
  {
   "cell_type": "markdown",
   "metadata": {
    "id": "xKReGiK8JaTU"
   },
   "source": [
    " ## Data Pre-processing+FE +Baseline Model"
   ]
  },
  {
   "cell_type": "markdown",
   "metadata": {
    "id": "ehJnMl68JaTV"
   },
   "source": [
    "Nothing ruins the thrill of buying a brand new car more quickly than seeing your new insurance bill. The sting’s even more painful when you know you’re a good driver. It doesn’t seem fair that you have to pay so much if you’ve been cautious on the road for years.\n",
    "\n",
    "Porto Seguro, one of Brazil’s largest auto and homeowner insurance companies, completely agrees. Inaccuracies in car insurance company’s claim predictions raise the cost of insurance for good drivers and reduce the price for bad ones.\n",
    "\n",
    "In this competition, you’re challenged to build a model that predicts the probability that a driver will initiate an auto insurance claim in the next year. While Porto Seguro has used machine learning for the past 20 years, they’re looking to Kaggle’s machine learning community to explore new, more powerful methods. A more accurate prediction will allow them to further tailor their prices, and hopefully make auto insurance coverage more accessible to more drivers."
   ]
  },
  {
   "cell_type": "markdown",
   "metadata": {
    "id": "zQsoMDtbJaTV"
   },
   "source": [
    "#### Data Description:\n",
    "\n",
    "In this competition, you will predict the probability that an auto insurance policy holder files a claim.\n",
    "\n",
    "In the train and test data, features that belong to similar groupings are tagged as such in the feature names (e.g., ind, reg, car, calc). In addition, feature names include the postfix bin to indicate binary features and cat to indicate categorical features. Features without these designations are either continuous or ordinal. Values of -1 indicate that the feature was missing from the observation. The target columns signifies whether or not a claim was filed for that policy holder.\n",
    "\n",
    "#### File descriptions:\n",
    "train.csv contains the training data, where each row corresponds to a policy holder, and the target columns signifies that a claim was filed.\n",
    "test.csv contains the test data.\n",
    "sample_submission.csv is submission file showing the correct format."
   ]
  },
  {
   "cell_type": "markdown",
   "metadata": {
    "id": "nPBmOS3VJaTW"
   },
   "source": [
    "#### EDA Summary:\n",
    "\n",
    "    1. The data is extremely imbalanced with only 4% of positive class and 96% of negative class.\n",
    "    2. The missing values are very significant for certain categorical and continuous features which needs to be handled.\n",
    "    3. There is no significant correlation between the features. The maximum correlation value seen is 0.64 which is fine.\n",
    "    4. For most of the categorical features (ps_car_01_cat,ps_car_03_cat,ps_ind_05_cat,ps_car_07_cat), the values are dominated by a single feature or a couple of features.\n",
    "    5. Some of the binary features (ps_ind_17_bin,ps_ind_07_bin,ps_ind_09_bin) are again dominated by a single value (0 or 1)\n",
    "    6. For both binary and category, There is a small difference in the insurance claim % for certain feature values which could be used to predict the classes with accuracy.\n",
    "    7. The continuous features are again dominated by certain values and the spread is not very uniform.\n",
    "    8. For continuous features, The data distribution between the two classes are slightly different from each other which could be leveraged to predict the classes.\n",
    "    9. Since the data is extremely imbalanced, we cant be very conclusive with the data plots but we can get an overall idea about it.\n",
    "    10. There is no duplicate data or null values present in the dataset."
   ]
  },
  {
   "cell_type": "markdown",
   "metadata": {
    "id": "Dma-35P8JaTW"
   },
   "source": [
    "#### Performance Metric:\n",
    "\n",
    "Normalized gini co-efficient is the metric used to evaluate the model. It is mainly useful for imbalanced datasets where the metric basically focuses on the prediction probability. For a binary class, if the prediction probability is high for the destined class label, then the gini co-efficient will be more for the model and vice versa. \n",
    "\n",
    "So for the business problem in question, we need to be sure that the particular customer will claim insurance or not else this might cause us to lose customers. Normalised Gini co-efficient tells us how sure our model can detect a customer who will claim insurance considering the prediction probability. \n",
    "\n",
    "The Normalized Gini Co-efficient ranges between 0 and 1. \n",
    "\n",
    "The AUC and Gini Co-efficient is related using the formula : Gini = 2*AUC – 1"
   ]
  },
  {
   "cell_type": "code",
   "execution_count": 6,
   "metadata": {
    "executionInfo": {
     "elapsed": 2429,
     "status": "ok",
     "timestamp": 1617722345917,
     "user": {
      "displayName": "Chandru King",
      "photoUrl": "",
      "userId": "14503008463780041909"
     },
     "user_tz": -330
    },
    "id": "32QLXC0NJaTW"
   },
   "outputs": [],
   "source": [
    "#importing Libraries\n",
    "\n",
    "import pandas as pd\n",
    "import numpy as np\n",
    "import seaborn as sns\n",
    "from matplotlib import pyplot as plt\n",
    "from sklearn.model_selection import train_test_split\n",
    "from sklearn.feature_selection import RFE\n",
    "from sklearn.feature_selection import SelectFromModel\n",
    "from sklearn.ensemble import RandomForestClassifier\n",
    "from xgboost import XGBClassifier\n",
    "from sklearn.impute import KNNImputer\n",
    "import warnings\n",
    "warnings.filterwarnings(\"ignore\")\n",
    "from sklearn.impute import SimpleImputer\n",
    "from sklearn.decomposition import TruncatedSVD\n",
    "from tqdm import tqdm\n",
    "import random\n",
    "from sklearn.linear_model import LogisticRegression\n",
    "from sklearn.metrics import roc_auc_score\n",
    "from xgboost import XGBClassifier\n",
    "from sklearn.linear_model import SGDClassifier\n",
    "from sklearn.tree import DecisionTreeClassifier\n",
    "from sklearn.ensemble import AdaBoostClassifier\n",
    "from sklearn.naive_bayes import GaussianNB\n",
    "from mlxtend.classifier import StackingCVClassifier\n",
    "from lightgbm import LGBMClassifier  \n",
    "import re\n",
    "from sklearn.model_selection import StratifiedKFold\n",
    "from catboost import CatBoostClassifier"
   ]
  },
  {
   "cell_type": "code",
   "execution_count": 1,
   "metadata": {
    "colab": {
     "base_uri": "https://localhost:8080/"
    },
    "executionInfo": {
     "elapsed": 24383,
     "status": "ok",
     "timestamp": 1617722335676,
     "user": {
      "displayName": "Chandru King",
      "photoUrl": "",
      "userId": "14503008463780041909"
     },
     "user_tz": -330
    },
    "id": "cUas4bLfJgzs",
    "outputId": "0e44cdf0-a10d-4262-eb25-597eaf06c695"
   },
   "outputs": [
    {
     "name": "stdout",
     "output_type": "stream",
     "text": [
      "Mounted at /content/drive\n"
     ]
    }
   ],
   "source": [
    "#Google collab load\n",
    "\n",
    "from google.colab import drive\n",
    "drive.mount('/content/drive')"
   ]
  },
  {
   "cell_type": "code",
   "execution_count": 2,
   "metadata": {
    "colab": {
     "base_uri": "https://localhost:8080/"
    },
    "executionInfo": {
     "elapsed": 861,
     "status": "ok",
     "timestamp": 1617722338983,
     "user": {
      "displayName": "Chandru King",
      "photoUrl": "",
      "userId": "14503008463780041909"
     },
     "user_tz": -330
    },
    "id": "RbSDEx0PK_w5",
    "outputId": "3f79aa58-3eca-4b9b-cc6b-0114d86d9c6e"
   },
   "outputs": [],
   "source": [
    "%cd drive/MyDrive/Colab_Notebooks\n",
    "!ls"
   ]
  },
  {
   "cell_type": "code",
   "execution_count": 10,
   "metadata": {
    "colab": {
     "base_uri": "https://localhost:8080/",
     "height": 215
    },
    "executionInfo": {
     "elapsed": 5749,
     "status": "ok",
     "timestamp": 1617722426918,
     "user": {
      "displayName": "Chandru King",
      "photoUrl": "",
      "userId": "14503008463780041909"
     },
     "user_tz": -330
    },
    "id": "XGFnpLK0JaTX",
    "outputId": "2b05341c-9bc2-40c1-8df2-9181970c751a"
   },
   "outputs": [
    {
     "data": {
      "text/html": [
       "<div>\n",
       "<style scoped>\n",
       "    .dataframe tbody tr th:only-of-type {\n",
       "        vertical-align: middle;\n",
       "    }\n",
       "\n",
       "    .dataframe tbody tr th {\n",
       "        vertical-align: top;\n",
       "    }\n",
       "\n",
       "    .dataframe thead th {\n",
       "        text-align: right;\n",
       "    }\n",
       "</style>\n",
       "<table border=\"1\" class=\"dataframe\">\n",
       "  <thead>\n",
       "    <tr style=\"text-align: right;\">\n",
       "      <th></th>\n",
       "      <th>id</th>\n",
       "      <th>target</th>\n",
       "      <th>ps_ind_01</th>\n",
       "      <th>ps_ind_02_cat</th>\n",
       "      <th>ps_ind_03</th>\n",
       "      <th>ps_ind_04_cat</th>\n",
       "      <th>ps_ind_05_cat</th>\n",
       "      <th>ps_ind_06_bin</th>\n",
       "      <th>ps_ind_07_bin</th>\n",
       "      <th>ps_ind_08_bin</th>\n",
       "      <th>...</th>\n",
       "      <th>ps_calc_11</th>\n",
       "      <th>ps_calc_12</th>\n",
       "      <th>ps_calc_13</th>\n",
       "      <th>ps_calc_14</th>\n",
       "      <th>ps_calc_15_bin</th>\n",
       "      <th>ps_calc_16_bin</th>\n",
       "      <th>ps_calc_17_bin</th>\n",
       "      <th>ps_calc_18_bin</th>\n",
       "      <th>ps_calc_19_bin</th>\n",
       "      <th>ps_calc_20_bin</th>\n",
       "    </tr>\n",
       "  </thead>\n",
       "  <tbody>\n",
       "    <tr>\n",
       "      <th>0</th>\n",
       "      <td>7</td>\n",
       "      <td>0</td>\n",
       "      <td>2</td>\n",
       "      <td>2</td>\n",
       "      <td>5</td>\n",
       "      <td>1</td>\n",
       "      <td>0</td>\n",
       "      <td>0</td>\n",
       "      <td>1</td>\n",
       "      <td>0</td>\n",
       "      <td>...</td>\n",
       "      <td>9</td>\n",
       "      <td>1</td>\n",
       "      <td>5</td>\n",
       "      <td>8</td>\n",
       "      <td>0</td>\n",
       "      <td>1</td>\n",
       "      <td>1</td>\n",
       "      <td>0</td>\n",
       "      <td>0</td>\n",
       "      <td>1</td>\n",
       "    </tr>\n",
       "    <tr>\n",
       "      <th>1</th>\n",
       "      <td>9</td>\n",
       "      <td>0</td>\n",
       "      <td>1</td>\n",
       "      <td>1</td>\n",
       "      <td>7</td>\n",
       "      <td>0</td>\n",
       "      <td>0</td>\n",
       "      <td>0</td>\n",
       "      <td>0</td>\n",
       "      <td>1</td>\n",
       "      <td>...</td>\n",
       "      <td>3</td>\n",
       "      <td>1</td>\n",
       "      <td>1</td>\n",
       "      <td>9</td>\n",
       "      <td>0</td>\n",
       "      <td>1</td>\n",
       "      <td>1</td>\n",
       "      <td>0</td>\n",
       "      <td>1</td>\n",
       "      <td>0</td>\n",
       "    </tr>\n",
       "    <tr>\n",
       "      <th>2</th>\n",
       "      <td>13</td>\n",
       "      <td>0</td>\n",
       "      <td>5</td>\n",
       "      <td>4</td>\n",
       "      <td>9</td>\n",
       "      <td>1</td>\n",
       "      <td>0</td>\n",
       "      <td>0</td>\n",
       "      <td>0</td>\n",
       "      <td>1</td>\n",
       "      <td>...</td>\n",
       "      <td>4</td>\n",
       "      <td>2</td>\n",
       "      <td>7</td>\n",
       "      <td>7</td>\n",
       "      <td>0</td>\n",
       "      <td>1</td>\n",
       "      <td>1</td>\n",
       "      <td>0</td>\n",
       "      <td>1</td>\n",
       "      <td>0</td>\n",
       "    </tr>\n",
       "    <tr>\n",
       "      <th>3</th>\n",
       "      <td>16</td>\n",
       "      <td>0</td>\n",
       "      <td>0</td>\n",
       "      <td>1</td>\n",
       "      <td>2</td>\n",
       "      <td>0</td>\n",
       "      <td>0</td>\n",
       "      <td>1</td>\n",
       "      <td>0</td>\n",
       "      <td>0</td>\n",
       "      <td>...</td>\n",
       "      <td>2</td>\n",
       "      <td>2</td>\n",
       "      <td>4</td>\n",
       "      <td>9</td>\n",
       "      <td>0</td>\n",
       "      <td>0</td>\n",
       "      <td>0</td>\n",
       "      <td>0</td>\n",
       "      <td>0</td>\n",
       "      <td>0</td>\n",
       "    </tr>\n",
       "    <tr>\n",
       "      <th>4</th>\n",
       "      <td>17</td>\n",
       "      <td>0</td>\n",
       "      <td>0</td>\n",
       "      <td>2</td>\n",
       "      <td>0</td>\n",
       "      <td>1</td>\n",
       "      <td>0</td>\n",
       "      <td>1</td>\n",
       "      <td>0</td>\n",
       "      <td>0</td>\n",
       "      <td>...</td>\n",
       "      <td>3</td>\n",
       "      <td>1</td>\n",
       "      <td>1</td>\n",
       "      <td>3</td>\n",
       "      <td>0</td>\n",
       "      <td>0</td>\n",
       "      <td>0</td>\n",
       "      <td>1</td>\n",
       "      <td>1</td>\n",
       "      <td>0</td>\n",
       "    </tr>\n",
       "  </tbody>\n",
       "</table>\n",
       "<p>5 rows × 59 columns</p>\n",
       "</div>"
      ],
      "text/plain": [
       "   id  target  ps_ind_01  ps_ind_02_cat  ps_ind_03  ps_ind_04_cat  \\\n",
       "0   7       0          2              2          5              1   \n",
       "1   9       0          1              1          7              0   \n",
       "2  13       0          5              4          9              1   \n",
       "3  16       0          0              1          2              0   \n",
       "4  17       0          0              2          0              1   \n",
       "\n",
       "   ps_ind_05_cat  ps_ind_06_bin  ps_ind_07_bin  ps_ind_08_bin  ...  \\\n",
       "0              0              0              1              0  ...   \n",
       "1              0              0              0              1  ...   \n",
       "2              0              0              0              1  ...   \n",
       "3              0              1              0              0  ...   \n",
       "4              0              1              0              0  ...   \n",
       "\n",
       "   ps_calc_11  ps_calc_12  ps_calc_13  ps_calc_14  ps_calc_15_bin  \\\n",
       "0           9           1           5           8               0   \n",
       "1           3           1           1           9               0   \n",
       "2           4           2           7           7               0   \n",
       "3           2           2           4           9               0   \n",
       "4           3           1           1           3               0   \n",
       "\n",
       "   ps_calc_16_bin  ps_calc_17_bin  ps_calc_18_bin  ps_calc_19_bin  \\\n",
       "0               1               1               0               0   \n",
       "1               1               1               0               1   \n",
       "2               1               1               0               1   \n",
       "3               0               0               0               0   \n",
       "4               0               0               1               1   \n",
       "\n",
       "   ps_calc_20_bin  \n",
       "0               1  \n",
       "1               0  \n",
       "2               0  \n",
       "3               0  \n",
       "4               0  \n",
       "\n",
       "[5 rows x 59 columns]"
      ]
     },
     "execution_count": 10,
     "metadata": {},
     "output_type": "execute_result"
    }
   ],
   "source": [
    "#Loading the data into csv file\n",
    "\n",
    "data=pd.read_csv('train.csv')\n",
    "data.head()"
   ]
  },
  {
   "cell_type": "code",
   "execution_count": null,
   "metadata": {
    "id": "4Gdmy2XcJaTY"
   },
   "outputs": [],
   "source": [
    "#Seggreagating the class labels seperately\n",
    "\n",
    "temp_y=data['target']\n",
    "temp_x=data.drop(['id','target'],axis=1)"
   ]
  },
  {
   "cell_type": "code",
   "execution_count": null,
   "metadata": {
    "id": "RrynAElNJaTY"
   },
   "outputs": [],
   "source": [
    "## Missing values % in the data\n",
    "\n",
    "miss_columns=temp_x.eq(-1).sum()\n",
    "colname=temp_x.columns\n",
    "for i in range(len(miss_columns)):\n",
    "    if miss_columns[i]!=0:\n",
    "        print(\"The missing value % in column\",colname[i],\"is\", miss_columns[i]*100/595212,'%')"
   ]
  },
  {
   "cell_type": "markdown",
   "metadata": {
    "id": "Gjb3rdP6JaTY"
   },
   "source": [
    "## Train-Test Split"
   ]
  },
  {
   "cell_type": "code",
   "execution_count": 11,
   "metadata": {
    "executionInfo": {
     "elapsed": 1356,
     "status": "ok",
     "timestamp": 1617722428282,
     "user": {
      "displayName": "Chandru King",
      "photoUrl": "",
      "userId": "14503008463780041909"
     },
     "user_tz": -330
    },
    "id": "XIJHUD5ZJaTY"
   },
   "outputs": [],
   "source": [
    "#Data split for train and test using Stratify\n",
    "\n",
    "data_y=data['target']\n",
    "data_x=data.drop(['id','target'],axis=1)\n",
    "#data_x.head()\n",
    "X_train, X_test, y_train, y_test = train_test_split(data_x,data_y, test_size=0.33, stratify=data_y,random_state=42)"
   ]
  },
  {
   "cell_type": "markdown",
   "metadata": {
    "id": "ozC5NeC4JaTZ"
   },
   "source": [
    "## Data Pre-Processing"
   ]
  },
  {
   "cell_type": "markdown",
   "metadata": {
    "id": "AdB7Z6lWJaTZ"
   },
   "source": [
    "### Categorical feature imputation - Model-based imputation for categorical missing features less than 1%"
   ]
  },
  {
   "cell_type": "markdown",
   "metadata": {
    "id": "h8VJNc96JaTZ"
   },
   "source": [
    "The Categorical features having missing features less than 1% are imputed whereas missing value counts greater than 1% are considered as a seperate category itself. Imputation method followed here is \"most frequent\" where the missing values will be imputed with the maximum frequency value from the dataset."
   ]
  },
  {
   "cell_type": "code",
   "execution_count": null,
   "metadata": {
    "id": "hSkcMnGaJaTZ"
   },
   "outputs": [],
   "source": [
    "#Replacing missing values by nan to support imputation.\n",
    "\n",
    "X_train['ps_ind_02_cat']=X_train['ps_ind_02_cat'].replace(-1,np.nan)\n",
    "X_train['ps_ind_04_cat']=X_train['ps_ind_04_cat'].replace(-1,np.nan)\n",
    "X_train['ps_ind_05_cat']=X_train['ps_ind_05_cat'].replace(-1,np.nan)\n",
    "X_train['ps_car_01_cat']=X_train['ps_car_01_cat'].replace(-1,np.nan)\n",
    "X_train['ps_car_02_cat']=X_train['ps_car_02_cat'].replace(-1,np.nan)\n",
    "X_train['ps_car_09_cat']=X_train['ps_car_09_cat'].replace(-1,np.nan)\n",
    "\n",
    "X_test['ps_ind_02_cat']=X_test['ps_ind_02_cat'].replace(-1,np.nan)\n",
    "X_test['ps_ind_04_cat']=X_test['ps_ind_04_cat'].replace(-1,np.nan)\n",
    "X_test['ps_ind_05_cat']=X_test['ps_ind_05_cat'].replace(-1,np.nan)\n",
    "X_test['ps_car_01_cat']=X_test['ps_car_01_cat'].replace(-1,np.nan)\n",
    "X_test['ps_car_02_cat']=X_test['ps_car_02_cat'].replace(-1,np.nan)\n",
    "X_test['ps_car_09_cat']=X_test['ps_car_09_cat'].replace(-1,np.nan)\n"
   ]
  },
  {
   "cell_type": "code",
   "execution_count": null,
   "metadata": {
    "id": "-BNk0pYxJaTa",
    "outputId": "43f38350-c219-4a3d-9585-35130b5b701d"
   },
   "outputs": [
    {
     "data": {
      "text/plain": [
       "196420"
      ]
     },
     "execution_count": 54,
     "metadata": {
      "tags": []
     },
     "output_type": "execute_result"
    }
   ],
   "source": [
    "len(X_test)"
   ]
  },
  {
   "cell_type": "code",
   "execution_count": null,
   "metadata": {
    "id": "B8A9EC0AJaTa"
   },
   "outputs": [],
   "source": [
    "#Imputing using most frequent/mode method for categorical feature.\n",
    "\n",
    "cat_imp=SimpleImputer(missing_values=np.nan, strategy='most_frequent')\n",
    "X_train_cat_imp=cat_imp.fit_transform(X_train)\n",
    "X_train[:]=X_train_cat_imp\n",
    "\n",
    "\n",
    "\n",
    "cat_imp_test=SimpleImputer(missing_values=np.nan, strategy='most_frequent')\n",
    "X_test_cat_imp=cat_imp_test.fit_transform(X_test)\n",
    "X_test[:]=X_test_cat_imp"
   ]
  },
  {
   "cell_type": "code",
   "execution_count": null,
   "metadata": {
    "id": "AkIOCvqVJaTa",
    "outputId": "49483fc5-ca21-4ec1-ac7e-f36ec1724c96"
   },
   "outputs": [
    {
     "name": "stdout",
     "output_type": "stream",
     "text": [
      "The missing value % in column ps_reg_03 is 12.135508020671626 %\n",
      "The missing value % in column ps_car_03_cat is 46.29308548886783 %\n",
      "The missing value % in column ps_car_05_cat is 29.978730267534928 %\n",
      "The missing value % in column ps_car_07_cat is 1.2877764561198364 %\n",
      "The missing value % in column ps_car_11 is 0.0005040220963287031 %\n",
      "The missing value % in column ps_car_14 is 4.798626371780139 %\n"
     ]
    }
   ],
   "source": [
    "#Missing value % check\n",
    "\n",
    "miss_columns=X_train.eq(-1).sum()\n",
    "colname=X_train.columns\n",
    "for i in range(len(miss_columns)):\n",
    "    if miss_columns[i]!=0:\n",
    "        print(\"The missing value % in column\",colname[i],\"is\", miss_columns[i]*100/595212,'%')\n",
    "        "
   ]
  },
  {
   "cell_type": "markdown",
   "metadata": {
    "id": "SovyBADCJaTb"
   },
   "source": [
    "Only categories having missing values greater than 1% and continuous values are present. "
   ]
  },
  {
   "cell_type": "code",
   "execution_count": null,
   "metadata": {
    "id": "h3SM3fYSJaTb",
    "outputId": "acc98a2f-aaa1-4106-a0bb-40c8d6e2ffbc"
   },
   "outputs": [
    {
     "data": {
      "text/plain": [
       "0.0    357571\n",
       "6.0     13931\n",
       "4.0     12263\n",
       "1.0      5567\n",
       "3.0      5501\n",
       "2.0      2851\n",
       "5.0      1108\n",
       "Name: ps_ind_05_cat, dtype: int64"
      ]
     },
     "execution_count": 135,
     "metadata": {
      "tags": []
     },
     "output_type": "execute_result"
    }
   ],
   "source": [
    "X_train[\"ps_ind_05_cat\"].value_counts()"
   ]
  },
  {
   "cell_type": "markdown",
   "metadata": {
    "id": "S3wQwK9TJaTb"
   },
   "source": [
    "### Numerical feature imputation"
   ]
  },
  {
   "cell_type": "markdown",
   "metadata": {
    "id": "yNwoXk1-JaTb"
   },
   "source": [
    "For Numerical features, the missing values will be imputed with model-based method 'Knn-Imputer'."
   ]
  },
  {
   "cell_type": "code",
   "execution_count": null,
   "metadata": {
    "id": "SuDznQwRJaTb"
   },
   "outputs": [],
   "source": [
    "#Replacing missing values with 'nan' for Continuous features.\n",
    "\n",
    "X_train['ps_car_11']=X_train['ps_car_11'].replace(-1,np.nan)\n",
    "X_train['ps_car_12']=X_train['ps_car_12'].replace(-1,np.nan)\n",
    "X_train['ps_car_14']=X_train['ps_car_14'].replace(-1,np.nan)\n",
    "X_train['ps_reg_03']=X_train['ps_reg_03'].replace(-1,np.nan)\n",
    "\n",
    "\n",
    "X_test['ps_car_11']=X_test['ps_car_11'].replace(-1,np.nan)\n",
    "X_test['ps_car_12']=X_test['ps_car_12'].replace(-1,np.nan)\n",
    "X_test['ps_car_14']=X_test['ps_car_14'].replace(-1,np.nan)\n",
    "X_test['ps_reg_03']=X_test['ps_reg_03'].replace(-1,np.nan)\n"
   ]
  },
  {
   "cell_type": "code",
   "execution_count": null,
   "metadata": {
    "id": "FtBZQiRrJaTb"
   },
   "outputs": [],
   "source": [
    "#Imputation done with Knn-model based method for continuous features. \n",
    "\n",
    "imputer = KNNImputer(n_neighbors=3)\n",
    "X_train_fit=imputer.fit_transform(X_train)\n",
    "\n",
    "\n",
    "imputer_test = KNNImputer(n_neighbors=3)\n",
    "X_test_fit=imputer_test.fit_transform(X_test)"
   ]
  },
  {
   "cell_type": "code",
   "execution_count": null,
   "metadata": {
    "id": "fS-WeDmWJaTc"
   },
   "outputs": [],
   "source": [
    "X_train[:]=X_train_fit\n",
    "X_test[:]=X_test_fit"
   ]
  },
  {
   "cell_type": "code",
   "execution_count": null,
   "metadata": {
    "id": "pa6C3FrIJaTc"
   },
   "outputs": [],
   "source": [
    "#Saving the final imputed data into a file\n",
    "\n",
    "#X_train.to_csv('X_imputed.csv')\n",
    "#X_test.to_csv('X_imputed_test.csv')"
   ]
  },
  {
   "cell_type": "code",
   "execution_count": null,
   "metadata": {
    "id": "zbsuyVY0JaTc",
    "outputId": "2b5685ca-7398-4493-86b9-71da47bbb2b4"
   },
   "outputs": [
    {
     "data": {
      "text/html": [
       "<div>\n",
       "<style scoped>\n",
       "    .dataframe tbody tr th:only-of-type {\n",
       "        vertical-align: middle;\n",
       "    }\n",
       "\n",
       "    .dataframe tbody tr th {\n",
       "        vertical-align: top;\n",
       "    }\n",
       "\n",
       "    .dataframe thead th {\n",
       "        text-align: right;\n",
       "    }\n",
       "</style>\n",
       "<table border=\"1\" class=\"dataframe\">\n",
       "  <thead>\n",
       "    <tr style=\"text-align: right;\">\n",
       "      <th></th>\n",
       "      <th>Unnamed: 0</th>\n",
       "      <th>ps_ind_01</th>\n",
       "      <th>ps_ind_02_cat</th>\n",
       "      <th>ps_ind_03</th>\n",
       "      <th>ps_ind_04_cat</th>\n",
       "      <th>ps_ind_05_cat</th>\n",
       "      <th>ps_ind_06_bin</th>\n",
       "      <th>ps_ind_07_bin</th>\n",
       "      <th>ps_ind_08_bin</th>\n",
       "      <th>ps_ind_09_bin</th>\n",
       "      <th>...</th>\n",
       "      <th>ps_calc_11</th>\n",
       "      <th>ps_calc_12</th>\n",
       "      <th>ps_calc_13</th>\n",
       "      <th>ps_calc_14</th>\n",
       "      <th>ps_calc_15_bin</th>\n",
       "      <th>ps_calc_16_bin</th>\n",
       "      <th>ps_calc_17_bin</th>\n",
       "      <th>ps_calc_18_bin</th>\n",
       "      <th>ps_calc_19_bin</th>\n",
       "      <th>ps_calc_20_bin</th>\n",
       "    </tr>\n",
       "  </thead>\n",
       "  <tbody>\n",
       "    <tr>\n",
       "      <th>0</th>\n",
       "      <td>74260</td>\n",
       "      <td>3.0</td>\n",
       "      <td>2.0</td>\n",
       "      <td>3.0</td>\n",
       "      <td>1.0</td>\n",
       "      <td>0.0</td>\n",
       "      <td>1.0</td>\n",
       "      <td>0.0</td>\n",
       "      <td>0.0</td>\n",
       "      <td>0.0</td>\n",
       "      <td>...</td>\n",
       "      <td>6.0</td>\n",
       "      <td>0.0</td>\n",
       "      <td>5.0</td>\n",
       "      <td>6.0</td>\n",
       "      <td>0.0</td>\n",
       "      <td>1.0</td>\n",
       "      <td>1.0</td>\n",
       "      <td>1.0</td>\n",
       "      <td>0.0</td>\n",
       "      <td>1.0</td>\n",
       "    </tr>\n",
       "    <tr>\n",
       "      <th>1</th>\n",
       "      <td>319443</td>\n",
       "      <td>4.0</td>\n",
       "      <td>2.0</td>\n",
       "      <td>7.0</td>\n",
       "      <td>1.0</td>\n",
       "      <td>0.0</td>\n",
       "      <td>0.0</td>\n",
       "      <td>1.0</td>\n",
       "      <td>0.0</td>\n",
       "      <td>0.0</td>\n",
       "      <td>...</td>\n",
       "      <td>3.0</td>\n",
       "      <td>1.0</td>\n",
       "      <td>2.0</td>\n",
       "      <td>8.0</td>\n",
       "      <td>0.0</td>\n",
       "      <td>0.0</td>\n",
       "      <td>0.0</td>\n",
       "      <td>0.0</td>\n",
       "      <td>1.0</td>\n",
       "      <td>0.0</td>\n",
       "    </tr>\n",
       "    <tr>\n",
       "      <th>2</th>\n",
       "      <td>550791</td>\n",
       "      <td>5.0</td>\n",
       "      <td>1.0</td>\n",
       "      <td>11.0</td>\n",
       "      <td>0.0</td>\n",
       "      <td>0.0</td>\n",
       "      <td>0.0</td>\n",
       "      <td>0.0</td>\n",
       "      <td>0.0</td>\n",
       "      <td>1.0</td>\n",
       "      <td>...</td>\n",
       "      <td>8.0</td>\n",
       "      <td>0.0</td>\n",
       "      <td>0.0</td>\n",
       "      <td>5.0</td>\n",
       "      <td>0.0</td>\n",
       "      <td>1.0</td>\n",
       "      <td>0.0</td>\n",
       "      <td>0.0</td>\n",
       "      <td>0.0</td>\n",
       "      <td>0.0</td>\n",
       "    </tr>\n",
       "    <tr>\n",
       "      <th>3</th>\n",
       "      <td>302234</td>\n",
       "      <td>1.0</td>\n",
       "      <td>2.0</td>\n",
       "      <td>1.0</td>\n",
       "      <td>1.0</td>\n",
       "      <td>4.0</td>\n",
       "      <td>0.0</td>\n",
       "      <td>0.0</td>\n",
       "      <td>1.0</td>\n",
       "      <td>0.0</td>\n",
       "      <td>...</td>\n",
       "      <td>7.0</td>\n",
       "      <td>2.0</td>\n",
       "      <td>5.0</td>\n",
       "      <td>5.0</td>\n",
       "      <td>0.0</td>\n",
       "      <td>0.0</td>\n",
       "      <td>0.0</td>\n",
       "      <td>0.0</td>\n",
       "      <td>1.0</td>\n",
       "      <td>0.0</td>\n",
       "    </tr>\n",
       "    <tr>\n",
       "      <th>4</th>\n",
       "      <td>15504</td>\n",
       "      <td>2.0</td>\n",
       "      <td>1.0</td>\n",
       "      <td>7.0</td>\n",
       "      <td>0.0</td>\n",
       "      <td>0.0</td>\n",
       "      <td>0.0</td>\n",
       "      <td>1.0</td>\n",
       "      <td>0.0</td>\n",
       "      <td>0.0</td>\n",
       "      <td>...</td>\n",
       "      <td>5.0</td>\n",
       "      <td>4.0</td>\n",
       "      <td>3.0</td>\n",
       "      <td>5.0</td>\n",
       "      <td>0.0</td>\n",
       "      <td>1.0</td>\n",
       "      <td>1.0</td>\n",
       "      <td>1.0</td>\n",
       "      <td>0.0</td>\n",
       "      <td>0.0</td>\n",
       "    </tr>\n",
       "  </tbody>\n",
       "</table>\n",
       "<p>5 rows × 58 columns</p>\n",
       "</div>"
      ],
      "text/plain": [
       "   Unnamed: 0  ps_ind_01  ps_ind_02_cat  ps_ind_03  ps_ind_04_cat  \\\n",
       "0       74260        3.0            2.0        3.0            1.0   \n",
       "1      319443        4.0            2.0        7.0            1.0   \n",
       "2      550791        5.0            1.0       11.0            0.0   \n",
       "3      302234        1.0            2.0        1.0            1.0   \n",
       "4       15504        2.0            1.0        7.0            0.0   \n",
       "\n",
       "   ps_ind_05_cat  ps_ind_06_bin  ps_ind_07_bin  ps_ind_08_bin  ps_ind_09_bin  \\\n",
       "0            0.0            1.0            0.0            0.0            0.0   \n",
       "1            0.0            0.0            1.0            0.0            0.0   \n",
       "2            0.0            0.0            0.0            0.0            1.0   \n",
       "3            4.0            0.0            0.0            1.0            0.0   \n",
       "4            0.0            0.0            1.0            0.0            0.0   \n",
       "\n",
       "   ...  ps_calc_11  ps_calc_12  ps_calc_13  ps_calc_14  ps_calc_15_bin  \\\n",
       "0  ...         6.0         0.0         5.0         6.0             0.0   \n",
       "1  ...         3.0         1.0         2.0         8.0             0.0   \n",
       "2  ...         8.0         0.0         0.0         5.0             0.0   \n",
       "3  ...         7.0         2.0         5.0         5.0             0.0   \n",
       "4  ...         5.0         4.0         3.0         5.0             0.0   \n",
       "\n",
       "   ps_calc_16_bin  ps_calc_17_bin  ps_calc_18_bin  ps_calc_19_bin  \\\n",
       "0             1.0             1.0             1.0             0.0   \n",
       "1             0.0             0.0             0.0             1.0   \n",
       "2             1.0             0.0             0.0             0.0   \n",
       "3             0.0             0.0             0.0             1.0   \n",
       "4             1.0             1.0             1.0             0.0   \n",
       "\n",
       "   ps_calc_20_bin  \n",
       "0             1.0  \n",
       "1             0.0  \n",
       "2             0.0  \n",
       "3             0.0  \n",
       "4             0.0  \n",
       "\n",
       "[5 rows x 58 columns]"
      ]
     },
     "execution_count": 5,
     "metadata": {
      "tags": []
     },
     "output_type": "execute_result"
    }
   ],
   "source": [
    "#Reading the final imputed file\n",
    "\n",
    "\n",
    "X_imp_train=pd.read_csv('X_imputed.csv')\n",
    "X_imp_train.head()\n",
    "\n",
    "\n",
    "X_imp_test=pd.read_csv('X_imputed_test.csv')\n",
    "X_imp_test.head()\n"
   ]
  },
  {
   "cell_type": "code",
   "execution_count": null,
   "metadata": {
    "id": "zKX93nUqJaTc",
    "outputId": "5d3b804d-5285-48fc-cd15-d8ce2769778a"
   },
   "outputs": [
    {
     "data": {
      "text/plain": [
       "0"
      ]
     },
     "execution_count": 6,
     "metadata": {
      "tags": []
     },
     "output_type": "execute_result"
    }
   ],
   "source": [
    "X_imp_train.isnull().sum().sum()\n",
    "X_imp_test.isnull().sum().sum()"
   ]
  },
  {
   "cell_type": "code",
   "execution_count": null,
   "metadata": {
    "id": "wdvUyGyIJaTd",
    "outputId": "c8d9b10a-9e1a-485c-9bae-060fc7505534"
   },
   "outputs": [
    {
     "data": {
      "text/plain": [
       "(398792, 58)"
      ]
     },
     "execution_count": 7,
     "metadata": {
      "tags": []
     },
     "output_type": "execute_result"
    }
   ],
   "source": [
    "X_imp_train.shape"
   ]
  },
  {
   "cell_type": "code",
   "execution_count": null,
   "metadata": {
    "id": "T2ZH4HwwJaTd",
    "outputId": "9427d4d5-9582-471e-8ecd-7e99a9b9b7f5"
   },
   "outputs": [
    {
     "data": {
      "text/plain": [
       "1.0    289469\n",
       "2.0     82851\n",
       "3.0     18833\n",
       "4.0      7639\n",
       "Name: ps_ind_02_cat, dtype: int64"
      ]
     },
     "execution_count": 8,
     "metadata": {
      "tags": []
     },
     "output_type": "execute_result"
    }
   ],
   "source": [
    "X_imp_train['ps_ind_02_cat'].value_counts()"
   ]
  },
  {
   "cell_type": "markdown",
   "metadata": {
    "id": "Qb2cYwznJaTd"
   },
   "source": [
    "### One hot Encoding of Categorical Features-Data Preprocessing"
   ]
  },
  {
   "cell_type": "markdown",
   "metadata": {
    "id": "FMnUUSebJaTd"
   },
   "source": [
    "One hot Encoding is performed on Categorical features."
   ]
  },
  {
   "cell_type": "code",
   "execution_count": null,
   "metadata": {
    "id": "alhckTc0JaTe"
   },
   "outputs": [],
   "source": [
    "colu=X_imp_train[['ps_ind_02_cat','ps_ind_04_cat', 'ps_ind_05_cat', 'ps_ind_06_bin', 'ps_ind_07_bin',\n",
    "       'ps_ind_08_bin', 'ps_ind_09_bin', 'ps_ind_10_bin', 'ps_ind_11_bin',\n",
    "       'ps_ind_12_bin', 'ps_ind_13_bin','ps_ind_16_bin', 'ps_ind_17_bin', 'ps_ind_18_bin','ps_car_01_cat', 'ps_car_02_cat',\n",
    "       'ps_car_03_cat', 'ps_car_04_cat', 'ps_car_05_cat', 'ps_car_06_cat',\n",
    "       'ps_car_07_cat', 'ps_car_08_cat', 'ps_car_09_cat', 'ps_car_10_cat',\n",
    "       'ps_car_11_cat','ps_calc_15_bin', 'ps_calc_16_bin', 'ps_calc_17_bin', 'ps_calc_18_bin','ps_calc_19_bin', 'ps_calc_20_bin']].columns"
   ]
  },
  {
   "cell_type": "code",
   "execution_count": null,
   "metadata": {
    "id": "J7cbLiymJaTe",
    "outputId": "030a1e8e-4af3-40d0-dd3f-067ae1dd4d35"
   },
   "outputs": [
    {
     "data": {
      "text/html": [
       "<div>\n",
       "<style scoped>\n",
       "    .dataframe tbody tr th:only-of-type {\n",
       "        vertical-align: middle;\n",
       "    }\n",
       "\n",
       "    .dataframe tbody tr th {\n",
       "        vertical-align: top;\n",
       "    }\n",
       "\n",
       "    .dataframe thead th {\n",
       "        text-align: right;\n",
       "    }\n",
       "</style>\n",
       "<table border=\"1\" class=\"dataframe\">\n",
       "  <thead>\n",
       "    <tr style=\"text-align: right;\">\n",
       "      <th></th>\n",
       "      <th>Unnamed: 0</th>\n",
       "      <th>ps_ind_01</th>\n",
       "      <th>ps_ind_02_cat</th>\n",
       "      <th>ps_ind_03</th>\n",
       "      <th>ps_ind_04_cat</th>\n",
       "      <th>ps_ind_05_cat</th>\n",
       "      <th>ps_ind_06_bin</th>\n",
       "      <th>ps_ind_07_bin</th>\n",
       "      <th>ps_ind_08_bin</th>\n",
       "      <th>ps_ind_09_bin</th>\n",
       "      <th>...</th>\n",
       "      <th>ps_calc_11</th>\n",
       "      <th>ps_calc_12</th>\n",
       "      <th>ps_calc_13</th>\n",
       "      <th>ps_calc_14</th>\n",
       "      <th>ps_calc_15_bin</th>\n",
       "      <th>ps_calc_16_bin</th>\n",
       "      <th>ps_calc_17_bin</th>\n",
       "      <th>ps_calc_18_bin</th>\n",
       "      <th>ps_calc_19_bin</th>\n",
       "      <th>ps_calc_20_bin</th>\n",
       "    </tr>\n",
       "  </thead>\n",
       "  <tbody>\n",
       "    <tr>\n",
       "      <th>0</th>\n",
       "      <td>12832</td>\n",
       "      <td>0.0</td>\n",
       "      <td>2.0</td>\n",
       "      <td>1.0</td>\n",
       "      <td>1.0</td>\n",
       "      <td>0.0</td>\n",
       "      <td>0.0</td>\n",
       "      <td>1.0</td>\n",
       "      <td>0.0</td>\n",
       "      <td>0.0</td>\n",
       "      <td>...</td>\n",
       "      <td>7.0</td>\n",
       "      <td>3.0</td>\n",
       "      <td>2.0</td>\n",
       "      <td>4.0</td>\n",
       "      <td>0.0</td>\n",
       "      <td>1.0</td>\n",
       "      <td>1.0</td>\n",
       "      <td>0.0</td>\n",
       "      <td>0.0</td>\n",
       "      <td>0.0</td>\n",
       "    </tr>\n",
       "    <tr>\n",
       "      <th>1</th>\n",
       "      <td>201839</td>\n",
       "      <td>0.0</td>\n",
       "      <td>1.0</td>\n",
       "      <td>2.0</td>\n",
       "      <td>1.0</td>\n",
       "      <td>0.0</td>\n",
       "      <td>1.0</td>\n",
       "      <td>0.0</td>\n",
       "      <td>0.0</td>\n",
       "      <td>0.0</td>\n",
       "      <td>...</td>\n",
       "      <td>5.0</td>\n",
       "      <td>1.0</td>\n",
       "      <td>1.0</td>\n",
       "      <td>5.0</td>\n",
       "      <td>0.0</td>\n",
       "      <td>1.0</td>\n",
       "      <td>1.0</td>\n",
       "      <td>0.0</td>\n",
       "      <td>1.0</td>\n",
       "      <td>0.0</td>\n",
       "    </tr>\n",
       "    <tr>\n",
       "      <th>2</th>\n",
       "      <td>575286</td>\n",
       "      <td>4.0</td>\n",
       "      <td>1.0</td>\n",
       "      <td>2.0</td>\n",
       "      <td>0.0</td>\n",
       "      <td>0.0</td>\n",
       "      <td>0.0</td>\n",
       "      <td>0.0</td>\n",
       "      <td>1.0</td>\n",
       "      <td>0.0</td>\n",
       "      <td>...</td>\n",
       "      <td>0.0</td>\n",
       "      <td>2.0</td>\n",
       "      <td>3.0</td>\n",
       "      <td>8.0</td>\n",
       "      <td>0.0</td>\n",
       "      <td>1.0</td>\n",
       "      <td>1.0</td>\n",
       "      <td>0.0</td>\n",
       "      <td>0.0</td>\n",
       "      <td>0.0</td>\n",
       "    </tr>\n",
       "    <tr>\n",
       "      <th>3</th>\n",
       "      <td>79132</td>\n",
       "      <td>1.0</td>\n",
       "      <td>3.0</td>\n",
       "      <td>6.0</td>\n",
       "      <td>1.0</td>\n",
       "      <td>0.0</td>\n",
       "      <td>0.0</td>\n",
       "      <td>0.0</td>\n",
       "      <td>1.0</td>\n",
       "      <td>0.0</td>\n",
       "      <td>...</td>\n",
       "      <td>7.0</td>\n",
       "      <td>2.0</td>\n",
       "      <td>1.0</td>\n",
       "      <td>10.0</td>\n",
       "      <td>0.0</td>\n",
       "      <td>0.0</td>\n",
       "      <td>0.0</td>\n",
       "      <td>0.0</td>\n",
       "      <td>1.0</td>\n",
       "      <td>0.0</td>\n",
       "    </tr>\n",
       "    <tr>\n",
       "      <th>4</th>\n",
       "      <td>26497</td>\n",
       "      <td>0.0</td>\n",
       "      <td>1.0</td>\n",
       "      <td>1.0</td>\n",
       "      <td>0.0</td>\n",
       "      <td>0.0</td>\n",
       "      <td>1.0</td>\n",
       "      <td>0.0</td>\n",
       "      <td>0.0</td>\n",
       "      <td>0.0</td>\n",
       "      <td>...</td>\n",
       "      <td>4.0</td>\n",
       "      <td>0.0</td>\n",
       "      <td>2.0</td>\n",
       "      <td>10.0</td>\n",
       "      <td>0.0</td>\n",
       "      <td>1.0</td>\n",
       "      <td>1.0</td>\n",
       "      <td>1.0</td>\n",
       "      <td>1.0</td>\n",
       "      <td>0.0</td>\n",
       "    </tr>\n",
       "    <tr>\n",
       "      <th>...</th>\n",
       "      <td>...</td>\n",
       "      <td>...</td>\n",
       "      <td>...</td>\n",
       "      <td>...</td>\n",
       "      <td>...</td>\n",
       "      <td>...</td>\n",
       "      <td>...</td>\n",
       "      <td>...</td>\n",
       "      <td>...</td>\n",
       "      <td>...</td>\n",
       "      <td>...</td>\n",
       "      <td>...</td>\n",
       "      <td>...</td>\n",
       "      <td>...</td>\n",
       "      <td>...</td>\n",
       "      <td>...</td>\n",
       "      <td>...</td>\n",
       "      <td>...</td>\n",
       "      <td>...</td>\n",
       "      <td>...</td>\n",
       "      <td>...</td>\n",
       "    </tr>\n",
       "    <tr>\n",
       "      <th>398787</th>\n",
       "      <td>120195</td>\n",
       "      <td>3.0</td>\n",
       "      <td>1.0</td>\n",
       "      <td>2.0</td>\n",
       "      <td>1.0</td>\n",
       "      <td>0.0</td>\n",
       "      <td>0.0</td>\n",
       "      <td>0.0</td>\n",
       "      <td>1.0</td>\n",
       "      <td>0.0</td>\n",
       "      <td>...</td>\n",
       "      <td>8.0</td>\n",
       "      <td>2.0</td>\n",
       "      <td>3.0</td>\n",
       "      <td>9.0</td>\n",
       "      <td>1.0</td>\n",
       "      <td>1.0</td>\n",
       "      <td>0.0</td>\n",
       "      <td>1.0</td>\n",
       "      <td>0.0</td>\n",
       "      <td>0.0</td>\n",
       "    </tr>\n",
       "    <tr>\n",
       "      <th>398788</th>\n",
       "      <td>438004</td>\n",
       "      <td>1.0</td>\n",
       "      <td>1.0</td>\n",
       "      <td>3.0</td>\n",
       "      <td>0.0</td>\n",
       "      <td>0.0</td>\n",
       "      <td>0.0</td>\n",
       "      <td>1.0</td>\n",
       "      <td>0.0</td>\n",
       "      <td>0.0</td>\n",
       "      <td>...</td>\n",
       "      <td>4.0</td>\n",
       "      <td>3.0</td>\n",
       "      <td>2.0</td>\n",
       "      <td>11.0</td>\n",
       "      <td>0.0</td>\n",
       "      <td>1.0</td>\n",
       "      <td>1.0</td>\n",
       "      <td>0.0</td>\n",
       "      <td>1.0</td>\n",
       "      <td>0.0</td>\n",
       "    </tr>\n",
       "    <tr>\n",
       "      <th>398789</th>\n",
       "      <td>72635</td>\n",
       "      <td>2.0</td>\n",
       "      <td>1.0</td>\n",
       "      <td>7.0</td>\n",
       "      <td>0.0</td>\n",
       "      <td>0.0</td>\n",
       "      <td>0.0</td>\n",
       "      <td>1.0</td>\n",
       "      <td>0.0</td>\n",
       "      <td>0.0</td>\n",
       "      <td>...</td>\n",
       "      <td>8.0</td>\n",
       "      <td>0.0</td>\n",
       "      <td>2.0</td>\n",
       "      <td>9.0</td>\n",
       "      <td>0.0</td>\n",
       "      <td>1.0</td>\n",
       "      <td>0.0</td>\n",
       "      <td>0.0</td>\n",
       "      <td>0.0</td>\n",
       "      <td>0.0</td>\n",
       "    </tr>\n",
       "    <tr>\n",
       "      <th>398790</th>\n",
       "      <td>129319</td>\n",
       "      <td>1.0</td>\n",
       "      <td>2.0</td>\n",
       "      <td>2.0</td>\n",
       "      <td>0.0</td>\n",
       "      <td>0.0</td>\n",
       "      <td>1.0</td>\n",
       "      <td>0.0</td>\n",
       "      <td>0.0</td>\n",
       "      <td>0.0</td>\n",
       "      <td>...</td>\n",
       "      <td>8.0</td>\n",
       "      <td>0.0</td>\n",
       "      <td>0.0</td>\n",
       "      <td>6.0</td>\n",
       "      <td>0.0</td>\n",
       "      <td>0.0</td>\n",
       "      <td>1.0</td>\n",
       "      <td>0.0</td>\n",
       "      <td>0.0</td>\n",
       "      <td>0.0</td>\n",
       "    </tr>\n",
       "    <tr>\n",
       "      <th>398791</th>\n",
       "      <td>417177</td>\n",
       "      <td>3.0</td>\n",
       "      <td>1.0</td>\n",
       "      <td>3.0</td>\n",
       "      <td>0.0</td>\n",
       "      <td>0.0</td>\n",
       "      <td>0.0</td>\n",
       "      <td>0.0</td>\n",
       "      <td>1.0</td>\n",
       "      <td>0.0</td>\n",
       "      <td>...</td>\n",
       "      <td>7.0</td>\n",
       "      <td>0.0</td>\n",
       "      <td>2.0</td>\n",
       "      <td>9.0</td>\n",
       "      <td>0.0</td>\n",
       "      <td>1.0</td>\n",
       "      <td>1.0</td>\n",
       "      <td>1.0</td>\n",
       "      <td>0.0</td>\n",
       "      <td>1.0</td>\n",
       "    </tr>\n",
       "  </tbody>\n",
       "</table>\n",
       "<p>398792 rows × 58 columns</p>\n",
       "</div>"
      ],
      "text/plain": [
       "        Unnamed: 0  ps_ind_01  ps_ind_02_cat  ps_ind_03  ps_ind_04_cat  \\\n",
       "0            12832        0.0            2.0        1.0            1.0   \n",
       "1           201839        0.0            1.0        2.0            1.0   \n",
       "2           575286        4.0            1.0        2.0            0.0   \n",
       "3            79132        1.0            3.0        6.0            1.0   \n",
       "4            26497        0.0            1.0        1.0            0.0   \n",
       "...            ...        ...            ...        ...            ...   \n",
       "398787      120195        3.0            1.0        2.0            1.0   \n",
       "398788      438004        1.0            1.0        3.0            0.0   \n",
       "398789       72635        2.0            1.0        7.0            0.0   \n",
       "398790      129319        1.0            2.0        2.0            0.0   \n",
       "398791      417177        3.0            1.0        3.0            0.0   \n",
       "\n",
       "        ps_ind_05_cat  ps_ind_06_bin  ps_ind_07_bin  ps_ind_08_bin  \\\n",
       "0                 0.0            0.0            1.0            0.0   \n",
       "1                 0.0            1.0            0.0            0.0   \n",
       "2                 0.0            0.0            0.0            1.0   \n",
       "3                 0.0            0.0            0.0            1.0   \n",
       "4                 0.0            1.0            0.0            0.0   \n",
       "...               ...            ...            ...            ...   \n",
       "398787            0.0            0.0            0.0            1.0   \n",
       "398788            0.0            0.0            1.0            0.0   \n",
       "398789            0.0            0.0            1.0            0.0   \n",
       "398790            0.0            1.0            0.0            0.0   \n",
       "398791            0.0            0.0            0.0            1.0   \n",
       "\n",
       "        ps_ind_09_bin  ...  ps_calc_11  ps_calc_12  ps_calc_13  ps_calc_14  \\\n",
       "0                 0.0  ...         7.0         3.0         2.0         4.0   \n",
       "1                 0.0  ...         5.0         1.0         1.0         5.0   \n",
       "2                 0.0  ...         0.0         2.0         3.0         8.0   \n",
       "3                 0.0  ...         7.0         2.0         1.0        10.0   \n",
       "4                 0.0  ...         4.0         0.0         2.0        10.0   \n",
       "...               ...  ...         ...         ...         ...         ...   \n",
       "398787            0.0  ...         8.0         2.0         3.0         9.0   \n",
       "398788            0.0  ...         4.0         3.0         2.0        11.0   \n",
       "398789            0.0  ...         8.0         0.0         2.0         9.0   \n",
       "398790            0.0  ...         8.0         0.0         0.0         6.0   \n",
       "398791            0.0  ...         7.0         0.0         2.0         9.0   \n",
       "\n",
       "        ps_calc_15_bin  ps_calc_16_bin  ps_calc_17_bin  ps_calc_18_bin  \\\n",
       "0                  0.0             1.0             1.0             0.0   \n",
       "1                  0.0             1.0             1.0             0.0   \n",
       "2                  0.0             1.0             1.0             0.0   \n",
       "3                  0.0             0.0             0.0             0.0   \n",
       "4                  0.0             1.0             1.0             1.0   \n",
       "...                ...             ...             ...             ...   \n",
       "398787             1.0             1.0             0.0             1.0   \n",
       "398788             0.0             1.0             1.0             0.0   \n",
       "398789             0.0             1.0             0.0             0.0   \n",
       "398790             0.0             0.0             1.0             0.0   \n",
       "398791             0.0             1.0             1.0             1.0   \n",
       "\n",
       "        ps_calc_19_bin  ps_calc_20_bin  \n",
       "0                  0.0             0.0  \n",
       "1                  1.0             0.0  \n",
       "2                  0.0             0.0  \n",
       "3                  1.0             0.0  \n",
       "4                  1.0             0.0  \n",
       "...                ...             ...  \n",
       "398787             0.0             0.0  \n",
       "398788             1.0             0.0  \n",
       "398789             0.0             0.0  \n",
       "398790             0.0             0.0  \n",
       "398791             0.0             1.0  \n",
       "\n",
       "[398792 rows x 58 columns]"
      ]
     },
     "execution_count": 10,
     "metadata": {
      "tags": []
     },
     "output_type": "execute_result"
    }
   ],
   "source": [
    "X_imp_train"
   ]
  },
  {
   "cell_type": "code",
   "execution_count": null,
   "metadata": {
    "id": "i7BDGnnCJaTe",
    "outputId": "758c1390-9135-44d4-eb93-c38d55647b4d"
   },
   "outputs": [
    {
     "name": "stderr",
     "output_type": "stream",
     "text": [
      "100%|██████████████████████████████████████████████████████████████████████████████████| 31/31 [00:06<00:00,  4.80it/s]\n",
      "100%|██████████████████████████████████████████████████████████████████████████████████| 31/31 [00:03<00:00,  8.69it/s]\n"
     ]
    }
   ],
   "source": [
    "#Creating One hot encoding of Categorical features/Binary Features and merging them into a single file.\n",
    "\n",
    "for i in tqdm(colu):\n",
    "    temp=pd.get_dummies(X_imp_train[i],prefix=i)\n",
    "    #print(temp)\n",
    "    X_imp_train=X_imp_train.merge(temp,left_index=True,right_index=True)\n",
    "    \n",
    "    \n",
    "for i in tqdm(colu):\n",
    "    temp=pd.get_dummies(X_imp_test[i],prefix=i)\n",
    "    #print(temp)\n",
    "    X_imp_test=X_imp_test.merge(temp,left_index=True,right_index=True)"
   ]
  },
  {
   "cell_type": "code",
   "execution_count": null,
   "metadata": {
    "id": "yL5dlJXwJaTe",
    "outputId": "c0f2a536-a3a3-4c73-dd60-8169651345c8"
   },
   "outputs": [
    {
     "name": "stdout",
     "output_type": "stream",
     "text": [
      "Index(['Unnamed: 0', 'ps_ind_01', 'ps_ind_02_cat', 'ps_ind_03',\n",
      "       'ps_ind_04_cat', 'ps_ind_05_cat', 'ps_ind_06_bin', 'ps_ind_07_bin',\n",
      "       'ps_ind_08_bin', 'ps_ind_09_bin',\n",
      "       ...\n",
      "       'ps_calc_16_bin_0.0', 'ps_calc_16_bin_1.0', 'ps_calc_17_bin_0.0',\n",
      "       'ps_calc_17_bin_1.0', 'ps_calc_18_bin_0.0', 'ps_calc_18_bin_1.0',\n",
      "       'ps_calc_19_bin_0.0', 'ps_calc_19_bin_1.0', 'ps_calc_20_bin_0.0',\n",
      "       'ps_calc_20_bin_1.0'],\n",
      "      dtype='object', length=270)\n",
      "Index(['Unnamed: 0', 'ps_ind_01', 'ps_ind_02_cat', 'ps_ind_03',\n",
      "       'ps_ind_04_cat', 'ps_ind_05_cat', 'ps_ind_06_bin', 'ps_ind_07_bin',\n",
      "       'ps_ind_08_bin', 'ps_ind_09_bin',\n",
      "       ...\n",
      "       'ps_calc_16_bin_0.0', 'ps_calc_16_bin_1.0', 'ps_calc_17_bin_0.0',\n",
      "       'ps_calc_17_bin_1.0', 'ps_calc_18_bin_0.0', 'ps_calc_18_bin_1.0',\n",
      "       'ps_calc_19_bin_0.0', 'ps_calc_19_bin_1.0', 'ps_calc_20_bin_0.0',\n",
      "       'ps_calc_20_bin_1.0'],\n",
      "      dtype='object', length=270)\n"
     ]
    }
   ],
   "source": [
    "print(X_imp_train.columns)\n",
    "print(X_imp_test.columns)"
   ]
  },
  {
   "cell_type": "code",
   "execution_count": null,
   "metadata": {
    "id": "eO7Ad-i7JaTe"
   },
   "outputs": [],
   "source": [
    "# Dropping the Categorical features which are not required as they are one-hot encoded already.\n",
    "\n",
    "for i in colu:\n",
    "    X_imp_train=X_imp_train.drop(i,axis=1)\n",
    "    \n",
    "for i in colu:\n",
    "    X_imp_test=X_imp_test.drop(i,axis=1)"
   ]
  },
  {
   "cell_type": "code",
   "execution_count": null,
   "metadata": {
    "id": "24O0n_4iJaTf",
    "outputId": "834e897f-8750-4b3a-b4ec-a7269bc79049"
   },
   "outputs": [
    {
     "name": "stdout",
     "output_type": "stream",
     "text": [
      "(398792, 239)\n",
      "(196420, 239)\n"
     ]
    }
   ],
   "source": [
    "print(X_imp_train.shape)\n",
    "\n",
    "print(X_imp_test.shape)"
   ]
  },
  {
   "cell_type": "code",
   "execution_count": null,
   "metadata": {
    "id": "uPAg2LvIJaTf",
    "outputId": "75a6ee96-c892-4a0e-d892-20206e75bafe"
   },
   "outputs": [
    {
     "data": {
      "text/html": [
       "<div>\n",
       "<style scoped>\n",
       "    .dataframe tbody tr th:only-of-type {\n",
       "        vertical-align: middle;\n",
       "    }\n",
       "\n",
       "    .dataframe tbody tr th {\n",
       "        vertical-align: top;\n",
       "    }\n",
       "\n",
       "    .dataframe thead th {\n",
       "        text-align: right;\n",
       "    }\n",
       "</style>\n",
       "<table border=\"1\" class=\"dataframe\">\n",
       "  <thead>\n",
       "    <tr style=\"text-align: right;\">\n",
       "      <th></th>\n",
       "      <th>Unnamed: 0</th>\n",
       "      <th>ps_ind_01</th>\n",
       "      <th>ps_ind_03</th>\n",
       "      <th>ps_ind_14</th>\n",
       "      <th>ps_ind_15</th>\n",
       "      <th>ps_reg_01</th>\n",
       "      <th>ps_reg_02</th>\n",
       "      <th>ps_reg_03</th>\n",
       "      <th>ps_car_11</th>\n",
       "      <th>ps_car_12</th>\n",
       "      <th>...</th>\n",
       "      <th>ps_calc_16_bin_0.0</th>\n",
       "      <th>ps_calc_16_bin_1.0</th>\n",
       "      <th>ps_calc_17_bin_0.0</th>\n",
       "      <th>ps_calc_17_bin_1.0</th>\n",
       "      <th>ps_calc_18_bin_0.0</th>\n",
       "      <th>ps_calc_18_bin_1.0</th>\n",
       "      <th>ps_calc_19_bin_0.0</th>\n",
       "      <th>ps_calc_19_bin_1.0</th>\n",
       "      <th>ps_calc_20_bin_0.0</th>\n",
       "      <th>ps_calc_20_bin_1.0</th>\n",
       "    </tr>\n",
       "  </thead>\n",
       "  <tbody>\n",
       "    <tr>\n",
       "      <th>0</th>\n",
       "      <td>12832</td>\n",
       "      <td>0.0</td>\n",
       "      <td>1.0</td>\n",
       "      <td>0.0</td>\n",
       "      <td>7.0</td>\n",
       "      <td>0.8</td>\n",
       "      <td>0.4</td>\n",
       "      <td>0.790569</td>\n",
       "      <td>3.0</td>\n",
       "      <td>0.316228</td>\n",
       "      <td>...</td>\n",
       "      <td>0</td>\n",
       "      <td>1</td>\n",
       "      <td>0</td>\n",
       "      <td>1</td>\n",
       "      <td>1</td>\n",
       "      <td>0</td>\n",
       "      <td>1</td>\n",
       "      <td>0</td>\n",
       "      <td>1</td>\n",
       "      <td>0</td>\n",
       "    </tr>\n",
       "    <tr>\n",
       "      <th>1</th>\n",
       "      <td>201839</td>\n",
       "      <td>0.0</td>\n",
       "      <td>2.0</td>\n",
       "      <td>0.0</td>\n",
       "      <td>10.0</td>\n",
       "      <td>0.9</td>\n",
       "      <td>0.3</td>\n",
       "      <td>0.633443</td>\n",
       "      <td>3.0</td>\n",
       "      <td>0.400000</td>\n",
       "      <td>...</td>\n",
       "      <td>0</td>\n",
       "      <td>1</td>\n",
       "      <td>0</td>\n",
       "      <td>1</td>\n",
       "      <td>1</td>\n",
       "      <td>0</td>\n",
       "      <td>0</td>\n",
       "      <td>1</td>\n",
       "      <td>1</td>\n",
       "      <td>0</td>\n",
       "    </tr>\n",
       "    <tr>\n",
       "      <th>2</th>\n",
       "      <td>575286</td>\n",
       "      <td>4.0</td>\n",
       "      <td>2.0</td>\n",
       "      <td>0.0</td>\n",
       "      <td>7.0</td>\n",
       "      <td>0.8</td>\n",
       "      <td>1.0</td>\n",
       "      <td>1.190063</td>\n",
       "      <td>2.0</td>\n",
       "      <td>0.446990</td>\n",
       "      <td>...</td>\n",
       "      <td>0</td>\n",
       "      <td>1</td>\n",
       "      <td>0</td>\n",
       "      <td>1</td>\n",
       "      <td>1</td>\n",
       "      <td>0</td>\n",
       "      <td>1</td>\n",
       "      <td>0</td>\n",
       "      <td>1</td>\n",
       "      <td>0</td>\n",
       "    </tr>\n",
       "    <tr>\n",
       "      <th>3</th>\n",
       "      <td>79132</td>\n",
       "      <td>1.0</td>\n",
       "      <td>6.0</td>\n",
       "      <td>0.0</td>\n",
       "      <td>3.0</td>\n",
       "      <td>0.7</td>\n",
       "      <td>0.3</td>\n",
       "      <td>0.868548</td>\n",
       "      <td>1.0</td>\n",
       "      <td>0.316228</td>\n",
       "      <td>...</td>\n",
       "      <td>1</td>\n",
       "      <td>0</td>\n",
       "      <td>1</td>\n",
       "      <td>0</td>\n",
       "      <td>1</td>\n",
       "      <td>0</td>\n",
       "      <td>0</td>\n",
       "      <td>1</td>\n",
       "      <td>1</td>\n",
       "      <td>0</td>\n",
       "    </tr>\n",
       "    <tr>\n",
       "      <th>4</th>\n",
       "      <td>26497</td>\n",
       "      <td>0.0</td>\n",
       "      <td>1.0</td>\n",
       "      <td>0.0</td>\n",
       "      <td>6.0</td>\n",
       "      <td>0.6</td>\n",
       "      <td>0.5</td>\n",
       "      <td>0.832917</td>\n",
       "      <td>2.0</td>\n",
       "      <td>0.447214</td>\n",
       "      <td>...</td>\n",
       "      <td>0</td>\n",
       "      <td>1</td>\n",
       "      <td>0</td>\n",
       "      <td>1</td>\n",
       "      <td>0</td>\n",
       "      <td>1</td>\n",
       "      <td>0</td>\n",
       "      <td>1</td>\n",
       "      <td>1</td>\n",
       "      <td>0</td>\n",
       "    </tr>\n",
       "    <tr>\n",
       "      <th>...</th>\n",
       "      <td>...</td>\n",
       "      <td>...</td>\n",
       "      <td>...</td>\n",
       "      <td>...</td>\n",
       "      <td>...</td>\n",
       "      <td>...</td>\n",
       "      <td>...</td>\n",
       "      <td>...</td>\n",
       "      <td>...</td>\n",
       "      <td>...</td>\n",
       "      <td>...</td>\n",
       "      <td>...</td>\n",
       "      <td>...</td>\n",
       "      <td>...</td>\n",
       "      <td>...</td>\n",
       "      <td>...</td>\n",
       "      <td>...</td>\n",
       "      <td>...</td>\n",
       "      <td>...</td>\n",
       "      <td>...</td>\n",
       "      <td>...</td>\n",
       "    </tr>\n",
       "    <tr>\n",
       "      <th>398787</th>\n",
       "      <td>120195</td>\n",
       "      <td>3.0</td>\n",
       "      <td>2.0</td>\n",
       "      <td>0.0</td>\n",
       "      <td>11.0</td>\n",
       "      <td>0.7</td>\n",
       "      <td>0.5</td>\n",
       "      <td>1.046422</td>\n",
       "      <td>2.0</td>\n",
       "      <td>0.424264</td>\n",
       "      <td>...</td>\n",
       "      <td>0</td>\n",
       "      <td>1</td>\n",
       "      <td>1</td>\n",
       "      <td>0</td>\n",
       "      <td>0</td>\n",
       "      <td>1</td>\n",
       "      <td>1</td>\n",
       "      <td>0</td>\n",
       "      <td>1</td>\n",
       "      <td>0</td>\n",
       "    </tr>\n",
       "    <tr>\n",
       "      <th>398788</th>\n",
       "      <td>438004</td>\n",
       "      <td>1.0</td>\n",
       "      <td>3.0</td>\n",
       "      <td>0.0</td>\n",
       "      <td>8.0</td>\n",
       "      <td>0.5</td>\n",
       "      <td>0.2</td>\n",
       "      <td>0.573971</td>\n",
       "      <td>3.0</td>\n",
       "      <td>0.316228</td>\n",
       "      <td>...</td>\n",
       "      <td>0</td>\n",
       "      <td>1</td>\n",
       "      <td>0</td>\n",
       "      <td>1</td>\n",
       "      <td>1</td>\n",
       "      <td>0</td>\n",
       "      <td>0</td>\n",
       "      <td>1</td>\n",
       "      <td>1</td>\n",
       "      <td>0</td>\n",
       "    </tr>\n",
       "    <tr>\n",
       "      <th>398789</th>\n",
       "      <td>72635</td>\n",
       "      <td>2.0</td>\n",
       "      <td>7.0</td>\n",
       "      <td>0.0</td>\n",
       "      <td>5.0</td>\n",
       "      <td>0.3</td>\n",
       "      <td>0.1</td>\n",
       "      <td>0.867976</td>\n",
       "      <td>2.0</td>\n",
       "      <td>0.547723</td>\n",
       "      <td>...</td>\n",
       "      <td>0</td>\n",
       "      <td>1</td>\n",
       "      <td>1</td>\n",
       "      <td>0</td>\n",
       "      <td>1</td>\n",
       "      <td>0</td>\n",
       "      <td>1</td>\n",
       "      <td>0</td>\n",
       "      <td>1</td>\n",
       "      <td>0</td>\n",
       "    </tr>\n",
       "    <tr>\n",
       "      <th>398790</th>\n",
       "      <td>129319</td>\n",
       "      <td>1.0</td>\n",
       "      <td>2.0</td>\n",
       "      <td>0.0</td>\n",
       "      <td>8.0</td>\n",
       "      <td>0.4</td>\n",
       "      <td>0.0</td>\n",
       "      <td>0.555090</td>\n",
       "      <td>2.0</td>\n",
       "      <td>0.374166</td>\n",
       "      <td>...</td>\n",
       "      <td>1</td>\n",
       "      <td>0</td>\n",
       "      <td>0</td>\n",
       "      <td>1</td>\n",
       "      <td>1</td>\n",
       "      <td>0</td>\n",
       "      <td>1</td>\n",
       "      <td>0</td>\n",
       "      <td>1</td>\n",
       "      <td>0</td>\n",
       "    </tr>\n",
       "    <tr>\n",
       "      <th>398791</th>\n",
       "      <td>417177</td>\n",
       "      <td>3.0</td>\n",
       "      <td>3.0</td>\n",
       "      <td>0.0</td>\n",
       "      <td>7.0</td>\n",
       "      <td>0.3</td>\n",
       "      <td>0.0</td>\n",
       "      <td>0.983298</td>\n",
       "      <td>0.0</td>\n",
       "      <td>0.374166</td>\n",
       "      <td>...</td>\n",
       "      <td>0</td>\n",
       "      <td>1</td>\n",
       "      <td>0</td>\n",
       "      <td>1</td>\n",
       "      <td>0</td>\n",
       "      <td>1</td>\n",
       "      <td>1</td>\n",
       "      <td>0</td>\n",
       "      <td>0</td>\n",
       "      <td>1</td>\n",
       "    </tr>\n",
       "  </tbody>\n",
       "</table>\n",
       "<p>398792 rows × 239 columns</p>\n",
       "</div>"
      ],
      "text/plain": [
       "        Unnamed: 0  ps_ind_01  ps_ind_03  ps_ind_14  ps_ind_15  ps_reg_01  \\\n",
       "0            12832        0.0        1.0        0.0        7.0        0.8   \n",
       "1           201839        0.0        2.0        0.0       10.0        0.9   \n",
       "2           575286        4.0        2.0        0.0        7.0        0.8   \n",
       "3            79132        1.0        6.0        0.0        3.0        0.7   \n",
       "4            26497        0.0        1.0        0.0        6.0        0.6   \n",
       "...            ...        ...        ...        ...        ...        ...   \n",
       "398787      120195        3.0        2.0        0.0       11.0        0.7   \n",
       "398788      438004        1.0        3.0        0.0        8.0        0.5   \n",
       "398789       72635        2.0        7.0        0.0        5.0        0.3   \n",
       "398790      129319        1.0        2.0        0.0        8.0        0.4   \n",
       "398791      417177        3.0        3.0        0.0        7.0        0.3   \n",
       "\n",
       "        ps_reg_02  ps_reg_03  ps_car_11  ps_car_12  ...  ps_calc_16_bin_0.0  \\\n",
       "0             0.4   0.790569        3.0   0.316228  ...                   0   \n",
       "1             0.3   0.633443        3.0   0.400000  ...                   0   \n",
       "2             1.0   1.190063        2.0   0.446990  ...                   0   \n",
       "3             0.3   0.868548        1.0   0.316228  ...                   1   \n",
       "4             0.5   0.832917        2.0   0.447214  ...                   0   \n",
       "...           ...        ...        ...        ...  ...                 ...   \n",
       "398787        0.5   1.046422        2.0   0.424264  ...                   0   \n",
       "398788        0.2   0.573971        3.0   0.316228  ...                   0   \n",
       "398789        0.1   0.867976        2.0   0.547723  ...                   0   \n",
       "398790        0.0   0.555090        2.0   0.374166  ...                   1   \n",
       "398791        0.0   0.983298        0.0   0.374166  ...                   0   \n",
       "\n",
       "        ps_calc_16_bin_1.0  ps_calc_17_bin_0.0  ps_calc_17_bin_1.0  \\\n",
       "0                        1                   0                   1   \n",
       "1                        1                   0                   1   \n",
       "2                        1                   0                   1   \n",
       "3                        0                   1                   0   \n",
       "4                        1                   0                   1   \n",
       "...                    ...                 ...                 ...   \n",
       "398787                   1                   1                   0   \n",
       "398788                   1                   0                   1   \n",
       "398789                   1                   1                   0   \n",
       "398790                   0                   0                   1   \n",
       "398791                   1                   0                   1   \n",
       "\n",
       "        ps_calc_18_bin_0.0  ps_calc_18_bin_1.0  ps_calc_19_bin_0.0  \\\n",
       "0                        1                   0                   1   \n",
       "1                        1                   0                   0   \n",
       "2                        1                   0                   1   \n",
       "3                        1                   0                   0   \n",
       "4                        0                   1                   0   \n",
       "...                    ...                 ...                 ...   \n",
       "398787                   0                   1                   1   \n",
       "398788                   1                   0                   0   \n",
       "398789                   1                   0                   1   \n",
       "398790                   1                   0                   1   \n",
       "398791                   0                   1                   1   \n",
       "\n",
       "        ps_calc_19_bin_1.0  ps_calc_20_bin_0.0  ps_calc_20_bin_1.0  \n",
       "0                        0                   1                   0  \n",
       "1                        1                   1                   0  \n",
       "2                        0                   1                   0  \n",
       "3                        1                   1                   0  \n",
       "4                        1                   1                   0  \n",
       "...                    ...                 ...                 ...  \n",
       "398787                   0                   1                   0  \n",
       "398788                   1                   1                   0  \n",
       "398789                   0                   1                   0  \n",
       "398790                   0                   1                   0  \n",
       "398791                   0                   0                   1  \n",
       "\n",
       "[398792 rows x 239 columns]"
      ]
     },
     "execution_count": 15,
     "metadata": {
      "tags": []
     },
     "output_type": "execute_result"
    }
   ],
   "source": [
    "X_imp_train"
   ]
  },
  {
   "cell_type": "code",
   "execution_count": null,
   "metadata": {
    "id": "pzZAN746JaTf",
    "outputId": "173da272-3aef-4bd4-a9bd-c3a9f3c6517e"
   },
   "outputs": [
    {
     "data": {
      "text/html": [
       "<div>\n",
       "<style scoped>\n",
       "    .dataframe tbody tr th:only-of-type {\n",
       "        vertical-align: middle;\n",
       "    }\n",
       "\n",
       "    .dataframe tbody tr th {\n",
       "        vertical-align: top;\n",
       "    }\n",
       "\n",
       "    .dataframe thead th {\n",
       "        text-align: right;\n",
       "    }\n",
       "</style>\n",
       "<table border=\"1\" class=\"dataframe\">\n",
       "  <thead>\n",
       "    <tr style=\"text-align: right;\">\n",
       "      <th></th>\n",
       "      <th>Unnamed: 0</th>\n",
       "      <th>ps_ind_01</th>\n",
       "      <th>ps_ind_03</th>\n",
       "      <th>ps_ind_14</th>\n",
       "      <th>ps_ind_15</th>\n",
       "      <th>ps_reg_01</th>\n",
       "      <th>ps_reg_02</th>\n",
       "      <th>ps_reg_03</th>\n",
       "      <th>ps_car_11</th>\n",
       "      <th>ps_car_12</th>\n",
       "      <th>...</th>\n",
       "      <th>ps_calc_16_bin_0.0</th>\n",
       "      <th>ps_calc_16_bin_1.0</th>\n",
       "      <th>ps_calc_17_bin_0.0</th>\n",
       "      <th>ps_calc_17_bin_1.0</th>\n",
       "      <th>ps_calc_18_bin_0.0</th>\n",
       "      <th>ps_calc_18_bin_1.0</th>\n",
       "      <th>ps_calc_19_bin_0.0</th>\n",
       "      <th>ps_calc_19_bin_1.0</th>\n",
       "      <th>ps_calc_20_bin_0.0</th>\n",
       "      <th>ps_calc_20_bin_1.0</th>\n",
       "    </tr>\n",
       "  </thead>\n",
       "  <tbody>\n",
       "    <tr>\n",
       "      <th>0</th>\n",
       "      <td>74260</td>\n",
       "      <td>3.0</td>\n",
       "      <td>3.0</td>\n",
       "      <td>0.0</td>\n",
       "      <td>6.0</td>\n",
       "      <td>0.9</td>\n",
       "      <td>1.2</td>\n",
       "      <td>1.366794</td>\n",
       "      <td>3.0</td>\n",
       "      <td>0.316228</td>\n",
       "      <td>...</td>\n",
       "      <td>0</td>\n",
       "      <td>1</td>\n",
       "      <td>0</td>\n",
       "      <td>1</td>\n",
       "      <td>0</td>\n",
       "      <td>1</td>\n",
       "      <td>1</td>\n",
       "      <td>0</td>\n",
       "      <td>0</td>\n",
       "      <td>1</td>\n",
       "    </tr>\n",
       "    <tr>\n",
       "      <th>1</th>\n",
       "      <td>319443</td>\n",
       "      <td>4.0</td>\n",
       "      <td>7.0</td>\n",
       "      <td>0.0</td>\n",
       "      <td>13.0</td>\n",
       "      <td>0.8</td>\n",
       "      <td>0.2</td>\n",
       "      <td>0.792938</td>\n",
       "      <td>3.0</td>\n",
       "      <td>0.447214</td>\n",
       "      <td>...</td>\n",
       "      <td>1</td>\n",
       "      <td>0</td>\n",
       "      <td>1</td>\n",
       "      <td>0</td>\n",
       "      <td>1</td>\n",
       "      <td>0</td>\n",
       "      <td>0</td>\n",
       "      <td>1</td>\n",
       "      <td>1</td>\n",
       "      <td>0</td>\n",
       "    </tr>\n",
       "    <tr>\n",
       "      <th>2</th>\n",
       "      <td>550791</td>\n",
       "      <td>5.0</td>\n",
       "      <td>11.0</td>\n",
       "      <td>0.0</td>\n",
       "      <td>12.0</td>\n",
       "      <td>0.1</td>\n",
       "      <td>0.1</td>\n",
       "      <td>0.632873</td>\n",
       "      <td>1.0</td>\n",
       "      <td>0.316228</td>\n",
       "      <td>...</td>\n",
       "      <td>0</td>\n",
       "      <td>1</td>\n",
       "      <td>1</td>\n",
       "      <td>0</td>\n",
       "      <td>1</td>\n",
       "      <td>0</td>\n",
       "      <td>1</td>\n",
       "      <td>0</td>\n",
       "      <td>1</td>\n",
       "      <td>0</td>\n",
       "    </tr>\n",
       "    <tr>\n",
       "      <th>3</th>\n",
       "      <td>302234</td>\n",
       "      <td>1.0</td>\n",
       "      <td>1.0</td>\n",
       "      <td>0.0</td>\n",
       "      <td>11.0</td>\n",
       "      <td>0.8</td>\n",
       "      <td>0.4</td>\n",
       "      <td>0.860596</td>\n",
       "      <td>1.0</td>\n",
       "      <td>0.316070</td>\n",
       "      <td>...</td>\n",
       "      <td>1</td>\n",
       "      <td>0</td>\n",
       "      <td>1</td>\n",
       "      <td>0</td>\n",
       "      <td>1</td>\n",
       "      <td>0</td>\n",
       "      <td>0</td>\n",
       "      <td>1</td>\n",
       "      <td>1</td>\n",
       "      <td>0</td>\n",
       "    </tr>\n",
       "    <tr>\n",
       "      <th>4</th>\n",
       "      <td>15504</td>\n",
       "      <td>2.0</td>\n",
       "      <td>7.0</td>\n",
       "      <td>0.0</td>\n",
       "      <td>7.0</td>\n",
       "      <td>0.0</td>\n",
       "      <td>0.9</td>\n",
       "      <td>1.070339</td>\n",
       "      <td>2.0</td>\n",
       "      <td>0.400000</td>\n",
       "      <td>...</td>\n",
       "      <td>0</td>\n",
       "      <td>1</td>\n",
       "      <td>0</td>\n",
       "      <td>1</td>\n",
       "      <td>0</td>\n",
       "      <td>1</td>\n",
       "      <td>1</td>\n",
       "      <td>0</td>\n",
       "      <td>1</td>\n",
       "      <td>0</td>\n",
       "    </tr>\n",
       "    <tr>\n",
       "      <th>...</th>\n",
       "      <td>...</td>\n",
       "      <td>...</td>\n",
       "      <td>...</td>\n",
       "      <td>...</td>\n",
       "      <td>...</td>\n",
       "      <td>...</td>\n",
       "      <td>...</td>\n",
       "      <td>...</td>\n",
       "      <td>...</td>\n",
       "      <td>...</td>\n",
       "      <td>...</td>\n",
       "      <td>...</td>\n",
       "      <td>...</td>\n",
       "      <td>...</td>\n",
       "      <td>...</td>\n",
       "      <td>...</td>\n",
       "      <td>...</td>\n",
       "      <td>...</td>\n",
       "      <td>...</td>\n",
       "      <td>...</td>\n",
       "      <td>...</td>\n",
       "    </tr>\n",
       "    <tr>\n",
       "      <th>196415</th>\n",
       "      <td>67129</td>\n",
       "      <td>4.0</td>\n",
       "      <td>4.0</td>\n",
       "      <td>0.0</td>\n",
       "      <td>5.0</td>\n",
       "      <td>0.6</td>\n",
       "      <td>0.6</td>\n",
       "      <td>1.146462</td>\n",
       "      <td>2.0</td>\n",
       "      <td>0.424264</td>\n",
       "      <td>...</td>\n",
       "      <td>0</td>\n",
       "      <td>1</td>\n",
       "      <td>1</td>\n",
       "      <td>0</td>\n",
       "      <td>0</td>\n",
       "      <td>1</td>\n",
       "      <td>1</td>\n",
       "      <td>0</td>\n",
       "      <td>1</td>\n",
       "      <td>0</td>\n",
       "    </tr>\n",
       "    <tr>\n",
       "      <th>196416</th>\n",
       "      <td>60658</td>\n",
       "      <td>1.0</td>\n",
       "      <td>2.0</td>\n",
       "      <td>0.0</td>\n",
       "      <td>13.0</td>\n",
       "      <td>0.1</td>\n",
       "      <td>0.2</td>\n",
       "      <td>0.617922</td>\n",
       "      <td>3.0</td>\n",
       "      <td>0.316228</td>\n",
       "      <td>...</td>\n",
       "      <td>0</td>\n",
       "      <td>1</td>\n",
       "      <td>1</td>\n",
       "      <td>0</td>\n",
       "      <td>1</td>\n",
       "      <td>0</td>\n",
       "      <td>0</td>\n",
       "      <td>1</td>\n",
       "      <td>1</td>\n",
       "      <td>0</td>\n",
       "    </tr>\n",
       "    <tr>\n",
       "      <th>196417</th>\n",
       "      <td>292498</td>\n",
       "      <td>1.0</td>\n",
       "      <td>2.0</td>\n",
       "      <td>0.0</td>\n",
       "      <td>9.0</td>\n",
       "      <td>0.9</td>\n",
       "      <td>1.3</td>\n",
       "      <td>1.365650</td>\n",
       "      <td>2.0</td>\n",
       "      <td>0.424264</td>\n",
       "      <td>...</td>\n",
       "      <td>0</td>\n",
       "      <td>1</td>\n",
       "      <td>0</td>\n",
       "      <td>1</td>\n",
       "      <td>0</td>\n",
       "      <td>1</td>\n",
       "      <td>1</td>\n",
       "      <td>0</td>\n",
       "      <td>0</td>\n",
       "      <td>1</td>\n",
       "    </tr>\n",
       "    <tr>\n",
       "      <th>196418</th>\n",
       "      <td>520913</td>\n",
       "      <td>1.0</td>\n",
       "      <td>9.0</td>\n",
       "      <td>0.0</td>\n",
       "      <td>11.0</td>\n",
       "      <td>0.9</td>\n",
       "      <td>1.3</td>\n",
       "      <td>1.406236</td>\n",
       "      <td>3.0</td>\n",
       "      <td>0.387298</td>\n",
       "      <td>...</td>\n",
       "      <td>1</td>\n",
       "      <td>0</td>\n",
       "      <td>0</td>\n",
       "      <td>1</td>\n",
       "      <td>1</td>\n",
       "      <td>0</td>\n",
       "      <td>0</td>\n",
       "      <td>1</td>\n",
       "      <td>1</td>\n",
       "      <td>0</td>\n",
       "    </tr>\n",
       "    <tr>\n",
       "      <th>196419</th>\n",
       "      <td>412321</td>\n",
       "      <td>0.0</td>\n",
       "      <td>4.0</td>\n",
       "      <td>0.0</td>\n",
       "      <td>2.0</td>\n",
       "      <td>0.6</td>\n",
       "      <td>0.0</td>\n",
       "      <td>0.377492</td>\n",
       "      <td>3.0</td>\n",
       "      <td>0.387298</td>\n",
       "      <td>...</td>\n",
       "      <td>1</td>\n",
       "      <td>0</td>\n",
       "      <td>0</td>\n",
       "      <td>1</td>\n",
       "      <td>1</td>\n",
       "      <td>0</td>\n",
       "      <td>0</td>\n",
       "      <td>1</td>\n",
       "      <td>1</td>\n",
       "      <td>0</td>\n",
       "    </tr>\n",
       "  </tbody>\n",
       "</table>\n",
       "<p>196420 rows × 239 columns</p>\n",
       "</div>"
      ],
      "text/plain": [
       "        Unnamed: 0  ps_ind_01  ps_ind_03  ps_ind_14  ps_ind_15  ps_reg_01  \\\n",
       "0            74260        3.0        3.0        0.0        6.0        0.9   \n",
       "1           319443        4.0        7.0        0.0       13.0        0.8   \n",
       "2           550791        5.0       11.0        0.0       12.0        0.1   \n",
       "3           302234        1.0        1.0        0.0       11.0        0.8   \n",
       "4            15504        2.0        7.0        0.0        7.0        0.0   \n",
       "...            ...        ...        ...        ...        ...        ...   \n",
       "196415       67129        4.0        4.0        0.0        5.0        0.6   \n",
       "196416       60658        1.0        2.0        0.0       13.0        0.1   \n",
       "196417      292498        1.0        2.0        0.0        9.0        0.9   \n",
       "196418      520913        1.0        9.0        0.0       11.0        0.9   \n",
       "196419      412321        0.0        4.0        0.0        2.0        0.6   \n",
       "\n",
       "        ps_reg_02  ps_reg_03  ps_car_11  ps_car_12  ...  ps_calc_16_bin_0.0  \\\n",
       "0             1.2   1.366794        3.0   0.316228  ...                   0   \n",
       "1             0.2   0.792938        3.0   0.447214  ...                   1   \n",
       "2             0.1   0.632873        1.0   0.316228  ...                   0   \n",
       "3             0.4   0.860596        1.0   0.316070  ...                   1   \n",
       "4             0.9   1.070339        2.0   0.400000  ...                   0   \n",
       "...           ...        ...        ...        ...  ...                 ...   \n",
       "196415        0.6   1.146462        2.0   0.424264  ...                   0   \n",
       "196416        0.2   0.617922        3.0   0.316228  ...                   0   \n",
       "196417        1.3   1.365650        2.0   0.424264  ...                   0   \n",
       "196418        1.3   1.406236        3.0   0.387298  ...                   1   \n",
       "196419        0.0   0.377492        3.0   0.387298  ...                   1   \n",
       "\n",
       "        ps_calc_16_bin_1.0  ps_calc_17_bin_0.0  ps_calc_17_bin_1.0  \\\n",
       "0                        1                   0                   1   \n",
       "1                        0                   1                   0   \n",
       "2                        1                   1                   0   \n",
       "3                        0                   1                   0   \n",
       "4                        1                   0                   1   \n",
       "...                    ...                 ...                 ...   \n",
       "196415                   1                   1                   0   \n",
       "196416                   1                   1                   0   \n",
       "196417                   1                   0                   1   \n",
       "196418                   0                   0                   1   \n",
       "196419                   0                   0                   1   \n",
       "\n",
       "        ps_calc_18_bin_0.0  ps_calc_18_bin_1.0  ps_calc_19_bin_0.0  \\\n",
       "0                        0                   1                   1   \n",
       "1                        1                   0                   0   \n",
       "2                        1                   0                   1   \n",
       "3                        1                   0                   0   \n",
       "4                        0                   1                   1   \n",
       "...                    ...                 ...                 ...   \n",
       "196415                   0                   1                   1   \n",
       "196416                   1                   0                   0   \n",
       "196417                   0                   1                   1   \n",
       "196418                   1                   0                   0   \n",
       "196419                   1                   0                   0   \n",
       "\n",
       "        ps_calc_19_bin_1.0  ps_calc_20_bin_0.0  ps_calc_20_bin_1.0  \n",
       "0                        0                   0                   1  \n",
       "1                        1                   1                   0  \n",
       "2                        0                   1                   0  \n",
       "3                        1                   1                   0  \n",
       "4                        0                   1                   0  \n",
       "...                    ...                 ...                 ...  \n",
       "196415                   0                   1                   0  \n",
       "196416                   1                   1                   0  \n",
       "196417                   0                   0                   1  \n",
       "196418                   1                   1                   0  \n",
       "196419                   1                   1                   0  \n",
       "\n",
       "[196420 rows x 239 columns]"
      ]
     },
     "execution_count": 16,
     "metadata": {
      "tags": []
     },
     "output_type": "execute_result"
    }
   ],
   "source": [
    "X_imp_test"
   ]
  },
  {
   "cell_type": "markdown",
   "metadata": {
    "id": "sWR64dRkJaTf"
   },
   "source": [
    "### Handling Outliers in Continuous Features - Log transformation"
   ]
  },
  {
   "cell_type": "code",
   "execution_count": null,
   "metadata": {
    "id": "ByQ7jnxEJaTf"
   },
   "outputs": [],
   "source": [
    "colum=X_imp_train[['ps_ind_01','ps_ind_03','ps_ind_14', 'ps_ind_15','ps_reg_01',\n",
    "       'ps_reg_02', 'ps_reg_03','ps_car_11', 'ps_car_12', 'ps_car_13', 'ps_car_14',\n",
    "       'ps_car_15', 'ps_calc_01', 'ps_calc_02', 'ps_calc_03', 'ps_calc_04',\n",
    "       'ps_calc_05', 'ps_calc_06', 'ps_calc_07', 'ps_calc_08', 'ps_calc_09',\n",
    "       'ps_calc_10', 'ps_calc_11', 'ps_calc_12', 'ps_calc_13', 'ps_calc_14']].columns"
   ]
  },
  {
   "cell_type": "code",
   "execution_count": null,
   "metadata": {
    "id": "zcjqdvXIJaTg"
   },
   "outputs": [],
   "source": []
  },
  {
   "cell_type": "code",
   "execution_count": null,
   "metadata": {
    "id": "lRXdzMMDJaTg"
   },
   "outputs": [],
   "source": [
    "#Log transformation\n",
    "\n",
    "for i in colum:\n",
    "\n",
    "    X_imp_train[i]=X_imp_train[i]+0.001  #adding a small noise to avoid 'inf' values.\n",
    "    X_imp_train[i]=np.log(X_imp_train[i]) #log transformation\n",
    "    \n",
    "for i in colum:\n",
    "\n",
    "    X_imp_test[i]=X_imp_test[i]+0.001  #adding a small noise to avoid 'inf' values.\n",
    "    X_imp_test[i]=np.log(X_imp_test[i]) #log transformation"
   ]
  },
  {
   "cell_type": "code",
   "execution_count": null,
   "metadata": {
    "id": "naB6HVtcJaTg",
    "outputId": "724459bd-1c18-410d-f3f3-59cbfeb05dd5"
   },
   "outputs": [
    {
     "data": {
      "text/html": [
       "<div>\n",
       "<style scoped>\n",
       "    .dataframe tbody tr th:only-of-type {\n",
       "        vertical-align: middle;\n",
       "    }\n",
       "\n",
       "    .dataframe tbody tr th {\n",
       "        vertical-align: top;\n",
       "    }\n",
       "\n",
       "    .dataframe thead th {\n",
       "        text-align: right;\n",
       "    }\n",
       "</style>\n",
       "<table border=\"1\" class=\"dataframe\">\n",
       "  <thead>\n",
       "    <tr style=\"text-align: right;\">\n",
       "      <th></th>\n",
       "      <th>Unnamed: 0</th>\n",
       "      <th>ps_ind_01</th>\n",
       "      <th>ps_ind_03</th>\n",
       "      <th>ps_ind_14</th>\n",
       "      <th>ps_ind_15</th>\n",
       "      <th>ps_reg_01</th>\n",
       "      <th>ps_reg_02</th>\n",
       "      <th>ps_reg_03</th>\n",
       "      <th>ps_car_11</th>\n",
       "      <th>ps_car_12</th>\n",
       "      <th>...</th>\n",
       "      <th>ps_calc_16_bin_0.0</th>\n",
       "      <th>ps_calc_16_bin_1.0</th>\n",
       "      <th>ps_calc_17_bin_0.0</th>\n",
       "      <th>ps_calc_17_bin_1.0</th>\n",
       "      <th>ps_calc_18_bin_0.0</th>\n",
       "      <th>ps_calc_18_bin_1.0</th>\n",
       "      <th>ps_calc_19_bin_0.0</th>\n",
       "      <th>ps_calc_19_bin_1.0</th>\n",
       "      <th>ps_calc_20_bin_0.0</th>\n",
       "      <th>ps_calc_20_bin_1.0</th>\n",
       "    </tr>\n",
       "  </thead>\n",
       "  <tbody>\n",
       "    <tr>\n",
       "      <th>0</th>\n",
       "      <td>12832</td>\n",
       "      <td>-6.907755</td>\n",
       "      <td>0.001000</td>\n",
       "      <td>-6.907755</td>\n",
       "      <td>1.946053</td>\n",
       "      <td>-0.221894</td>\n",
       "      <td>-0.913794</td>\n",
       "      <td>-0.233738</td>\n",
       "      <td>1.098946</td>\n",
       "      <td>-1.148135</td>\n",
       "      <td>...</td>\n",
       "      <td>0</td>\n",
       "      <td>1</td>\n",
       "      <td>0</td>\n",
       "      <td>1</td>\n",
       "      <td>1</td>\n",
       "      <td>0</td>\n",
       "      <td>1</td>\n",
       "      <td>0</td>\n",
       "      <td>1</td>\n",
       "      <td>0</td>\n",
       "    </tr>\n",
       "    <tr>\n",
       "      <th>1</th>\n",
       "      <td>201839</td>\n",
       "      <td>-6.907755</td>\n",
       "      <td>0.693647</td>\n",
       "      <td>-6.907755</td>\n",
       "      <td>2.302685</td>\n",
       "      <td>-0.104250</td>\n",
       "      <td>-1.200645</td>\n",
       "      <td>-0.455008</td>\n",
       "      <td>1.098946</td>\n",
       "      <td>-0.913794</td>\n",
       "      <td>...</td>\n",
       "      <td>0</td>\n",
       "      <td>1</td>\n",
       "      <td>0</td>\n",
       "      <td>1</td>\n",
       "      <td>1</td>\n",
       "      <td>0</td>\n",
       "      <td>0</td>\n",
       "      <td>1</td>\n",
       "      <td>1</td>\n",
       "      <td>0</td>\n",
       "    </tr>\n",
       "    <tr>\n",
       "      <th>2</th>\n",
       "      <td>575286</td>\n",
       "      <td>1.386544</td>\n",
       "      <td>0.693647</td>\n",
       "      <td>-6.907755</td>\n",
       "      <td>1.946053</td>\n",
       "      <td>-0.221894</td>\n",
       "      <td>0.001000</td>\n",
       "      <td>0.174846</td>\n",
       "      <td>0.693647</td>\n",
       "      <td>-0.802985</td>\n",
       "      <td>...</td>\n",
       "      <td>0</td>\n",
       "      <td>1</td>\n",
       "      <td>0</td>\n",
       "      <td>1</td>\n",
       "      <td>1</td>\n",
       "      <td>0</td>\n",
       "      <td>1</td>\n",
       "      <td>0</td>\n",
       "      <td>1</td>\n",
       "      <td>0</td>\n",
       "    </tr>\n",
       "    <tr>\n",
       "      <th>3</th>\n",
       "      <td>79132</td>\n",
       "      <td>0.001000</td>\n",
       "      <td>1.791926</td>\n",
       "      <td>-6.907755</td>\n",
       "      <td>1.098946</td>\n",
       "      <td>-0.355247</td>\n",
       "      <td>-1.200645</td>\n",
       "      <td>-0.139782</td>\n",
       "      <td>0.001000</td>\n",
       "      <td>-1.148135</td>\n",
       "      <td>...</td>\n",
       "      <td>1</td>\n",
       "      <td>0</td>\n",
       "      <td>1</td>\n",
       "      <td>0</td>\n",
       "      <td>1</td>\n",
       "      <td>0</td>\n",
       "      <td>0</td>\n",
       "      <td>1</td>\n",
       "      <td>1</td>\n",
       "      <td>0</td>\n",
       "    </tr>\n",
       "    <tr>\n",
       "      <th>4</th>\n",
       "      <td>26497</td>\n",
       "      <td>-6.907755</td>\n",
       "      <td>0.001000</td>\n",
       "      <td>-6.907755</td>\n",
       "      <td>1.791926</td>\n",
       "      <td>-0.509160</td>\n",
       "      <td>-0.691149</td>\n",
       "      <td>-0.181622</td>\n",
       "      <td>0.693647</td>\n",
       "      <td>-0.802485</td>\n",
       "      <td>...</td>\n",
       "      <td>0</td>\n",
       "      <td>1</td>\n",
       "      <td>0</td>\n",
       "      <td>1</td>\n",
       "      <td>0</td>\n",
       "      <td>1</td>\n",
       "      <td>0</td>\n",
       "      <td>1</td>\n",
       "      <td>1</td>\n",
       "      <td>0</td>\n",
       "    </tr>\n",
       "    <tr>\n",
       "      <th>...</th>\n",
       "      <td>...</td>\n",
       "      <td>...</td>\n",
       "      <td>...</td>\n",
       "      <td>...</td>\n",
       "      <td>...</td>\n",
       "      <td>...</td>\n",
       "      <td>...</td>\n",
       "      <td>...</td>\n",
       "      <td>...</td>\n",
       "      <td>...</td>\n",
       "      <td>...</td>\n",
       "      <td>...</td>\n",
       "      <td>...</td>\n",
       "      <td>...</td>\n",
       "      <td>...</td>\n",
       "      <td>...</td>\n",
       "      <td>...</td>\n",
       "      <td>...</td>\n",
       "      <td>...</td>\n",
       "      <td>...</td>\n",
       "      <td>...</td>\n",
       "    </tr>\n",
       "    <tr>\n",
       "      <th>398787</th>\n",
       "      <td>120195</td>\n",
       "      <td>1.098946</td>\n",
       "      <td>0.693647</td>\n",
       "      <td>-6.907755</td>\n",
       "      <td>2.397986</td>\n",
       "      <td>-0.355247</td>\n",
       "      <td>-0.691149</td>\n",
       "      <td>0.046332</td>\n",
       "      <td>0.693647</td>\n",
       "      <td>-0.855045</td>\n",
       "      <td>...</td>\n",
       "      <td>0</td>\n",
       "      <td>1</td>\n",
       "      <td>1</td>\n",
       "      <td>0</td>\n",
       "      <td>0</td>\n",
       "      <td>1</td>\n",
       "      <td>1</td>\n",
       "      <td>0</td>\n",
       "      <td>1</td>\n",
       "      <td>0</td>\n",
       "    </tr>\n",
       "    <tr>\n",
       "      <th>398788</th>\n",
       "      <td>438004</td>\n",
       "      <td>0.001000</td>\n",
       "      <td>1.098946</td>\n",
       "      <td>-6.907755</td>\n",
       "      <td>2.079567</td>\n",
       "      <td>-0.691149</td>\n",
       "      <td>-1.604450</td>\n",
       "      <td>-0.553436</td>\n",
       "      <td>1.098946</td>\n",
       "      <td>-1.148135</td>\n",
       "      <td>...</td>\n",
       "      <td>0</td>\n",
       "      <td>1</td>\n",
       "      <td>0</td>\n",
       "      <td>1</td>\n",
       "      <td>1</td>\n",
       "      <td>0</td>\n",
       "      <td>0</td>\n",
       "      <td>1</td>\n",
       "      <td>1</td>\n",
       "      <td>0</td>\n",
       "    </tr>\n",
       "    <tr>\n",
       "      <th>398789</th>\n",
       "      <td>72635</td>\n",
       "      <td>0.693647</td>\n",
       "      <td>1.946053</td>\n",
       "      <td>-6.907755</td>\n",
       "      <td>1.609638</td>\n",
       "      <td>-1.200645</td>\n",
       "      <td>-2.292635</td>\n",
       "      <td>-0.140439</td>\n",
       "      <td>0.693647</td>\n",
       "      <td>-0.600162</td>\n",
       "      <td>...</td>\n",
       "      <td>0</td>\n",
       "      <td>1</td>\n",
       "      <td>1</td>\n",
       "      <td>0</td>\n",
       "      <td>1</td>\n",
       "      <td>0</td>\n",
       "      <td>1</td>\n",
       "      <td>0</td>\n",
       "      <td>1</td>\n",
       "      <td>0</td>\n",
       "    </tr>\n",
       "    <tr>\n",
       "      <th>398790</th>\n",
       "      <td>129319</td>\n",
       "      <td>0.001000</td>\n",
       "      <td>0.693647</td>\n",
       "      <td>-6.907755</td>\n",
       "      <td>2.079567</td>\n",
       "      <td>-0.913794</td>\n",
       "      <td>-6.907755</td>\n",
       "      <td>-0.586825</td>\n",
       "      <td>0.693647</td>\n",
       "      <td>-0.980387</td>\n",
       "      <td>...</td>\n",
       "      <td>1</td>\n",
       "      <td>0</td>\n",
       "      <td>0</td>\n",
       "      <td>1</td>\n",
       "      <td>1</td>\n",
       "      <td>0</td>\n",
       "      <td>1</td>\n",
       "      <td>0</td>\n",
       "      <td>1</td>\n",
       "      <td>0</td>\n",
       "    </tr>\n",
       "    <tr>\n",
       "      <th>398791</th>\n",
       "      <td>417177</td>\n",
       "      <td>1.098946</td>\n",
       "      <td>1.098946</td>\n",
       "      <td>-6.907755</td>\n",
       "      <td>1.946053</td>\n",
       "      <td>-1.200645</td>\n",
       "      <td>-6.907755</td>\n",
       "      <td>-0.015827</td>\n",
       "      <td>-6.907755</td>\n",
       "      <td>-0.980387</td>\n",
       "      <td>...</td>\n",
       "      <td>0</td>\n",
       "      <td>1</td>\n",
       "      <td>0</td>\n",
       "      <td>1</td>\n",
       "      <td>0</td>\n",
       "      <td>1</td>\n",
       "      <td>1</td>\n",
       "      <td>0</td>\n",
       "      <td>0</td>\n",
       "      <td>1</td>\n",
       "    </tr>\n",
       "  </tbody>\n",
       "</table>\n",
       "<p>398792 rows × 239 columns</p>\n",
       "</div>"
      ],
      "text/plain": [
       "        Unnamed: 0  ps_ind_01  ps_ind_03  ps_ind_14  ps_ind_15  ps_reg_01  \\\n",
       "0            12832  -6.907755   0.001000  -6.907755   1.946053  -0.221894   \n",
       "1           201839  -6.907755   0.693647  -6.907755   2.302685  -0.104250   \n",
       "2           575286   1.386544   0.693647  -6.907755   1.946053  -0.221894   \n",
       "3            79132   0.001000   1.791926  -6.907755   1.098946  -0.355247   \n",
       "4            26497  -6.907755   0.001000  -6.907755   1.791926  -0.509160   \n",
       "...            ...        ...        ...        ...        ...        ...   \n",
       "398787      120195   1.098946   0.693647  -6.907755   2.397986  -0.355247   \n",
       "398788      438004   0.001000   1.098946  -6.907755   2.079567  -0.691149   \n",
       "398789       72635   0.693647   1.946053  -6.907755   1.609638  -1.200645   \n",
       "398790      129319   0.001000   0.693647  -6.907755   2.079567  -0.913794   \n",
       "398791      417177   1.098946   1.098946  -6.907755   1.946053  -1.200645   \n",
       "\n",
       "        ps_reg_02  ps_reg_03  ps_car_11  ps_car_12  ...  ps_calc_16_bin_0.0  \\\n",
       "0       -0.913794  -0.233738   1.098946  -1.148135  ...                   0   \n",
       "1       -1.200645  -0.455008   1.098946  -0.913794  ...                   0   \n",
       "2        0.001000   0.174846   0.693647  -0.802985  ...                   0   \n",
       "3       -1.200645  -0.139782   0.001000  -1.148135  ...                   1   \n",
       "4       -0.691149  -0.181622   0.693647  -0.802485  ...                   0   \n",
       "...           ...        ...        ...        ...  ...                 ...   \n",
       "398787  -0.691149   0.046332   0.693647  -0.855045  ...                   0   \n",
       "398788  -1.604450  -0.553436   1.098946  -1.148135  ...                   0   \n",
       "398789  -2.292635  -0.140439   0.693647  -0.600162  ...                   0   \n",
       "398790  -6.907755  -0.586825   0.693647  -0.980387  ...                   1   \n",
       "398791  -6.907755  -0.015827  -6.907755  -0.980387  ...                   0   \n",
       "\n",
       "        ps_calc_16_bin_1.0  ps_calc_17_bin_0.0  ps_calc_17_bin_1.0  \\\n",
       "0                        1                   0                   1   \n",
       "1                        1                   0                   1   \n",
       "2                        1                   0                   1   \n",
       "3                        0                   1                   0   \n",
       "4                        1                   0                   1   \n",
       "...                    ...                 ...                 ...   \n",
       "398787                   1                   1                   0   \n",
       "398788                   1                   0                   1   \n",
       "398789                   1                   1                   0   \n",
       "398790                   0                   0                   1   \n",
       "398791                   1                   0                   1   \n",
       "\n",
       "        ps_calc_18_bin_0.0  ps_calc_18_bin_1.0  ps_calc_19_bin_0.0  \\\n",
       "0                        1                   0                   1   \n",
       "1                        1                   0                   0   \n",
       "2                        1                   0                   1   \n",
       "3                        1                   0                   0   \n",
       "4                        0                   1                   0   \n",
       "...                    ...                 ...                 ...   \n",
       "398787                   0                   1                   1   \n",
       "398788                   1                   0                   0   \n",
       "398789                   1                   0                   1   \n",
       "398790                   1                   0                   1   \n",
       "398791                   0                   1                   1   \n",
       "\n",
       "        ps_calc_19_bin_1.0  ps_calc_20_bin_0.0  ps_calc_20_bin_1.0  \n",
       "0                        0                   1                   0  \n",
       "1                        1                   1                   0  \n",
       "2                        0                   1                   0  \n",
       "3                        1                   1                   0  \n",
       "4                        1                   1                   0  \n",
       "...                    ...                 ...                 ...  \n",
       "398787                   0                   1                   0  \n",
       "398788                   1                   1                   0  \n",
       "398789                   0                   1                   0  \n",
       "398790                   0                   1                   0  \n",
       "398791                   0                   0                   1  \n",
       "\n",
       "[398792 rows x 239 columns]"
      ]
     },
     "execution_count": 19,
     "metadata": {
      "tags": []
     },
     "output_type": "execute_result"
    }
   ],
   "source": [
    "X_imp_train"
   ]
  },
  {
   "cell_type": "code",
   "execution_count": null,
   "metadata": {
    "id": "l7QcG4xJJaTg",
    "outputId": "72082005-ff11-4381-c788-a0f4b569b580"
   },
   "outputs": [
    {
     "data": {
      "text/html": [
       "<div>\n",
       "<style scoped>\n",
       "    .dataframe tbody tr th:only-of-type {\n",
       "        vertical-align: middle;\n",
       "    }\n",
       "\n",
       "    .dataframe tbody tr th {\n",
       "        vertical-align: top;\n",
       "    }\n",
       "\n",
       "    .dataframe thead th {\n",
       "        text-align: right;\n",
       "    }\n",
       "</style>\n",
       "<table border=\"1\" class=\"dataframe\">\n",
       "  <thead>\n",
       "    <tr style=\"text-align: right;\">\n",
       "      <th></th>\n",
       "      <th>Unnamed: 0</th>\n",
       "      <th>ps_ind_01</th>\n",
       "      <th>ps_ind_03</th>\n",
       "      <th>ps_ind_14</th>\n",
       "      <th>ps_ind_15</th>\n",
       "      <th>ps_reg_01</th>\n",
       "      <th>ps_reg_02</th>\n",
       "      <th>ps_reg_03</th>\n",
       "      <th>ps_car_11</th>\n",
       "      <th>ps_car_12</th>\n",
       "      <th>...</th>\n",
       "      <th>ps_calc_16_bin_0.0</th>\n",
       "      <th>ps_calc_16_bin_1.0</th>\n",
       "      <th>ps_calc_17_bin_0.0</th>\n",
       "      <th>ps_calc_17_bin_1.0</th>\n",
       "      <th>ps_calc_18_bin_0.0</th>\n",
       "      <th>ps_calc_18_bin_1.0</th>\n",
       "      <th>ps_calc_19_bin_0.0</th>\n",
       "      <th>ps_calc_19_bin_1.0</th>\n",
       "      <th>ps_calc_20_bin_0.0</th>\n",
       "      <th>ps_calc_20_bin_1.0</th>\n",
       "    </tr>\n",
       "  </thead>\n",
       "  <tbody>\n",
       "    <tr>\n",
       "      <th>0</th>\n",
       "      <td>74260</td>\n",
       "      <td>1.098946</td>\n",
       "      <td>1.098946</td>\n",
       "      <td>-6.907755</td>\n",
       "      <td>1.791926</td>\n",
       "      <td>-0.104250</td>\n",
       "      <td>0.183155</td>\n",
       "      <td>0.313199</td>\n",
       "      <td>1.098946</td>\n",
       "      <td>-1.148135</td>\n",
       "      <td>...</td>\n",
       "      <td>0</td>\n",
       "      <td>1</td>\n",
       "      <td>0</td>\n",
       "      <td>1</td>\n",
       "      <td>0</td>\n",
       "      <td>1</td>\n",
       "      <td>1</td>\n",
       "      <td>0</td>\n",
       "      <td>0</td>\n",
       "      <td>1</td>\n",
       "    </tr>\n",
       "    <tr>\n",
       "      <th>1</th>\n",
       "      <td>319443</td>\n",
       "      <td>1.386544</td>\n",
       "      <td>1.946053</td>\n",
       "      <td>-6.907755</td>\n",
       "      <td>2.565026</td>\n",
       "      <td>-0.221894</td>\n",
       "      <td>-1.604450</td>\n",
       "      <td>-0.230750</td>\n",
       "      <td>1.098946</td>\n",
       "      <td>-0.802485</td>\n",
       "      <td>...</td>\n",
       "      <td>1</td>\n",
       "      <td>0</td>\n",
       "      <td>1</td>\n",
       "      <td>0</td>\n",
       "      <td>1</td>\n",
       "      <td>0</td>\n",
       "      <td>0</td>\n",
       "      <td>1</td>\n",
       "      <td>1</td>\n",
       "      <td>0</td>\n",
       "    </tr>\n",
       "    <tr>\n",
       "      <th>2</th>\n",
       "      <td>550791</td>\n",
       "      <td>1.609638</td>\n",
       "      <td>2.397986</td>\n",
       "      <td>-6.907755</td>\n",
       "      <td>2.484990</td>\n",
       "      <td>-2.292635</td>\n",
       "      <td>-2.292635</td>\n",
       "      <td>-0.455907</td>\n",
       "      <td>0.001000</td>\n",
       "      <td>-1.148135</td>\n",
       "      <td>...</td>\n",
       "      <td>0</td>\n",
       "      <td>1</td>\n",
       "      <td>1</td>\n",
       "      <td>0</td>\n",
       "      <td>1</td>\n",
       "      <td>0</td>\n",
       "      <td>1</td>\n",
       "      <td>0</td>\n",
       "      <td>1</td>\n",
       "      <td>0</td>\n",
       "    </tr>\n",
       "    <tr>\n",
       "      <th>3</th>\n",
       "      <td>302234</td>\n",
       "      <td>0.001000</td>\n",
       "      <td>0.001000</td>\n",
       "      <td>-6.907755</td>\n",
       "      <td>2.397986</td>\n",
       "      <td>-0.221894</td>\n",
       "      <td>-0.913794</td>\n",
       "      <td>-0.148969</td>\n",
       "      <td>0.001000</td>\n",
       "      <td>-1.148634</td>\n",
       "      <td>...</td>\n",
       "      <td>1</td>\n",
       "      <td>0</td>\n",
       "      <td>1</td>\n",
       "      <td>0</td>\n",
       "      <td>1</td>\n",
       "      <td>0</td>\n",
       "      <td>0</td>\n",
       "      <td>1</td>\n",
       "      <td>1</td>\n",
       "      <td>0</td>\n",
       "    </tr>\n",
       "    <tr>\n",
       "      <th>4</th>\n",
       "      <td>15504</td>\n",
       "      <td>0.693647</td>\n",
       "      <td>1.946053</td>\n",
       "      <td>-6.907755</td>\n",
       "      <td>1.946053</td>\n",
       "      <td>-6.907755</td>\n",
       "      <td>-0.104250</td>\n",
       "      <td>0.068909</td>\n",
       "      <td>0.693647</td>\n",
       "      <td>-0.913794</td>\n",
       "      <td>...</td>\n",
       "      <td>0</td>\n",
       "      <td>1</td>\n",
       "      <td>0</td>\n",
       "      <td>1</td>\n",
       "      <td>0</td>\n",
       "      <td>1</td>\n",
       "      <td>1</td>\n",
       "      <td>0</td>\n",
       "      <td>1</td>\n",
       "      <td>0</td>\n",
       "    </tr>\n",
       "    <tr>\n",
       "      <th>...</th>\n",
       "      <td>...</td>\n",
       "      <td>...</td>\n",
       "      <td>...</td>\n",
       "      <td>...</td>\n",
       "      <td>...</td>\n",
       "      <td>...</td>\n",
       "      <td>...</td>\n",
       "      <td>...</td>\n",
       "      <td>...</td>\n",
       "      <td>...</td>\n",
       "      <td>...</td>\n",
       "      <td>...</td>\n",
       "      <td>...</td>\n",
       "      <td>...</td>\n",
       "      <td>...</td>\n",
       "      <td>...</td>\n",
       "      <td>...</td>\n",
       "      <td>...</td>\n",
       "      <td>...</td>\n",
       "      <td>...</td>\n",
       "      <td>...</td>\n",
       "    </tr>\n",
       "    <tr>\n",
       "      <th>196415</th>\n",
       "      <td>67129</td>\n",
       "      <td>1.386544</td>\n",
       "      <td>1.386544</td>\n",
       "      <td>-6.907755</td>\n",
       "      <td>1.609638</td>\n",
       "      <td>-0.509160</td>\n",
       "      <td>-0.509160</td>\n",
       "      <td>0.137553</td>\n",
       "      <td>0.693647</td>\n",
       "      <td>-0.855045</td>\n",
       "      <td>...</td>\n",
       "      <td>0</td>\n",
       "      <td>1</td>\n",
       "      <td>1</td>\n",
       "      <td>0</td>\n",
       "      <td>0</td>\n",
       "      <td>1</td>\n",
       "      <td>1</td>\n",
       "      <td>0</td>\n",
       "      <td>1</td>\n",
       "      <td>0</td>\n",
       "    </tr>\n",
       "    <tr>\n",
       "      <th>196416</th>\n",
       "      <td>60658</td>\n",
       "      <td>0.001000</td>\n",
       "      <td>0.693647</td>\n",
       "      <td>-6.907755</td>\n",
       "      <td>2.565026</td>\n",
       "      <td>-2.292635</td>\n",
       "      <td>-1.604450</td>\n",
       "      <td>-0.479775</td>\n",
       "      <td>1.098946</td>\n",
       "      <td>-1.148135</td>\n",
       "      <td>...</td>\n",
       "      <td>0</td>\n",
       "      <td>1</td>\n",
       "      <td>1</td>\n",
       "      <td>0</td>\n",
       "      <td>1</td>\n",
       "      <td>0</td>\n",
       "      <td>0</td>\n",
       "      <td>1</td>\n",
       "      <td>1</td>\n",
       "      <td>0</td>\n",
       "    </tr>\n",
       "    <tr>\n",
       "      <th>196417</th>\n",
       "      <td>292498</td>\n",
       "      <td>0.001000</td>\n",
       "      <td>0.693647</td>\n",
       "      <td>-6.907755</td>\n",
       "      <td>2.197336</td>\n",
       "      <td>-0.104250</td>\n",
       "      <td>0.263133</td>\n",
       "      <td>0.312363</td>\n",
       "      <td>0.693647</td>\n",
       "      <td>-0.855045</td>\n",
       "      <td>...</td>\n",
       "      <td>0</td>\n",
       "      <td>1</td>\n",
       "      <td>0</td>\n",
       "      <td>1</td>\n",
       "      <td>0</td>\n",
       "      <td>1</td>\n",
       "      <td>1</td>\n",
       "      <td>0</td>\n",
       "      <td>0</td>\n",
       "      <td>1</td>\n",
       "    </tr>\n",
       "    <tr>\n",
       "      <th>196418</th>\n",
       "      <td>520913</td>\n",
       "      <td>0.001000</td>\n",
       "      <td>2.197336</td>\n",
       "      <td>-6.907755</td>\n",
       "      <td>2.397986</td>\n",
       "      <td>-0.104250</td>\n",
       "      <td>0.263133</td>\n",
       "      <td>0.341628</td>\n",
       "      <td>1.098946</td>\n",
       "      <td>-0.945981</td>\n",
       "      <td>...</td>\n",
       "      <td>1</td>\n",
       "      <td>0</td>\n",
       "      <td>0</td>\n",
       "      <td>1</td>\n",
       "      <td>1</td>\n",
       "      <td>0</td>\n",
       "      <td>0</td>\n",
       "      <td>1</td>\n",
       "      <td>1</td>\n",
       "      <td>0</td>\n",
       "    </tr>\n",
       "    <tr>\n",
       "      <th>196419</th>\n",
       "      <td>412321</td>\n",
       "      <td>-6.907755</td>\n",
       "      <td>1.386544</td>\n",
       "      <td>-6.907755</td>\n",
       "      <td>0.693647</td>\n",
       "      <td>-0.509160</td>\n",
       "      <td>-6.907755</td>\n",
       "      <td>-0.971561</td>\n",
       "      <td>1.098946</td>\n",
       "      <td>-0.945981</td>\n",
       "      <td>...</td>\n",
       "      <td>1</td>\n",
       "      <td>0</td>\n",
       "      <td>0</td>\n",
       "      <td>1</td>\n",
       "      <td>1</td>\n",
       "      <td>0</td>\n",
       "      <td>0</td>\n",
       "      <td>1</td>\n",
       "      <td>1</td>\n",
       "      <td>0</td>\n",
       "    </tr>\n",
       "  </tbody>\n",
       "</table>\n",
       "<p>196420 rows × 239 columns</p>\n",
       "</div>"
      ],
      "text/plain": [
       "        Unnamed: 0  ps_ind_01  ps_ind_03  ps_ind_14  ps_ind_15  ps_reg_01  \\\n",
       "0            74260   1.098946   1.098946  -6.907755   1.791926  -0.104250   \n",
       "1           319443   1.386544   1.946053  -6.907755   2.565026  -0.221894   \n",
       "2           550791   1.609638   2.397986  -6.907755   2.484990  -2.292635   \n",
       "3           302234   0.001000   0.001000  -6.907755   2.397986  -0.221894   \n",
       "4            15504   0.693647   1.946053  -6.907755   1.946053  -6.907755   \n",
       "...            ...        ...        ...        ...        ...        ...   \n",
       "196415       67129   1.386544   1.386544  -6.907755   1.609638  -0.509160   \n",
       "196416       60658   0.001000   0.693647  -6.907755   2.565026  -2.292635   \n",
       "196417      292498   0.001000   0.693647  -6.907755   2.197336  -0.104250   \n",
       "196418      520913   0.001000   2.197336  -6.907755   2.397986  -0.104250   \n",
       "196419      412321  -6.907755   1.386544  -6.907755   0.693647  -0.509160   \n",
       "\n",
       "        ps_reg_02  ps_reg_03  ps_car_11  ps_car_12  ...  ps_calc_16_bin_0.0  \\\n",
       "0        0.183155   0.313199   1.098946  -1.148135  ...                   0   \n",
       "1       -1.604450  -0.230750   1.098946  -0.802485  ...                   1   \n",
       "2       -2.292635  -0.455907   0.001000  -1.148135  ...                   0   \n",
       "3       -0.913794  -0.148969   0.001000  -1.148634  ...                   1   \n",
       "4       -0.104250   0.068909   0.693647  -0.913794  ...                   0   \n",
       "...           ...        ...        ...        ...  ...                 ...   \n",
       "196415  -0.509160   0.137553   0.693647  -0.855045  ...                   0   \n",
       "196416  -1.604450  -0.479775   1.098946  -1.148135  ...                   0   \n",
       "196417   0.263133   0.312363   0.693647  -0.855045  ...                   0   \n",
       "196418   0.263133   0.341628   1.098946  -0.945981  ...                   1   \n",
       "196419  -6.907755  -0.971561   1.098946  -0.945981  ...                   1   \n",
       "\n",
       "        ps_calc_16_bin_1.0  ps_calc_17_bin_0.0  ps_calc_17_bin_1.0  \\\n",
       "0                        1                   0                   1   \n",
       "1                        0                   1                   0   \n",
       "2                        1                   1                   0   \n",
       "3                        0                   1                   0   \n",
       "4                        1                   0                   1   \n",
       "...                    ...                 ...                 ...   \n",
       "196415                   1                   1                   0   \n",
       "196416                   1                   1                   0   \n",
       "196417                   1                   0                   1   \n",
       "196418                   0                   0                   1   \n",
       "196419                   0                   0                   1   \n",
       "\n",
       "        ps_calc_18_bin_0.0  ps_calc_18_bin_1.0  ps_calc_19_bin_0.0  \\\n",
       "0                        0                   1                   1   \n",
       "1                        1                   0                   0   \n",
       "2                        1                   0                   1   \n",
       "3                        1                   0                   0   \n",
       "4                        0                   1                   1   \n",
       "...                    ...                 ...                 ...   \n",
       "196415                   0                   1                   1   \n",
       "196416                   1                   0                   0   \n",
       "196417                   0                   1                   1   \n",
       "196418                   1                   0                   0   \n",
       "196419                   1                   0                   0   \n",
       "\n",
       "        ps_calc_19_bin_1.0  ps_calc_20_bin_0.0  ps_calc_20_bin_1.0  \n",
       "0                        0                   0                   1  \n",
       "1                        1                   1                   0  \n",
       "2                        0                   1                   0  \n",
       "3                        1                   1                   0  \n",
       "4                        0                   1                   0  \n",
       "...                    ...                 ...                 ...  \n",
       "196415                   0                   1                   0  \n",
       "196416                   1                   1                   0  \n",
       "196417                   0                   0                   1  \n",
       "196418                   1                   1                   0  \n",
       "196419                   1                   1                   0  \n",
       "\n",
       "[196420 rows x 239 columns]"
      ]
     },
     "execution_count": 20,
     "metadata": {
      "tags": []
     },
     "output_type": "execute_result"
    }
   ],
   "source": [
    "X_imp_test"
   ]
  },
  {
   "cell_type": "code",
   "execution_count": null,
   "metadata": {
    "id": "QCy8SKOxJaTg",
    "outputId": "a0673c88-90fa-4051-be0d-dfbf23d92f46"
   },
   "outputs": [
    {
     "name": "stdout",
     "output_type": "stream",
     "text": [
      "0\n",
      "0\n"
     ]
    }
   ],
   "source": [
    "#Infinity value check\n",
    "\n",
    "print(X_imp_train.eq(-np.inf).sum().sum())\n",
    "print(X_imp_train.eq(np.inf).sum().sum())"
   ]
  },
  {
   "cell_type": "code",
   "execution_count": null,
   "metadata": {
    "id": "KVVJ6_E6JaTg",
    "outputId": "03de89cf-f149-4b8a-a2a4-47866de29cb1"
   },
   "outputs": [
    {
     "name": "stdout",
     "output_type": "stream",
     "text": [
      "0\n",
      "0\n"
     ]
    }
   ],
   "source": [
    "#Infinity value check\n",
    "\n",
    "print(X_imp_test.eq(-np.inf).sum().sum())\n",
    "print(X_imp_test.eq(np.inf).sum().sum())"
   ]
  },
  {
   "cell_type": "markdown",
   "metadata": {
    "id": "QvrAMK_yJaTh"
   },
   "source": [
    "### Feature Engineering-- Truncated SVD"
   ]
  },
  {
   "cell_type": "code",
   "execution_count": null,
   "metadata": {
    "id": "2_vp43P9JaTh"
   },
   "outputs": [],
   "source": [
    "#Dropping unnecessary columns\n",
    "\n",
    "X_imp_train=X_imp_train.drop('Unnamed: 0',axis=1)\n",
    "X_imp_test=X_imp_test.drop('Unnamed: 0',axis=1)\n"
   ]
  },
  {
   "cell_type": "code",
   "execution_count": null,
   "metadata": {
    "id": "utDPJ4-pJaTh"
   },
   "outputs": [],
   "source": [
    "#Generating six features from truncated SVD \n",
    "\n",
    "trunc=TruncatedSVD(n_components=6,n_iter=20,random_state=42)\n",
    "trunc.fit(X_imp_train)\n",
    "svd_vals=trunc.transform(X_imp_train)\n",
    "\n",
    "trunc1=TruncatedSVD(n_components=6,n_iter=20,random_state=42)\n",
    "trunc1.fit(X_imp_test)\n",
    "svd_vals_test=trunc1.transform(X_imp_test)"
   ]
  },
  {
   "cell_type": "code",
   "execution_count": null,
   "metadata": {
    "id": "WAJLaA6gJaTh"
   },
   "outputs": [],
   "source": [
    "#Merging new features into the final X_train\n",
    "\n",
    "X_imp_train['svd_1']=svd_vals[:,0]\n",
    "X_imp_train['svd_2']=svd_vals[:,1]\n",
    "X_imp_train['svd_3']=svd_vals[:,2]\n",
    "X_imp_train['svd_4']=svd_vals[:,3]\n",
    "X_imp_train['svd_5']=svd_vals[:,4]\n",
    "X_imp_train['svd_6']=svd_vals[:,5]\n",
    "\n",
    "X_imp_test['svd_1']=svd_vals_test[:,0]\n",
    "X_imp_test['svd_2']=svd_vals_test[:,1]\n",
    "X_imp_test['svd_3']=svd_vals_test[:,2]\n",
    "X_imp_test['svd_4']=svd_vals_test[:,3]\n",
    "X_imp_test['svd_5']=svd_vals_test[:,4]\n",
    "X_imp_test['svd_6']=svd_vals_test[:,5]"
   ]
  },
  {
   "cell_type": "code",
   "execution_count": null,
   "metadata": {
    "id": "djyfsjA6JaTh",
    "outputId": "26266653-8020-4f93-d228-732b2721df2b"
   },
   "outputs": [
    {
     "data": {
      "text/plain": [
       "Index(['ps_ind_01', 'ps_ind_03', 'ps_ind_14', 'ps_ind_15', 'ps_reg_01',\n",
       "       'ps_reg_02', 'ps_reg_03', 'ps_car_11', 'ps_car_12', 'ps_car_13',\n",
       "       ...\n",
       "       'ps_calc_19_bin_0.0', 'ps_calc_19_bin_1.0', 'ps_calc_20_bin_0.0',\n",
       "       'ps_calc_20_bin_1.0', 'svd_1', 'svd_2', 'svd_3', 'svd_4', 'svd_5',\n",
       "       'svd_6'],\n",
       "      dtype='object', length=244)"
      ]
     },
     "execution_count": 37,
     "metadata": {
      "tags": []
     },
     "output_type": "execute_result"
    }
   ],
   "source": [
    "X_imp_train.columns"
   ]
  },
  {
   "cell_type": "code",
   "execution_count": null,
   "metadata": {
    "id": "I8B6qskBJaTh",
    "outputId": "9c7c4f82-f658-4b0a-c76a-655ae5c5740e"
   },
   "outputs": [
    {
     "data": {
      "text/plain": [
       "Index(['ps_ind_01', 'ps_ind_03', 'ps_ind_14', 'ps_ind_15', 'ps_reg_01',\n",
       "       'ps_reg_02', 'ps_reg_03', 'ps_car_11', 'ps_car_12', 'ps_car_13',\n",
       "       ...\n",
       "       'ps_calc_19_bin_0.0', 'ps_calc_19_bin_1.0', 'ps_calc_20_bin_0.0',\n",
       "       'ps_calc_20_bin_1.0', 'svd_1', 'svd_2', 'svd_3', 'svd_4', 'svd_5',\n",
       "       'svd_6'],\n",
       "      dtype='object', length=244)"
      ]
     },
     "execution_count": 38,
     "metadata": {
      "tags": []
     },
     "output_type": "execute_result"
    }
   ],
   "source": [
    "X_imp_test.columns"
   ]
  },
  {
   "cell_type": "code",
   "execution_count": null,
   "metadata": {
    "id": "OY4dr6dNJaTi"
   },
   "outputs": [],
   "source": [
    "#X_imp_train.to_csv('final_train.csv')\n",
    "#X_imp_test.to_csv('final_test.csv')"
   ]
  },
  {
   "cell_type": "code",
   "execution_count": 7,
   "metadata": {
    "id": "oGZ-EB3VJaTi"
   },
   "outputs": [],
   "source": [
    "X_imp_train=pd.read_csv('final_train.csv')\n",
    "X_imp_test=pd.read_csv('final_test.csv')\n",
    "\n",
    "X_imp_train=X_imp_train.drop('Unnamed: 0',axis=1)\n",
    "X_imp_test=X_imp_test.drop('Unnamed: 0',axis=1)\n",
    "\n",
    "\n",
    "X_imp_train = X_imp_train.rename(columns = lambda x:re.sub('[^A-Za-z0-9_]+', '__', x))\n",
    "X_imp_test = X_imp_test.rename(columns = lambda x:re.sub('[^A-Za-z0-9_]+', '__', x))"
   ]
  },
  {
   "cell_type": "markdown",
   "metadata": {
    "id": "ns85FTZ1JaTi"
   },
   "source": [
    "### Baseline Model"
   ]
  },
  {
   "cell_type": "code",
   "execution_count": 4,
   "metadata": {
    "executionInfo": {
     "elapsed": 904,
     "status": "ok",
     "timestamp": 1617722433114,
     "user": {
      "displayName": "Chandru King",
      "photoUrl": "",
      "userId": "14503008463780041909"
     },
     "user_tz": -330
    },
    "id": "z8dZAvMrJaTi"
   },
   "outputs": [],
   "source": [
    "def gini_roc(true, preds):\n",
    "    ''' Gini co-efficient calculated using roc curve'''\n",
    "    \n",
    "    res = 2* roc_auc_score(true, preds) - 1\n",
    "    return res"
   ]
  },
  {
   "cell_type": "code",
   "execution_count": 3,
   "metadata": {
    "id": "OkBTV_deJaTi"
   },
   "outputs": [],
   "source": [
    "# Performance metric- Gini Co-efficient calculation\n",
    "\n",
    "#https://www.kaggle.com/c/ClaimPredictionChallenge/discussion/703\n",
    "\n",
    "def gini(actual, pred):\n",
    "    \n",
    "    #Calculating Gini co-efficient\n",
    "    \n",
    "    assert (len(actual) == len(pred))\n",
    "    all = np.asarray(np.c_[actual, pred, np.arange(len(actual))], dtype=np.float)\n",
    "    \n",
    "    all = all[np.lexsort((all[:, 2], -1 * all[:, 1]))]\n",
    "    \n",
    "    totalLosses = all[:, 0].sum()\n",
    "    \n",
    "    giniSum = all[:, 0].cumsum().sum() / totalLosses\n",
    "\n",
    "    giniSum -= (len(actual) + 1) / 2.\n",
    "    \n",
    "    return giniSum / len(actual)\n",
    "\n",
    "\n",
    "def gini_normalized(actual, pred):\n",
    "    \n",
    "    #Normalizing the Gini Co-efficient\n",
    "    \n",
    "    return gini(actual, pred) / gini(actual, actual)"
   ]
  },
  {
   "cell_type": "code",
   "execution_count": 13,
   "metadata": {
    "id": "vHfmPeL9JaTi"
   },
   "outputs": [],
   "source": [
    "#Baseline Model to predict Randomly using random function\n",
    "\n",
    "pred=[]\n",
    "for i in range (len(X_imp_train)):\n",
    "    ch=random.random()\n",
    "    if ch>0.5:\n",
    "        pred.append(1)\n",
    "    else:\n",
    "        pred.append(0)"
   ]
  },
  {
   "cell_type": "code",
   "execution_count": 14,
   "metadata": {},
   "outputs": [
    {
     "name": "stdout",
     "output_type": "stream",
     "text": [
      "The normalized gini-co-efficient is 0.001\n"
     ]
    }
   ],
   "source": [
    "print('The normalized gini-co-efficient is',round(gini_normalized(y_train,pred),3))"
   ]
  },
  {
   "cell_type": "markdown",
   "metadata": {
    "id": "KOR04hUgJaTj"
   },
   "source": [
    "#### Data Pre-processing +FE + Baseline Model Summary:\n",
    "    \n",
    "    1. For categorical features, the imputation method 'most frequent' or mode is used to fill the missing values. Also the imputation was done only on the features which have less than 1 % of missing values\n",
    "    2. For categorical features with missing values greater than 1%, the missing value (-1) is considered as a seperate category.\n",
    "    3. For continuous features, the model based imputation (Knn-imputer) is performed to replace all the missing values.\n",
    "    4. One hot encoding was implemented to encode the categorical values.\n",
    "    5. To handle the outliers in the continuous features, the log transformation was applied on the data.\n",
    "    6. As part of feature engineering, truncated svd was implemented on the data to generate 6 new features which was then added to the final dataset.\n",
    "    7. The baseline line was created to randomly predict the values and the gini co-efficient was calculated for it. \n",
    "    8. We got a value of 0.008 for baseline model which denotes a completely random model."
   ]
  },
  {
   "cell_type": "markdown",
   "metadata": {
    "id": "H4o7fmaKJaTj"
   },
   "source": [
    "### Logistic Regression"
   ]
  },
  {
   "cell_type": "code",
   "execution_count": null,
   "metadata": {
    "id": "fiFWegxHJaTj",
    "outputId": "e97f5d18-69b8-46b5-980a-d7517fd722d2"
   },
   "outputs": [
    {
     "name": "stderr",
     "output_type": "stream",
     "text": [
      " 20%|████████████████▌                                                                  | 1/5 [02:31<10:04, 151.06s/it]"
     ]
    },
    {
     "name": "stdout",
     "output_type": "stream",
     "text": [
      "Regularisation =  0.001 Train Score 0.08551825944011804 test Score 0.09916272007241966\n"
     ]
    },
    {
     "name": "stderr",
     "output_type": "stream",
     "text": [
      "\r",
      " 40%|█████████████████████████████████▏                                                 | 2/5 [04:26<06:29, 129.84s/it]"
     ]
    },
    {
     "name": "stdout",
     "output_type": "stream",
     "text": [
      "Regularisation =  0.01 Train Score 0.08551812945315529 test Score 0.09916260493642803\n"
     ]
    },
    {
     "name": "stderr",
     "output_type": "stream",
     "text": [
      "\r",
      " 60%|█████████████████████████████████████████████████▊                                 | 3/5 [06:11<03:57, 118.61s/it]"
     ]
    },
    {
     "name": "stdout",
     "output_type": "stream",
     "text": [
      "Regularisation =  1 Train Score 0.08551810653534342 test Score 0.09916259165150598\n"
     ]
    },
    {
     "name": "stderr",
     "output_type": "stream",
     "text": [
      "\r",
      " 80%|██████████████████████████████████████████████████████████████████▍                | 4/5 [07:42<01:47, 107.70s/it]"
     ]
    },
    {
     "name": "stdout",
     "output_type": "stream",
     "text": [
      "Regularisation =  10 Train Score 0.08551810617725275 test Score 0.09916259165150598\n"
     ]
    },
    {
     "name": "stderr",
     "output_type": "stream",
     "text": [
      "100%|███████████████████████████████████████████████████████████████████████████████████| 5/5 [09:12<00:00, 110.44s/it]"
     ]
    },
    {
     "name": "stdout",
     "output_type": "stream",
     "text": [
      "Regularisation =  100 Train Score 0.08551810617725275 test Score 0.09916259165150598\n"
     ]
    },
    {
     "name": "stderr",
     "output_type": "stream",
     "text": [
      "\n"
     ]
    },
    {
     "data": {
      "text/plain": [
       "Text(0.5,1,'Regularisation vs Gini score')"
      ]
     },
     "execution_count": 9,
     "metadata": {
      "tags": []
     },
     "output_type": "execute_result"
    },
    {
     "data": {
      "image/png": "[encoded data removed]",
      "text/plain": [
       "<Figure size 432x288 with 1 Axes>"
      ]
     },
     "metadata": {
      "tags": []
     },
     "output_type": "display_data"
    }
   ],
   "source": [
    "reg=[0.001,0.01,1,10,100]\n",
    "train_scores = []\n",
    "test_scores = []\n",
    "for i in tqdm(reg):\n",
    "    clf = LogisticRegression(class_weight='balanced', random_state=42,C=i,n_jobs=-1,verbose=0)\n",
    "    clf.fit(X_imp_train,y_train)\n",
    "    train_pre=clf.predict_proba(X_imp_train)\n",
    "    test_pre=clf.predict_proba(X_imp_test)\n",
    "    train_sc = gini_roc(y_train,train_pre[:, 1])\n",
    "    test_sc = gini_roc(y_test,test_pre[:, 1])\n",
    "    test_scores.append(test_sc)\n",
    "    train_scores.append(train_sc)\n",
    "    print('Regularisation = ',i,'Train Score',train_sc,'test Score',test_sc)\n",
    "plt.plot(reg,train_scores,label='Train Score')\n",
    "plt.plot(reg,test_scores,label='Test Score')\n",
    "plt.xlabel('Regularisation')\n",
    "plt.ylabel('Gini Score')\n",
    "plt.title('Regularisation vs Gini score')"
   ]
  },
  {
   "cell_type": "code",
   "execution_count": null,
   "metadata": {
    "id": "ucD6I5DTJaTj",
    "outputId": "d456b902-e679-41e2-bb87-3890e49a3ba3"
   },
   "outputs": [
    {
     "name": "stdout",
     "output_type": "stream",
     "text": [
      "The Gini score for Train data is 0.08551825944011804\n",
      "The Gini score for Test data is 0.09916272007241966\n"
     ]
    }
   ],
   "source": [
    "bestreg=0.001\n",
    "clf_logreg = LogisticRegression(class_weight='balanced', random_state=42,C=bestreg,n_jobs=-1,verbose=0)\n",
    "clf_logreg.fit(X_imp_train,y_train)\n",
    "print(\"The Gini score for Train data is\",gini_roc(y_train,clf_logreg.predict_proba(X_imp_train)[:,1]))\n",
    "print(\"The Gini score for Test data is\",gini_roc(y_test,clf_logreg.predict_proba(X_imp_test)[:,1]))\n"
   ]
  },
  {
   "cell_type": "markdown",
   "metadata": {
    "id": "8LkAljFVJaTk"
   },
   "source": [
    "#### Kaggle Score for Logistic Regression"
   ]
  },
  {
   "cell_type": "markdown",
   "metadata": {
    "id": "YfwM1xbTJaTk"
   },
   "source": [
    "<img src=\"kaggle_test/logistic_regression.png\">"
   ]
  },
  {
   "cell_type": "markdown",
   "metadata": {
    "id": "R01ibvG3JaTk"
   },
   "source": [
    "### Logistic Regression using SGD Classifier"
   ]
  },
  {
   "cell_type": "code",
   "execution_count": null,
   "metadata": {
    "id": "WdxjF7E2JaTk",
    "outputId": "47cc29a3-6184-404f-8daa-96669acc33a3"
   },
   "outputs": [
    {
     "name": "stderr",
     "output_type": "stream",
     "text": [
      "\r",
      "  0%|                                                                                            | 0/5 [00:00<?, ?it/s]"
     ]
    },
    {
     "name": "stdout",
     "output_type": "stream",
     "text": [
      "Regularisation =  0.001 Penalty= l1 Train Score 0.04516940823539861 test Score 0.03840551637082901\n",
      "Regularisation =  0.001 Penalty= l2 Train Score -0.00021786083554387048 test Score 0.0014114041471919858\n"
     ]
    },
    {
     "name": "stderr",
     "output_type": "stream",
     "text": [
      "\r",
      " 20%|████████████████▌                                                                  | 1/5 [08:04<32:16, 484.03s/it]"
     ]
    },
    {
     "name": "stdout",
     "output_type": "stream",
     "text": [
      "Regularisation =  0.001 Penalty= elasticnet Train Score 0.18851958294642612 test Score 0.1893827619938917\n",
      "Regularisation =  0.01 Penalty= l1 Train Score 0.00037681036198122797 test Score 0.0017983990944099304\n",
      "Regularisation =  0.01 Penalty= l2 Train Score 0.0005446591611530938 test Score -0.00039681693295945397\n"
     ]
    },
    {
     "name": "stderr",
     "output_type": "stream",
     "text": [
      "\r",
      " 40%|█████████████████████████████████▏                                                 | 2/5 [16:15<24:25, 488.55s/it]"
     ]
    },
    {
     "name": "stdout",
     "output_type": "stream",
     "text": [
      "Regularisation =  0.01 Penalty= elasticnet Train Score 0.0006350971429949226 test Score 0.002375103467309403\n",
      "Regularisation =  1 Penalty= l1 Train Score -2.6024249395462107e-06 test Score -5.283708740866366e-06\n",
      "Regularisation =  1 Penalty= l2 Train Score 0.003313238235139737 test Score 0.006939236616595457\n"
     ]
    },
    {
     "name": "stderr",
     "output_type": "stream",
     "text": [
      "\r",
      " 60%|█████████████████████████████████████████████████▊                                 | 3/5 [29:36<21:02, 631.07s/it]"
     ]
    },
    {
     "name": "stdout",
     "output_type": "stream",
     "text": [
      "Regularisation =  1 Penalty= elasticnet Train Score 0.0023063101618796544 test Score 0.005043194820831154\n",
      "Regularisation =  10 Penalty= l1 Train Score -2.6024249395462107e-06 test Score -5.283708740866366e-06\n",
      "Regularisation =  10 Penalty= l2 Train Score 0.0032869944760796077 test Score 0.006795763886190631\n"
     ]
    },
    {
     "name": "stderr",
     "output_type": "stream",
     "text": [
      "\r",
      " 80%|██████████████████████████████████████████████████████████████████▍                | 4/5 [41:16<10:58, 658.30s/it]"
     ]
    },
    {
     "name": "stdout",
     "output_type": "stream",
     "text": [
      "Regularisation =  10 Penalty= elasticnet Train Score 0.0023063101618796544 test Score 0.005043194820831154\n",
      "Regularisation =  100 Penalty= l1 Train Score -2.6024249395462107e-06 test Score -5.283708740866366e-06\n",
      "Regularisation =  100 Penalty= l2 Train Score 0.002560476929114097 test Score 0.00549685572131553\n"
     ]
    },
    {
     "name": "stderr",
     "output_type": "stream",
     "text": [
      "100%|███████████████████████████████████████████████████████████████████████████████████| 5/5 [49:52<00:00, 598.53s/it]"
     ]
    },
    {
     "name": "stdout",
     "output_type": "stream",
     "text": [
      "Regularisation =  100 Penalty= elasticnet Train Score 0.0023063101618796544 test Score 0.005043194820831154\n"
     ]
    },
    {
     "name": "stderr",
     "output_type": "stream",
     "text": [
      "\n"
     ]
    }
   ],
   "source": [
    "reg=[0.001,0.01,1,10,100]\n",
    "pen=['l1','l2','elasticnet']\n",
    "train_scores = [];regu=[]\n",
    "test_scores = [];pena=[]\n",
    "for i in tqdm(reg):\n",
    "    for j in pen:\n",
    "        clf = SGDClassifier(loss='log',penalty=j,random_state=42,alpha=i,n_jobs=-1)\n",
    "        regu.append(i)\n",
    "        pena.append(j)\n",
    "        clf.fit(X_imp_train,y_train)\n",
    "        train_pre=clf.predict_proba(X_imp_train)\n",
    "        test_pre=clf.predict_proba(X_imp_test)\n",
    "        train_sc = gini_roc(y_train,train_pre[:, 1])\n",
    "        test_sc = gini_roc(y_test,test_pre[:, 1])\n",
    "        test_scores.append(test_sc)\n",
    "        train_scores.append(train_sc)\n",
    "        print('Regularisation = ',i,'Penalty=',j,'Train Score',train_sc,'test Score',test_sc)\n"
   ]
  },
  {
   "cell_type": "code",
   "execution_count": null,
   "metadata": {
    "id": "KRj3niyDJaTk",
    "outputId": "6dc79c58-00ab-464f-a0f6-24b62d5c7075"
   },
   "outputs": [
    {
     "data": {
      "text/html": [
       "<div>\n",
       "<style scoped>\n",
       "    .dataframe tbody tr th:only-of-type {\n",
       "        vertical-align: middle;\n",
       "    }\n",
       "\n",
       "    .dataframe tbody tr th {\n",
       "        vertical-align: top;\n",
       "    }\n",
       "\n",
       "    .dataframe thead th {\n",
       "        text-align: right;\n",
       "    }\n",
       "</style>\n",
       "<table border=\"1\" class=\"dataframe\">\n",
       "  <thead>\n",
       "    <tr style=\"text-align: right;\">\n",
       "      <th></th>\n",
       "      <th>Regularisation</th>\n",
       "      <th>Penalty</th>\n",
       "      <th>train_score</th>\n",
       "      <th>test_score</th>\n",
       "    </tr>\n",
       "  </thead>\n",
       "  <tbody>\n",
       "    <tr>\n",
       "      <th>0</th>\n",
       "      <td>0.001</td>\n",
       "      <td>l1</td>\n",
       "      <td>0.045169</td>\n",
       "      <td>0.038406</td>\n",
       "    </tr>\n",
       "    <tr>\n",
       "      <th>1</th>\n",
       "      <td>0.001</td>\n",
       "      <td>l2</td>\n",
       "      <td>-0.000218</td>\n",
       "      <td>0.001411</td>\n",
       "    </tr>\n",
       "    <tr>\n",
       "      <th>2</th>\n",
       "      <td>0.001</td>\n",
       "      <td>elasticnet</td>\n",
       "      <td>0.188520</td>\n",
       "      <td>0.189383</td>\n",
       "    </tr>\n",
       "    <tr>\n",
       "      <th>3</th>\n",
       "      <td>0.010</td>\n",
       "      <td>l1</td>\n",
       "      <td>0.000377</td>\n",
       "      <td>0.001798</td>\n",
       "    </tr>\n",
       "    <tr>\n",
       "      <th>4</th>\n",
       "      <td>0.010</td>\n",
       "      <td>l2</td>\n",
       "      <td>0.000545</td>\n",
       "      <td>-0.000397</td>\n",
       "    </tr>\n",
       "    <tr>\n",
       "      <th>5</th>\n",
       "      <td>0.010</td>\n",
       "      <td>elasticnet</td>\n",
       "      <td>0.000635</td>\n",
       "      <td>0.002375</td>\n",
       "    </tr>\n",
       "    <tr>\n",
       "      <th>6</th>\n",
       "      <td>1.000</td>\n",
       "      <td>l1</td>\n",
       "      <td>-0.000003</td>\n",
       "      <td>-0.000005</td>\n",
       "    </tr>\n",
       "    <tr>\n",
       "      <th>7</th>\n",
       "      <td>1.000</td>\n",
       "      <td>l2</td>\n",
       "      <td>0.003313</td>\n",
       "      <td>0.006939</td>\n",
       "    </tr>\n",
       "    <tr>\n",
       "      <th>8</th>\n",
       "      <td>1.000</td>\n",
       "      <td>elasticnet</td>\n",
       "      <td>0.002306</td>\n",
       "      <td>0.005043</td>\n",
       "    </tr>\n",
       "    <tr>\n",
       "      <th>9</th>\n",
       "      <td>10.000</td>\n",
       "      <td>l1</td>\n",
       "      <td>-0.000003</td>\n",
       "      <td>-0.000005</td>\n",
       "    </tr>\n",
       "    <tr>\n",
       "      <th>10</th>\n",
       "      <td>10.000</td>\n",
       "      <td>l2</td>\n",
       "      <td>0.003287</td>\n",
       "      <td>0.006796</td>\n",
       "    </tr>\n",
       "    <tr>\n",
       "      <th>11</th>\n",
       "      <td>10.000</td>\n",
       "      <td>elasticnet</td>\n",
       "      <td>0.002306</td>\n",
       "      <td>0.005043</td>\n",
       "    </tr>\n",
       "    <tr>\n",
       "      <th>12</th>\n",
       "      <td>100.000</td>\n",
       "      <td>l1</td>\n",
       "      <td>-0.000003</td>\n",
       "      <td>-0.000005</td>\n",
       "    </tr>\n",
       "    <tr>\n",
       "      <th>13</th>\n",
       "      <td>100.000</td>\n",
       "      <td>l2</td>\n",
       "      <td>0.002560</td>\n",
       "      <td>0.005497</td>\n",
       "    </tr>\n",
       "    <tr>\n",
       "      <th>14</th>\n",
       "      <td>100.000</td>\n",
       "      <td>elasticnet</td>\n",
       "      <td>0.002306</td>\n",
       "      <td>0.005043</td>\n",
       "    </tr>\n",
       "  </tbody>\n",
       "</table>\n",
       "</div>"
      ],
      "text/plain": [
       "    Regularisation     Penalty  train_score  test_score\n",
       "0            0.001          l1     0.045169    0.038406\n",
       "1            0.001          l2    -0.000218    0.001411\n",
       "2            0.001  elasticnet     0.188520    0.189383\n",
       "3            0.010          l1     0.000377    0.001798\n",
       "4            0.010          l2     0.000545   -0.000397\n",
       "5            0.010  elasticnet     0.000635    0.002375\n",
       "6            1.000          l1    -0.000003   -0.000005\n",
       "7            1.000          l2     0.003313    0.006939\n",
       "8            1.000  elasticnet     0.002306    0.005043\n",
       "9           10.000          l1    -0.000003   -0.000005\n",
       "10          10.000          l2     0.003287    0.006796\n",
       "11          10.000  elasticnet     0.002306    0.005043\n",
       "12         100.000          l1    -0.000003   -0.000005\n",
       "13         100.000          l2     0.002560    0.005497\n",
       "14         100.000  elasticnet     0.002306    0.005043"
      ]
     },
     "execution_count": 19,
     "metadata": {
      "tags": []
     },
     "output_type": "execute_result"
    }
   ],
   "source": [
    "data={'Regularisation':regu,'Penalty':pena,'train_score':train_scores,'test_score':test_scores}\n",
    "result=pd.DataFrame(data)\n",
    "result"
   ]
  },
  {
   "cell_type": "code",
   "execution_count": null,
   "metadata": {
    "id": "WM1Utsc0JaTl",
    "outputId": "17580986-cf2b-4977-bb7c-b9d15ff490c7"
   },
   "outputs": [
    {
     "data": {
      "image/png": "[encoded data removed]",
      "text/plain": [
       "<Figure size 432x288 with 2 Axes>"
      ]
     },
     "metadata": {
      "tags": []
     },
     "output_type": "display_data"
    }
   ],
   "source": [
    "max_scores = result.groupby(['Regularisation', 'Penalty']).max()\n",
    "max_scores = max_scores.unstack()[['test_score', 'train_score']]\n",
    "sns.heatmap(max_scores.test_score, annot=True, fmt='.4g');\n"
   ]
  },
  {
   "cell_type": "code",
   "execution_count": null,
   "metadata": {
    "id": "zsEkmH0rJaTl",
    "outputId": "8d466de8-c96f-486b-a4f8-20b029d94630"
   },
   "outputs": [
    {
     "name": "stdout",
     "output_type": "stream",
     "text": [
      "The Gini score for Train data is 0.18851958294642612\n",
      "The Gini score for Test data is 0.1893827619938917\n"
     ]
    }
   ],
   "source": [
    "best_alpha=0.001\n",
    "bestreg='elasticnet'\n",
    "\n",
    "clf =SGDClassifier(loss='log',penalty=bestreg,random_state=42,alpha=best_alpha,n_jobs=-1)\n",
    "clf.fit(X_imp_train,y_train)\n",
    "print(\"The Gini score for Train data is\",gini_roc(y_train,clf.predict_proba(X_imp_train)[:,1]))\n",
    "print(\"The Gini score for Test data is\",gini_roc(y_test,clf.predict_proba(X_imp_test)[:,1]))\n"
   ]
  },
  {
   "cell_type": "markdown",
   "metadata": {
    "id": "TzIPlOQZJaTl"
   },
   "source": [
    "#### Kaggle Score for Logistic Regression with SGD"
   ]
  },
  {
   "cell_type": "markdown",
   "metadata": {
    "id": "Gir5HPXiJaTm"
   },
   "source": [
    "<img src=\"kaggle_test/logreg_withsgd.png\">"
   ]
  },
  {
   "cell_type": "markdown",
   "metadata": {
    "id": "Hu-2C22fJaTm"
   },
   "source": [
    "### Decision Tree"
   ]
  },
  {
   "cell_type": "code",
   "execution_count": null,
   "metadata": {
    "id": "ao3PsTyQJaTm",
    "outputId": "2b1f62ac-f7f1-4021-f885-c173a984a5e8"
   },
   "outputs": [
    {
     "name": "stderr",
     "output_type": "stream",
     "text": [
      "\r",
      "  0%|                                                                                            | 0/3 [00:00<?, ?it/s]"
     ]
    },
    {
     "name": "stdout",
     "output_type": "stream",
     "text": [
      "min_samples_split =  2 max_depth= 3 Train Score 0.1780178730086619 test Score 0.17443762834208054\n",
      "min_samples_split =  2 max_depth= 5 Train Score 0.21910876195305673 test Score 0.20850255104343995\n",
      "min_samples_split =  2 max_depth= 7 Train Score 0.2636942408199119 test Score 0.20417001172702132\n"
     ]
    },
    {
     "name": "stderr",
     "output_type": "stream",
     "text": [
      "\r",
      " 33%|████████████████████████████                                                        | 1/3 [00:47<01:34, 47.32s/it]"
     ]
    },
    {
     "name": "stdout",
     "output_type": "stream",
     "text": [
      "min_samples_split =  2 max_depth= 10 Train Score 0.36785072050811185 test Score 0.1537926593821941\n",
      "min_samples_split =  4 max_depth= 3 Train Score 0.1780178730086619 test Score 0.17443762834208054\n",
      "min_samples_split =  4 max_depth= 5 Train Score 0.21910876195305673 test Score 0.20850255104343995\n",
      "min_samples_split =  4 max_depth= 7 Train Score 0.2636942408199119 test Score 0.20417001172702132\n"
     ]
    },
    {
     "name": "stderr",
     "output_type": "stream",
     "text": [
      "\r",
      " 67%|████████████████████████████████████████████████████████                            | 2/3 [01:36<00:48, 48.46s/it]"
     ]
    },
    {
     "name": "stdout",
     "output_type": "stream",
     "text": [
      "min_samples_split =  4 max_depth= 10 Train Score 0.36781440275942456 test Score 0.15452942123464108\n",
      "min_samples_split =  6 max_depth= 3 Train Score 0.1780178730086619 test Score 0.17443762834208054\n",
      "min_samples_split =  6 max_depth= 5 Train Score 0.21910876195305673 test Score 0.20850255104343995\n",
      "min_samples_split =  6 max_depth= 7 Train Score 0.2636942408199119 test Score 0.20417001172702132\n"
     ]
    },
    {
     "name": "stderr",
     "output_type": "stream",
     "text": [
      "100%|████████████████████████████████████████████████████████████████████████████████████| 3/3 [02:32<00:00, 50.82s/it]"
     ]
    },
    {
     "name": "stdout",
     "output_type": "stream",
     "text": [
      "min_samples_split =  6 max_depth= 10 Train Score 0.3677625112834526 test Score 0.15396743065102192\n"
     ]
    },
    {
     "name": "stderr",
     "output_type": "stream",
     "text": [
      "\n"
     ]
    }
   ],
   "source": [
    "min_samples_split = [2,4,6]\n",
    "max_depth=[3,5,7,10]\n",
    "train_scores = [];spl=[]\n",
    "test_scores = [];depth=[]\n",
    "for i in tqdm(min_samples_split):\n",
    "    for j in max_depth:\n",
    "        clf = DecisionTreeClassifier(class_weight='balanced',max_depth=j,min_samples_split=i,random_state=42)\n",
    "        spl.append(i)\n",
    "        depth.append(j)\n",
    "        clf.fit(X_imp_train,y_train)\n",
    "        train_sc = gini_roc(y_train,clf.predict_proba(X_imp_train)[:,1])\n",
    "        test_sc = gini_roc(y_test,clf.predict_proba(X_imp_test)[:,1])\n",
    "        test_scores.append(test_sc)\n",
    "        train_scores.append(train_sc)\n",
    "        print('min_samples_split = ',i,\"max_depth=\",j,'Train Score',train_sc,'test Score',test_sc)\n"
   ]
  },
  {
   "cell_type": "code",
   "execution_count": null,
   "metadata": {
    "id": "P31AjK70JaTm",
    "outputId": "c4bdbde0-d4bc-4511-f892-3fd76cb1533b"
   },
   "outputs": [
    {
     "data": {
      "text/html": [
       "<div>\n",
       "<style scoped>\n",
       "    .dataframe tbody tr th:only-of-type {\n",
       "        vertical-align: middle;\n",
       "    }\n",
       "\n",
       "    .dataframe tbody tr th {\n",
       "        vertical-align: top;\n",
       "    }\n",
       "\n",
       "    .dataframe thead th {\n",
       "        text-align: right;\n",
       "    }\n",
       "</style>\n",
       "<table border=\"1\" class=\"dataframe\">\n",
       "  <thead>\n",
       "    <tr style=\"text-align: right;\">\n",
       "      <th></th>\n",
       "      <th>Min.samples split</th>\n",
       "      <th>Depth</th>\n",
       "      <th>train_score</th>\n",
       "      <th>test_score</th>\n",
       "    </tr>\n",
       "  </thead>\n",
       "  <tbody>\n",
       "    <tr>\n",
       "      <th>0</th>\n",
       "      <td>2</td>\n",
       "      <td>3</td>\n",
       "      <td>0.178018</td>\n",
       "      <td>0.174438</td>\n",
       "    </tr>\n",
       "    <tr>\n",
       "      <th>1</th>\n",
       "      <td>2</td>\n",
       "      <td>5</td>\n",
       "      <td>0.219109</td>\n",
       "      <td>0.208503</td>\n",
       "    </tr>\n",
       "    <tr>\n",
       "      <th>2</th>\n",
       "      <td>2</td>\n",
       "      <td>7</td>\n",
       "      <td>0.263694</td>\n",
       "      <td>0.204170</td>\n",
       "    </tr>\n",
       "    <tr>\n",
       "      <th>3</th>\n",
       "      <td>2</td>\n",
       "      <td>10</td>\n",
       "      <td>0.367851</td>\n",
       "      <td>0.153793</td>\n",
       "    </tr>\n",
       "    <tr>\n",
       "      <th>4</th>\n",
       "      <td>4</td>\n",
       "      <td>3</td>\n",
       "      <td>0.178018</td>\n",
       "      <td>0.174438</td>\n",
       "    </tr>\n",
       "    <tr>\n",
       "      <th>5</th>\n",
       "      <td>4</td>\n",
       "      <td>5</td>\n",
       "      <td>0.219109</td>\n",
       "      <td>0.208503</td>\n",
       "    </tr>\n",
       "    <tr>\n",
       "      <th>6</th>\n",
       "      <td>4</td>\n",
       "      <td>7</td>\n",
       "      <td>0.263694</td>\n",
       "      <td>0.204170</td>\n",
       "    </tr>\n",
       "    <tr>\n",
       "      <th>7</th>\n",
       "      <td>4</td>\n",
       "      <td>10</td>\n",
       "      <td>0.367814</td>\n",
       "      <td>0.154529</td>\n",
       "    </tr>\n",
       "    <tr>\n",
       "      <th>8</th>\n",
       "      <td>6</td>\n",
       "      <td>3</td>\n",
       "      <td>0.178018</td>\n",
       "      <td>0.174438</td>\n",
       "    </tr>\n",
       "    <tr>\n",
       "      <th>9</th>\n",
       "      <td>6</td>\n",
       "      <td>5</td>\n",
       "      <td>0.219109</td>\n",
       "      <td>0.208503</td>\n",
       "    </tr>\n",
       "    <tr>\n",
       "      <th>10</th>\n",
       "      <td>6</td>\n",
       "      <td>7</td>\n",
       "      <td>0.263694</td>\n",
       "      <td>0.204170</td>\n",
       "    </tr>\n",
       "    <tr>\n",
       "      <th>11</th>\n",
       "      <td>6</td>\n",
       "      <td>10</td>\n",
       "      <td>0.367763</td>\n",
       "      <td>0.153967</td>\n",
       "    </tr>\n",
       "  </tbody>\n",
       "</table>\n",
       "</div>"
      ],
      "text/plain": [
       "    Min.samples split  Depth  train_score  test_score\n",
       "0                   2      3     0.178018    0.174438\n",
       "1                   2      5     0.219109    0.208503\n",
       "2                   2      7     0.263694    0.204170\n",
       "3                   2     10     0.367851    0.153793\n",
       "4                   4      3     0.178018    0.174438\n",
       "5                   4      5     0.219109    0.208503\n",
       "6                   4      7     0.263694    0.204170\n",
       "7                   4     10     0.367814    0.154529\n",
       "8                   6      3     0.178018    0.174438\n",
       "9                   6      5     0.219109    0.208503\n",
       "10                  6      7     0.263694    0.204170\n",
       "11                  6     10     0.367763    0.153967"
      ]
     },
     "execution_count": 26,
     "metadata": {
      "tags": []
     },
     "output_type": "execute_result"
    }
   ],
   "source": [
    "data={'Min.samples split':spl,'Depth':depth,'train_score':train_scores,'test_score':test_scores}\n",
    "result=pd.DataFrame(data)\n",
    "result"
   ]
  },
  {
   "cell_type": "code",
   "execution_count": null,
   "metadata": {
    "id": "puZErw1NJaTm",
    "outputId": "65b1ef5b-0c2e-4e83-e86e-edee60d1fe34"
   },
   "outputs": [
    {
     "data": {
      "image/png": "[encoded data removed]",
      "text/plain": [
       "<Figure size 432x288 with 2 Axes>"
      ]
     },
     "metadata": {
      "tags": []
     },
     "output_type": "display_data"
    }
   ],
   "source": [
    "# Heatmap between scores,depth and estimators\n",
    "\n",
    "max_scores = result.groupby(['Min.samples split', 'Depth']).max()\n",
    "max_scores = max_scores.unstack()[['test_score', 'train_score']]\n",
    "sns.heatmap(max_scores.test_score, annot=True, fmt='.4g');\n"
   ]
  },
  {
   "cell_type": "code",
   "execution_count": null,
   "metadata": {
    "id": "Q2ryvk_dJaTn",
    "outputId": "0584d936-4167-43a0-8f3e-55e594caf578"
   },
   "outputs": [
    {
     "name": "stdout",
     "output_type": "stream",
     "text": [
      "The train gini score is  0.21910876195305673 \n",
      " The test gini score is  0.20850255104343995\n"
     ]
    }
   ],
   "source": [
    "best_depth=5\n",
    "best_min_sample=2\n",
    "\n",
    "clf = DecisionTreeClassifier(class_weight='balanced',max_depth=best_depth,min_samples_split=best_min_sample,random_state=42)\n",
    "clf.fit(X_imp_train,y_train)\n",
    "train_sc = gini_roc(y_train,clf.predict_proba(X_imp_train)[:,1])\n",
    "test_sc = gini_roc(y_test,clf.predict_proba(X_imp_test)[:,1])\n",
    "\n",
    "print(\"The train gini score is \",train_sc, \"\\n The test gini score is \",test_sc)"
   ]
  },
  {
   "cell_type": "markdown",
   "metadata": {
    "id": "lT0xOoWhJaTn"
   },
   "source": [
    "#### Kaggle Score for Decision Tree"
   ]
  },
  {
   "cell_type": "markdown",
   "metadata": {
    "id": "0_vwIrPdJaTn"
   },
   "source": [
    "<img src=\"kaggle_test/Decision tree.png\">"
   ]
  },
  {
   "cell_type": "markdown",
   "metadata": {
    "id": "FvuncciNJaTn"
   },
   "source": [
    "### Random Forest"
   ]
  },
  {
   "cell_type": "code",
   "execution_count": null,
   "metadata": {
    "id": "dmxN8Z_nJaTn",
    "outputId": "4f02a601-49fd-43ef-fa87-daf6f6778dfb"
   },
   "outputs": [
    {
     "name": "stderr",
     "output_type": "stream",
     "text": [
      "\r",
      "  0%|                                                                                            | 0/4 [00:00<?, ?it/s]"
     ]
    },
    {
     "name": "stdout",
     "output_type": "stream",
     "text": [
      "Estimators =  50 max_depth= 5 Train Score 0.2577470484658424 test Score 0.24962224268646382\n",
      "Estimators =  50 max_depth= 7 Train Score 0.30646092759883814 test Score 0.2555978678110382\n"
     ]
    },
    {
     "name": "stderr",
     "output_type": "stream",
     "text": [
      "\r",
      " 25%|█████████████████████                                                               | 1/4 [01:33<04:41, 93.87s/it]"
     ]
    },
    {
     "name": "stdout",
     "output_type": "stream",
     "text": [
      "Estimators =  50 max_depth= 10 Train Score 0.45452751471688524 test Score 0.24830670844157643\n",
      "Estimators =  100 max_depth= 5 Train Score 0.2597769696402352 test Score 0.2504970215946387\n",
      "Estimators =  100 max_depth= 7 Train Score 0.3074268789829673 test Score 0.25661327130992895\n"
     ]
    },
    {
     "name": "stderr",
     "output_type": "stream",
     "text": [
      "\r",
      " 50%|█████████████████████████████████████████▌                                         | 2/4 [04:01<04:11, 125.62s/it]"
     ]
    },
    {
     "name": "stdout",
     "output_type": "stream",
     "text": [
      "Estimators =  100 max_depth= 10 Train Score 0.46297016760079446 test Score 0.25075613957194975\n",
      "Estimators =  250 max_depth= 5 Train Score 0.2599552748700156 test Score 0.2501123064876638\n",
      "Estimators =  250 max_depth= 7 Train Score 0.30742062492702393 test Score 0.2580158727201254\n"
     ]
    },
    {
     "name": "stderr",
     "output_type": "stream",
     "text": [
      "\r",
      " 75%|██████████████████████████████████████████████████████████████▎                    | 3/4 [09:50<03:47, 227.73s/it]"
     ]
    },
    {
     "name": "stdout",
     "output_type": "stream",
     "text": [
      "Estimators =  250 max_depth= 10 Train Score 0.46679323601093037 test Score 0.25244821353035984\n",
      "Estimators =  450 max_depth= 5 Train Score 0.2608301838150209 test Score 0.25142370543152115\n",
      "Estimators =  450 max_depth= 7 Train Score 0.3074680655133111 test Score 0.25715608732264617\n"
     ]
    },
    {
     "name": "stderr",
     "output_type": "stream",
     "text": [
      "100%|███████████████████████████████████████████████████████████████████████████████████| 4/4 [20:21<00:00, 305.30s/it]"
     ]
    },
    {
     "name": "stdout",
     "output_type": "stream",
     "text": [
      "Estimators =  450 max_depth= 10 Train Score 0.46726600110172534 test Score 0.25316139243192026\n"
     ]
    },
    {
     "name": "stderr",
     "output_type": "stream",
     "text": [
      "\n"
     ]
    }
   ],
   "source": [
    "estimators = [50,100,250,450]\n",
    "max_depth=[5,7,10]\n",
    "train_scores = [];Est=[]\n",
    "test_scores = [];depth=[]\n",
    "for i in tqdm(estimators):\n",
    "    for j in max_depth:\n",
    "        clf = RandomForestClassifier(class_weight='balanced',max_depth=j,max_features='auto',n_estimators=i,n_jobs=-1,random_state=42)\n",
    "        Est.append(i)\n",
    "        depth.append(j)\n",
    "        clf.fit(X_imp_train,y_train)\n",
    "        train_sc = gini_roc(y_train,clf.predict_proba(X_imp_train)[:,1])\n",
    "        test_sc = gini_roc(y_test,clf.predict_proba(X_imp_test)[:,1])\n",
    "        test_scores.append(test_sc)\n",
    "        train_scores.append(train_sc)\n",
    "        print('Estimators = ',i,\"max_depth=\",j,'Train Score',train_sc,'test Score',test_sc)\n"
   ]
  },
  {
   "cell_type": "code",
   "execution_count": null,
   "metadata": {
    "id": "d_lzmhb3JaTn",
    "outputId": "9ce51967-e348-466a-e0ce-23da1a3bc734"
   },
   "outputs": [
    {
     "data": {
      "text/html": [
       "<div>\n",
       "<style scoped>\n",
       "    .dataframe tbody tr th:only-of-type {\n",
       "        vertical-align: middle;\n",
       "    }\n",
       "\n",
       "    .dataframe tbody tr th {\n",
       "        vertical-align: top;\n",
       "    }\n",
       "\n",
       "    .dataframe thead th {\n",
       "        text-align: right;\n",
       "    }\n",
       "</style>\n",
       "<table border=\"1\" class=\"dataframe\">\n",
       "  <thead>\n",
       "    <tr style=\"text-align: right;\">\n",
       "      <th></th>\n",
       "      <th>Estimators</th>\n",
       "      <th>Depth</th>\n",
       "      <th>train_score</th>\n",
       "      <th>test_score</th>\n",
       "    </tr>\n",
       "  </thead>\n",
       "  <tbody>\n",
       "    <tr>\n",
       "      <th>0</th>\n",
       "      <td>50</td>\n",
       "      <td>5</td>\n",
       "      <td>0.257747</td>\n",
       "      <td>0.249622</td>\n",
       "    </tr>\n",
       "    <tr>\n",
       "      <th>1</th>\n",
       "      <td>50</td>\n",
       "      <td>7</td>\n",
       "      <td>0.306461</td>\n",
       "      <td>0.255598</td>\n",
       "    </tr>\n",
       "    <tr>\n",
       "      <th>2</th>\n",
       "      <td>50</td>\n",
       "      <td>10</td>\n",
       "      <td>0.454528</td>\n",
       "      <td>0.248307</td>\n",
       "    </tr>\n",
       "    <tr>\n",
       "      <th>3</th>\n",
       "      <td>100</td>\n",
       "      <td>5</td>\n",
       "      <td>0.259777</td>\n",
       "      <td>0.250497</td>\n",
       "    </tr>\n",
       "    <tr>\n",
       "      <th>4</th>\n",
       "      <td>100</td>\n",
       "      <td>7</td>\n",
       "      <td>0.307427</td>\n",
       "      <td>0.256613</td>\n",
       "    </tr>\n",
       "    <tr>\n",
       "      <th>5</th>\n",
       "      <td>100</td>\n",
       "      <td>10</td>\n",
       "      <td>0.462970</td>\n",
       "      <td>0.250756</td>\n",
       "    </tr>\n",
       "    <tr>\n",
       "      <th>6</th>\n",
       "      <td>250</td>\n",
       "      <td>5</td>\n",
       "      <td>0.259955</td>\n",
       "      <td>0.250112</td>\n",
       "    </tr>\n",
       "    <tr>\n",
       "      <th>7</th>\n",
       "      <td>250</td>\n",
       "      <td>7</td>\n",
       "      <td>0.307421</td>\n",
       "      <td>0.258016</td>\n",
       "    </tr>\n",
       "    <tr>\n",
       "      <th>8</th>\n",
       "      <td>250</td>\n",
       "      <td>10</td>\n",
       "      <td>0.466793</td>\n",
       "      <td>0.252448</td>\n",
       "    </tr>\n",
       "    <tr>\n",
       "      <th>9</th>\n",
       "      <td>450</td>\n",
       "      <td>5</td>\n",
       "      <td>0.260830</td>\n",
       "      <td>0.251424</td>\n",
       "    </tr>\n",
       "    <tr>\n",
       "      <th>10</th>\n",
       "      <td>450</td>\n",
       "      <td>7</td>\n",
       "      <td>0.307468</td>\n",
       "      <td>0.257156</td>\n",
       "    </tr>\n",
       "    <tr>\n",
       "      <th>11</th>\n",
       "      <td>450</td>\n",
       "      <td>10</td>\n",
       "      <td>0.467266</td>\n",
       "      <td>0.253161</td>\n",
       "    </tr>\n",
       "  </tbody>\n",
       "</table>\n",
       "</div>"
      ],
      "text/plain": [
       "    Estimators  Depth  train_score  test_score\n",
       "0           50      5     0.257747    0.249622\n",
       "1           50      7     0.306461    0.255598\n",
       "2           50     10     0.454528    0.248307\n",
       "3          100      5     0.259777    0.250497\n",
       "4          100      7     0.307427    0.256613\n",
       "5          100     10     0.462970    0.250756\n",
       "6          250      5     0.259955    0.250112\n",
       "7          250      7     0.307421    0.258016\n",
       "8          250     10     0.466793    0.252448\n",
       "9          450      5     0.260830    0.251424\n",
       "10         450      7     0.307468    0.257156\n",
       "11         450     10     0.467266    0.253161"
      ]
     },
     "execution_count": 15,
     "metadata": {
      "tags": []
     },
     "output_type": "execute_result"
    }
   ],
   "source": [
    "data={'Estimators':Est,'Depth':depth,'train_score':train_scores,'test_score':test_scores}\n",
    "result=pd.DataFrame(data)\n",
    "result"
   ]
  },
  {
   "cell_type": "code",
   "execution_count": null,
   "metadata": {
    "id": "d1jEgKOfJaTo",
    "outputId": "7c45cb60-37c3-444a-cc23-c6df687f6243"
   },
   "outputs": [
    {
     "data": {
      "image/png": "[encoded data removed]",
      "text/plain": [
       "<Figure size 432x288 with 2 Axes>"
      ]
     },
     "metadata": {
      "tags": []
     },
     "output_type": "display_data"
    }
   ],
   "source": [
    "# Heatmap between scores,depth and estimators\n",
    "\n",
    "max_scores = result.groupby(['Estimators', 'Depth']).max()\n",
    "max_scores = max_scores.unstack()[['test_score', 'train_score']]\n",
    "sns.heatmap(max_scores.test_score, annot=True, fmt='.4g');\n"
   ]
  },
  {
   "cell_type": "code",
   "execution_count": null,
   "metadata": {
    "id": "pXQlBwyDJaTo",
    "outputId": "83fd9c63-8ef1-48fc-f9ac-cb2e282034bb"
   },
   "outputs": [
    {
     "name": "stdout",
     "output_type": "stream",
     "text": [
      "The train gini score is  0.30742062492702393 \n",
      " The test gini score is  0.2580158727201254\n"
     ]
    }
   ],
   "source": [
    "best_depth=7\n",
    "best_estimator=250\n",
    "\n",
    "clf = RandomForestClassifier(class_weight='balanced',max_depth=best_depth,max_features='auto',\n",
    "                             n_estimators=best_estimator,n_jobs=-1,random_state=42)\n",
    "clf.fit(X_imp_train,y_train)\n",
    "train_sc = gini_roc(y_train,clf.predict_proba(X_imp_train)[:,1])\n",
    "test_sc = gini_roc(y_test,clf.predict_proba(X_imp_test)[:,1])\n",
    "\n",
    "print(\"The train gini score is \",train_sc, \"\\n The test gini score is \",test_sc)"
   ]
  },
  {
   "cell_type": "markdown",
   "metadata": {
    "id": "6ZXy7rr2JaTo"
   },
   "source": [
    "#### Kaggle Score for Random Forest"
   ]
  },
  {
   "cell_type": "markdown",
   "metadata": {
    "id": "xp3QSuBKJaTo"
   },
   "source": [
    "<img src=\"kaggle_test/random forest.png\">"
   ]
  },
  {
   "cell_type": "markdown",
   "metadata": {
    "id": "wLL6a-A6JaTo"
   },
   "source": [
    "### GBDT "
   ]
  },
  {
   "cell_type": "code",
   "execution_count": null,
   "metadata": {
    "id": "QymND1unJaTo",
    "outputId": "f0581404-484b-4737-b996-bb56be89e56b"
   },
   "outputs": [
    {
     "data": {
      "text/plain": [
       "5.141660248075436"
      ]
     },
     "execution_count": 14,
     "metadata": {
      "tags": []
     },
     "output_type": "execute_result"
    }
   ],
   "source": [
    "scale=np.sqrt(y_train.eq(0).sum()/y_train.eq(1).sum())\n",
    "scale"
   ]
  },
  {
   "cell_type": "code",
   "execution_count": null,
   "metadata": {
    "id": "wLp6AobvJaTp",
    "outputId": "543c4778-cf3b-4892-b9e8-ec3e7e2fa211"
   },
   "outputs": [
    {
     "name": "stderr",
     "output_type": "stream",
     "text": [
      "\r",
      "  0%|                                                                                            | 0/3 [00:00<?, ?it/s]"
     ]
    },
    {
     "name": "stdout",
     "output_type": "stream",
     "text": [
      "Estimators =  100 max_depth= 1 Train Score 0.25220049777504805 test Score 0.26104614721468433\n",
      "Estimators =  100 max_depth= 2 Train Score 0.2804311430146027 test Score 0.275869613121569\n",
      "Estimators =  100 max_depth= 5 Train Score 0.4028097056241202 test Score 0.28002637446728484\n"
     ]
    },
    {
     "name": "stderr",
     "output_type": "stream",
     "text": [
      "\r",
      " 33%|███████████████████████████▋                                                       | 1/3 [03:41<07:22, 221.44s/it]"
     ]
    },
    {
     "name": "stdout",
     "output_type": "stream",
     "text": [
      "Estimators =  100 max_depth= 7 Train Score 0.5789321458018035 test Score 0.2667406456743302\n",
      "Estimators =  200 max_depth= 1 Train Score 0.2655846675414091 test Score 0.2705253384208621\n",
      "Estimators =  200 max_depth= 2 Train Score 0.2969013755224892 test Score 0.2787756411202109\n",
      "Estimators =  200 max_depth= 5 Train Score 0.4806227756680366 test Score 0.2719443644230852\n"
     ]
    },
    {
     "name": "stderr",
     "output_type": "stream",
     "text": [
      "\r",
      " 67%|███████████████████████████████████████████████████████▎                           | 2/3 [10:04<05:16, 316.65s/it]"
     ]
    },
    {
     "name": "stdout",
     "output_type": "stream",
     "text": [
      "Estimators =  200 max_depth= 7 Train Score 0.7139231088744866 test Score 0.250984978259583\n",
      "Estimators =  500 max_depth= 1 Train Score 0.2777461826201757 test Score 0.27371449984572105\n",
      "Estimators =  500 max_depth= 2 Train Score 0.32535032401878006 test Score 0.27954872468773884\n",
      "Estimators =  500 max_depth= 5 Train Score 0.6446855824357582 test Score 0.2516865107127668\n"
     ]
    },
    {
     "name": "stderr",
     "output_type": "stream",
     "text": [
      "100%|███████████████████████████████████████████████████████████████████████████████████| 3/3 [25:40<00:00, 513.34s/it]"
     ]
    },
    {
     "name": "stdout",
     "output_type": "stream",
     "text": [
      "Estimators =  500 max_depth= 7 Train Score 0.896148471159186 test Score 0.21998485830337877\n"
     ]
    },
    {
     "name": "stderr",
     "output_type": "stream",
     "text": [
      "\n"
     ]
    }
   ],
   "source": [
    "max_depth= [1,2,5,7];n_estimators=[100,200,500]\n",
    "train_scores = [];Est=[]\n",
    "test_scores = [];depth=[]\n",
    "\n",
    "\n",
    "for i in tqdm(n_estimators):\n",
    "    for j in max_depth:\n",
    "        Est.append(i)\n",
    "        depth.append(j)\n",
    "        clf = XGBClassifier(class_weight='balanced',max_depth=j,n_estimators=i,n_jobs=-1,random_state=42,scale_pos_weight=scale)\n",
    "        clf.fit(X_imp_train,y_train)\n",
    "        train_sc = gini_roc(y_train,clf.predict_proba(X_imp_train)[:,1])\n",
    "        test_sc = gini_roc(y_test,clf.predict_proba(X_imp_test)[:,1])\n",
    "        test_scores.append(test_sc)\n",
    "        train_scores.append(train_sc)\n",
    "        print('Estimators = ',i,\"max_depth=\",j,'Train Score',train_sc,'test Score',test_sc)"
   ]
  },
  {
   "cell_type": "code",
   "execution_count": null,
   "metadata": {
    "id": "VOcejfPTJaTp",
    "outputId": "5523e026-a6a4-496a-e99a-466038962dcb"
   },
   "outputs": [
    {
     "data": {
      "text/html": [
       "<div>\n",
       "<style scoped>\n",
       "    .dataframe tbody tr th:only-of-type {\n",
       "        vertical-align: middle;\n",
       "    }\n",
       "\n",
       "    .dataframe tbody tr th {\n",
       "        vertical-align: top;\n",
       "    }\n",
       "\n",
       "    .dataframe thead th {\n",
       "        text-align: right;\n",
       "    }\n",
       "</style>\n",
       "<table border=\"1\" class=\"dataframe\">\n",
       "  <thead>\n",
       "    <tr style=\"text-align: right;\">\n",
       "      <th></th>\n",
       "      <th>Estimators</th>\n",
       "      <th>Depth</th>\n",
       "      <th>train_score</th>\n",
       "      <th>test_score</th>\n",
       "    </tr>\n",
       "  </thead>\n",
       "  <tbody>\n",
       "    <tr>\n",
       "      <th>0</th>\n",
       "      <td>100</td>\n",
       "      <td>1</td>\n",
       "      <td>0.252200</td>\n",
       "      <td>0.261046</td>\n",
       "    </tr>\n",
       "    <tr>\n",
       "      <th>1</th>\n",
       "      <td>100</td>\n",
       "      <td>2</td>\n",
       "      <td>0.280431</td>\n",
       "      <td>0.275870</td>\n",
       "    </tr>\n",
       "    <tr>\n",
       "      <th>2</th>\n",
       "      <td>100</td>\n",
       "      <td>5</td>\n",
       "      <td>0.402810</td>\n",
       "      <td>0.280026</td>\n",
       "    </tr>\n",
       "    <tr>\n",
       "      <th>3</th>\n",
       "      <td>100</td>\n",
       "      <td>7</td>\n",
       "      <td>0.578932</td>\n",
       "      <td>0.266741</td>\n",
       "    </tr>\n",
       "    <tr>\n",
       "      <th>4</th>\n",
       "      <td>200</td>\n",
       "      <td>1</td>\n",
       "      <td>0.265585</td>\n",
       "      <td>0.270525</td>\n",
       "    </tr>\n",
       "    <tr>\n",
       "      <th>5</th>\n",
       "      <td>200</td>\n",
       "      <td>2</td>\n",
       "      <td>0.296901</td>\n",
       "      <td>0.278776</td>\n",
       "    </tr>\n",
       "    <tr>\n",
       "      <th>6</th>\n",
       "      <td>200</td>\n",
       "      <td>5</td>\n",
       "      <td>0.480623</td>\n",
       "      <td>0.271944</td>\n",
       "    </tr>\n",
       "    <tr>\n",
       "      <th>7</th>\n",
       "      <td>200</td>\n",
       "      <td>7</td>\n",
       "      <td>0.713923</td>\n",
       "      <td>0.250985</td>\n",
       "    </tr>\n",
       "    <tr>\n",
       "      <th>8</th>\n",
       "      <td>500</td>\n",
       "      <td>1</td>\n",
       "      <td>0.277746</td>\n",
       "      <td>0.273714</td>\n",
       "    </tr>\n",
       "    <tr>\n",
       "      <th>9</th>\n",
       "      <td>500</td>\n",
       "      <td>2</td>\n",
       "      <td>0.325350</td>\n",
       "      <td>0.279549</td>\n",
       "    </tr>\n",
       "    <tr>\n",
       "      <th>10</th>\n",
       "      <td>500</td>\n",
       "      <td>5</td>\n",
       "      <td>0.644686</td>\n",
       "      <td>0.251687</td>\n",
       "    </tr>\n",
       "    <tr>\n",
       "      <th>11</th>\n",
       "      <td>500</td>\n",
       "      <td>7</td>\n",
       "      <td>0.896148</td>\n",
       "      <td>0.219985</td>\n",
       "    </tr>\n",
       "  </tbody>\n",
       "</table>\n",
       "</div>"
      ],
      "text/plain": [
       "    Estimators  Depth  train_score  test_score\n",
       "0          100      1     0.252200    0.261046\n",
       "1          100      2     0.280431    0.275870\n",
       "2          100      5     0.402810    0.280026\n",
       "3          100      7     0.578932    0.266741\n",
       "4          200      1     0.265585    0.270525\n",
       "5          200      2     0.296901    0.278776\n",
       "6          200      5     0.480623    0.271944\n",
       "7          200      7     0.713923    0.250985\n",
       "8          500      1     0.277746    0.273714\n",
       "9          500      2     0.325350    0.279549\n",
       "10         500      5     0.644686    0.251687\n",
       "11         500      7     0.896148    0.219985"
      ]
     },
     "execution_count": 39,
     "metadata": {
      "tags": []
     },
     "output_type": "execute_result"
    }
   ],
   "source": [
    "data_xgb={'Estimators':Est,'Depth':depth,'train_score':train_scores,'test_score':test_scores}\n",
    "result1=pd.DataFrame(data_xgb)\n",
    "result1"
   ]
  },
  {
   "cell_type": "code",
   "execution_count": null,
   "metadata": {
    "id": "AUYjuboSJaTp",
    "outputId": "f8f128cd-2273-447c-f494-9603c2ba9ba9"
   },
   "outputs": [
    {
     "data": {
      "image/png": "[encoded data removed]",
      "text/plain": [
       "<Figure size 432x288 with 2 Axes>"
      ]
     },
     "metadata": {
      "tags": []
     },
     "output_type": "display_data"
    }
   ],
   "source": [
    "# Heatmap between scores,depth and estimators\n",
    "\n",
    "max_scores = result1.groupby(['Estimators', 'Depth']).max()\n",
    "max_scores = max_scores.unstack()[['test_score', 'train_score']]\n",
    "sns.heatmap(max_scores.test_score, annot=True, fmt='.4g');\n"
   ]
  },
  {
   "cell_type": "code",
   "execution_count": null,
   "metadata": {
    "id": "UmDwaDsLJaTp",
    "outputId": "3196f990-e928-49a3-d5cc-81ecca0db684"
   },
   "outputs": [
    {
     "name": "stdout",
     "output_type": "stream",
     "text": [
      "The train gini score is  0.2969013755224892 \n",
      "The test gini score is  0.2787756411202109\n"
     ]
    }
   ],
   "source": [
    "Estimators =  200;max_depth= 2\n",
    "clf = XGBClassifier(class_weight='balanced',max_depth=2,n_estimators=200,n_jobs=-1,random_state=42,scale_pos_weight=scale)\n",
    "clf.fit(X_imp_train,y_train)\n",
    "train_sc = gini_roc(y_train,clf.predict_proba(X_imp_train)[:,1])\n",
    "test_sc = gini_roc(y_test,clf.predict_proba(X_imp_test)[:,1])\n",
    "\n",
    "print(\"The train gini score is \",train_sc, \"\\nThe test gini score is \",test_sc)"
   ]
  },
  {
   "cell_type": "markdown",
   "metadata": {
    "id": "I_RN4-SZJaTq"
   },
   "source": [
    "#### Kaggle Score for GBDT"
   ]
  },
  {
   "cell_type": "markdown",
   "metadata": {
    "id": "11gAMZt2JaTq"
   },
   "source": [
    "<img src=\"kaggle_test/gbdt.png\">"
   ]
  },
  {
   "cell_type": "markdown",
   "metadata": {
    "id": "nZAphy2lJaTq"
   },
   "source": [
    "### GBDT using Light GBM "
   ]
  },
  {
   "cell_type": "code",
   "execution_count": null,
   "metadata": {
    "id": "7RTZkENLJaTq",
    "outputId": "024765bb-cf70-46cc-cb80-0205a77469da"
   },
   "outputs": [
    {
     "name": "stderr",
     "output_type": "stream",
     "text": [
      "\r",
      "  0%|                                                                                            | 0/4 [00:00<?, ?it/s]"
     ]
    },
    {
     "name": "stdout",
     "output_type": "stream",
     "text": [
      "Estimators =  100 max_depth= 1 Train Score 0.25288905232511416 test Score 0.260962577674144\n",
      "Estimators =  100 max_depth= 2 Train Score 0.2811363847753183 test Score 0.27542216070801406\n"
     ]
    },
    {
     "name": "stderr",
     "output_type": "stream",
     "text": [
      "\r",
      " 25%|█████████████████████                                                               | 1/4 [00:19<00:59, 19.82s/it]"
     ]
    },
    {
     "name": "stdout",
     "output_type": "stream",
     "text": [
      "Estimators =  100 max_depth= 5 Train Score 0.40978856368057603 test Score 0.26822001843520593\n",
      "Estimators =  200 max_depth= 1 Train Score 0.2653142230403629 test Score 0.2699320005874386\n",
      "Estimators =  200 max_depth= 2 Train Score 0.297083636581414 test Score 0.27877066370272985\n"
     ]
    },
    {
     "name": "stderr",
     "output_type": "stream",
     "text": [
      "\r",
      " 50%|██████████████████████████████████████████                                          | 2/4 [00:44<00:45, 22.71s/it]"
     ]
    },
    {
     "name": "stdout",
     "output_type": "stream",
     "text": [
      "Estimators =  200 max_depth= 5 Train Score 0.4928835431338583 test Score 0.2552395719858189\n",
      "Estimators =  500 max_depth= 1 Train Score 0.2773362776848609 test Score 0.27321751829036156\n",
      "Estimators =  500 max_depth= 2 Train Score 0.32609262764087976 test Score 0.27780452733745764\n"
     ]
    },
    {
     "name": "stderr",
     "output_type": "stream",
     "text": [
      "\r",
      " 75%|███████████████████████████████████████████████████████████████                     | 3/4 [01:26<00:31, 31.28s/it]"
     ]
    },
    {
     "name": "stdout",
     "output_type": "stream",
     "text": [
      "Estimators =  500 max_depth= 5 Train Score 0.6755159601300944 test Score 0.2291017903492436\n",
      "Estimators =  750 max_depth= 1 Train Score 0.2817727918144852 test Score 0.2735619992726963\n",
      "Estimators =  750 max_depth= 2 Train Score 0.3443733577793333 test Score 0.2758894379156027\n"
     ]
    },
    {
     "name": "stderr",
     "output_type": "stream",
     "text": [
      "100%|████████████████████████████████████████████████████████████████████████████████████| 4/4 [02:20<00:00, 35.12s/it]"
     ]
    },
    {
     "name": "stdout",
     "output_type": "stream",
     "text": [
      "Estimators =  750 max_depth= 5 Train Score 0.7729358557962376 test Score 0.21129008713158992\n"
     ]
    },
    {
     "name": "stderr",
     "output_type": "stream",
     "text": [
      "\n"
     ]
    }
   ],
   "source": [
    "\n",
    "max_depth= [1,2,5];n_estimators=[100,200,500,750]\n",
    "train_scores = [];Est=[]\n",
    "test_scores = [];depth=[]\n",
    "\n",
    "\n",
    "for i in tqdm(n_estimators):\n",
    "    for j in max_depth:\n",
    "        Est.append(i)\n",
    "        depth.append(j)\n",
    "        clf = LGBMClassifier(class_weight='balanced',max_depth=j,n_estimators=i,n_jobs=-1,random_state=42)\n",
    "        clf.fit(X_imp_train,y_train)\n",
    "        train_sc = gini_roc(y_train,clf.predict_proba(X_imp_train)[:,1])\n",
    "        test_sc = gini_roc(y_test,clf.predict_proba(X_imp_test)[:,1])\n",
    "        test_scores.append(test_sc)\n",
    "        train_scores.append(train_sc)\n",
    "        print('Estimators = ',i,\"max_depth=\",j,'Train Score',train_sc,'test Score',test_sc)"
   ]
  },
  {
   "cell_type": "code",
   "execution_count": null,
   "metadata": {
    "id": "CXcAWyWtJaTq",
    "outputId": "d7de4ebd-635e-4bf7-b7e2-4ccbfc45f873"
   },
   "outputs": [
    {
     "data": {
      "text/html": [
       "<div>\n",
       "<style scoped>\n",
       "    .dataframe tbody tr th:only-of-type {\n",
       "        vertical-align: middle;\n",
       "    }\n",
       "\n",
       "    .dataframe tbody tr th {\n",
       "        vertical-align: top;\n",
       "    }\n",
       "\n",
       "    .dataframe thead th {\n",
       "        text-align: right;\n",
       "    }\n",
       "</style>\n",
       "<table border=\"1\" class=\"dataframe\">\n",
       "  <thead>\n",
       "    <tr style=\"text-align: right;\">\n",
       "      <th></th>\n",
       "      <th>Estimators</th>\n",
       "      <th>Depth</th>\n",
       "      <th>train_score</th>\n",
       "      <th>test_score</th>\n",
       "    </tr>\n",
       "  </thead>\n",
       "  <tbody>\n",
       "    <tr>\n",
       "      <th>0</th>\n",
       "      <td>100</td>\n",
       "      <td>1</td>\n",
       "      <td>0.252889</td>\n",
       "      <td>0.260963</td>\n",
       "    </tr>\n",
       "    <tr>\n",
       "      <th>1</th>\n",
       "      <td>100</td>\n",
       "      <td>2</td>\n",
       "      <td>0.281136</td>\n",
       "      <td>0.275422</td>\n",
       "    </tr>\n",
       "    <tr>\n",
       "      <th>2</th>\n",
       "      <td>100</td>\n",
       "      <td>5</td>\n",
       "      <td>0.409789</td>\n",
       "      <td>0.268220</td>\n",
       "    </tr>\n",
       "    <tr>\n",
       "      <th>3</th>\n",
       "      <td>200</td>\n",
       "      <td>1</td>\n",
       "      <td>0.265314</td>\n",
       "      <td>0.269932</td>\n",
       "    </tr>\n",
       "    <tr>\n",
       "      <th>4</th>\n",
       "      <td>200</td>\n",
       "      <td>2</td>\n",
       "      <td>0.297084</td>\n",
       "      <td>0.278771</td>\n",
       "    </tr>\n",
       "    <tr>\n",
       "      <th>5</th>\n",
       "      <td>200</td>\n",
       "      <td>5</td>\n",
       "      <td>0.492884</td>\n",
       "      <td>0.255240</td>\n",
       "    </tr>\n",
       "    <tr>\n",
       "      <th>6</th>\n",
       "      <td>500</td>\n",
       "      <td>1</td>\n",
       "      <td>0.277336</td>\n",
       "      <td>0.273218</td>\n",
       "    </tr>\n",
       "    <tr>\n",
       "      <th>7</th>\n",
       "      <td>500</td>\n",
       "      <td>2</td>\n",
       "      <td>0.326093</td>\n",
       "      <td>0.277805</td>\n",
       "    </tr>\n",
       "    <tr>\n",
       "      <th>8</th>\n",
       "      <td>500</td>\n",
       "      <td>5</td>\n",
       "      <td>0.675516</td>\n",
       "      <td>0.229102</td>\n",
       "    </tr>\n",
       "    <tr>\n",
       "      <th>9</th>\n",
       "      <td>750</td>\n",
       "      <td>1</td>\n",
       "      <td>0.281773</td>\n",
       "      <td>0.273562</td>\n",
       "    </tr>\n",
       "    <tr>\n",
       "      <th>10</th>\n",
       "      <td>750</td>\n",
       "      <td>2</td>\n",
       "      <td>0.344373</td>\n",
       "      <td>0.275889</td>\n",
       "    </tr>\n",
       "    <tr>\n",
       "      <th>11</th>\n",
       "      <td>750</td>\n",
       "      <td>5</td>\n",
       "      <td>0.772936</td>\n",
       "      <td>0.211290</td>\n",
       "    </tr>\n",
       "  </tbody>\n",
       "</table>\n",
       "</div>"
      ],
      "text/plain": [
       "    Estimators  Depth  train_score  test_score\n",
       "0          100      1     0.252889    0.260963\n",
       "1          100      2     0.281136    0.275422\n",
       "2          100      5     0.409789    0.268220\n",
       "3          200      1     0.265314    0.269932\n",
       "4          200      2     0.297084    0.278771\n",
       "5          200      5     0.492884    0.255240\n",
       "6          500      1     0.277336    0.273218\n",
       "7          500      2     0.326093    0.277805\n",
       "8          500      5     0.675516    0.229102\n",
       "9          750      1     0.281773    0.273562\n",
       "10         750      2     0.344373    0.275889\n",
       "11         750      5     0.772936    0.211290"
      ]
     },
     "execution_count": 63,
     "metadata": {
      "tags": []
     },
     "output_type": "execute_result"
    }
   ],
   "source": [
    "data_xgb={'Estimators':Est,'Depth':depth,'train_score':train_scores,'test_score':test_scores}\n",
    "result1=pd.DataFrame(data_xgb)\n",
    "result1"
   ]
  },
  {
   "cell_type": "code",
   "execution_count": null,
   "metadata": {
    "id": "HjLWqK6lJaTq",
    "outputId": "e6f8b6d4-80ac-4f4d-ddf0-86799b06e387"
   },
   "outputs": [
    {
     "data": {
      "image/png": "[encoded data removed]",
      "text/plain": [
       "<Figure size 432x288 with 2 Axes>"
      ]
     },
     "metadata": {
      "tags": []
     },
     "output_type": "display_data"
    }
   ],
   "source": [
    "# Heatmap between scores,depth and estimators\n",
    "\n",
    "max_scores = result1.groupby(['Estimators', 'Depth']).max()\n",
    "max_scores = max_scores.unstack()[['test_score', 'train_score']]\n",
    "sns.heatmap(max_scores.test_score, annot=True, fmt='.4g');\n"
   ]
  },
  {
   "cell_type": "code",
   "execution_count": null,
   "metadata": {
    "id": "PiIrnwoHJaTr",
    "outputId": "b097a62e-82cc-4418-ce22-094a4092ff39"
   },
   "outputs": [
    {
     "name": "stdout",
     "output_type": "stream",
     "text": [
      "The train gini score is  0.297083636581414 \n",
      "The test gini score is  0.27877066370272985\n"
     ]
    }
   ],
   "source": [
    "best_depth=2;best_estimator=200\n",
    "\n",
    "clf = LGBMClassifier(class_weight='balanced',max_depth=best_depth,n_estimators=best_estimator,random_state=42)\n",
    "clf.fit(X_imp_train,y_train)\n",
    "train_sc = gini_roc(y_train,clf.predict_proba(X_imp_train)[:,1])\n",
    "test_sc = gini_roc(y_test,clf.predict_proba(X_imp_test)[:,1])\n",
    "\n",
    "print(\"The train gini score is \",train_sc, \"\\nThe test gini score is \",test_sc)"
   ]
  },
  {
   "cell_type": "markdown",
   "metadata": {
    "id": "XQwObBEiJaTr"
   },
   "source": [
    "### Ada Boost Classifier"
   ]
  },
  {
   "cell_type": "code",
   "execution_count": null,
   "metadata": {
    "id": "6uZf03mtJaTr",
    "outputId": "dab5e0aa-e671-49fb-a0c9-50673dd2a2f3"
   },
   "outputs": [
    {
     "name": "stderr",
     "output_type": "stream",
     "text": [
      "\r",
      "  0%|                                                                                            | 0/3 [00:00<?, ?it/s]"
     ]
    },
    {
     "name": "stdout",
     "output_type": "stream",
     "text": [
      "Estimators =  100 learning_rate= 0.001 Train Score 0.12339146023557479 test Score 0.12759676137777687\n",
      "Estimators =  100 learning_rate= 0.1 Train Score 0.25310360207401117 test Score 0.26111758762134407\n",
      "Estimators =  100 learning_rate= 1 Train Score 0.28316227313104325 test Score 0.2637215932486925\n"
     ]
    },
    {
     "name": "stderr",
     "output_type": "stream",
     "text": [
      "\r",
      " 33%|███████████████████████████▎                                                      | 1/3 [25:04<50:08, 1504.42s/it]"
     ]
    },
    {
     "name": "stdout",
     "output_type": "stream",
     "text": [
      "Estimators =  100 learning_rate= 10 Train Score 0.08480787764395936 test Score 0.09327066006007767\n",
      "Estimators =  200 learning_rate= 0.001 Train Score 0.13324715627400363 test Score 0.1394523749488088\n",
      "Estimators =  200 learning_rate= 0.1 Train Score 0.2656737215022822 test Score 0.2701485123434628\n",
      "Estimators =  200 learning_rate= 1 Train Score 0.2946985715083603 test Score 0.26102324843728586\n"
     ]
    },
    {
     "name": "stderr",
     "output_type": "stream",
     "text": [
      "\r",
      " 67%|██████████████████████████████████████████████████████▋                           | 2/3 [52:18<26:20, 1580.86s/it]"
     ]
    },
    {
     "name": "stdout",
     "output_type": "stream",
     "text": [
      "Estimators =  200 learning_rate= 10 Train Score 0.08480787764395936 test Score 0.09327066006007767\n",
      "Estimators =  500 learning_rate= 0.001 Train Score 0.18182704266126204 test Score 0.1889956371496575\n",
      "Estimators =  500 learning_rate= 0.1 Train Score 0.27841419135210166 test Score 0.27254871619498333\n",
      "Estimators =  500 learning_rate= 1 Train Score 0.31187623138420273 test Score 0.2573805449381903\n",
      "Estimators =  500 learning_rate= 10 Train Score 0.08480787764395936 test Score 0.09327066006007767\n"
     ]
    },
    {
     "name": "stderr",
     "output_type": "stream",
     "text": [
      "100%|████████████████████████████████████████████████████████████████████████████████| 3/3 [2:05:40<00:00, 2513.45s/it]\n"
     ]
    }
   ],
   "source": [
    "\n",
    "\n",
    "learning_rate= [0.001,0.1,1,10];n_estimators=[100,200,500]\n",
    "train_scores = [];lr=[]\n",
    "test_scores = [];depth=[]\n",
    "\n",
    "\n",
    "for i in tqdm(n_estimators):\n",
    "    for j in learning_rate:\n",
    "        lr.append(i)\n",
    "        depth.append(j)\n",
    "        clf = AdaBoostClassifier(learning_rate=j,n_estimators=i,random_state=42)\n",
    "        clf.fit(X_imp_train,y_train)\n",
    "        train_sc = gini_roc(y_train,clf.predict_proba(X_imp_train)[:,1])\n",
    "        test_sc = gini_roc(y_test,clf.predict_proba(X_imp_test)[:,1])\n",
    "        test_scores.append(test_sc)\n",
    "        train_scores.append(train_sc)\n",
    "        print('Estimators = ',i,\"learning_rate=\",j,'Train Score',train_sc,'test Score',test_sc)"
   ]
  },
  {
   "cell_type": "code",
   "execution_count": null,
   "metadata": {
    "id": "0wmKdvY5JaTr",
    "outputId": "074a26ca-ff27-43d8-ce9e-fddd7d6d2bdd"
   },
   "outputs": [
    {
     "data": {
      "text/html": [
       "<div>\n",
       "<style scoped>\n",
       "    .dataframe tbody tr th:only-of-type {\n",
       "        vertical-align: middle;\n",
       "    }\n",
       "\n",
       "    .dataframe tbody tr th {\n",
       "        vertical-align: top;\n",
       "    }\n",
       "\n",
       "    .dataframe thead th {\n",
       "        text-align: right;\n",
       "    }\n",
       "</style>\n",
       "<table border=\"1\" class=\"dataframe\">\n",
       "  <thead>\n",
       "    <tr style=\"text-align: right;\">\n",
       "      <th></th>\n",
       "      <th>Estimators</th>\n",
       "      <th>learning_rate</th>\n",
       "      <th>train_score</th>\n",
       "      <th>test_score</th>\n",
       "    </tr>\n",
       "  </thead>\n",
       "  <tbody>\n",
       "    <tr>\n",
       "      <th>0</th>\n",
       "      <td>100</td>\n",
       "      <td>0.001</td>\n",
       "      <td>0.123391</td>\n",
       "      <td>0.127597</td>\n",
       "    </tr>\n",
       "    <tr>\n",
       "      <th>1</th>\n",
       "      <td>100</td>\n",
       "      <td>0.100</td>\n",
       "      <td>0.253104</td>\n",
       "      <td>0.261118</td>\n",
       "    </tr>\n",
       "    <tr>\n",
       "      <th>2</th>\n",
       "      <td>100</td>\n",
       "      <td>1.000</td>\n",
       "      <td>0.283162</td>\n",
       "      <td>0.263722</td>\n",
       "    </tr>\n",
       "    <tr>\n",
       "      <th>3</th>\n",
       "      <td>100</td>\n",
       "      <td>10.000</td>\n",
       "      <td>0.084808</td>\n",
       "      <td>0.093271</td>\n",
       "    </tr>\n",
       "    <tr>\n",
       "      <th>4</th>\n",
       "      <td>200</td>\n",
       "      <td>0.001</td>\n",
       "      <td>0.133247</td>\n",
       "      <td>0.139452</td>\n",
       "    </tr>\n",
       "    <tr>\n",
       "      <th>5</th>\n",
       "      <td>200</td>\n",
       "      <td>0.100</td>\n",
       "      <td>0.265674</td>\n",
       "      <td>0.270149</td>\n",
       "    </tr>\n",
       "    <tr>\n",
       "      <th>6</th>\n",
       "      <td>200</td>\n",
       "      <td>1.000</td>\n",
       "      <td>0.294699</td>\n",
       "      <td>0.261023</td>\n",
       "    </tr>\n",
       "    <tr>\n",
       "      <th>7</th>\n",
       "      <td>200</td>\n",
       "      <td>10.000</td>\n",
       "      <td>0.084808</td>\n",
       "      <td>0.093271</td>\n",
       "    </tr>\n",
       "    <tr>\n",
       "      <th>8</th>\n",
       "      <td>500</td>\n",
       "      <td>0.001</td>\n",
       "      <td>0.181827</td>\n",
       "      <td>0.188996</td>\n",
       "    </tr>\n",
       "    <tr>\n",
       "      <th>9</th>\n",
       "      <td>500</td>\n",
       "      <td>0.100</td>\n",
       "      <td>0.278414</td>\n",
       "      <td>0.272549</td>\n",
       "    </tr>\n",
       "    <tr>\n",
       "      <th>10</th>\n",
       "      <td>500</td>\n",
       "      <td>1.000</td>\n",
       "      <td>0.311876</td>\n",
       "      <td>0.257381</td>\n",
       "    </tr>\n",
       "    <tr>\n",
       "      <th>11</th>\n",
       "      <td>500</td>\n",
       "      <td>10.000</td>\n",
       "      <td>0.084808</td>\n",
       "      <td>0.093271</td>\n",
       "    </tr>\n",
       "  </tbody>\n",
       "</table>\n",
       "</div>"
      ],
      "text/plain": [
       "    Estimators  learning_rate  train_score  test_score\n",
       "0          100          0.001     0.123391    0.127597\n",
       "1          100          0.100     0.253104    0.261118\n",
       "2          100          1.000     0.283162    0.263722\n",
       "3          100         10.000     0.084808    0.093271\n",
       "4          200          0.001     0.133247    0.139452\n",
       "5          200          0.100     0.265674    0.270149\n",
       "6          200          1.000     0.294699    0.261023\n",
       "7          200         10.000     0.084808    0.093271\n",
       "8          500          0.001     0.181827    0.188996\n",
       "9          500          0.100     0.278414    0.272549\n",
       "10         500          1.000     0.311876    0.257381\n",
       "11         500         10.000     0.084808    0.093271"
      ]
     },
     "execution_count": 14,
     "metadata": {
      "tags": []
     },
     "output_type": "execute_result"
    }
   ],
   "source": [
    "data_ada={'Estimators':lr,'learning_rate':depth,'train_score':train_scores,'test_score':test_scores}\n",
    "result1=pd.DataFrame(data_ada)\n",
    "result1"
   ]
  },
  {
   "cell_type": "code",
   "execution_count": null,
   "metadata": {
    "id": "bLfhWqdMJaTr",
    "outputId": "936151bf-3ea8-40cf-9a47-2dd0cd372d97"
   },
   "outputs": [
    {
     "data": {
      "image/png": "[encoded data removed]",
      "text/plain": [
       "<Figure size 432x288 with 2 Axes>"
      ]
     },
     "metadata": {
      "tags": []
     },
     "output_type": "display_data"
    }
   ],
   "source": [
    "# Heatmap between scores,depth and estimators\n",
    "\n",
    "max_scores = result1.groupby(['Estimators', 'learning_rate']).max()\n",
    "max_scores = max_scores.unstack()[['test_score', 'train_score']]\n",
    "sns.heatmap(max_scores.test_score, annot=True, fmt='.4g');\n"
   ]
  },
  {
   "cell_type": "code",
   "execution_count": null,
   "metadata": {
    "id": "h-9qaqoxJaTr",
    "outputId": "61fc50ee-8d98-4368-9ad1-12e1c3bd0dae"
   },
   "outputs": [
    {
     "name": "stdout",
     "output_type": "stream",
     "text": [
      "The train gini score is  0.27841419135210166 \n",
      "The test gini score is  0.27254871619498333\n"
     ]
    }
   ],
   "source": [
    "best_lr=0.1;best_estimator=500\n",
    "\n",
    "clf = AdaBoostClassifier(learning_rate=best_lr,n_estimators=best_estimator,random_state=42)\n",
    "clf.fit(X_imp_train,y_train)\n",
    "train_sc = gini_roc(y_train,clf.predict_proba(X_imp_train)[:,1])\n",
    "test_sc = gini_roc(y_test,clf.predict_proba(X_imp_test)[:,1])\n",
    "\n",
    "print(\"The train gini score is \",train_sc, \"\\nThe test gini score is \",test_sc)"
   ]
  },
  {
   "cell_type": "markdown",
   "metadata": {
    "id": "AFSy013kJaTs"
   },
   "source": [
    "### Stacking Models - Random forest+GBDT(Xgboost)"
   ]
  },
  {
   "cell_type": "code",
   "execution_count": null,
   "metadata": {
    "id": "zLxtHDmSJaTs",
    "outputId": "60383db7-ae3d-486d-fdd2-db2790969364"
   },
   "outputs": [
    {
     "name": "stderr",
     "output_type": "stream",
     "text": [
      " 20%|████████████████▌                                                                  | 1/5 [06:42<26:51, 402.87s/it]"
     ]
    },
    {
     "name": "stdout",
     "output_type": "stream",
     "text": [
      "The train gini score is  0.30859495579735596 \n",
      "The test gini score is  0.2707678923144645 Reg 0.001\n"
     ]
    },
    {
     "name": "stderr",
     "output_type": "stream",
     "text": [
      "\r",
      " 40%|█████████████████████████████████▏                                                 | 2/5 [13:18<19:56, 398.82s/it]"
     ]
    },
    {
     "name": "stdout",
     "output_type": "stream",
     "text": [
      "The train gini score is  0.30876478465964485 \n",
      "The test gini score is  0.26622296990059047 Reg 0.01\n"
     ]
    },
    {
     "name": "stderr",
     "output_type": "stream",
     "text": [
      "\r",
      " 60%|█████████████████████████████████████████████████▊                                 | 3/5 [19:54<13:14, 397.25s/it]"
     ]
    },
    {
     "name": "stdout",
     "output_type": "stream",
     "text": [
      "The train gini score is  0.306589370474204 \n",
      "The test gini score is  0.2549710571402737 Reg 1\n"
     ]
    },
    {
     "name": "stderr",
     "output_type": "stream",
     "text": [
      "\r",
      " 80%|██████████████████████████████████████████████████████████████████▍                | 4/5 [26:42<06:41, 401.71s/it]"
     ]
    },
    {
     "name": "stdout",
     "output_type": "stream",
     "text": [
      "The train gini score is  0.3065036707499198 \n",
      "The test gini score is  0.2546822621230871 Reg 10\n"
     ]
    },
    {
     "name": "stderr",
     "output_type": "stream",
     "text": [
      "100%|███████████████████████████████████████████████████████████████████████████████████| 5/5 [34:02<00:00, 408.46s/it]"
     ]
    },
    {
     "name": "stdout",
     "output_type": "stream",
     "text": [
      "The train gini score is  0.3064932456522569 \n",
      "The test gini score is  0.2546501273726225 Reg 100\n"
     ]
    },
    {
     "name": "stderr",
     "output_type": "stream",
     "text": [
      "\n"
     ]
    }
   ],
   "source": [
    "reg=[0.001,0.01,1,10,100]\n",
    "\n",
    "# Initializing Random Forest classifier\n",
    "classifier1 = RandomForestClassifier(class_weight='balanced',max_depth=7,max_features='auto',\n",
    "                             n_estimators=250,n_jobs=-1,random_state=42)\n",
    "\n",
    "# Initializing GBDT using Xgboost  classifier\n",
    "classifier2 = XGBClassifier(max_depth=2,n_estimators=200,n_jobs=-1,random_state=42,scale_pos_weight=5.141660248075436)\n",
    "\n",
    "for i in tqdm(reg):\n",
    "\n",
    "    meta=LogisticRegression(random_state=42,C=i,n_jobs=-1)\n",
    "    \n",
    "    sclf = StackingCVClassifier(classifiers = [classifier1, classifier2],shuffle = False,use_probas = True,cv =3,\n",
    "                            meta_classifier = meta,random_state=42)\n",
    "                            \n",
    "    sclf.fit(X_imp_train,y_train)\n",
    "    train_sc = gini_roc(y_train,sclf.predict_proba(X_imp_train)[:,1])\n",
    "    test_sc = gini_roc(y_test,sclf.predict_proba(X_imp_test)[:,1])\n",
    "    print(\"The train gini score is \",train_sc, \"\\nThe test gini score is \",test_sc,'Reg',i)"
   ]
  },
  {
   "cell_type": "markdown",
   "metadata": {
    "id": "ayI-XcT4JaTs"
   },
   "source": [
    "Best_Regularisation =0.001 \n",
    "\n",
    "Best_Train Score=0.308\n",
    "\n",
    "Best_Test Score= 0.270"
   ]
  },
  {
   "cell_type": "code",
   "execution_count": null,
   "metadata": {
    "id": "GBXwQ3D5JaTs",
    "outputId": "747c0c27-924d-495c-f13c-30da7de4437e"
   },
   "outputs": [
    {
     "name": "stdout",
     "output_type": "stream",
     "text": [
      "The train gini score is  0.3072075909765124 \n",
      "The test gini score is  0.2748538915225991\n"
     ]
    }
   ],
   "source": [
    "Best_Reg=0.001\n",
    "\n",
    "# Initializing Random Forest classifier\n",
    "classifier1 = RandomForestClassifier(class_weight='balanced',max_depth=7,max_features='auto',\n",
    "                             n_estimators=250,n_jobs=-1,random_state=42)\n",
    "\n",
    "# Initializing GBDT using Xgboost  classifier\n",
    "classifier2 = XGBClassifier(max_depth=2,n_estimators=200,n_jobs=-1,random_state=42,scale_pos_weight=5.141660248075436)\n",
    "\n",
    "\n",
    "meta=LogisticRegression(random_state=42,C=Best_Reg,n_jobs=-1)\n",
    "\n",
    "sclf = StackingCVClassifier(classifiers = [classifier1, classifier2],\n",
    "                        use_probas = True,\n",
    "                        cv = 5,\n",
    "                        meta_classifier = meta)\n",
    " \n",
    "sclf.fit(X_imp_train,y_train)\n",
    "train_sc = gini_roc(y_train,sclf.predict_proba(X_imp_train)[:,1])\n",
    "test_sc = gini_roc(y_test,sclf.predict_proba(X_imp_test)[:,1])\n",
    "print(\"The train gini score is \",train_sc, \"\\nThe test gini score is \",test_sc)    "
   ]
  },
  {
   "cell_type": "markdown",
   "metadata": {
    "id": "oQVtfF6lJaTs"
   },
   "source": [
    "### Stacking Models - GBDT(Light bgm) + GBDT(Xgboost)"
   ]
  },
  {
   "cell_type": "code",
   "execution_count": null,
   "metadata": {
    "id": "fnLG1EwvJaTt",
    "outputId": "3885d25e-99d1-449e-b389-cfae599dfa4a"
   },
   "outputs": [
    {
     "name": "stderr",
     "output_type": "stream",
     "text": [
      " 20%|████████████████▌                                                                  | 1/5 [03:23<13:32, 203.06s/it]"
     ]
    },
    {
     "name": "stdout",
     "output_type": "stream",
     "text": [
      "The train gini score is  0.2974786128900324 \n",
      "The test gini score is  0.27916227958868567 Reg 0.001\n"
     ]
    },
    {
     "name": "stderr",
     "output_type": "stream",
     "text": [
      "\r",
      " 40%|█████████████████████████████████▏                                                 | 2/5 [06:40<09:59, 199.80s/it]"
     ]
    },
    {
     "name": "stdout",
     "output_type": "stream",
     "text": [
      "The train gini score is  0.2974633327972085 \n",
      "The test gini score is  0.27914676575187447 Reg 0.01\n"
     ]
    },
    {
     "name": "stderr",
     "output_type": "stream",
     "text": [
      "\r",
      " 60%|█████████████████████████████████████████████████▊                                 | 3/5 [09:59<06:38, 199.42s/it]"
     ]
    },
    {
     "name": "stdout",
     "output_type": "stream",
     "text": [
      "The train gini score is  0.29741591799345946 \n",
      "The test gini score is  0.2790998685007484 Reg 1\n"
     ]
    },
    {
     "name": "stderr",
     "output_type": "stream",
     "text": [
      "\r",
      " 80%|██████████████████████████████████████████████████████████████████▍                | 4/5 [13:16<03:18, 198.53s/it]"
     ]
    },
    {
     "name": "stdout",
     "output_type": "stream",
     "text": [
      "The train gini score is  0.29741533681207977 \n",
      "The test gini score is  0.2790991068318811 Reg 10\n"
     ]
    },
    {
     "name": "stderr",
     "output_type": "stream",
     "text": [
      "100%|███████████████████████████████████████████████████████████████████████████████████| 5/5 [16:34<00:00, 198.95s/it]"
     ]
    },
    {
     "name": "stdout",
     "output_type": "stream",
     "text": [
      "The train gini score is  0.2974146940390816 \n",
      "The test gini score is  0.27909827431009626 Reg 100\n"
     ]
    },
    {
     "name": "stderr",
     "output_type": "stream",
     "text": [
      "\n"
     ]
    }
   ],
   "source": [
    "reg=[0.001,0.01,1,10,100]\n",
    "\n",
    "# Initializing GBDT (using Lightbgm) classifier\n",
    "classifier1 = LGBMClassifier(class_weight='balanced',random_state=42,n_estimators=200,max_depth=2)\n",
    "\n",
    "# Initializing GBDT (Using Xgboost)  classifier\n",
    "classifier2 = XGBClassifier(max_depth=2,n_estimators=200,n_jobs=-1,random_state=42,scale_pos_weight=5.141660248075436)\n",
    "\n",
    "\n",
    "for i in tqdm(reg):\n",
    "\n",
    "    meta=LogisticRegression(random_state=42,C=i,n_jobs=-1)\n",
    "    \n",
    "    sclf = StackingCVClassifier(classifiers = [classifier1, classifier2],shuffle = False,use_probas = True,cv =3,\n",
    "                            meta_classifier = meta,random_state=42)\n",
    "                            \n",
    "    sclf.fit(X_imp_train,y_train)\n",
    "    train_sc = gini_roc(y_train,sclf.predict_proba(X_imp_train)[:,1])\n",
    "    test_sc = gini_roc(y_test,sclf.predict_proba(X_imp_test)[:,1])\n",
    "    print(\"The train gini score is \",train_sc, \"\\nThe test gini score is \",test_sc,'Reg',i)"
   ]
  },
  {
   "cell_type": "markdown",
   "metadata": {
    "id": "ssAZIcFdJaTt"
   },
   "source": [
    "Best_Regularisation =0.001 \n",
    "\n",
    "Best_Train Score=0.297\n",
    "\n",
    "Best_Test Score= 0.279"
   ]
  },
  {
   "cell_type": "code",
   "execution_count": null,
   "metadata": {
    "id": "1j6FUz8DJaTt",
    "outputId": "dac17616-2ee6-4acf-f8e6-6b3a32d07676"
   },
   "outputs": [
    {
     "name": "stdout",
     "output_type": "stream",
     "text": [
      "The train gini score is  0.29743244424229154 \n",
      "The test gini score is  0.27911623257257423\n"
     ]
    }
   ],
   "source": [
    "Best_reg=0.001\n",
    "\n",
    "\n",
    "# Initializing GBDT (using Lightbgm) classifier\n",
    "classifier1 = LGBMClassifier(class_weight='balanced',random_state=42,n_estimators=200,max_depth=2)\n",
    "\n",
    "# Initializing GBDT (Using Xgboost)  classifier\n",
    "classifier2 = XGBClassifier(max_depth=2,n_estimators=200,n_jobs=-1,random_state=42,scale_pos_weight=5.141660248075436)\n",
    "\n",
    "\n",
    "meta=LogisticRegression(random_state=42,C=Best_reg,n_jobs=-1)\n",
    "\n",
    "sclf = StackingCVClassifier(classifiers = [classifier1, classifier2],\n",
    "                        use_probas = True,\n",
    "                        cv = 5,\n",
    "                        meta_classifier = meta)\n",
    "                        \n",
    "sclf.fit(X_imp_train,y_train)\n",
    "train_sc = gini_roc(y_train,sclf.predict_proba(X_imp_train)[:,1])\n",
    "test_sc = gini_roc(y_test,sclf.predict_proba(X_imp_test)[:,1])\n",
    "print(\"The train gini score is \",train_sc, \"\\nThe test gini score is \",test_sc)"
   ]
  },
  {
   "cell_type": "markdown",
   "metadata": {
    "id": "x6ba7qUqJaTt"
   },
   "source": [
    "### Feature Importance using GBDT(Xgboost) "
   ]
  },
  {
   "cell_type": "markdown",
   "metadata": {
    "id": "miayMoO2JaTt"
   },
   "source": [
    "#### Stacking-GBDT(Xgboost)+GBDT(Light GBM) + Logistic Reg(Meta)-Top 100 features"
   ]
  },
  {
   "cell_type": "code",
   "execution_count": null,
   "metadata": {
    "id": "nzuQcAHMJaTu",
    "outputId": "219cefe7-ad3b-4cdd-d7a8-84bdd427a186"
   },
   "outputs": [
    {
     "name": "stdout",
     "output_type": "stream",
     "text": [
      "Index(['Unnamed__0', 'ps_ind_01', 'ps_ind_03', 'ps_ind_15', 'ps_reg_01',\n",
      "       'ps_reg_02', 'ps_reg_03', 'ps_car_11', 'ps_car_12', 'ps_car_13',\n",
      "       'ps_car_14', 'ps_car_15', 'ps_calc_01', 'ps_calc_02', 'ps_calc_03',\n",
      "       'ps_calc_04', 'ps_calc_05', 'ps_calc_08', 'ps_calc_11', 'ps_calc_12',\n",
      "       'ps_calc_13', 'ps_calc_14', 'ps_ind_02_cat_1__0', 'ps_ind_02_cat_2__0',\n",
      "       'ps_ind_02_cat_4__0', 'ps_ind_04_cat_0__0', 'ps_ind_05_cat_0__0',\n",
      "       'ps_ind_05_cat_2__0', 'ps_ind_05_cat_3__0', 'ps_ind_05_cat_6__0',\n",
      "       'ps_ind_06_bin_0__0', 'ps_ind_07_bin_0__0', 'ps_ind_08_bin_0__0',\n",
      "       'ps_ind_09_bin_0__0', 'ps_ind_12_bin_0__0', 'ps_ind_16_bin_0__0',\n",
      "       'ps_ind_17_bin_0__0', 'ps_ind_18_bin_0__0', 'ps_car_01_cat_1__0',\n",
      "       'ps_car_01_cat_5__0', 'ps_car_01_cat_6__0', 'ps_car_01_cat_7__0',\n",
      "       'ps_car_01_cat_9__0', 'ps_car_01_cat_10__0', 'ps_car_01_cat_11__0',\n",
      "       'ps_car_02_cat_0__0', 'ps_car_03_cat___1__0', 'ps_car_03_cat_0__0',\n",
      "       'ps_car_03_cat_1__0', 'ps_car_04_cat_0__0', 'ps_car_04_cat_2__0',\n",
      "       'ps_car_05_cat___1__0', 'ps_car_05_cat_0__0', 'ps_car_06_cat_3__0',\n",
      "       'ps_car_06_cat_9__0', 'ps_car_06_cat_10__0', 'ps_car_06_cat_11__0',\n",
      "       'ps_car_06_cat_12__0', 'ps_car_07_cat___1__0', 'ps_car_07_cat_1__0',\n",
      "       'ps_car_08_cat_0__0', 'ps_car_09_cat_0__0', 'ps_car_09_cat_1__0',\n",
      "       'ps_car_09_cat_2__0', 'ps_car_10_cat_1__0', 'ps_car_11_cat_3__0',\n",
      "       'ps_car_11_cat_5__0', 'ps_car_11_cat_21__0', 'ps_car_11_cat_25__0',\n",
      "       'ps_car_11_cat_28__0', 'ps_car_11_cat_40__0', 'ps_car_11_cat_41__0',\n",
      "       'ps_car_11_cat_50__0', 'ps_car_11_cat_61__0', 'ps_car_11_cat_64__0',\n",
      "       'ps_car_11_cat_67__0', 'ps_car_11_cat_72__0', 'ps_car_11_cat_75__0',\n",
      "       'ps_car_11_cat_77__0', 'ps_car_11_cat_87__0', 'ps_car_11_cat_90__0',\n",
      "       'ps_car_11_cat_93__0', 'ps_car_11_cat_94__0', 'ps_car_11_cat_99__0',\n",
      "       'ps_car_11_cat_101__0', 'ps_car_11_cat_104__0', 'ps_calc_15_bin_0__0',\n",
      "       'ps_calc_18_bin_0__0', 'ps_calc_19_bin_0__0', 'svd_1', 'svd_2', 'svd_3',\n",
      "       'svd_4', 'svd_5', 'svd_6'],\n",
      "      dtype='object')\n"
     ]
    },
    {
     "name": "stderr",
     "output_type": "stream",
     "text": [
      " 20%|████████████████▊                                                                   | 1/5 [01:37<06:28, 97.15s/it]"
     ]
    },
    {
     "name": "stdout",
     "output_type": "stream",
     "text": [
      "The train gini score is  0.29640994799215337 \n",
      "The test gini score is  0.2811855481312251 Reg 0.0001\n"
     ]
    },
    {
     "name": "stderr",
     "output_type": "stream",
     "text": [
      "\r",
      " 40%|█████████████████████████████████▌                                                  | 2/5 [03:14<04:51, 97.16s/it]"
     ]
    },
    {
     "name": "stdout",
     "output_type": "stream",
     "text": [
      "The train gini score is  0.29641322130021996 \n",
      "The test gini score is  0.2811870640884475 Reg 0.001\n"
     ]
    },
    {
     "name": "stderr",
     "output_type": "stream",
     "text": [
      "\r",
      " 60%|██████████████████████████████████████████████████▍                                 | 3/5 [04:56<03:18, 99.29s/it]"
     ]
    },
    {
     "name": "stdout",
     "output_type": "stream",
     "text": [
      "The train gini score is  0.2964002115031126 \n",
      "The test gini score is  0.2811808186989564 Reg 0.01\n"
     ]
    },
    {
     "name": "stderr",
     "output_type": "stream",
     "text": [
      "\r",
      " 80%|██████████████████████████████████████████████████████████████████▍                | 4/5 [06:40<01:41, 101.10s/it]"
     ]
    },
    {
     "name": "stdout",
     "output_type": "stream",
     "text": [
      "The train gini score is  0.2963621693681444 \n",
      "The test gini score is  0.2811584601750572 Reg 1\n"
     ]
    },
    {
     "name": "stderr",
     "output_type": "stream",
     "text": [
      "100%|████████████████████████████████████████████████████████████████████████████████████| 5/5 [08:17<00:00, 99.41s/it]"
     ]
    },
    {
     "name": "stdout",
     "output_type": "stream",
     "text": [
      "The train gini score is  0.2963617554151716 \n",
      "The test gini score is  0.28115817971559065 Reg 10\n"
     ]
    },
    {
     "name": "stderr",
     "output_type": "stream",
     "text": [
      "\n"
     ]
    }
   ],
   "source": [
    "#Feature selection using Gradient Boost Classifier\n",
    "\n",
    "\n",
    "base=XGBClassifier(n_estimators=200,n_jobs=-1,random_state = 42)\n",
    "Xgmodel=SelectFromModel(base,max_features=100)\n",
    "Xgmodel.fit(X_imp_train,y_train)\n",
    "\n",
    "#XGBoost feature importance\n",
    "\n",
    "imp_feature=X_imp_train.columns[Xgmodel.get_support()]\n",
    "print(imp_feature)\n",
    "\n",
    "X_feature_imp_train=X_imp_train[imp_feature]\n",
    "X_feature_imp_test=X_imp_test[imp_feature]\n",
    "\n",
    "reg=[0.0001,0.001,0.01,1,10]\n",
    "\n",
    "# Initializing GBDT (using Lightbgm) classifier\n",
    "classifier1 = LGBMClassifier(class_weight='balanced',random_state=42,n_estimators=200,max_depth=2)\n",
    "\n",
    "# Initializing GBDT (using Lightbgm) classifier\n",
    "classifier2 = XGBClassifier(max_depth=2,n_estimators=200,n_jobs=-1,random_state=42,scale_pos_weight=5.141660248075436)\n",
    "\n",
    "\n",
    "for i in tqdm(reg):\n",
    "\n",
    "    meta=LogisticRegression(random_state=42,C=i,n_jobs=-1)\n",
    "    #meta=SGDClassifier(loss='log',penalty='elasticnet',random_state=42,alpha=i,n_jobs=-1)\n",
    "\n",
    "    sclf = StackingCVClassifier(classifiers = [classifier1, classifier2],shuffle = False,use_probas = True,cv =3,\n",
    "                            meta_classifier = meta,random_state=42)\n",
    "                            \n",
    "    sclf.fit(X_feature_imp_train,y_train)\n",
    "    train_sc = gini_roc(y_train,sclf.predict_proba(X_feature_imp_train)[:,1])\n",
    "    test_sc = gini_roc(y_test,sclf.predict_proba(X_feature_imp_test)[:,1])\n",
    "    print(\"The train gini score is \",train_sc, \"\\nThe test gini score is \",test_sc,'Reg',i)"
   ]
  },
  {
   "cell_type": "markdown",
   "metadata": {
    "id": "JjEA34hhJaTu"
   },
   "source": [
    "Best Regularisation: 0.001\n",
    "    \n",
    "Train Gini Score: 0.296\n",
    "    \n",
    "Test Gini Score: 0.281"
   ]
  },
  {
   "cell_type": "markdown",
   "metadata": {
    "id": "NVb8cR3-JaTu"
   },
   "source": [
    "#### GBDT(Xgboost)+GBDT(Light GBM) + Logistic Reg(Meta)-Top 75 features"
   ]
  },
  {
   "cell_type": "code",
   "execution_count": null,
   "metadata": {
    "id": "XRXtN20iJaTu",
    "outputId": "2e8645ba-05c5-4736-f7f4-2a909c1af110"
   },
   "outputs": [
    {
     "name": "stdout",
     "output_type": "stream",
     "text": [
      "Index(['ps_ind_01', 'ps_ind_03', 'ps_ind_15', 'ps_reg_01', 'ps_reg_02',\n",
      "       'ps_reg_03', 'ps_car_11', 'ps_car_12', 'ps_car_13', 'ps_car_14',\n",
      "       'ps_car_15', 'ps_calc_01', 'ps_calc_02', 'ps_calc_03', 'ps_calc_04',\n",
      "       'ps_calc_08', 'ps_calc_12', 'ps_ind_02_cat_1__0', 'ps_ind_02_cat_2__0',\n",
      "       'ps_ind_04_cat_0__0', 'ps_ind_05_cat_0__0', 'ps_ind_05_cat_2__0',\n",
      "       'ps_ind_05_cat_3__0', 'ps_ind_05_cat_6__0', 'ps_ind_06_bin_0__0',\n",
      "       'ps_ind_07_bin_0__0', 'ps_ind_08_bin_0__0', 'ps_ind_09_bin_0__0',\n",
      "       'ps_ind_12_bin_0__0', 'ps_ind_16_bin_0__0', 'ps_ind_17_bin_0__0',\n",
      "       'ps_car_01_cat_6__0', 'ps_car_01_cat_7__0', 'ps_car_01_cat_9__0',\n",
      "       'ps_car_01_cat_10__0', 'ps_car_02_cat_0__0', 'ps_car_03_cat___1__0',\n",
      "       'ps_car_03_cat_0__0', 'ps_car_03_cat_1__0', 'ps_car_04_cat_0__0',\n",
      "       'ps_car_04_cat_2__0', 'ps_car_05_cat___1__0', 'ps_car_06_cat_9__0',\n",
      "       'ps_car_06_cat_10__0', 'ps_car_07_cat___1__0', 'ps_car_07_cat_1__0',\n",
      "       'ps_car_08_cat_0__0', 'ps_car_09_cat_0__0', 'ps_car_09_cat_1__0',\n",
      "       'ps_car_09_cat_2__0', 'ps_car_11_cat_3__0', 'ps_car_11_cat_25__0',\n",
      "       'ps_car_11_cat_28__0', 'ps_car_11_cat_40__0', 'ps_car_11_cat_41__0',\n",
      "       'ps_car_11_cat_61__0', 'ps_car_11_cat_64__0', 'ps_car_11_cat_67__0',\n",
      "       'ps_car_11_cat_72__0', 'ps_car_11_cat_75__0', 'ps_car_11_cat_77__0',\n",
      "       'ps_car_11_cat_87__0', 'ps_car_11_cat_90__0', 'ps_car_11_cat_94__0',\n",
      "       'ps_car_11_cat_101__0', 'ps_car_11_cat_104__0', 'ps_calc_15_bin_0__0',\n",
      "       'ps_calc_18_bin_0__0', 'ps_calc_19_bin_0__0', 'svd_1', 'svd_2', 'svd_3',\n",
      "       'svd_4', 'svd_5', 'svd_6'],\n",
      "      dtype='object')\n"
     ]
    },
    {
     "name": "stderr",
     "output_type": "stream",
     "text": [
      " 20%|████████████████▊                                                                   | 1/5 [01:24<05:36, 84.05s/it]"
     ]
    },
    {
     "name": "stdout",
     "output_type": "stream",
     "text": [
      "The train gini score is  0.29555816365623455 \n",
      "The test gini score is  0.2809949353308405 Reg 0.0001\n"
     ]
    },
    {
     "name": "stderr",
     "output_type": "stream",
     "text": [
      "\r",
      " 40%|█████████████████████████████████▌                                                  | 2/5 [02:50<04:16, 85.40s/it]"
     ]
    },
    {
     "name": "stdout",
     "output_type": "stream",
     "text": [
      "The train gini score is  0.29556414592125524 \n",
      "The test gini score is  0.28100242064639436 Reg 0.001\n"
     ]
    },
    {
     "name": "stderr",
     "output_type": "stream",
     "text": [
      "\r",
      " 60%|██████████████████████████████████████████████████▍                                 | 3/5 [04:14<02:49, 84.77s/it]"
     ]
    },
    {
     "name": "stdout",
     "output_type": "stream",
     "text": [
      "The train gini score is  0.2955590757135198 \n",
      "The test gini score is  0.28099587413200244 Reg 0.01\n"
     ]
    },
    {
     "name": "stderr",
     "output_type": "stream",
     "text": [
      "\r",
      " 80%|███████████████████████████████████████████████████████████████████▏                | 4/5 [05:36<01:23, 83.79s/it]"
     ]
    },
    {
     "name": "stdout",
     "output_type": "stream",
     "text": [
      "The train gini score is  0.2952667343177189 \n",
      "The test gini score is  0.28068298912273604 Reg 1\n"
     ]
    },
    {
     "name": "stderr",
     "output_type": "stream",
     "text": [
      "100%|████████████████████████████████████████████████████████████████████████████████████| 5/5 [06:59<00:00, 83.82s/it]"
     ]
    },
    {
     "name": "stdout",
     "output_type": "stream",
     "text": [
      "The train gini score is  0.2952263796323198 \n",
      "The test gini score is  0.28064025005222826 Reg 10\n"
     ]
    },
    {
     "name": "stderr",
     "output_type": "stream",
     "text": [
      "\n"
     ]
    }
   ],
   "source": [
    "#Feature selection using Gradient Boost Classifier\n",
    "\n",
    "\n",
    "base=XGBClassifier(n_estimators=200,n_jobs=-1,random_state = 42)\n",
    "Xgmodel=SelectFromModel(base,max_features=75)\n",
    "Xgmodel.fit(X_imp_train,y_train)\n",
    "\n",
    "#XGBoost feature importance\n",
    "\n",
    "imp_feature=X_imp_train.columns[Xgmodel.get_support()]\n",
    "print(imp_feature)\n",
    "\n",
    "X_feature_imp_train=X_imp_train[imp_feature]\n",
    "X_feature_imp_test=X_imp_test[imp_feature]\n",
    "\n",
    "reg=[0.0001,0.001,0.01,1,10]\n",
    "\n",
    "# Initializing GBDT (using Lightbgm) classifier\n",
    "classifier1 = LGBMClassifier(class_weight='balanced',random_state=42,n_estimators=200,max_depth=2)\n",
    "\n",
    "# Initializing GBDT (using Lightbgm) classifier\n",
    "classifier2 = XGBClassifier(max_depth=2,n_estimators=200,n_jobs=-1,random_state=42,scale_pos_weight=5.141660248075436)\n",
    "\n",
    "#classifier3=SGDClassifier(loss='log',penalty='elasticnet',random_state=42,alpha=0.001,n_jobs=-1)\n",
    "\n",
    "#classifier3=lgb(num_threads=4,seed=42)\n",
    "\n",
    "for i in tqdm(reg):\n",
    "\n",
    "    meta=LogisticRegression(random_state=42,C=i,n_jobs=-1)\n",
    "    #meta=SGDClassifier(loss='log',penalty='elasticnet',random_state=42,alpha=i,n_jobs=-1)\n",
    "\n",
    "    sclf = StackingCVClassifier(classifiers = [classifier1, classifier2],shuffle = False,use_probas = True,cv =3,\n",
    "                            meta_classifier = meta,random_state=42)\n",
    "                            \n",
    "    sclf.fit(X_feature_imp_train,y_train)\n",
    "    train_sc = gini_roc(y_train,sclf.predict_proba(X_feature_imp_train)[:,1])\n",
    "    test_sc = gini_roc(y_test,sclf.predict_proba(X_feature_imp_test)[:,1])\n",
    "    print(\"The train gini score is \",train_sc, \"\\nThe test gini score is \",test_sc,'Reg',i)"
   ]
  },
  {
   "cell_type": "markdown",
   "metadata": {
    "id": "UL9LWs1dJaTu"
   },
   "source": [
    "Best Regularisation: 0.001\n",
    "    \n",
    "Train Gini Score: 0.295\n",
    "    \n",
    "Test Gini Score: 0.281"
   ]
  },
  {
   "cell_type": "markdown",
   "metadata": {
    "id": "6Nl9oofvJaTv"
   },
   "source": [
    "#### GBDT(Xgboost)+GBDT(Light GBM) + Logistic Reg(Meta)-Top 50 features"
   ]
  },
  {
   "cell_type": "code",
   "execution_count": null,
   "metadata": {
    "id": "Id-ht2GEJaTv",
    "outputId": "38cbb0de-7087-4efd-cef6-84952cd5c20b"
   },
   "outputs": [
    {
     "name": "stdout",
     "output_type": "stream",
     "text": [
      "Index(['ps_ind_01', 'ps_ind_03', 'ps_ind_15', 'ps_reg_01', 'ps_reg_02',\n",
      "       'ps_reg_03', 'ps_car_11', 'ps_car_13', 'ps_car_15',\n",
      "       'ps_ind_02_cat_1__0', 'ps_ind_02_cat_2__0', 'ps_ind_04_cat_0__0',\n",
      "       'ps_ind_05_cat_0__0', 'ps_ind_05_cat_2__0', 'ps_ind_05_cat_6__0',\n",
      "       'ps_ind_06_bin_0__0', 'ps_ind_07_bin_0__0', 'ps_ind_08_bin_0__0',\n",
      "       'ps_ind_09_bin_0__0', 'ps_ind_12_bin_0__0', 'ps_ind_16_bin_0__0',\n",
      "       'ps_ind_17_bin_0__0', 'ps_car_01_cat_6__0', 'ps_car_01_cat_7__0',\n",
      "       'ps_car_01_cat_9__0', 'ps_car_02_cat_0__0', 'ps_car_03_cat___1__0',\n",
      "       'ps_car_03_cat_1__0', 'ps_car_04_cat_0__0', 'ps_car_04_cat_2__0',\n",
      "       'ps_car_06_cat_9__0', 'ps_car_06_cat_10__0', 'ps_car_07_cat___1__0',\n",
      "       'ps_car_07_cat_1__0', 'ps_car_09_cat_0__0', 'ps_car_09_cat_1__0',\n",
      "       'ps_car_11_cat_3__0', 'ps_car_11_cat_25__0', 'ps_car_11_cat_40__0',\n",
      "       'ps_car_11_cat_41__0', 'ps_car_11_cat_61__0', 'ps_car_11_cat_75__0',\n",
      "       'ps_car_11_cat_77__0', 'ps_car_11_cat_90__0', 'ps_car_11_cat_94__0',\n",
      "       'ps_car_11_cat_101__0', 'ps_calc_18_bin_0__0', 'svd_1', 'svd_2',\n",
      "       'svd_5'],\n",
      "      dtype='object')\n"
     ]
    }
   ],
   "source": [
    "#Feature selection using Gradient Boost Classifier\n",
    "\n",
    "base=XGBClassifier(n_estimators=200,n_jobs=-1,random_state = 42)\n",
    "Xgmodel=SelectFromModel(base,max_features=50)\n",
    "Xgmodel.fit(X_imp_train,y_train)\n",
    "\n",
    "#XGBoost feature importance\n",
    "\n",
    "imp_feature_50=X_imp_train.columns[Xgmodel.get_support()]\n",
    "print(imp_feature_50)"
   ]
  },
  {
   "cell_type": "code",
   "execution_count": null,
   "metadata": {
    "id": "9KYRpdsEJaTv"
   },
   "outputs": [],
   "source": [
    "X_feature_imp_train=X_imp_train[imp_feature]\n",
    "X_feature_imp_test=X_imp_test[imp_feature]\n"
   ]
  },
  {
   "cell_type": "code",
   "execution_count": null,
   "metadata": {
    "id": "pO16muIKJaTv",
    "outputId": "3e072f54-f890-400c-bca8-63d92b38829e"
   },
   "outputs": [
    {
     "name": "stderr",
     "output_type": "stream",
     "text": [
      " 20%|████████████████▊                                                                   | 1/5 [01:09<04:36, 69.24s/it]"
     ]
    },
    {
     "name": "stdout",
     "output_type": "stream",
     "text": [
      "The train gini score is  0.29398001360385195 \n",
      "The test gini score is  0.2824539430441837 Reg 0.0001\n"
     ]
    },
    {
     "name": "stderr",
     "output_type": "stream",
     "text": [
      "\r",
      " 40%|█████████████████████████████████▌                                                  | 2/5 [02:11<03:15, 65.14s/it]"
     ]
    },
    {
     "name": "stdout",
     "output_type": "stream",
     "text": [
      "The train gini score is  0.2939833728537118 \n",
      "The test gini score is  0.2824535149744716 Reg 0.001\n"
     ]
    },
    {
     "name": "stderr",
     "output_type": "stream",
     "text": [
      "\r",
      " 60%|██████████████████████████████████████████████████▍                                 | 3/5 [03:11<02:05, 62.77s/it]"
     ]
    },
    {
     "name": "stdout",
     "output_type": "stream",
     "text": [
      "The train gini score is  0.29398074983855094 \n",
      "The test gini score is  0.28245382495598714 Reg 0.01\n"
     ]
    },
    {
     "name": "stderr",
     "output_type": "stream",
     "text": [
      "\r",
      " 80%|███████████████████████████████████████████████████████████████████▏                | 4/5 [04:13<01:02, 62.34s/it]"
     ]
    },
    {
     "name": "stdout",
     "output_type": "stream",
     "text": [
      "The train gini score is  0.2938154916473219 \n",
      "The test gini score is  0.28242413905949704 Reg 1\n"
     ]
    },
    {
     "name": "stderr",
     "output_type": "stream",
     "text": [
      "100%|████████████████████████████████████████████████████████████████████████████████████| 5/5 [05:15<00:00, 63.02s/it]"
     ]
    },
    {
     "name": "stdout",
     "output_type": "stream",
     "text": [
      "The train gini score is  0.2937924402678056 \n",
      "The test gini score is  0.28241748036131864 Reg 10\n"
     ]
    },
    {
     "name": "stderr",
     "output_type": "stream",
     "text": [
      "\n"
     ]
    }
   ],
   "source": [
    "reg=[0.0001,0.001,0.01,1,10]\n",
    "\n",
    "# Initializing GBDT (using Lightbgm) classifier\n",
    "classifier1 = LGBMClassifier(class_weight='balanced',random_state=42,n_estimators=200,max_depth=2)\n",
    "\n",
    "# Initializing GBDT (using Lightbgm) classifier\n",
    "classifier2 = XGBClassifier(max_depth=2,n_estimators=200,n_jobs=-1,random_state=42,scale_pos_weight=5.141660248075436)\n",
    "\n",
    "\n",
    "for i in tqdm(reg):\n",
    "\n",
    "    meta=LogisticRegression(random_state=42,C=i,n_jobs=-1)\n",
    "    #meta=SGDClassifier(loss='log',penalty='elasticnet',random_state=42,alpha=i,n_jobs=-1)\n",
    "\n",
    "    sclf = StackingCVClassifier(classifiers = [classifier1, classifier2],shuffle = False,use_probas = True,cv =3,\n",
    "                            meta_classifier = meta,random_state=42)\n",
    "                            \n",
    "    sclf.fit(X_feature_imp_train,y_train)\n",
    "    train_sc = gini_roc(y_train,sclf.predict_proba(X_feature_imp_train)[:,1])\n",
    "    test_sc = gini_roc(y_test,sclf.predict_proba(X_feature_imp_test)[:,1])\n",
    "    print(\"The train gini score is \",train_sc, \"\\nThe test gini score is \",test_sc,'Reg',i)"
   ]
  },
  {
   "cell_type": "markdown",
   "metadata": {
    "id": "5iEkkoAfJaTv"
   },
   "source": [
    "Best Regularisation: 0.001\n",
    "    \n",
    "Train Gini Score: 0.293\n",
    "    \n",
    "Test Gini Score: 0.282"
   ]
  },
  {
   "cell_type": "markdown",
   "metadata": {
    "id": "b3MvkHDpJaTv"
   },
   "source": [
    "#### GBDT(Xgboost)+GBDT(Light GBM) + Logistic Reg(Meta)-Top 25 features"
   ]
  },
  {
   "cell_type": "code",
   "execution_count": null,
   "metadata": {
    "id": "XziTuD3VJaTw",
    "outputId": "c578ad1e-1a26-4350-f582-7df52ba345bc"
   },
   "outputs": [
    {
     "name": "stderr",
     "output_type": "stream",
     "text": [
      "\r",
      "  0%|                                                                                            | 0/5 [00:00<?, ?it/s]"
     ]
    },
    {
     "name": "stdout",
     "output_type": "stream",
     "text": [
      "Index(['ps_ind_03', 'ps_ind_15', 'ps_reg_01', 'ps_reg_02', 'ps_reg_03',\n",
      "       'ps_car_11', 'ps_car_13', 'ps_ind_02_cat_1__0', 'ps_ind_02_cat_2__0',\n",
      "       'ps_ind_05_cat_0__0', 'ps_ind_05_cat_6__0', 'ps_ind_06_bin_0__0',\n",
      "       'ps_ind_07_bin_0__0', 'ps_ind_08_bin_0__0', 'ps_ind_16_bin_0__0',\n",
      "       'ps_ind_17_bin_0__0', 'ps_car_01_cat_6__0', 'ps_car_01_cat_7__0',\n",
      "       'ps_car_01_cat_9__0', 'ps_car_03_cat___1__0', 'ps_car_03_cat_1__0',\n",
      "       'ps_car_04_cat_0__0', 'ps_car_07_cat___1__0', 'ps_car_07_cat_1__0',\n",
      "       'ps_car_09_cat_1__0'],\n",
      "      dtype='object')\n"
     ]
    },
    {
     "name": "stderr",
     "output_type": "stream",
     "text": [
      "\r",
      " 20%|████████████████▊                                                                   | 1/5 [00:36<02:24, 36.24s/it]"
     ]
    },
    {
     "name": "stdout",
     "output_type": "stream",
     "text": [
      "The train gini score is  0.2864807901618138 \n",
      "The test gini score is  0.2778385352619388 Reg 0.0001\n"
     ]
    },
    {
     "name": "stderr",
     "output_type": "stream",
     "text": [
      "\r",
      " 40%|█████████████████████████████████▌                                                  | 2/5 [01:12<01:49, 36.41s/it]"
     ]
    },
    {
     "name": "stdout",
     "output_type": "stream",
     "text": [
      "The train gini score is  0.28648181036252285 \n",
      "The test gini score is  0.2778375019902197 Reg 0.001\n"
     ]
    },
    {
     "name": "stderr",
     "output_type": "stream",
     "text": [
      "\r",
      " 60%|██████████████████████████████████████████████████▍                                 | 3/5 [01:47<01:11, 35.75s/it]"
     ]
    },
    {
     "name": "stdout",
     "output_type": "stream",
     "text": [
      "The train gini score is  0.28648300638581814 \n",
      "The test gini score is  0.2778361469281654 Reg 0.01\n"
     ]
    },
    {
     "name": "stderr",
     "output_type": "stream",
     "text": [
      "\r",
      " 80%|███████████████████████████████████████████████████████████████████▏                | 4/5 [02:22<00:35, 35.47s/it]"
     ]
    },
    {
     "name": "stdout",
     "output_type": "stream",
     "text": [
      "The train gini score is  0.28646879411978077 \n",
      "The test gini score is  0.2778520076490536 Reg 1\n"
     ]
    },
    {
     "name": "stderr",
     "output_type": "stream",
     "text": [
      "100%|████████████████████████████████████████████████████████████████████████████████████| 5/5 [02:58<00:00, 35.73s/it]"
     ]
    },
    {
     "name": "stdout",
     "output_type": "stream",
     "text": [
      "The train gini score is  0.28646591327923887 \n",
      "The test gini score is  0.27785433693872896 Reg 10\n"
     ]
    },
    {
     "name": "stderr",
     "output_type": "stream",
     "text": [
      "\n"
     ]
    }
   ],
   "source": [
    "#Feature selection using Gradient Boost Classifier\n",
    "\n",
    "\n",
    "base=XGBClassifier(n_estimators=200,n_jobs=-1,random_state = 42)\n",
    "Xgmodel=SelectFromModel(base,max_features=25)\n",
    "Xgmodel.fit(X_imp_train,y_train)\n",
    "\n",
    "#XGBoost feature importance\n",
    "\n",
    "imp_feature=X_imp_train.columns[Xgmodel.get_support()]\n",
    "print(imp_feature)\n",
    "\n",
    "X_feature_imp_train=X_imp_train[imp_feature]\n",
    "X_feature_imp_test=X_imp_test[imp_feature]\n",
    "\n",
    "reg=[0.0001,0.001,0.01,1,10]\n",
    "\n",
    "# Initializing GBDT (using Lightbgm) classifier\n",
    "classifier1 = LGBMClassifier(class_weight='balanced',random_state=42,n_estimators=200,max_depth=2)\n",
    "\n",
    "# Initializing GBDT (using Lightbgm) classifier\n",
    "classifier2 = XGBClassifier(max_depth=2,n_estimators=200,n_jobs=-1,random_state=42,scale_pos_weight=5.141660248075436)\n",
    "\n",
    "#classifier3=SGDClassifier(loss='log',penalty='elasticnet',random_state=42,alpha=0.001,n_jobs=-1)\n",
    "\n",
    "#classifier3=lgb(num_threads=4,seed=42)\n",
    "\n",
    "for i in tqdm(reg):\n",
    "\n",
    "    meta=LogisticRegression(random_state=42,C=i,n_jobs=-1)\n",
    "    #meta=SGDClassifier(loss='log',penalty='elasticnet',random_state=42,alpha=i,n_jobs=-1)\n",
    "\n",
    "    sclf = StackingCVClassifier(classifiers = [classifier1, classifier2],shuffle = False,use_probas = True,cv =3,\n",
    "                            meta_classifier = meta,random_state=42)\n",
    "                            \n",
    "    sclf.fit(X_feature_imp_train,y_train)\n",
    "    train_sc = gini_roc(y_train,sclf.predict_proba(X_feature_imp_train)[:,1])\n",
    "    test_sc = gini_roc(y_test,sclf.predict_proba(X_feature_imp_test)[:,1])\n",
    "    print(\"The train gini score is \",train_sc, \"\\nThe test gini score is \",test_sc,'Reg',i)"
   ]
  },
  {
   "cell_type": "markdown",
   "metadata": {
    "id": "vWcO32c6JaTw"
   },
   "source": [
    "Best Regularisation: 0.001\n",
    "    \n",
    "Train Gini Score: 0.286\n",
    "    \n",
    "Test Gini Score: 0.277"
   ]
  },
  {
   "cell_type": "markdown",
   "metadata": {
    "id": "2UPOowx4JaTw"
   },
   "source": [
    "The Stacked model with top 50 features performs well when compared to other models in the segment. So I further tuned it to see if the Gini Score can be improved."
   ]
  },
  {
   "cell_type": "markdown",
   "metadata": {
    "id": "q9SYQn-CJaTw"
   },
   "source": [
    "### Further Tuning the GBDT(Xgboost)+GBDT(Light GBM) + Logistic Reg(Meta)-Top 50 features"
   ]
  },
  {
   "cell_type": "code",
   "execution_count": null,
   "metadata": {
    "id": "_wE4IcMSJaTw"
   },
   "outputs": [],
   "source": [
    "imp_feature_50=X_imp_train[['ps_ind_01', 'ps_ind_03', 'ps_ind_15', 'ps_reg_01', 'ps_reg_02',\n",
    "       'ps_reg_03', 'ps_car_11', 'ps_car_13', 'ps_car_15',\n",
    "       'ps_ind_02_cat_1__0', 'ps_ind_02_cat_2__0', 'ps_ind_04_cat_0__0',\n",
    "       'ps_ind_05_cat_0__0', 'ps_ind_05_cat_2__0', 'ps_ind_05_cat_6__0',\n",
    "       'ps_ind_06_bin_0__0', 'ps_ind_07_bin_0__0', 'ps_ind_08_bin_0__0',\n",
    "       'ps_ind_09_bin_0__0', 'ps_ind_12_bin_0__0', 'ps_ind_16_bin_0__0',\n",
    "       'ps_ind_17_bin_0__0', 'ps_car_01_cat_6__0', 'ps_car_01_cat_7__0',\n",
    "       'ps_car_01_cat_9__0', 'ps_car_02_cat_0__0', 'ps_car_03_cat___1__0',\n",
    "       'ps_car_03_cat_1__0', 'ps_car_04_cat_0__0', 'ps_car_04_cat_2__0',\n",
    "       'ps_car_06_cat_9__0', 'ps_car_06_cat_10__0', 'ps_car_07_cat___1__0',\n",
    "       'ps_car_07_cat_1__0', 'ps_car_09_cat_0__0', 'ps_car_09_cat_1__0',\n",
    "       'ps_car_11_cat_3__0', 'ps_car_11_cat_25__0', 'ps_car_11_cat_40__0',\n",
    "       'ps_car_11_cat_41__0', 'ps_car_11_cat_61__0', 'ps_car_11_cat_75__0',\n",
    "       'ps_car_11_cat_77__0', 'ps_car_11_cat_90__0', 'ps_car_11_cat_94__0',\n",
    "       'ps_car_11_cat_101__0', 'ps_calc_18_bin_0__0', 'svd_1', 'svd_2',\n",
    "       'svd_5']].columns"
   ]
  },
  {
   "cell_type": "markdown",
   "metadata": {
    "id": "5xtrzXeQJaTw"
   },
   "source": [
    "#### Training LightGBM GBDT"
   ]
  },
  {
   "cell_type": "code",
   "execution_count": null,
   "metadata": {
    "id": "6feFVnXaJaTx",
    "outputId": "67e370d9-150d-41d6-d2c1-df2fdb8a117c"
   },
   "outputs": [
    {
     "name": "stderr",
     "output_type": "stream",
     "text": [
      "\r",
      "  0%|                                                                                            | 0/3 [00:00<?, ?it/s]"
     ]
    },
    {
     "name": "stdout",
     "output_type": "stream",
     "text": [
      "Est =  300 depth= 2 Train 0.2989994159529985 test 0.2850647505516488 colsample_bytree 0.5 alpha 0.001 lambda 0.001\n",
      "Est =  300 depth= 2 Train 0.29907082409413177 test 0.28430347432766556 colsample_bytree 0.5 alpha 0.001 lambda 1\n",
      "Est =  300 depth= 2 Train 0.2986374164058385 test 0.28494160153790804 colsample_bytree 0.5 alpha 0.001 lambda 10\n",
      "Est =  300 depth= 2 Train 0.29878622551680456 test 0.28458398914812566 colsample_bytree 0.5 alpha 1 lambda 0.001\n",
      "Est =  300 depth= 2 Train 0.29841801757027886 test 0.28440281085658814 colsample_bytree 0.5 alpha 1 lambda 1\n",
      "Est =  300 depth= 2 Train 0.29803885276124165 test 0.28406343940290424 colsample_bytree 0.5 alpha 1 lambda 10\n",
      "Est =  300 depth= 2 Train 0.2991097707664778 test 0.2857317053048034 colsample_bytree 0.5 alpha 10 lambda 0.001\n",
      "Est =  300 depth= 2 Train 0.2986097486986843 test 0.28426272504326855 colsample_bytree 0.5 alpha 10 lambda 1\n",
      "Est =  300 depth= 2 Train 0.29787120180724047 test 0.2851529491494902 colsample_bytree 0.5 alpha 10 lambda 10\n",
      "Est =  300 depth= 2 Train 0.3013279714319881 test 0.2855650924542492 colsample_bytree 1 alpha 0.001 lambda 0.001\n",
      "Est =  300 depth= 2 Train 0.301706072890374 test 0.2859825607986175 colsample_bytree 1 alpha 0.001 lambda 1\n",
      "Est =  300 depth= 2 Train 0.30150055616112725 test 0.28580418562564347 colsample_bytree 1 alpha 0.001 lambda 10\n",
      "Est =  300 depth= 2 Train 0.3017792568038189 test 0.2859675141482336 colsample_bytree 1 alpha 1 lambda 0.001\n",
      "Est =  300 depth= 2 Train 0.30187568403345244 test 0.2868284678808066 colsample_bytree 1 alpha 1 lambda 1\n",
      "Est =  300 depth= 2 Train 0.30173699582200864 test 0.286346031100996 colsample_bytree 1 alpha 1 lambda 10\n",
      "Est =  300 depth= 2 Train 0.3014488988765427 test 0.28629520151292787 colsample_bytree 1 alpha 10 lambda 0.001\n",
      "Est =  300 depth= 2 Train 0.30143247790640815 test 0.2867354409518317 colsample_bytree 1 alpha 10 lambda 1\n",
      "Est =  300 depth= 2 Train 0.30076278167155435 test 0.2849953397858658 colsample_bytree 1 alpha 10 lambda 10\n",
      "Est =  300 depth= 2 Train 0.2945375941136832 test 0.2818938558946815 colsample_bytree 0.2 alpha 0.001 lambda 0.001\n",
      "Est =  300 depth= 2 Train 0.29454689623857555 test 0.28199382788571126 colsample_bytree 0.2 alpha 0.001 lambda 1\n",
      "Est =  300 depth= 2 Train 0.2948226437063819 test 0.28197817529526903 colsample_bytree 0.2 alpha 0.001 lambda 10\n",
      "Est =  300 depth= 2 Train 0.29490217424224374 test 0.28205309266126366 colsample_bytree 0.2 alpha 1 lambda 0.001\n",
      "Est =  300 depth= 2 Train 0.2945414969453881 test 0.2820049230098207 colsample_bytree 0.2 alpha 1 lambda 1\n",
      "Est =  300 depth= 2 Train 0.29454919536060165 test 0.2825038847566248 colsample_bytree 0.2 alpha 1 lambda 10\n",
      "Est =  300 depth= 2 Train 0.29443389728257774 test 0.2829456423669048 colsample_bytree 0.2 alpha 10 lambda 0.001\n",
      "Est =  300 depth= 2 Train 0.2939071915411673 test 0.2815471378790748 colsample_bytree 0.2 alpha 10 lambda 1\n",
      "Est =  300 depth= 2 Train 0.2941379103433168 test 0.2821208450259376 colsample_bytree 0.2 alpha 10 lambda 10\n",
      "Est =  300 depth= 3 Train 0.3346546443658347 test 0.2849299528753775 colsample_bytree 0.5 alpha 0.001 lambda 0.001\n",
      "Est =  300 depth= 3 Train 0.33633788690824296 test 0.28561988611546285 colsample_bytree 0.5 alpha 0.001 lambda 1\n",
      "Est =  300 depth= 3 Train 0.33471159906677195 test 0.28715071064159226 colsample_bytree 0.5 alpha 0.001 lambda 10\n",
      "Est =  300 depth= 3 Train 0.335465279054763 test 0.2879209187615359 colsample_bytree 0.5 alpha 1 lambda 0.001\n",
      "Est =  300 depth= 3 Train 0.3349445960426354 test 0.2864030972219407 colsample_bytree 0.5 alpha 1 lambda 1\n",
      "Est =  300 depth= 3 Train 0.33471324359880295 test 0.2869124455636758 colsample_bytree 0.5 alpha 1 lambda 10\n",
      "Est =  300 depth= 3 Train 0.333301827071774 test 0.28707334368357174 colsample_bytree 0.5 alpha 10 lambda 0.001\n",
      "Est =  300 depth= 3 Train 0.3323879961626881 test 0.28745356110636355 colsample_bytree 0.5 alpha 10 lambda 1\n",
      "Est =  300 depth= 3 Train 0.3321449764041837 test 0.28844122864010835 colsample_bytree 0.5 alpha 10 lambda 10\n",
      "Est =  300 depth= 3 Train 0.34088721987418946 test 0.28550064065466696 colsample_bytree 1 alpha 0.001 lambda 0.001\n",
      "Est =  300 depth= 3 Train 0.34097119467505665 test 0.28654503923409846 colsample_bytree 1 alpha 0.001 lambda 1\n",
      "Est =  300 depth= 3 Train 0.3388087965533124 test 0.28460166621308614 colsample_bytree 1 alpha 0.001 lambda 10\n",
      "Est =  300 depth= 3 Train 0.3403664061589169 test 0.2863280772668251 colsample_bytree 1 alpha 1 lambda 0.001\n",
      "Est =  300 depth= 3 Train 0.34102135299152314 test 0.2852576712382231 colsample_bytree 1 alpha 1 lambda 1\n",
      "Est =  300 depth= 3 Train 0.3394968008968533 test 0.2841776985896045 colsample_bytree 1 alpha 1 lambda 10\n",
      "Est =  300 depth= 3 Train 0.34015186428801725 test 0.2850073139289879 colsample_bytree 1 alpha 10 lambda 0.001\n",
      "Est =  300 depth= 3 Train 0.33940877376136935 test 0.2862545260336531 colsample_bytree 1 alpha 10 lambda 1\n",
      "Est =  300 depth= 3 Train 0.3387107611378646 test 0.28598964092404744 colsample_bytree 1 alpha 10 lambda 10\n",
      "Est =  300 depth= 3 Train 0.3239659669816697 test 0.2837980494662582 colsample_bytree 0.2 alpha 0.001 lambda 0.001\n",
      "Est =  300 depth= 3 Train 0.3242248673512811 test 0.2843214399706562 colsample_bytree 0.2 alpha 0.001 lambda 1\n",
      "Est =  300 depth= 3 Train 0.3234293766806693 test 0.28498985606524196 colsample_bytree 0.2 alpha 0.001 lambda 10\n",
      "Est =  300 depth= 3 Train 0.32435777293332846 test 0.2844398056743884 colsample_bytree 0.2 alpha 1 lambda 0.001\n",
      "Est =  300 depth= 3 Train 0.3241584031908742 test 0.2851722919960724 colsample_bytree 0.2 alpha 1 lambda 1\n",
      "Est =  300 depth= 3 Train 0.3235149820480261 test 0.2854717548057075 colsample_bytree 0.2 alpha 1 lambda 10\n",
      "Est =  300 depth= 3 Train 0.3219700660453464 test 0.2858864790756104 colsample_bytree 0.2 alpha 10 lambda 0.001\n",
      "Est =  300 depth= 3 Train 0.3222772862932215 test 0.28551305615242306 colsample_bytree 0.2 alpha 10 lambda 1\n"
     ]
    },
    {
     "name": "stderr",
     "output_type": "stream",
     "text": [
      "\r",
      " 33%|███████████████████████████▋                                                       | 1/3 [06:26<12:53, 386.55s/it]"
     ]
    },
    {
     "name": "stdout",
     "output_type": "stream",
     "text": [
      "Est =  300 depth= 3 Train 0.3216268231156092 test 0.2858481830734947 colsample_bytree 0.2 alpha 10 lambda 10\n",
      "Est =  500 depth= 2 Train 0.3109000924956611 test 0.2868210157775579 colsample_bytree 0.5 alpha 0.001 lambda 0.001\n",
      "Est =  500 depth= 2 Train 0.3113488146534955 test 0.2868282944387679 colsample_bytree 0.5 alpha 0.001 lambda 1\n",
      "Est =  500 depth= 2 Train 0.31076028131144695 test 0.2871406554316627 colsample_bytree 0.5 alpha 0.001 lambda 10\n",
      "Est =  500 depth= 2 Train 0.31119593422909975 test 0.28783766141666556 colsample_bytree 0.5 alpha 1 lambda 0.001\n",
      "Est =  500 depth= 2 Train 0.311033712289823 test 0.2866226807471757 colsample_bytree 0.5 alpha 1 lambda 1\n",
      "Est =  500 depth= 2 Train 0.3099530017543344 test 0.28560371393695627 colsample_bytree 0.5 alpha 1 lambda 10\n",
      "Est =  500 depth= 2 Train 0.3106087358495797 test 0.28774270300762717 colsample_bytree 0.5 alpha 10 lambda 0.001\n",
      "Est =  500 depth= 2 Train 0.30994160945340177 test 0.2861925459676331 colsample_bytree 0.5 alpha 10 lambda 1\n",
      "Est =  500 depth= 2 Train 0.3097009724311268 test 0.28774490387638885 colsample_bytree 0.5 alpha 10 lambda 10\n",
      "Est =  500 depth= 2 Train 0.3132962360030551 test 0.2870864499972776 colsample_bytree 1 alpha 0.001 lambda 0.001\n",
      "Est =  500 depth= 2 Train 0.3137653224269903 test 0.28767924683915114 colsample_bytree 1 alpha 0.001 lambda 1\n",
      "Est =  500 depth= 2 Train 0.3134607302075474 test 0.2872721097358715 colsample_bytree 1 alpha 0.001 lambda 10\n",
      "Est =  500 depth= 2 Train 0.3135544180425076 test 0.28772123457350895 colsample_bytree 1 alpha 1 lambda 0.001\n",
      "Est =  500 depth= 2 Train 0.31349670562142284 test 0.28795641312119025 colsample_bytree 1 alpha 1 lambda 1\n",
      "Est =  500 depth= 2 Train 0.3135766637177082 test 0.2879396549300084 colsample_bytree 1 alpha 1 lambda 10\n",
      "Est =  500 depth= 2 Train 0.31285284474306385 test 0.28788973757325786 colsample_bytree 1 alpha 10 lambda 0.001\n",
      "Est =  500 depth= 2 Train 0.3128924907667563 test 0.2880601432690726 colsample_bytree 1 alpha 10 lambda 1\n",
      "Est =  500 depth= 2 Train 0.3125458191175423 test 0.28718666259300774 colsample_bytree 1 alpha 10 lambda 10\n",
      "Est =  500 depth= 2 Train 0.3058021427489628 test 0.28443299272350364 colsample_bytree 0.2 alpha 0.001 lambda 0.001\n",
      "Est =  500 depth= 2 Train 0.30555411258388765 test 0.28474168560179525 colsample_bytree 0.2 alpha 0.001 lambda 1\n",
      "Est =  500 depth= 2 Train 0.30561592478662125 test 0.2846986454063867 colsample_bytree 0.2 alpha 0.001 lambda 10\n",
      "Est =  500 depth= 2 Train 0.30645000385972665 test 0.28534234933170755 colsample_bytree 0.2 alpha 1 lambda 0.001\n",
      "Est =  500 depth= 2 Train 0.3058710021787776 test 0.2849644685791035 colsample_bytree 0.2 alpha 1 lambda 1\n",
      "Est =  500 depth= 2 Train 0.3052717003299823 test 0.28582639875345106 colsample_bytree 0.2 alpha 1 lambda 10\n",
      "Est =  500 depth= 2 Train 0.3050585181298766 test 0.2857280475229178 colsample_bytree 0.2 alpha 10 lambda 0.001\n",
      "Est =  500 depth= 2 Train 0.30465934141609274 test 0.28471184102429103 colsample_bytree 0.2 alpha 10 lambda 1\n",
      "Est =  500 depth= 2 Train 0.3050932364659742 test 0.2851492677499654 colsample_bytree 0.2 alpha 10 lambda 10\n",
      "Est =  500 depth= 3 Train 0.36083804757866433 test 0.28308909516992653 colsample_bytree 0.5 alpha 0.001 lambda 0.001\n",
      "Est =  500 depth= 3 Train 0.36174597357034344 test 0.2831384929386127 colsample_bytree 0.5 alpha 0.001 lambda 1\n",
      "Est =  500 depth= 3 Train 0.3603926459968829 test 0.2853959362791634 colsample_bytree 0.5 alpha 0.001 lambda 10\n",
      "Est =  500 depth= 3 Train 0.36093715959412287 test 0.28646712021375964 colsample_bytree 0.5 alpha 1 lambda 0.001\n",
      "Est =  500 depth= 3 Train 0.3602071076908926 test 0.28413528868994464 colsample_bytree 0.5 alpha 1 lambda 1\n",
      "Est =  500 depth= 3 Train 0.360540886638693 test 0.2851593259120997 colsample_bytree 0.5 alpha 1 lambda 10\n",
      "Est =  500 depth= 3 Train 0.3587062656837787 test 0.2859362768680622 colsample_bytree 0.5 alpha 10 lambda 0.001\n",
      "Est =  500 depth= 3 Train 0.358173873818445 test 0.285373499521834 colsample_bytree 0.5 alpha 10 lambda 1\n",
      "Est =  500 depth= 3 Train 0.35726789798930025 test 0.28728755567196984 colsample_bytree 0.5 alpha 10 lambda 10\n",
      "Est =  500 depth= 3 Train 0.36921406513476085 test 0.2812681190884536 colsample_bytree 1 alpha 0.001 lambda 0.001\n",
      "Est =  500 depth= 3 Train 0.369485052859561 test 0.28311841646911007 colsample_bytree 1 alpha 0.001 lambda 1\n",
      "Est =  500 depth= 3 Train 0.3662444055394898 test 0.28161125091314365 colsample_bytree 1 alpha 0.001 lambda 10\n",
      "Est =  500 depth= 3 Train 0.3681728523733703 test 0.2822316139683809 colsample_bytree 1 alpha 1 lambda 0.001\n",
      "Est =  500 depth= 3 Train 0.36969867372090515 test 0.28207347173176966 colsample_bytree 1 alpha 1 lambda 1\n",
      "Est =  500 depth= 3 Train 0.36758744838688373 test 0.2813963333477718 colsample_bytree 1 alpha 1 lambda 10\n",
      "Est =  500 depth= 3 Train 0.36769374513629316 test 0.2819555724764131 colsample_bytree 1 alpha 10 lambda 0.001\n",
      "Est =  500 depth= 3 Train 0.3668731974195556 test 0.2833076852782084 colsample_bytree 1 alpha 10 lambda 1\n",
      "Est =  500 depth= 3 Train 0.36543213920979944 test 0.2824034012960943 colsample_bytree 1 alpha 10 lambda 10\n",
      "Est =  500 depth= 3 Train 0.3468225581692308 test 0.28251437910703503 colsample_bytree 0.2 alpha 0.001 lambda 0.001\n",
      "Est =  500 depth= 3 Train 0.34615249095230083 test 0.28307268238671934 colsample_bytree 0.2 alpha 0.001 lambda 1\n",
      "Est =  500 depth= 3 Train 0.345466441426475 test 0.2847280722468959 colsample_bytree 0.2 alpha 0.001 lambda 10\n",
      "Est =  500 depth= 3 Train 0.34700891256417 test 0.28308872614431246 colsample_bytree 0.2 alpha 1 lambda 0.001\n",
      "Est =  500 depth= 3 Train 0.3460346989508518 test 0.2840721690728285 colsample_bytree 0.2 alpha 1 lambda 1\n",
      "Est =  500 depth= 3 Train 0.344943246765427 test 0.2850931729044368 colsample_bytree 0.2 alpha 1 lambda 10\n",
      "Est =  500 depth= 3 Train 0.3427079304336167 test 0.2844549180113318 colsample_bytree 0.2 alpha 10 lambda 0.001\n",
      "Est =  500 depth= 3 Train 0.3424170410960381 test 0.284282459057001 colsample_bytree 0.2 alpha 10 lambda 1\n"
     ]
    },
    {
     "name": "stderr",
     "output_type": "stream",
     "text": [
      "\r",
      " 67%|███████████████████████████████████████████████████████▎                           | 2/3 [16:15<08:25, 505.73s/it]"
     ]
    },
    {
     "name": "stdout",
     "output_type": "stream",
     "text": [
      "Est =  500 depth= 3 Train 0.34189620088204586 test 0.2851281698175634 colsample_bytree 0.2 alpha 10 lambda 10\n",
      "Est =  750 depth= 2 Train 0.32241706918826196 test 0.2869043033825289 colsample_bytree 0.5 alpha 0.001 lambda 0.001\n",
      "Est =  750 depth= 2 Train 0.3230329250379267 test 0.28666966656444903 colsample_bytree 0.5 alpha 0.001 lambda 1\n",
      "Est =  750 depth= 2 Train 0.32185728713614914 test 0.28704077200678046 colsample_bytree 0.5 alpha 0.001 lambda 10\n",
      "Est =  750 depth= 2 Train 0.32265991151277174 test 0.28749905310795154 colsample_bytree 0.5 alpha 1 lambda 0.001\n",
      "Est =  750 depth= 2 Train 0.32258465085169186 test 0.28629037170569194 colsample_bytree 0.5 alpha 1 lambda 1\n",
      "Est =  750 depth= 2 Train 0.3217327918538395 test 0.2856764887402361 colsample_bytree 0.5 alpha 1 lambda 10\n",
      "Est =  750 depth= 2 Train 0.32173786707484653 test 0.2865057439106202 colsample_bytree 0.5 alpha 10 lambda 0.001\n",
      "Est =  750 depth= 2 Train 0.3212495107103166 test 0.28655718165290045 colsample_bytree 0.5 alpha 10 lambda 1\n",
      "Est =  750 depth= 2 Train 0.3204224333867596 test 0.28773288249798834 colsample_bytree 0.5 alpha 10 lambda 10\n",
      "Est =  750 depth= 2 Train 0.32466568340123403 test 0.2871246057696599 colsample_bytree 1 alpha 0.001 lambda 0.001\n",
      "Est =  750 depth= 2 Train 0.3249216350720956 test 0.28734148802740056 colsample_bytree 1 alpha 0.001 lambda 1\n",
      "Est =  750 depth= 2 Train 0.32472374227517453 test 0.2866411704065379 colsample_bytree 1 alpha 0.001 lambda 10\n",
      "Est =  750 depth= 2 Train 0.3249146721753995 test 0.2871670009082954 colsample_bytree 1 alpha 1 lambda 0.001\n",
      "Est =  750 depth= 2 Train 0.3251341186370367 test 0.28738673056767317 colsample_bytree 1 alpha 1 lambda 1\n",
      "Est =  750 depth= 2 Train 0.32479886256465784 test 0.2871471237126242 colsample_bytree 1 alpha 1 lambda 10\n",
      "Est =  750 depth= 2 Train 0.3237465572243403 test 0.28719912237383793 colsample_bytree 1 alpha 10 lambda 0.001\n",
      "Est =  750 depth= 2 Train 0.323944307143029 test 0.28716024183514977 colsample_bytree 1 alpha 10 lambda 1\n",
      "Est =  750 depth= 2 Train 0.32313046503474285 test 0.2869395969922488 colsample_bytree 1 alpha 10 lambda 10\n",
      "Est =  750 depth= 2 Train 0.31671355458455475 test 0.28484785353288355 colsample_bytree 0.2 alpha 0.001 lambda 0.001\n",
      "Est =  750 depth= 2 Train 0.3163573804586419 test 0.284671082883279 colsample_bytree 0.2 alpha 0.001 lambda 1\n",
      "Est =  750 depth= 2 Train 0.3164187600876809 test 0.2853422356718185 colsample_bytree 0.2 alpha 0.001 lambda 10\n",
      "Est =  750 depth= 2 Train 0.31712069577502144 test 0.2855833909583436 colsample_bytree 0.2 alpha 1 lambda 0.001\n",
      "Est =  750 depth= 2 Train 0.31649828847499806 test 0.28461403299946175 colsample_bytree 0.2 alpha 1 lambda 1\n",
      "Est =  750 depth= 2 Train 0.3160750140403601 test 0.28598407601778875 colsample_bytree 0.2 alpha 1 lambda 10\n",
      "Est =  750 depth= 2 Train 0.3153598558499726 test 0.28625212293885505 colsample_bytree 0.2 alpha 10 lambda 0.001\n",
      "Est =  750 depth= 2 Train 0.3149455050382439 test 0.28463748679138323 colsample_bytree 0.2 alpha 10 lambda 1\n",
      "Est =  750 depth= 2 Train 0.31515371478940435 test 0.28539481886960405 colsample_bytree 0.2 alpha 10 lambda 10\n",
      "Est =  750 depth= 3 Train 0.3885195064940392 test 0.28012332487658753 colsample_bytree 0.5 alpha 0.001 lambda 0.001\n",
      "Est =  750 depth= 3 Train 0.38960984286850975 test 0.28037429476834186 colsample_bytree 0.5 alpha 0.001 lambda 1\n",
      "Est =  750 depth= 3 Train 0.38702438964274677 test 0.2800317681456588 colsample_bytree 0.5 alpha 0.001 lambda 10\n",
      "Est =  750 depth= 3 Train 0.38741830385403153 test 0.2820909842113062 colsample_bytree 0.5 alpha 1 lambda 0.001\n",
      "Est =  750 depth= 3 Train 0.38770150426580274 test 0.28131835823553963 colsample_bytree 0.5 alpha 1 lambda 1\n",
      "Est =  750 depth= 3 Train 0.3875649667477459 test 0.2810864684441299 colsample_bytree 0.5 alpha 1 lambda 10\n",
      "Est =  750 depth= 3 Train 0.38557559506015116 test 0.28294509251874 colsample_bytree 0.5 alpha 10 lambda 0.001\n",
      "Est =  750 depth= 3 Train 0.38595656679540036 test 0.28087197156795796 colsample_bytree 0.5 alpha 10 lambda 1\n",
      "Est =  750 depth= 3 Train 0.38330288115682576 test 0.2841591720276808 colsample_bytree 0.5 alpha 10 lambda 10\n",
      "Est =  750 depth= 3 Train 0.39741763441222 test 0.2759725852908401 colsample_bytree 1 alpha 0.001 lambda 0.001\n",
      "Est =  750 depth= 3 Train 0.3988258433408456 test 0.27650290757237084 colsample_bytree 1 alpha 0.001 lambda 1\n",
      "Est =  750 depth= 3 Train 0.39507635578781386 test 0.2776069141211761 colsample_bytree 1 alpha 0.001 lambda 10\n",
      "Est =  750 depth= 3 Train 0.3961683178945479 test 0.2766368505853203 colsample_bytree 1 alpha 1 lambda 0.001\n",
      "Est =  750 depth= 3 Train 0.3972830828657785 test 0.27662580343454035 colsample_bytree 1 alpha 1 lambda 1\n",
      "Est =  750 depth= 3 Train 0.3946339431899981 test 0.2759217438939521 colsample_bytree 1 alpha 1 lambda 10\n",
      "Est =  750 depth= 3 Train 0.39465557975273624 test 0.27841896088912965 colsample_bytree 1 alpha 10 lambda 0.001\n",
      "Est =  750 depth= 3 Train 0.3945865513040605 test 0.27934667799773094 colsample_bytree 1 alpha 10 lambda 1\n",
      "Est =  750 depth= 3 Train 0.3929833379389631 test 0.2786449019876418 colsample_bytree 1 alpha 10 lambda 10\n",
      "Est =  750 depth= 3 Train 0.36889417652936274 test 0.27909518851791204 colsample_bytree 0.2 alpha 0.001 lambda 0.001\n",
      "Est =  750 depth= 3 Train 0.3691522536482088 test 0.28007339718711965 colsample_bytree 0.2 alpha 0.001 lambda 1\n",
      "Est =  750 depth= 3 Train 0.36781963016902486 test 0.28028047074404094 colsample_bytree 0.2 alpha 0.001 lambda 10\n",
      "Est =  750 depth= 3 Train 0.3701086003207137 test 0.28026165781824064 colsample_bytree 0.2 alpha 1 lambda 0.001\n",
      "Est =  750 depth= 3 Train 0.36918935651099005 test 0.2800492643880683 colsample_bytree 0.2 alpha 1 lambda 1\n",
      "Est =  750 depth= 3 Train 0.3676727882299069 test 0.2819492385207749 colsample_bytree 0.2 alpha 1 lambda 10\n",
      "Est =  750 depth= 3 Train 0.3654773793280779 test 0.2816720545255065 colsample_bytree 0.2 alpha 10 lambda 0.001\n",
      "Est =  750 depth= 3 Train 0.3646181178770642 test 0.2818971321040822 colsample_bytree 0.2 alpha 10 lambda 1\n"
     ]
    },
    {
     "name": "stderr",
     "output_type": "stream",
     "text": [
      "100%|███████████████████████████████████████████████████████████████████████████████████| 3/3 [30:28<00:00, 609.63s/it]"
     ]
    },
    {
     "name": "stdout",
     "output_type": "stream",
     "text": [
      "Est =  750 depth= 3 Train 0.3631698532688632 test 0.282256089223202 colsample_bytree 0.2 alpha 10 lambda 10\n"
     ]
    },
    {
     "name": "stderr",
     "output_type": "stream",
     "text": [
      "\n"
     ]
    }
   ],
   "source": [
    "X_feature_imp_train=X_imp_train[imp_feature_50]\n",
    "X_feature_imp_test=X_imp_test[imp_feature_50]\n",
    "\n",
    "colsample_bytree=[0.5,1,0.2] \n",
    "max_depth= [2,3];n_estimators=[300,500,750]\n",
    "train_scores = [];Est=[]\n",
    "test_scores = [];depth=[]\n",
    "#min_child_weight=[50,100,125]\n",
    "reg_alpha=[0.001,1,10]\n",
    "reg_lambda=[0.001,1,10]\n",
    "for i in tqdm(n_estimators):\n",
    "    for j in max_depth:\n",
    "      for k in colsample_bytree:\n",
    "        for l in reg_alpha:\n",
    "          for m in reg_lambda:\n",
    "            Est.append(i)\n",
    "            depth.append(j)\n",
    "            clf = LGBMClassifier(reg_lambda=m,reg_alpha=l,class_weight='balanced',max_depth=j,n_estimators=i,n_jobs=-1,random_state=42,colsample_bytree=k,min_child_weight=125)\n",
    "            clf.fit(X_feature_imp_train,y_train)\n",
    "            train_sc = gini_roc(y_train,clf.predict_proba(X_feature_imp_train)[:,1])\n",
    "            test_sc = gini_roc(y_test,clf.predict_proba(X_feature_imp_test)[:,1])\n",
    "            test_scores.append(test_sc)\n",
    "            train_scores.append(train_sc)\n",
    "            print('Est = ',i,\"depth=\",j,'Train',train_sc,'test',test_sc,'colsample_bytree',k,'alpha',l,'lambda',m)"
   ]
  },
  {
   "cell_type": "markdown",
   "metadata": {
    "id": "loSucCMTJaTx"
   },
   "source": [
    "#### Hyper Tuning Xgboost GBDT"
   ]
  },
  {
   "cell_type": "code",
   "execution_count": null,
   "metadata": {
    "id": "be7-T_o4JaTx",
    "outputId": "d2476050-32f7-4ce1-a474-c62adcad4909"
   },
   "outputs": [
    {
     "name": "stderr",
     "output_type": "stream",
     "text": [
      "\r",
      "  0%|                                                                                            | 0/4 [00:00<?, ?it/s]"
     ]
    },
    {
     "name": "stdout",
     "output_type": "stream",
     "text": [
      "The train gini score is  0.31774016171715647 \n",
      "The test gini score is  0.28721646805379697 Reg 200 0.2 2\n",
      "The train gini score is  0.32487207369300397 \n",
      "The test gini score is  0.2865220253207088 Reg 200 0.2 3\n",
      "The train gini score is  0.3177390813571921 \n",
      "The test gini score is  0.28754094046734213 Reg 200 0.5 2\n",
      "The train gini score is  0.32608235580608214 \n",
      "The test gini score is  0.2876893596170764 Reg 200 0.5 3\n",
      "The train gini score is  0.31772067011835237 \n",
      "The test gini score is  0.28736179329278366 Reg 200 1 2\n"
     ]
    },
    {
     "name": "stderr",
     "output_type": "stream",
     "text": [
      "\r",
      " 25%|████████████████████▊                                                              | 1/4 [09:53<29:39, 593.13s/it]"
     ]
    },
    {
     "name": "stdout",
     "output_type": "stream",
     "text": [
      "The train gini score is  0.32473395699448826 \n",
      "The test gini score is  0.28816686547663295 Reg 200 1 3\n",
      "The train gini score is  0.319938498727514 \n",
      "The test gini score is  0.28771001471874147 Reg 300 0.2 2\n",
      "The train gini score is  0.3306255920969947 \n",
      "The test gini score is  0.2869437787905067 Reg 300 0.2 3\n",
      "The train gini score is  0.31992291712223087 \n",
      "The test gini score is  0.28757202275675553 Reg 300 0.5 2\n",
      "The train gini score is  0.33231862466301965 \n",
      "The test gini score is  0.287361965996771 Reg 300 0.5 3\n",
      "The train gini score is  0.31914737622761136 \n",
      "The test gini score is  0.28750065763132104 Reg 300 1 2\n"
     ]
    },
    {
     "name": "stderr",
     "output_type": "stream",
     "text": [
      "\r",
      " 50%|█████████████████████████████████████████▌                                         | 2/4 [22:34<23:03, 691.89s/it]"
     ]
    },
    {
     "name": "stdout",
     "output_type": "stream",
     "text": [
      "The train gini score is  0.32957079265420663 \n",
      "The test gini score is  0.28804016422233225 Reg 300 1 3\n",
      "The train gini score is  0.3239174082568377 \n",
      "The test gini score is  0.2871336040902308 Reg 500 0.2 2\n",
      "The train gini score is  0.3411476313870061 \n",
      "The test gini score is  0.2865809542829525 Reg 500 0.2 3\n",
      "The train gini score is  0.3242096694402974 \n",
      "The test gini score is  0.28721199841556055 Reg 500 0.5 2\n",
      "The train gini score is  0.3447832997770466 \n",
      "The test gini score is  0.287002684135111 Reg 500 0.5 3\n",
      "The train gini score is  0.322150925178762 \n",
      "The test gini score is  0.2874019728016328 Reg 500 1 2\n"
     ]
    },
    {
     "name": "stderr",
     "output_type": "stream",
     "text": [
      "\r",
      " 75%|██████████████████████████████████████████████████████████████▎                    | 3/4 [40:47<14:35, 875.05s/it]"
     ]
    },
    {
     "name": "stdout",
     "output_type": "stream",
     "text": [
      "The train gini score is  0.3391943745896564 \n",
      "The test gini score is  0.2878456862476668 Reg 500 1 3\n",
      "The train gini score is  0.32779694973577556 \n",
      "The test gini score is  0.2869789956428992 Reg 750 0.2 2\n",
      "The train gini score is  0.3520313635194019 \n",
      "The test gini score is  0.2865898286109174 Reg 750 0.2 3\n",
      "The train gini score is  0.32923507965795795 \n",
      "The test gini score is  0.2870267519856544 Reg 750 0.5 2\n",
      "The train gini score is  0.35822977000295664 \n",
      "The test gini score is  0.2863220665776247 Reg 750 0.5 3\n",
      "The train gini score is  0.32606254299982385 \n",
      "The test gini score is  0.2871609400316115 Reg 750 1 2\n"
     ]
    },
    {
     "name": "stderr",
     "output_type": "stream",
     "text": [
      "100%|████████████████████████████████████████████████████████████████████████████████| 4/4 [1:07:46<00:00, 1016.71s/it]"
     ]
    },
    {
     "name": "stdout",
     "output_type": "stream",
     "text": [
      "The train gini score is  0.35084981282221994 \n",
      "The test gini score is  0.28717193256660045 Reg 750 1 3\n"
     ]
    },
    {
     "name": "stderr",
     "output_type": "stream",
     "text": [
      "\n"
     ]
    }
   ],
   "source": [
    "max_depth= [2,3];n_estimators=[200,300,500,750]\n",
    "subsample=[0.2,0.5,1]\n",
    "\n",
    "classifier1 = XGBClassifier(max_depth=2,n_estimators=200,random_state=42,n_jobs=-1,scale_pos_weight=5.141660248075436,reg_alpha=10,reg_lambda=10)\n",
    "\n",
    "classifier2 = LGBMClassifier(class_weight='balanced',n_jobs=-1,random_state=42,n_estimators=750,max_depth=2,colsample_bytree=0.5,reg_lambda=1,reg_alpha=10)\n",
    "\n",
    "meta=LogisticRegression(random_state=42,C=0.001,n_jobs=-1)\n",
    "\n",
    "sclf = StackingCVClassifier(classifiers = [classifier1, classifier2],shuffle = False,use_probas = True,cv =3,\n",
    "                        meta_classifier = meta,random_state=42)\n",
    "\n",
    "for i in tqdm(n_estimators):\n",
    "    for j in subsample:\n",
    "        for k in max_depth:\n",
    "\n",
    "            classifier1 = XGBClassifier(max_depth=k,n_estimators=i,random_state=42,n_jobs=-1,scale_pos_weight=5.141660248075436,subsample=j)\n",
    "\n",
    "            sclf = StackingCVClassifier(classifiers = [classifier1, classifier2],shuffle = False,use_probas = True,cv =3,\n",
    "                                    meta_classifier = meta,random_state=42)\n",
    "\n",
    "            sclf.fit(X_feature_imp_train,y_train)\n",
    "            train_sc = gini_roc(y_train,sclf.predict_proba(X_feature_imp_train)[:,1])\n",
    "            test_sc = gini_roc(y_test,sclf.predict_proba(X_feature_imp_test)[:,1])\n",
    "            print(\"The train gini score is \",train_sc, \"\\nThe test gini score is \",test_sc,'Reg',i,j,k)"
   ]
  },
  {
   "cell_type": "markdown",
   "metadata": {
    "id": "xiavFwMvJaTx"
   },
   "source": [
    "#### Training other parameters of XGboost GBDT "
   ]
  },
  {
   "cell_type": "code",
   "execution_count": null,
   "metadata": {
    "id": "BJ3v4OKkJaTx",
    "outputId": "43f143d0-1bd4-4b31-91f3-0f63b0dc2ddd"
   },
   "outputs": [
    {
     "name": "stderr",
     "output_type": "stream",
     "text": [
      "\r",
      "  0%|                                                                                            | 0/3 [00:00<?, ?it/s]"
     ]
    },
    {
     "name": "stdout",
     "output_type": "stream",
     "text": [
      "The train gini score is  0.3245123589442376 \n",
      "The test gini score is  0.28828878415897674 Reg 0.001 0.001\n",
      "The train gini score is  0.32469764694475356 \n",
      "The test gini score is  0.28824469297861954 Reg 0.001 1\n"
     ]
    },
    {
     "name": "stderr",
     "output_type": "stream",
     "text": [
      "\r",
      " 33%|███████████████████████████▋                                                       | 1/3 [05:22<10:45, 322.75s/it]"
     ]
    },
    {
     "name": "stdout",
     "output_type": "stream",
     "text": [
      "The train gini score is  0.324184459489397 \n",
      "The test gini score is  0.2882193335384273 Reg 0.001 10\n",
      "The train gini score is  0.3245707155706843 \n",
      "The test gini score is  0.2881023981779749 Reg 1 0.001\n",
      "The train gini score is  0.3246175019250672 \n",
      "The test gini score is  0.2881525782809624 Reg 1 1\n"
     ]
    },
    {
     "name": "stderr",
     "output_type": "stream",
     "text": [
      "\r",
      " 67%|███████████████████████████████████████████████████████▎                           | 2/3 [10:46<05:23, 323.36s/it]"
     ]
    },
    {
     "name": "stdout",
     "output_type": "stream",
     "text": [
      "The train gini score is  0.3241057650955692 \n",
      "The test gini score is  0.2882027997148191 Reg 1 10\n",
      "The train gini score is  0.3243693313883953 \n",
      "The test gini score is  0.28854838629789326 Reg 10 0.001\n",
      "The train gini score is  0.3243604263862081 \n",
      "The test gini score is  0.28860129423821945 Reg 10 1\n"
     ]
    },
    {
     "name": "stderr",
     "output_type": "stream",
     "text": [
      "100%|███████████████████████████████████████████████████████████████████████████████████| 3/3 [16:10<00:00, 323.52s/it]"
     ]
    },
    {
     "name": "stdout",
     "output_type": "stream",
     "text": [
      "The train gini score is  0.32408741043507705 \n",
      "The test gini score is  0.2885597508107012 Reg 10 10\n"
     ]
    },
    {
     "name": "stderr",
     "output_type": "stream",
     "text": [
      "\n"
     ]
    }
   ],
   "source": [
    "max_depth= [2,3];n_estimators=[200,300,500]\n",
    "subsample=[0.2,0.5,1]\n",
    "min_child_weight=[1,2,5,10]\n",
    "reg_alpha=[0.001,1,10]\n",
    "reg_lambda=[0.001,1,10]\n",
    "#classifier1 = XGBClassifier(max_depth=2,n_estimators=200,random_state=42,n_jobs=-1,scale_pos_weight=5.141660248075436,reg_alpha=10,reg_lambda=10)\n",
    "\n",
    "#classifier2 = LGBMClassifier(class_weight='balanced',n_jobs=-1,random_state=42,n_estimators=750,max_depth=2,colsample_bytree=0.5,reg_lambda=1,reg_alpha=10)\n",
    "\n",
    "meta=LogisticRegression(random_state=42,C=0.001,n_jobs=-1)\n",
    "\n",
    "sclf = StackingCVClassifier(classifiers = [classifier1, classifier2],shuffle = False,use_probas = True,cv =3,\n",
    "                        meta_classifier = meta,random_state=42)\n",
    "\n",
    "for j in tqdm(reg_alpha):\n",
    "    for k in reg_lambda:\n",
    "\n",
    "        classifier1 = XGBClassifier(max_depth=3,min_child_weight=5,n_estimators=200,random_state=42,n_jobs=-1,scale_pos_weight=5.141660248075436,subsample=1,reg_lambda=k,reg_alpha=j)\n",
    "        classifier2 = LGBMClassifier(class_weight='balanced',n_jobs=-1,random_state=42,n_estimators=750,max_depth=2,colsample_bytree=0.5,reg_lambda=1,reg_alpha=10)\n",
    "\n",
    "        sclf = StackingCVClassifier(classifiers = [classifier1, classifier2],shuffle = False,use_probas = True,cv =3,\n",
    "                                meta_classifier = meta,random_state=42)\n",
    "\n",
    "        sclf.fit(X_feature_imp_train,y_train)\n",
    "        train_sc = gini_roc(y_train,sclf.predict_proba(X_feature_imp_train)[:,1])\n",
    "        test_sc = gini_roc(y_test,sclf.predict_proba(X_feature_imp_test)[:,1])\n",
    "        print(\"The train gini score is \",train_sc, \"\\nThe test gini score is \",test_sc,'Reg',j,k)"
   ]
  },
  {
   "cell_type": "markdown",
   "metadata": {
    "id": "Fg95FR_kJaTy"
   },
   "source": [
    "#### Final best parameter for Stacking Xgboost and Lightgbm \n",
    "\n",
    "XGBClassifier(max_depth=3,min_child_weight=5,n_estimators=200,random_state=42,n_jobs=-1,scale_pos_weight=5.141660248075436,subsample=1,reg_lambda=1,reg_alpha=10)\n",
    "\n",
    "LGBMClassifier(class_weight='balanced',n_jobs=-1,random_state=42,n_estimators=750,max_depth=2,colsample_bytree=0.5,reg_lambda=1,reg_alpha=10)\n",
    "\n"
   ]
  },
  {
   "cell_type": "code",
   "execution_count": null,
   "metadata": {
    "id": "8G5JrbkvJaTy",
    "outputId": "9fb6b572-06a8-4d9d-a4d2-ade641a37249"
   },
   "outputs": [
    {
     "name": "stderr",
     "output_type": "stream",
     "text": [
      " 20%|████████████████▌                                                                  | 1/5 [01:59<07:57, 119.34s/it]"
     ]
    },
    {
     "name": "stdout",
     "output_type": "stream",
     "text": [
      "The train gini score is  0.32432065789545983 \n",
      "The test gini score is  0.288579967509937 Reg 0.0001\n"
     ]
    },
    {
     "name": "stderr",
     "output_type": "stream",
     "text": [
      "\r",
      " 40%|█████████████████████████████████▏                                                 | 2/5 [03:52<05:47, 115.99s/it]"
     ]
    },
    {
     "name": "stdout",
     "output_type": "stream",
     "text": [
      "The train gini score is  0.3243604263862081 \n",
      "The test gini score is  0.28860129423821945 Reg 0.001\n"
     ]
    },
    {
     "name": "stderr",
     "output_type": "stream",
     "text": [
      "\r",
      " 60%|█████████████████████████████████████████████████▊                                 | 3/5 [05:44<03:48, 114.06s/it]"
     ]
    },
    {
     "name": "stdout",
     "output_type": "stream",
     "text": [
      "The train gini score is  0.3244432749914872 \n",
      "The test gini score is  0.2886449662054793 Reg 0.01\n"
     ]
    },
    {
     "name": "stderr",
     "output_type": "stream",
     "text": [
      "\r",
      " 80%|██████████████████████████████████████████████████████████████████▍                | 4/5 [07:37<01:53, 113.48s/it]"
     ]
    },
    {
     "name": "stdout",
     "output_type": "stream",
     "text": [
      "The train gini score is  0.32464074345080185 \n",
      "The test gini score is  0.28874897533672605 Reg 1\n"
     ]
    },
    {
     "name": "stderr",
     "output_type": "stream",
     "text": [
      "100%|███████████████████████████████████████████████████████████████████████████████████| 5/5 [09:30<00:00, 114.13s/it]"
     ]
    },
    {
     "name": "stdout",
     "output_type": "stream",
     "text": [
      "The train gini score is  0.32465380946816613 \n",
      "The test gini score is  0.2887559071138588 Reg 10\n"
     ]
    },
    {
     "name": "stderr",
     "output_type": "stream",
     "text": [
      "\n"
     ]
    }
   ],
   "source": [
    "\n",
    "reg=[0.0001,0.001,0.01,1,10]\n",
    "\n",
    "# Initializing GBDT (using Lightbgm) classifier\n",
    "classifier1 = XGBClassifier(max_depth=3,min_child_weight=5,n_estimators=200,random_state=42,n_jobs=-1,scale_pos_weight=5.141660248075436,subsample=1,reg_lambda=1,reg_alpha=10)\n",
    "\n",
    "# Initializing GBDT (using Lightbgm) classifier\n",
    "classifier2 = LGBMClassifier(class_weight='balanced',n_jobs=-1,random_state=42,n_estimators=750,max_depth=2,colsample_bytree=0.5,reg_lambda=1,reg_alpha=10)\n",
    "\n",
    "for i in tqdm(reg):\n",
    "\n",
    "    meta=LogisticRegression(random_state=42,C=i,n_jobs=-1)\n",
    "    \n",
    "    sclf = StackingCVClassifier(classifiers = [classifier1, classifier2],shuffle = False,use_probas = True,cv =3,\n",
    "                            meta_classifier = meta,random_state=42,n_jobs=2)\n",
    "                            \n",
    "    sclf.fit(X_feature_imp_train,y_train)\n",
    "    train_sc = gini_roc(y_train,sclf.predict_proba(X_feature_imp_train)[:,1])\n",
    "    test_sc = gini_roc(y_test,sclf.predict_proba(X_feature_imp_test)[:,1])\n",
    "    print(\"The train gini score is \",train_sc, \"\\nThe test gini score is \",test_sc,'Reg',i)"
   ]
  },
  {
   "cell_type": "code",
   "execution_count": null,
   "metadata": {
    "id": "3I4sutCiJaTy",
    "outputId": "526fc4a2-a8ef-453b-c890-de624043728a"
   },
   "outputs": [
    {
     "name": "stdout",
     "output_type": "stream",
     "text": [
      "The train gini score is  0.32465380946816613 \n",
      "The test gini score is  0.2887559071138588\n"
     ]
    }
   ],
   "source": [
    "classifier1 = XGBClassifier(max_depth=3,min_child_weight=5,n_estimators=200,random_state=42,n_jobs=-1,scale_pos_weight=5.141660248075436,subsample=1,reg_lambda=1,reg_alpha=10)\n",
    "classifier2 = LGBMClassifier(class_weight='balanced',n_jobs=-1,random_state=42,n_estimators=750,max_depth=2,colsample_bytree=0.5,reg_lambda=1,reg_alpha=10)\n",
    "\n",
    "#classifier2 = LGBMClassifier(class_weight='balanced',n_jobs=-1,random_state=42,n_estimators=200,max_depth=3,colsample_bytree=0.5,reg_lambda=10,reg_alpha=10)\n",
    "meta=LogisticRegression(random_state=42,C=10,n_jobs=-1)\n",
    "    \n",
    "sclf = StackingCVClassifier(classifiers = [classifier1, classifier2],shuffle = False,use_probas = True,cv =3,\n",
    "                        meta_classifier = meta,random_state=42)\n",
    "\n",
    "sclf.fit(X_feature_imp_train,y_train)\n",
    "train_sc = gini_roc(y_train,sclf.predict_proba(X_feature_imp_train)[:,1])\n",
    "test_sc = gini_roc(y_test,sclf.predict_proba(X_feature_imp_test)[:,1])\n",
    "print(\"The train gini score is \",train_sc, \"\\nThe test gini score is \",test_sc)"
   ]
  },
  {
   "cell_type": "markdown",
   "metadata": {
    "id": "Lz3XaauLJaTy"
   },
   "source": [
    "### MLP Classifier"
   ]
  },
  {
   "cell_type": "code",
   "execution_count": null,
   "metadata": {
    "id": "nks8C6t7JaTy"
   },
   "outputs": [],
   "source": [
    "from sklearn.neural_network import MLPClassifier"
   ]
  },
  {
   "cell_type": "code",
   "execution_count": null,
   "metadata": {
    "id": "o8qMZu0mJaTy",
    "outputId": "c1e8b1f5-f881-48e3-b234-08e70a0f58c4"
   },
   "outputs": [
    {
     "name": "stdout",
     "output_type": "stream",
     "text": [
      "Iteration 1, loss = 0.15635376\n",
      "Validation score: 0.963541\n",
      "Iteration 2, loss = 0.15397564\n",
      "Validation score: 0.963541\n",
      "Iteration 3, loss = 0.15355566\n",
      "Validation score: 0.963541\n",
      "Iteration 4, loss = 0.15314041\n",
      "Validation score: 0.963541\n",
      "Iteration 5, loss = 0.15290902\n",
      "Validation score: 0.963541\n",
      "Iteration 6, loss = 0.15272154\n",
      "Validation score: 0.963541\n",
      "Iteration 7, loss = 0.15268922\n",
      "Validation score: 0.963541\n",
      "Validation score did not improve more than tol=0.000100 for 5 consecutive epochs. Stopping.\n",
      "Train Score 0.25126244220191674 test Score 0.25168522207532273\n"
     ]
    }
   ],
   "source": [
    "\n",
    "clf = MLPClassifier(hidden_layer_sizes=(1024,512,256,128,64,32),random_state=42,shuffle=True,n_iter_no_change=5,verbose=20,max_iter=20,early_stopping=True)\n",
    "clf.fit(X_feature_imp_train,y_train)\n",
    "train_sc = gini_roc(y_train,clf.predict_proba(X_feature_imp_train)[:,1])\n",
    "test_sc = gini_roc(y_test,clf.predict_proba(X_feature_imp_test)[:,1])\n",
    "\n",
    "print('Train Score',train_sc,'test Score',test_sc)"
   ]
  },
  {
   "cell_type": "code",
   "execution_count": null,
   "metadata": {
    "id": "jSDMFqQwJaTz"
   },
   "outputs": [],
   "source": []
  },
  {
   "cell_type": "code",
   "execution_count": 18,
   "metadata": {
    "id": "xvwite5lJaTz",
    "outputId": "17fd02e3-6d9b-46ea-fa2d-5fa71475a188"
   },
   "outputs": [
    {
     "name": "stdout",
     "output_type": "stream",
     "text": [
      "+------------------------------------+--------------+------------------------+-----------------------+\n",
      "| Model                              |   Gini Score |   Kaggle Private Score |   Kaggle Public Score |\n",
      "+====================================+==============+========================+=======================+\n",
      "| Logistic Regression                |        0.099 |                0.25285 |               0.25047 |\n",
      "+------------------------------------+--------------+------------------------+-----------------------+\n",
      "| Random-Forest                      |        0.258 |                0.25039 |               0.24613 |\n",
      "+------------------------------------+--------------+------------------------+-----------------------+\n",
      "| GBDT                               |        0.278 |                0.27332 |               0.27084 |\n",
      "+------------------------------------+--------------+------------------------+-----------------------+\n",
      "| Logistic Reg (SGD)                 |        0.189 |                0.24482 |               0.24382 |\n",
      "+------------------------------------+--------------+------------------------+-----------------------+\n",
      "| Decision Tree                      |        0.208 |                0.19979 |               0.19793 |\n",
      "+------------------------------------+--------------+------------------------+-----------------------+\n",
      "| Adaboost Classifier                |        0.272 |                0.26831 |               0.2678  |\n",
      "+------------------------------------+--------------+------------------------+-----------------------+\n",
      "| GBDT(Light-gbm)                    |        0.279 |                0.27373 |               0.27071 |\n",
      "+------------------------------------+--------------+------------------------+-----------------------+\n",
      "| Stack Random forest+GBDT(Xgboost)  |        0.274 |                0.26832 |               0.26459 |\n",
      "+------------------------------------+--------------+------------------------+-----------------------+\n",
      "| Stack GBDT(Light bgm + Xgboost)    |        0.279 |                0.27398 |               0.27115 |\n",
      "+------------------------------------+--------------+------------------------+-----------------------+\n",
      "| GBDT Xgboost+LightGBM_100 features |        0.281 |                0.2748  |               0.27113 |\n",
      "+------------------------------------+--------------+------------------------+-----------------------+\n",
      "| GBDT Xgboost+LightGBM_75 features  |        0.281 |                0.27446 |               0.27102 |\n",
      "+------------------------------------+--------------+------------------------+-----------------------+\n",
      "| GBDT Xgboost+LightGBM_50 features  |        0.282 |                0.27427 |               0.27199 |\n",
      "+------------------------------------+--------------+------------------------+-----------------------+\n",
      "| GBDT Xgboost+LightGBM_25 features  |        0.277 |                0.27036 |               0.26702 |\n",
      "+------------------------------------+--------------+------------------------+-----------------------+\n",
      "| Stack top_50 features_tuned        |        0.289 |                0.27696 |               0.27403 |\n",
      "+------------------------------------+--------------+------------------------+-----------------------+\n"
     ]
    }
   ],
   "source": [
    "from tabulate import tabulate\n",
    "head=['Model','Gini Score','Kaggle Private Score','Kaggle Public Score']\n",
    "mydata=[('Logistic Regression','0.099','0.25285','0.25047'),\n",
    "    ('Random-Forest','0.258','0.25039','0.24613'),\n",
    "        ('GBDT','0.278','0.27332','0.27084'),\n",
    "       ('Logistic Reg (SGD)','0.189','0.24482','0.24382'),\n",
    "       ('Decision Tree','0.208','0.19979','0.19793'),\n",
    "       ('Adaboost Classifier','0.272','0.26831','0.26780'),\n",
    "       ('GBDT(Light-gbm)','0.279','0.27373','0.27071'),\n",
    "       ('Stack Random forest+GBDT(Xgboost)','0.274','0.26832','0.26459'),\n",
    "       ('Stack GBDT(Light bgm + Xgboost)','0.279','0.27398','0.27115'),\n",
    "       ('GBDT Xgboost+LightGBM_100 features','0.281','0.27480','0.27113'),\n",
    "       ('GBDT Xgboost+LightGBM_75 features','0.281','0.27446','0.27102'),\n",
    "       ('GBDT Xgboost+LightGBM_50 features','0.282','0.27427','0.27199'),\n",
    "       ('GBDT Xgboost+LightGBM_25 features','0.277','0.27036','0.26702'),\n",
    "       ('Stack top_50 features_tuned','0.289','0.27696','0.27403')]\n",
    "\n",
    "print(tabulate(mydata,headers=head,tablefmt=\"grid\"))"
   ]
  },
  {
   "cell_type": "markdown",
   "metadata": {
    "id": "ylDX35zXJaTz"
   },
   "source": [
    "### Further Feature Engineering to improve the model performance"
   ]
  },
  {
   "cell_type": "markdown",
   "metadata": {},
   "source": [
    "After performing feature engineering and keeping all the features, we are not able to improve the performance of the model much.\n",
    "\n",
    "As per the discussion in Kaggle forums, I have removed all the calc features and few other features ('ps_car_10_cat','ps_ind_10_bin','ps_ind_11_bin','ps_ind_12_bin','ps_ind_13_bin','ps_car_05_cat') which are of very less feature importance and retrained the model to see the performance."
   ]
  },
  {
   "cell_type": "code",
   "execution_count": 39,
   "metadata": {
    "id": "r7eqi4ZfJaTz",
    "outputId": "c0ea58b4-d6b5-4cda-df57-50222721e62a"
   },
   "outputs": [
    {
     "data": {
      "text/html": [
       "<div>\n",
       "<style scoped>\n",
       "    .dataframe tbody tr th:only-of-type {\n",
       "        vertical-align: middle;\n",
       "    }\n",
       "\n",
       "    .dataframe tbody tr th {\n",
       "        vertical-align: top;\n",
       "    }\n",
       "\n",
       "    .dataframe thead th {\n",
       "        text-align: right;\n",
       "    }\n",
       "</style>\n",
       "<table border=\"1\" class=\"dataframe\">\n",
       "  <thead>\n",
       "    <tr style=\"text-align: right;\">\n",
       "      <th></th>\n",
       "      <th>Unnamed: 0</th>\n",
       "      <th>ps_ind_01</th>\n",
       "      <th>ps_ind_02_cat</th>\n",
       "      <th>ps_ind_03</th>\n",
       "      <th>ps_ind_04_cat</th>\n",
       "      <th>ps_ind_05_cat</th>\n",
       "      <th>ps_ind_06_bin</th>\n",
       "      <th>ps_ind_07_bin</th>\n",
       "      <th>ps_ind_08_bin</th>\n",
       "      <th>ps_ind_09_bin</th>\n",
       "      <th>...</th>\n",
       "      <th>ps_calc_11</th>\n",
       "      <th>ps_calc_12</th>\n",
       "      <th>ps_calc_13</th>\n",
       "      <th>ps_calc_14</th>\n",
       "      <th>ps_calc_15_bin</th>\n",
       "      <th>ps_calc_16_bin</th>\n",
       "      <th>ps_calc_17_bin</th>\n",
       "      <th>ps_calc_18_bin</th>\n",
       "      <th>ps_calc_19_bin</th>\n",
       "      <th>ps_calc_20_bin</th>\n",
       "    </tr>\n",
       "  </thead>\n",
       "  <tbody>\n",
       "    <tr>\n",
       "      <th>0</th>\n",
       "      <td>74260</td>\n",
       "      <td>3.0</td>\n",
       "      <td>2.0</td>\n",
       "      <td>3.0</td>\n",
       "      <td>1.0</td>\n",
       "      <td>0.0</td>\n",
       "      <td>1.0</td>\n",
       "      <td>0.0</td>\n",
       "      <td>0.0</td>\n",
       "      <td>0.0</td>\n",
       "      <td>...</td>\n",
       "      <td>6.0</td>\n",
       "      <td>0.0</td>\n",
       "      <td>5.0</td>\n",
       "      <td>6.0</td>\n",
       "      <td>0.0</td>\n",
       "      <td>1.0</td>\n",
       "      <td>1.0</td>\n",
       "      <td>1.0</td>\n",
       "      <td>0.0</td>\n",
       "      <td>1.0</td>\n",
       "    </tr>\n",
       "    <tr>\n",
       "      <th>1</th>\n",
       "      <td>319443</td>\n",
       "      <td>4.0</td>\n",
       "      <td>2.0</td>\n",
       "      <td>7.0</td>\n",
       "      <td>1.0</td>\n",
       "      <td>0.0</td>\n",
       "      <td>0.0</td>\n",
       "      <td>1.0</td>\n",
       "      <td>0.0</td>\n",
       "      <td>0.0</td>\n",
       "      <td>...</td>\n",
       "      <td>3.0</td>\n",
       "      <td>1.0</td>\n",
       "      <td>2.0</td>\n",
       "      <td>8.0</td>\n",
       "      <td>0.0</td>\n",
       "      <td>0.0</td>\n",
       "      <td>0.0</td>\n",
       "      <td>0.0</td>\n",
       "      <td>1.0</td>\n",
       "      <td>0.0</td>\n",
       "    </tr>\n",
       "    <tr>\n",
       "      <th>2</th>\n",
       "      <td>550791</td>\n",
       "      <td>5.0</td>\n",
       "      <td>1.0</td>\n",
       "      <td>11.0</td>\n",
       "      <td>0.0</td>\n",
       "      <td>0.0</td>\n",
       "      <td>0.0</td>\n",
       "      <td>0.0</td>\n",
       "      <td>0.0</td>\n",
       "      <td>1.0</td>\n",
       "      <td>...</td>\n",
       "      <td>8.0</td>\n",
       "      <td>0.0</td>\n",
       "      <td>0.0</td>\n",
       "      <td>5.0</td>\n",
       "      <td>0.0</td>\n",
       "      <td>1.0</td>\n",
       "      <td>0.0</td>\n",
       "      <td>0.0</td>\n",
       "      <td>0.0</td>\n",
       "      <td>0.0</td>\n",
       "    </tr>\n",
       "    <tr>\n",
       "      <th>3</th>\n",
       "      <td>302234</td>\n",
       "      <td>1.0</td>\n",
       "      <td>2.0</td>\n",
       "      <td>1.0</td>\n",
       "      <td>1.0</td>\n",
       "      <td>4.0</td>\n",
       "      <td>0.0</td>\n",
       "      <td>0.0</td>\n",
       "      <td>1.0</td>\n",
       "      <td>0.0</td>\n",
       "      <td>...</td>\n",
       "      <td>7.0</td>\n",
       "      <td>2.0</td>\n",
       "      <td>5.0</td>\n",
       "      <td>5.0</td>\n",
       "      <td>0.0</td>\n",
       "      <td>0.0</td>\n",
       "      <td>0.0</td>\n",
       "      <td>0.0</td>\n",
       "      <td>1.0</td>\n",
       "      <td>0.0</td>\n",
       "    </tr>\n",
       "    <tr>\n",
       "      <th>4</th>\n",
       "      <td>15504</td>\n",
       "      <td>2.0</td>\n",
       "      <td>1.0</td>\n",
       "      <td>7.0</td>\n",
       "      <td>0.0</td>\n",
       "      <td>0.0</td>\n",
       "      <td>0.0</td>\n",
       "      <td>1.0</td>\n",
       "      <td>0.0</td>\n",
       "      <td>0.0</td>\n",
       "      <td>...</td>\n",
       "      <td>5.0</td>\n",
       "      <td>4.0</td>\n",
       "      <td>3.0</td>\n",
       "      <td>5.0</td>\n",
       "      <td>0.0</td>\n",
       "      <td>1.0</td>\n",
       "      <td>1.0</td>\n",
       "      <td>1.0</td>\n",
       "      <td>0.0</td>\n",
       "      <td>0.0</td>\n",
       "    </tr>\n",
       "  </tbody>\n",
       "</table>\n",
       "<p>5 rows × 58 columns</p>\n",
       "</div>"
      ],
      "text/plain": [
       "   Unnamed: 0  ps_ind_01  ps_ind_02_cat  ps_ind_03  ps_ind_04_cat  \\\n",
       "0       74260        3.0            2.0        3.0            1.0   \n",
       "1      319443        4.0            2.0        7.0            1.0   \n",
       "2      550791        5.0            1.0       11.0            0.0   \n",
       "3      302234        1.0            2.0        1.0            1.0   \n",
       "4       15504        2.0            1.0        7.0            0.0   \n",
       "\n",
       "   ps_ind_05_cat  ps_ind_06_bin  ps_ind_07_bin  ps_ind_08_bin  ps_ind_09_bin  \\\n",
       "0            0.0            1.0            0.0            0.0            0.0   \n",
       "1            0.0            0.0            1.0            0.0            0.0   \n",
       "2            0.0            0.0            0.0            0.0            1.0   \n",
       "3            4.0            0.0            0.0            1.0            0.0   \n",
       "4            0.0            0.0            1.0            0.0            0.0   \n",
       "\n",
       "   ...  ps_calc_11  ps_calc_12  ps_calc_13  ps_calc_14  ps_calc_15_bin  \\\n",
       "0  ...         6.0         0.0         5.0         6.0             0.0   \n",
       "1  ...         3.0         1.0         2.0         8.0             0.0   \n",
       "2  ...         8.0         0.0         0.0         5.0             0.0   \n",
       "3  ...         7.0         2.0         5.0         5.0             0.0   \n",
       "4  ...         5.0         4.0         3.0         5.0             0.0   \n",
       "\n",
       "   ps_calc_16_bin  ps_calc_17_bin  ps_calc_18_bin  ps_calc_19_bin  \\\n",
       "0             1.0             1.0             1.0             0.0   \n",
       "1             0.0             0.0             0.0             1.0   \n",
       "2             1.0             0.0             0.0             0.0   \n",
       "3             0.0             0.0             0.0             1.0   \n",
       "4             1.0             1.0             1.0             0.0   \n",
       "\n",
       "   ps_calc_20_bin  \n",
       "0             1.0  \n",
       "1             0.0  \n",
       "2             0.0  \n",
       "3             0.0  \n",
       "4             0.0  \n",
       "\n",
       "[5 rows x 58 columns]"
      ]
     },
     "execution_count": 39,
     "metadata": {},
     "output_type": "execute_result"
    }
   ],
   "source": [
    "#Reading the imputed data\n",
    "\n",
    "X_imp_train=pd.read_csv('X_imputed.csv')\n",
    "X_imp_train.head()\n",
    "\n",
    "X_imp_test=pd.read_csv('X_imputed_test.csv')\n",
    "X_imp_test.head()\n"
   ]
  },
  {
   "cell_type": "code",
   "execution_count": 40,
   "metadata": {
    "id": "5AM6GEo4JaTz"
   },
   "outputs": [],
   "source": [
    "#Removing all the noisy features \n",
    "\n",
    "X_imp_train=X_imp_train.drop(['Unnamed: 0','ps_calc_01', 'ps_calc_02', 'ps_calc_03', 'ps_calc_04',\n",
    "       'ps_calc_05', 'ps_calc_06', 'ps_calc_07', 'ps_calc_08', 'ps_calc_09',\n",
    "       'ps_calc_10', 'ps_calc_11', 'ps_calc_12', 'ps_calc_13', 'ps_calc_14',\n",
    "       'ps_calc_15_bin', 'ps_calc_16_bin', 'ps_calc_17_bin', 'ps_calc_18_bin',\n",
    "       'ps_calc_19_bin', 'ps_calc_20_bin','ps_car_10_cat','ps_ind_10_bin','ps_ind_11_bin',\n",
    "'ps_ind_12_bin','ps_ind_13_bin','ps_car_05_cat'],axis=1)\n",
    "\n",
    "X_imp_test=X_imp_test.drop(['Unnamed: 0','ps_calc_01', 'ps_calc_02', 'ps_calc_03', 'ps_calc_04',\n",
    "       'ps_calc_05', 'ps_calc_06', 'ps_calc_07', 'ps_calc_08', 'ps_calc_09',\n",
    "       'ps_calc_10', 'ps_calc_11', 'ps_calc_12', 'ps_calc_13', 'ps_calc_14',\n",
    "       'ps_calc_15_bin', 'ps_calc_16_bin', 'ps_calc_17_bin', 'ps_calc_18_bin',\n",
    "       'ps_calc_19_bin', 'ps_calc_20_bin','ps_car_10_cat','ps_ind_10_bin','ps_ind_11_bin',\n",
    "'ps_ind_12_bin','ps_ind_13_bin','ps_car_05_cat'],axis=1)"
   ]
  },
  {
   "cell_type": "code",
   "execution_count": 41,
   "metadata": {
    "id": "_sYawFWyJaT0"
   },
   "outputs": [],
   "source": [
    "colu=X_imp_train[['ps_ind_02_cat','ps_ind_04_cat', 'ps_ind_05_cat', 'ps_ind_06_bin', 'ps_ind_07_bin',\n",
    "       'ps_ind_08_bin', 'ps_ind_09_bin','ps_ind_16_bin', 'ps_ind_17_bin', 'ps_ind_18_bin','ps_car_01_cat', 'ps_car_02_cat',\n",
    "       'ps_car_03_cat', 'ps_car_04_cat', 'ps_car_06_cat',\n",
    "       'ps_car_07_cat', 'ps_car_08_cat', 'ps_car_09_cat',\n",
    "       'ps_car_11_cat']].columns"
   ]
  },
  {
   "cell_type": "code",
   "execution_count": 42,
   "metadata": {
    "id": "jKF8Gc6fJaT0",
    "outputId": "4584abcf-4fc8-4668-d95b-5c0f6596fd78"
   },
   "outputs": [
    {
     "name": "stderr",
     "output_type": "stream",
     "text": [
      "100%|██████████████████████████████████████████████████████████████████████████████████| 19/19 [00:01<00:00, 12.68it/s]\n",
      "100%|██████████████████████████████████████████████████████████████████████████████████| 19/19 [00:00<00:00, 27.14it/s]\n"
     ]
    }
   ],
   "source": [
    "#Creating One hot encoding of Categorical features/Binary Features and merging them into a single file.\n",
    "\n",
    "for i in tqdm(colu):\n",
    "    temp=pd.get_dummies(X_imp_train[i],prefix=i)\n",
    "    #print(temp)\n",
    "    X_imp_train=X_imp_train.merge(temp,left_index=True,right_index=True)\n",
    "    \n",
    "    \n",
    "for i in tqdm(colu):\n",
    "    temp=pd.get_dummies(X_imp_test[i],prefix=i)\n",
    "    #print(temp)\n",
    "    X_imp_test=X_imp_test.merge(temp,left_index=True,right_index=True)"
   ]
  },
  {
   "cell_type": "code",
   "execution_count": 43,
   "metadata": {
    "id": "hPHO6-TQJaT0",
    "outputId": "4ebd9a88-8188-4461-bf47-ac8edf89c11e"
   },
   "outputs": [
    {
     "name": "stdout",
     "output_type": "stream",
     "text": [
      "Index(['ps_ind_01', 'ps_ind_02_cat', 'ps_ind_03', 'ps_ind_04_cat',\n",
      "       'ps_ind_05_cat', 'ps_ind_06_bin', 'ps_ind_07_bin', 'ps_ind_08_bin',\n",
      "       'ps_ind_09_bin', 'ps_ind_14',\n",
      "       ...\n",
      "       'ps_car_11_cat_95.0', 'ps_car_11_cat_96.0', 'ps_car_11_cat_97.0',\n",
      "       'ps_car_11_cat_98.0', 'ps_car_11_cat_99.0', 'ps_car_11_cat_100.0',\n",
      "       'ps_car_11_cat_101.0', 'ps_car_11_cat_102.0', 'ps_car_11_cat_103.0',\n",
      "       'ps_car_11_cat_104.0'],\n",
      "      dtype='object', length=217)\n",
      "Index(['ps_ind_01', 'ps_ind_02_cat', 'ps_ind_03', 'ps_ind_04_cat',\n",
      "       'ps_ind_05_cat', 'ps_ind_06_bin', 'ps_ind_07_bin', 'ps_ind_08_bin',\n",
      "       'ps_ind_09_bin', 'ps_ind_14',\n",
      "       ...\n",
      "       'ps_car_11_cat_95.0', 'ps_car_11_cat_96.0', 'ps_car_11_cat_97.0',\n",
      "       'ps_car_11_cat_98.0', 'ps_car_11_cat_99.0', 'ps_car_11_cat_100.0',\n",
      "       'ps_car_11_cat_101.0', 'ps_car_11_cat_102.0', 'ps_car_11_cat_103.0',\n",
      "       'ps_car_11_cat_104.0'],\n",
      "      dtype='object', length=217)\n"
     ]
    }
   ],
   "source": [
    "print(X_imp_train.columns)\n",
    "print(X_imp_test.columns)"
   ]
  },
  {
   "cell_type": "code",
   "execution_count": 44,
   "metadata": {
    "id": "LQ-Y57LxJaT0"
   },
   "outputs": [],
   "source": [
    "# Dropping the Categorical features which are not required as they are one-hot encoded already.\n",
    "\n",
    "for i in colu:\n",
    "    X_imp_train=X_imp_train.drop(i,axis=1)\n",
    "    \n",
    "for i in colu:\n",
    "    X_imp_test=X_imp_test.drop(i,axis=1)"
   ]
  },
  {
   "cell_type": "code",
   "execution_count": 45,
   "metadata": {
    "id": "KORVTxBXJaT0",
    "outputId": "d941bfab-99a8-466e-aedd-aac3644f604c"
   },
   "outputs": [
    {
     "name": "stdout",
     "output_type": "stream",
     "text": [
      "(398792, 198)\n",
      "(196420, 198)\n"
     ]
    }
   ],
   "source": [
    "print(X_imp_train.shape)\n",
    "\n",
    "print(X_imp_test.shape)"
   ]
  },
  {
   "cell_type": "code",
   "execution_count": 46,
   "metadata": {
    "id": "sYd2g_0fJaT0",
    "outputId": "219584aa-8087-4307-a71b-24a803ae8534"
   },
   "outputs": [
    {
     "data": {
      "text/html": [
       "<div>\n",
       "<style scoped>\n",
       "    .dataframe tbody tr th:only-of-type {\n",
       "        vertical-align: middle;\n",
       "    }\n",
       "\n",
       "    .dataframe tbody tr th {\n",
       "        vertical-align: top;\n",
       "    }\n",
       "\n",
       "    .dataframe thead th {\n",
       "        text-align: right;\n",
       "    }\n",
       "</style>\n",
       "<table border=\"1\" class=\"dataframe\">\n",
       "  <thead>\n",
       "    <tr style=\"text-align: right;\">\n",
       "      <th></th>\n",
       "      <th>ps_ind_01</th>\n",
       "      <th>ps_ind_03</th>\n",
       "      <th>ps_ind_14</th>\n",
       "      <th>ps_ind_15</th>\n",
       "      <th>ps_reg_01</th>\n",
       "      <th>ps_reg_02</th>\n",
       "      <th>ps_reg_03</th>\n",
       "      <th>ps_car_11</th>\n",
       "      <th>ps_car_12</th>\n",
       "      <th>ps_car_13</th>\n",
       "      <th>...</th>\n",
       "      <th>ps_car_11_cat_95.0</th>\n",
       "      <th>ps_car_11_cat_96.0</th>\n",
       "      <th>ps_car_11_cat_97.0</th>\n",
       "      <th>ps_car_11_cat_98.0</th>\n",
       "      <th>ps_car_11_cat_99.0</th>\n",
       "      <th>ps_car_11_cat_100.0</th>\n",
       "      <th>ps_car_11_cat_101.0</th>\n",
       "      <th>ps_car_11_cat_102.0</th>\n",
       "      <th>ps_car_11_cat_103.0</th>\n",
       "      <th>ps_car_11_cat_104.0</th>\n",
       "    </tr>\n",
       "  </thead>\n",
       "  <tbody>\n",
       "    <tr>\n",
       "      <th>0</th>\n",
       "      <td>0.0</td>\n",
       "      <td>1.0</td>\n",
       "      <td>0.0</td>\n",
       "      <td>7.0</td>\n",
       "      <td>0.8</td>\n",
       "      <td>0.4</td>\n",
       "      <td>0.790569</td>\n",
       "      <td>3.0</td>\n",
       "      <td>0.316228</td>\n",
       "      <td>0.828259</td>\n",
       "      <td>...</td>\n",
       "      <td>0</td>\n",
       "      <td>0</td>\n",
       "      <td>0</td>\n",
       "      <td>0</td>\n",
       "      <td>0</td>\n",
       "      <td>0</td>\n",
       "      <td>0</td>\n",
       "      <td>0</td>\n",
       "      <td>0</td>\n",
       "      <td>0</td>\n",
       "    </tr>\n",
       "    <tr>\n",
       "      <th>1</th>\n",
       "      <td>0.0</td>\n",
       "      <td>2.0</td>\n",
       "      <td>0.0</td>\n",
       "      <td>10.0</td>\n",
       "      <td>0.9</td>\n",
       "      <td>0.3</td>\n",
       "      <td>0.633443</td>\n",
       "      <td>3.0</td>\n",
       "      <td>0.400000</td>\n",
       "      <td>0.989835</td>\n",
       "      <td>...</td>\n",
       "      <td>0</td>\n",
       "      <td>0</td>\n",
       "      <td>0</td>\n",
       "      <td>0</td>\n",
       "      <td>0</td>\n",
       "      <td>0</td>\n",
       "      <td>0</td>\n",
       "      <td>0</td>\n",
       "      <td>0</td>\n",
       "      <td>0</td>\n",
       "    </tr>\n",
       "    <tr>\n",
       "      <th>2</th>\n",
       "      <td>4.0</td>\n",
       "      <td>2.0</td>\n",
       "      <td>0.0</td>\n",
       "      <td>7.0</td>\n",
       "      <td>0.8</td>\n",
       "      <td>1.0</td>\n",
       "      <td>1.190063</td>\n",
       "      <td>2.0</td>\n",
       "      <td>0.446990</td>\n",
       "      <td>0.690176</td>\n",
       "      <td>...</td>\n",
       "      <td>0</td>\n",
       "      <td>0</td>\n",
       "      <td>0</td>\n",
       "      <td>0</td>\n",
       "      <td>0</td>\n",
       "      <td>0</td>\n",
       "      <td>0</td>\n",
       "      <td>0</td>\n",
       "      <td>0</td>\n",
       "      <td>1</td>\n",
       "    </tr>\n",
       "    <tr>\n",
       "      <th>3</th>\n",
       "      <td>1.0</td>\n",
       "      <td>6.0</td>\n",
       "      <td>0.0</td>\n",
       "      <td>3.0</td>\n",
       "      <td>0.7</td>\n",
       "      <td>0.3</td>\n",
       "      <td>0.868548</td>\n",
       "      <td>1.0</td>\n",
       "      <td>0.316228</td>\n",
       "      <td>0.619517</td>\n",
       "      <td>...</td>\n",
       "      <td>0</td>\n",
       "      <td>0</td>\n",
       "      <td>0</td>\n",
       "      <td>0</td>\n",
       "      <td>0</td>\n",
       "      <td>0</td>\n",
       "      <td>0</td>\n",
       "      <td>0</td>\n",
       "      <td>0</td>\n",
       "      <td>0</td>\n",
       "    </tr>\n",
       "    <tr>\n",
       "      <th>4</th>\n",
       "      <td>0.0</td>\n",
       "      <td>1.0</td>\n",
       "      <td>0.0</td>\n",
       "      <td>6.0</td>\n",
       "      <td>0.6</td>\n",
       "      <td>0.5</td>\n",
       "      <td>0.832917</td>\n",
       "      <td>2.0</td>\n",
       "      <td>0.447214</td>\n",
       "      <td>0.921585</td>\n",
       "      <td>...</td>\n",
       "      <td>0</td>\n",
       "      <td>0</td>\n",
       "      <td>0</td>\n",
       "      <td>0</td>\n",
       "      <td>0</td>\n",
       "      <td>0</td>\n",
       "      <td>0</td>\n",
       "      <td>0</td>\n",
       "      <td>0</td>\n",
       "      <td>1</td>\n",
       "    </tr>\n",
       "    <tr>\n",
       "      <th>...</th>\n",
       "      <td>...</td>\n",
       "      <td>...</td>\n",
       "      <td>...</td>\n",
       "      <td>...</td>\n",
       "      <td>...</td>\n",
       "      <td>...</td>\n",
       "      <td>...</td>\n",
       "      <td>...</td>\n",
       "      <td>...</td>\n",
       "      <td>...</td>\n",
       "      <td>...</td>\n",
       "      <td>...</td>\n",
       "      <td>...</td>\n",
       "      <td>...</td>\n",
       "      <td>...</td>\n",
       "      <td>...</td>\n",
       "      <td>...</td>\n",
       "      <td>...</td>\n",
       "      <td>...</td>\n",
       "      <td>...</td>\n",
       "      <td>...</td>\n",
       "    </tr>\n",
       "    <tr>\n",
       "      <th>398787</th>\n",
       "      <td>3.0</td>\n",
       "      <td>2.0</td>\n",
       "      <td>0.0</td>\n",
       "      <td>11.0</td>\n",
       "      <td>0.7</td>\n",
       "      <td>0.5</td>\n",
       "      <td>1.046422</td>\n",
       "      <td>2.0</td>\n",
       "      <td>0.424264</td>\n",
       "      <td>0.880400</td>\n",
       "      <td>...</td>\n",
       "      <td>0</td>\n",
       "      <td>0</td>\n",
       "      <td>0</td>\n",
       "      <td>0</td>\n",
       "      <td>0</td>\n",
       "      <td>0</td>\n",
       "      <td>0</td>\n",
       "      <td>0</td>\n",
       "      <td>0</td>\n",
       "      <td>0</td>\n",
       "    </tr>\n",
       "    <tr>\n",
       "      <th>398788</th>\n",
       "      <td>1.0</td>\n",
       "      <td>3.0</td>\n",
       "      <td>0.0</td>\n",
       "      <td>8.0</td>\n",
       "      <td>0.5</td>\n",
       "      <td>0.2</td>\n",
       "      <td>0.573971</td>\n",
       "      <td>3.0</td>\n",
       "      <td>0.316228</td>\n",
       "      <td>0.720637</td>\n",
       "      <td>...</td>\n",
       "      <td>0</td>\n",
       "      <td>0</td>\n",
       "      <td>0</td>\n",
       "      <td>0</td>\n",
       "      <td>0</td>\n",
       "      <td>0</td>\n",
       "      <td>0</td>\n",
       "      <td>0</td>\n",
       "      <td>0</td>\n",
       "      <td>0</td>\n",
       "    </tr>\n",
       "    <tr>\n",
       "      <th>398789</th>\n",
       "      <td>2.0</td>\n",
       "      <td>7.0</td>\n",
       "      <td>0.0</td>\n",
       "      <td>5.0</td>\n",
       "      <td>0.3</td>\n",
       "      <td>0.1</td>\n",
       "      <td>0.867976</td>\n",
       "      <td>2.0</td>\n",
       "      <td>0.547723</td>\n",
       "      <td>1.382229</td>\n",
       "      <td>...</td>\n",
       "      <td>0</td>\n",
       "      <td>0</td>\n",
       "      <td>0</td>\n",
       "      <td>0</td>\n",
       "      <td>0</td>\n",
       "      <td>0</td>\n",
       "      <td>0</td>\n",
       "      <td>0</td>\n",
       "      <td>0</td>\n",
       "      <td>0</td>\n",
       "    </tr>\n",
       "    <tr>\n",
       "      <th>398790</th>\n",
       "      <td>1.0</td>\n",
       "      <td>2.0</td>\n",
       "      <td>0.0</td>\n",
       "      <td>8.0</td>\n",
       "      <td>0.4</td>\n",
       "      <td>0.0</td>\n",
       "      <td>0.555090</td>\n",
       "      <td>2.0</td>\n",
       "      <td>0.374166</td>\n",
       "      <td>0.777193</td>\n",
       "      <td>...</td>\n",
       "      <td>0</td>\n",
       "      <td>0</td>\n",
       "      <td>0</td>\n",
       "      <td>0</td>\n",
       "      <td>0</td>\n",
       "      <td>0</td>\n",
       "      <td>0</td>\n",
       "      <td>0</td>\n",
       "      <td>0</td>\n",
       "      <td>0</td>\n",
       "    </tr>\n",
       "    <tr>\n",
       "      <th>398791</th>\n",
       "      <td>3.0</td>\n",
       "      <td>3.0</td>\n",
       "      <td>0.0</td>\n",
       "      <td>7.0</td>\n",
       "      <td>0.3</td>\n",
       "      <td>0.0</td>\n",
       "      <td>0.983298</td>\n",
       "      <td>0.0</td>\n",
       "      <td>0.374166</td>\n",
       "      <td>0.740533</td>\n",
       "      <td>...</td>\n",
       "      <td>0</td>\n",
       "      <td>0</td>\n",
       "      <td>0</td>\n",
       "      <td>0</td>\n",
       "      <td>0</td>\n",
       "      <td>0</td>\n",
       "      <td>0</td>\n",
       "      <td>0</td>\n",
       "      <td>0</td>\n",
       "      <td>0</td>\n",
       "    </tr>\n",
       "  </tbody>\n",
       "</table>\n",
       "<p>398792 rows × 198 columns</p>\n",
       "</div>"
      ],
      "text/plain": [
       "        ps_ind_01  ps_ind_03  ps_ind_14  ps_ind_15  ps_reg_01  ps_reg_02  \\\n",
       "0             0.0        1.0        0.0        7.0        0.8        0.4   \n",
       "1             0.0        2.0        0.0       10.0        0.9        0.3   \n",
       "2             4.0        2.0        0.0        7.0        0.8        1.0   \n",
       "3             1.0        6.0        0.0        3.0        0.7        0.3   \n",
       "4             0.0        1.0        0.0        6.0        0.6        0.5   \n",
       "...           ...        ...        ...        ...        ...        ...   \n",
       "398787        3.0        2.0        0.0       11.0        0.7        0.5   \n",
       "398788        1.0        3.0        0.0        8.0        0.5        0.2   \n",
       "398789        2.0        7.0        0.0        5.0        0.3        0.1   \n",
       "398790        1.0        2.0        0.0        8.0        0.4        0.0   \n",
       "398791        3.0        3.0        0.0        7.0        0.3        0.0   \n",
       "\n",
       "        ps_reg_03  ps_car_11  ps_car_12  ps_car_13  ...  ps_car_11_cat_95.0  \\\n",
       "0        0.790569        3.0   0.316228   0.828259  ...                   0   \n",
       "1        0.633443        3.0   0.400000   0.989835  ...                   0   \n",
       "2        1.190063        2.0   0.446990   0.690176  ...                   0   \n",
       "3        0.868548        1.0   0.316228   0.619517  ...                   0   \n",
       "4        0.832917        2.0   0.447214   0.921585  ...                   0   \n",
       "...           ...        ...        ...        ...  ...                 ...   \n",
       "398787   1.046422        2.0   0.424264   0.880400  ...                   0   \n",
       "398788   0.573971        3.0   0.316228   0.720637  ...                   0   \n",
       "398789   0.867976        2.0   0.547723   1.382229  ...                   0   \n",
       "398790   0.555090        2.0   0.374166   0.777193  ...                   0   \n",
       "398791   0.983298        0.0   0.374166   0.740533  ...                   0   \n",
       "\n",
       "        ps_car_11_cat_96.0  ps_car_11_cat_97.0  ps_car_11_cat_98.0  \\\n",
       "0                        0                   0                   0   \n",
       "1                        0                   0                   0   \n",
       "2                        0                   0                   0   \n",
       "3                        0                   0                   0   \n",
       "4                        0                   0                   0   \n",
       "...                    ...                 ...                 ...   \n",
       "398787                   0                   0                   0   \n",
       "398788                   0                   0                   0   \n",
       "398789                   0                   0                   0   \n",
       "398790                   0                   0                   0   \n",
       "398791                   0                   0                   0   \n",
       "\n",
       "        ps_car_11_cat_99.0  ps_car_11_cat_100.0  ps_car_11_cat_101.0  \\\n",
       "0                        0                    0                    0   \n",
       "1                        0                    0                    0   \n",
       "2                        0                    0                    0   \n",
       "3                        0                    0                    0   \n",
       "4                        0                    0                    0   \n",
       "...                    ...                  ...                  ...   \n",
       "398787                   0                    0                    0   \n",
       "398788                   0                    0                    0   \n",
       "398789                   0                    0                    0   \n",
       "398790                   0                    0                    0   \n",
       "398791                   0                    0                    0   \n",
       "\n",
       "        ps_car_11_cat_102.0  ps_car_11_cat_103.0  ps_car_11_cat_104.0  \n",
       "0                         0                    0                    0  \n",
       "1                         0                    0                    0  \n",
       "2                         0                    0                    1  \n",
       "3                         0                    0                    0  \n",
       "4                         0                    0                    1  \n",
       "...                     ...                  ...                  ...  \n",
       "398787                    0                    0                    0  \n",
       "398788                    0                    0                    0  \n",
       "398789                    0                    0                    0  \n",
       "398790                    0                    0                    0  \n",
       "398791                    0                    0                    0  \n",
       "\n",
       "[398792 rows x 198 columns]"
      ]
     },
     "execution_count": 46,
     "metadata": {},
     "output_type": "execute_result"
    }
   ],
   "source": [
    "X_imp_train"
   ]
  },
  {
   "cell_type": "markdown",
   "metadata": {
    "id": "cGXuhv-dJaT1"
   },
   "source": [
    "### Handling Outliers"
   ]
  },
  {
   "cell_type": "code",
   "execution_count": 47,
   "metadata": {
    "id": "EqIGDN8BJaT1"
   },
   "outputs": [],
   "source": [
    "colum=X_imp_train[['ps_ind_01','ps_ind_03', 'ps_ind_15','ps_reg_01',\n",
    "       'ps_reg_02', 'ps_reg_03', 'ps_car_13', \n",
    "       'ps_car_15']].columns"
   ]
  },
  {
   "cell_type": "code",
   "execution_count": 48,
   "metadata": {
    "id": "XjShteDWJaT1"
   },
   "outputs": [],
   "source": [
    "#Log transformation\n",
    "\n",
    "for i in colum:\n",
    "\n",
    "    X_imp_train[i]=X_imp_train[i]+0.001  #adding a small noise to avoid 'inf' values.\n",
    "    X_imp_train[i]=np.log(X_imp_train[i]) #log transformation\n",
    "    \n",
    "for i in colum:\n",
    "\n",
    "    X_imp_test[i]=X_imp_test[i]+0.001  #adding a small noise to avoid 'inf' values.\n",
    "    X_imp_test[i]=np.log(X_imp_test[i]) #log transformation"
   ]
  },
  {
   "cell_type": "code",
   "execution_count": 49,
   "metadata": {
    "id": "ozrkicRXJaT1",
    "outputId": "67c3bb4b-9f54-4086-9972-d4f2aa2d703f"
   },
   "outputs": [
    {
     "name": "stdout",
     "output_type": "stream",
     "text": [
      "0\n",
      "0\n",
      "0\n",
      "0\n"
     ]
    }
   ],
   "source": [
    "#Infinity value check-train\n",
    "\n",
    "print(X_imp_train.eq(-np.inf).sum().sum())\n",
    "print(X_imp_train.eq(np.inf).sum().sum())\n",
    "\n",
    "#Infinity value check -test\n",
    "\n",
    "print(X_imp_test.eq(-np.inf).sum().sum())\n",
    "print(X_imp_test.eq(np.inf).sum().sum())"
   ]
  },
  {
   "cell_type": "code",
   "execution_count": 50,
   "metadata": {
    "id": "sHL2AyLqJaT1"
   },
   "outputs": [],
   "source": [
    "#X_imp_train.to_csv('check_train.csv')\n",
    "#X_imp_test.to_csv('check_test.csv')"
   ]
  },
  {
   "cell_type": "code",
   "execution_count": 14,
   "metadata": {
    "executionInfo": {
     "elapsed": 10407,
     "status": "ok",
     "timestamp": 1617722488538,
     "user": {
      "displayName": "Chandru King",
      "photoUrl": "",
      "userId": "14503008463780041909"
     },
     "user_tz": -330
    },
    "id": "LymId0_IJaT2"
   },
   "outputs": [],
   "source": [
    "#Removing all the featured engineered svd features as it didnt improve the model performance\n",
    "\n",
    "X_imp_train=pd.read_csv('check_train.csv')\n",
    "X_imp_test=pd.read_csv('check_test.csv')\n",
    "\n",
    "X_imp_train=X_imp_train.drop(['Unnamed: 0','svd_1', 'svd_2', 'svd_3', 'svd_4', 'svd_5','svd_6'],axis=1)\n",
    "X_imp_test=X_imp_test.drop(['Unnamed: 0','svd_1', 'svd_2', 'svd_3', 'svd_4', 'svd_5','svd_6'],axis=1)\n",
    "\n",
    "\n",
    "X_imp_train = X_imp_train.rename(columns = lambda x:re.sub('[^A-Za-z0-9_]+', '__', x))\n",
    "X_imp_test = X_imp_test.rename(columns = lambda x:re.sub('[^A-Za-z0-9_]+', '__', x))"
   ]
  },
  {
   "cell_type": "code",
   "execution_count": 15,
   "metadata": {
    "colab": {
     "base_uri": "https://localhost:8080/",
     "height": 422
    },
    "executionInfo": {
     "elapsed": 1276,
     "status": "ok",
     "timestamp": 1617722491547,
     "user": {
      "displayName": "Chandru King",
      "photoUrl": "",
      "userId": "14503008463780041909"
     },
     "user_tz": -330
    },
    "id": "SSARBLRBJaT2",
    "outputId": "79ea89bc-e630-4e7e-df63-2dd058d27cef"
   },
   "outputs": [
    {
     "data": {
      "text/html": [
       "<div>\n",
       "<style scoped>\n",
       "    .dataframe tbody tr th:only-of-type {\n",
       "        vertical-align: middle;\n",
       "    }\n",
       "\n",
       "    .dataframe tbody tr th {\n",
       "        vertical-align: top;\n",
       "    }\n",
       "\n",
       "    .dataframe thead th {\n",
       "        text-align: right;\n",
       "    }\n",
       "</style>\n",
       "<table border=\"1\" class=\"dataframe\">\n",
       "  <thead>\n",
       "    <tr style=\"text-align: right;\">\n",
       "      <th></th>\n",
       "      <th>ps_ind_01</th>\n",
       "      <th>ps_ind_03</th>\n",
       "      <th>ps_ind_14</th>\n",
       "      <th>ps_ind_15</th>\n",
       "      <th>ps_reg_01</th>\n",
       "      <th>ps_reg_02</th>\n",
       "      <th>ps_reg_03</th>\n",
       "      <th>ps_car_11</th>\n",
       "      <th>ps_car_12</th>\n",
       "      <th>ps_car_13</th>\n",
       "      <th>...</th>\n",
       "      <th>ps_car_11_cat_95__0</th>\n",
       "      <th>ps_car_11_cat_96__0</th>\n",
       "      <th>ps_car_11_cat_97__0</th>\n",
       "      <th>ps_car_11_cat_98__0</th>\n",
       "      <th>ps_car_11_cat_99__0</th>\n",
       "      <th>ps_car_11_cat_100__0</th>\n",
       "      <th>ps_car_11_cat_101__0</th>\n",
       "      <th>ps_car_11_cat_102__0</th>\n",
       "      <th>ps_car_11_cat_103__0</th>\n",
       "      <th>ps_car_11_cat_104__0</th>\n",
       "    </tr>\n",
       "  </thead>\n",
       "  <tbody>\n",
       "    <tr>\n",
       "      <th>0</th>\n",
       "      <td>-6.907755</td>\n",
       "      <td>0.001000</td>\n",
       "      <td>-6.907755</td>\n",
       "      <td>1.946053</td>\n",
       "      <td>-0.221894</td>\n",
       "      <td>-0.913794</td>\n",
       "      <td>-0.233738</td>\n",
       "      <td>1.098946</td>\n",
       "      <td>-1.148135</td>\n",
       "      <td>-0.187223</td>\n",
       "      <td>...</td>\n",
       "      <td>0</td>\n",
       "      <td>0</td>\n",
       "      <td>0</td>\n",
       "      <td>0</td>\n",
       "      <td>0</td>\n",
       "      <td>0</td>\n",
       "      <td>0</td>\n",
       "      <td>0</td>\n",
       "      <td>0</td>\n",
       "      <td>0</td>\n",
       "    </tr>\n",
       "    <tr>\n",
       "      <th>1</th>\n",
       "      <td>-6.907755</td>\n",
       "      <td>0.693647</td>\n",
       "      <td>-6.907755</td>\n",
       "      <td>2.302685</td>\n",
       "      <td>-0.104250</td>\n",
       "      <td>-1.200645</td>\n",
       "      <td>-0.455008</td>\n",
       "      <td>1.098946</td>\n",
       "      <td>-0.913794</td>\n",
       "      <td>-0.009208</td>\n",
       "      <td>...</td>\n",
       "      <td>0</td>\n",
       "      <td>0</td>\n",
       "      <td>0</td>\n",
       "      <td>0</td>\n",
       "      <td>0</td>\n",
       "      <td>0</td>\n",
       "      <td>0</td>\n",
       "      <td>0</td>\n",
       "      <td>0</td>\n",
       "      <td>0</td>\n",
       "    </tr>\n",
       "    <tr>\n",
       "      <th>2</th>\n",
       "      <td>1.386544</td>\n",
       "      <td>0.693647</td>\n",
       "      <td>-6.907755</td>\n",
       "      <td>1.946053</td>\n",
       "      <td>-0.221894</td>\n",
       "      <td>0.001000</td>\n",
       "      <td>0.174846</td>\n",
       "      <td>0.693647</td>\n",
       "      <td>-0.802985</td>\n",
       "      <td>-0.369361</td>\n",
       "      <td>...</td>\n",
       "      <td>0</td>\n",
       "      <td>0</td>\n",
       "      <td>0</td>\n",
       "      <td>0</td>\n",
       "      <td>0</td>\n",
       "      <td>0</td>\n",
       "      <td>0</td>\n",
       "      <td>0</td>\n",
       "      <td>0</td>\n",
       "      <td>1</td>\n",
       "    </tr>\n",
       "    <tr>\n",
       "      <th>3</th>\n",
       "      <td>0.001000</td>\n",
       "      <td>1.791926</td>\n",
       "      <td>-6.907755</td>\n",
       "      <td>1.098946</td>\n",
       "      <td>-0.355247</td>\n",
       "      <td>-1.200645</td>\n",
       "      <td>-0.139782</td>\n",
       "      <td>0.001000</td>\n",
       "      <td>-1.148135</td>\n",
       "      <td>-0.477202</td>\n",
       "      <td>...</td>\n",
       "      <td>0</td>\n",
       "      <td>0</td>\n",
       "      <td>0</td>\n",
       "      <td>0</td>\n",
       "      <td>0</td>\n",
       "      <td>0</td>\n",
       "      <td>0</td>\n",
       "      <td>0</td>\n",
       "      <td>0</td>\n",
       "      <td>0</td>\n",
       "    </tr>\n",
       "    <tr>\n",
       "      <th>4</th>\n",
       "      <td>-6.907755</td>\n",
       "      <td>0.001000</td>\n",
       "      <td>-6.907755</td>\n",
       "      <td>1.791926</td>\n",
       "      <td>-0.509160</td>\n",
       "      <td>-0.691149</td>\n",
       "      <td>-0.181622</td>\n",
       "      <td>0.693647</td>\n",
       "      <td>-0.802485</td>\n",
       "      <td>-0.080576</td>\n",
       "      <td>...</td>\n",
       "      <td>0</td>\n",
       "      <td>0</td>\n",
       "      <td>0</td>\n",
       "      <td>0</td>\n",
       "      <td>0</td>\n",
       "      <td>0</td>\n",
       "      <td>0</td>\n",
       "      <td>0</td>\n",
       "      <td>0</td>\n",
       "      <td>1</td>\n",
       "    </tr>\n",
       "    <tr>\n",
       "      <th>...</th>\n",
       "      <td>...</td>\n",
       "      <td>...</td>\n",
       "      <td>...</td>\n",
       "      <td>...</td>\n",
       "      <td>...</td>\n",
       "      <td>...</td>\n",
       "      <td>...</td>\n",
       "      <td>...</td>\n",
       "      <td>...</td>\n",
       "      <td>...</td>\n",
       "      <td>...</td>\n",
       "      <td>...</td>\n",
       "      <td>...</td>\n",
       "      <td>...</td>\n",
       "      <td>...</td>\n",
       "      <td>...</td>\n",
       "      <td>...</td>\n",
       "      <td>...</td>\n",
       "      <td>...</td>\n",
       "      <td>...</td>\n",
       "      <td>...</td>\n",
       "    </tr>\n",
       "    <tr>\n",
       "      <th>398787</th>\n",
       "      <td>1.098946</td>\n",
       "      <td>0.693647</td>\n",
       "      <td>-6.907755</td>\n",
       "      <td>2.397986</td>\n",
       "      <td>-0.355247</td>\n",
       "      <td>-0.691149</td>\n",
       "      <td>0.046332</td>\n",
       "      <td>0.693647</td>\n",
       "      <td>-0.855045</td>\n",
       "      <td>-0.126244</td>\n",
       "      <td>...</td>\n",
       "      <td>0</td>\n",
       "      <td>0</td>\n",
       "      <td>0</td>\n",
       "      <td>0</td>\n",
       "      <td>0</td>\n",
       "      <td>0</td>\n",
       "      <td>0</td>\n",
       "      <td>0</td>\n",
       "      <td>0</td>\n",
       "      <td>0</td>\n",
       "    </tr>\n",
       "    <tr>\n",
       "      <th>398788</th>\n",
       "      <td>0.001000</td>\n",
       "      <td>1.098946</td>\n",
       "      <td>-6.907755</td>\n",
       "      <td>2.079567</td>\n",
       "      <td>-0.691149</td>\n",
       "      <td>-1.604450</td>\n",
       "      <td>-0.553436</td>\n",
       "      <td>1.098946</td>\n",
       "      <td>-1.148135</td>\n",
       "      <td>-0.326233</td>\n",
       "      <td>...</td>\n",
       "      <td>0</td>\n",
       "      <td>0</td>\n",
       "      <td>0</td>\n",
       "      <td>0</td>\n",
       "      <td>0</td>\n",
       "      <td>0</td>\n",
       "      <td>0</td>\n",
       "      <td>0</td>\n",
       "      <td>0</td>\n",
       "      <td>0</td>\n",
       "    </tr>\n",
       "    <tr>\n",
       "      <th>398789</th>\n",
       "      <td>0.693647</td>\n",
       "      <td>1.946053</td>\n",
       "      <td>-6.907755</td>\n",
       "      <td>1.609638</td>\n",
       "      <td>-1.200645</td>\n",
       "      <td>-2.292635</td>\n",
       "      <td>-0.140439</td>\n",
       "      <td>0.693647</td>\n",
       "      <td>-0.600162</td>\n",
       "      <td>0.324421</td>\n",
       "      <td>...</td>\n",
       "      <td>0</td>\n",
       "      <td>0</td>\n",
       "      <td>0</td>\n",
       "      <td>0</td>\n",
       "      <td>0</td>\n",
       "      <td>0</td>\n",
       "      <td>0</td>\n",
       "      <td>0</td>\n",
       "      <td>0</td>\n",
       "      <td>0</td>\n",
       "    </tr>\n",
       "    <tr>\n",
       "      <th>398790</th>\n",
       "      <td>0.001000</td>\n",
       "      <td>0.693647</td>\n",
       "      <td>-6.907755</td>\n",
       "      <td>2.079567</td>\n",
       "      <td>-0.913794</td>\n",
       "      <td>-6.907755</td>\n",
       "      <td>-0.586825</td>\n",
       "      <td>0.693647</td>\n",
       "      <td>-0.980387</td>\n",
       "      <td>-0.250781</td>\n",
       "      <td>...</td>\n",
       "      <td>0</td>\n",
       "      <td>0</td>\n",
       "      <td>0</td>\n",
       "      <td>0</td>\n",
       "      <td>0</td>\n",
       "      <td>0</td>\n",
       "      <td>0</td>\n",
       "      <td>0</td>\n",
       "      <td>0</td>\n",
       "      <td>0</td>\n",
       "    </tr>\n",
       "    <tr>\n",
       "      <th>398791</th>\n",
       "      <td>1.098946</td>\n",
       "      <td>1.098946</td>\n",
       "      <td>-6.907755</td>\n",
       "      <td>1.946053</td>\n",
       "      <td>-1.200645</td>\n",
       "      <td>-6.907755</td>\n",
       "      <td>-0.015827</td>\n",
       "      <td>-6.907755</td>\n",
       "      <td>-0.980387</td>\n",
       "      <td>-0.299036</td>\n",
       "      <td>...</td>\n",
       "      <td>0</td>\n",
       "      <td>0</td>\n",
       "      <td>0</td>\n",
       "      <td>0</td>\n",
       "      <td>0</td>\n",
       "      <td>0</td>\n",
       "      <td>0</td>\n",
       "      <td>0</td>\n",
       "      <td>0</td>\n",
       "      <td>0</td>\n",
       "    </tr>\n",
       "  </tbody>\n",
       "</table>\n",
       "<p>398792 rows × 198 columns</p>\n",
       "</div>"
      ],
      "text/plain": [
       "        ps_ind_01  ps_ind_03  ps_ind_14  ps_ind_15  ps_reg_01  ps_reg_02  \\\n",
       "0       -6.907755   0.001000  -6.907755   1.946053  -0.221894  -0.913794   \n",
       "1       -6.907755   0.693647  -6.907755   2.302685  -0.104250  -1.200645   \n",
       "2        1.386544   0.693647  -6.907755   1.946053  -0.221894   0.001000   \n",
       "3        0.001000   1.791926  -6.907755   1.098946  -0.355247  -1.200645   \n",
       "4       -6.907755   0.001000  -6.907755   1.791926  -0.509160  -0.691149   \n",
       "...           ...        ...        ...        ...        ...        ...   \n",
       "398787   1.098946   0.693647  -6.907755   2.397986  -0.355247  -0.691149   \n",
       "398788   0.001000   1.098946  -6.907755   2.079567  -0.691149  -1.604450   \n",
       "398789   0.693647   1.946053  -6.907755   1.609638  -1.200645  -2.292635   \n",
       "398790   0.001000   0.693647  -6.907755   2.079567  -0.913794  -6.907755   \n",
       "398791   1.098946   1.098946  -6.907755   1.946053  -1.200645  -6.907755   \n",
       "\n",
       "        ps_reg_03  ps_car_11  ps_car_12  ps_car_13  ...  ps_car_11_cat_95__0  \\\n",
       "0       -0.233738   1.098946  -1.148135  -0.187223  ...                    0   \n",
       "1       -0.455008   1.098946  -0.913794  -0.009208  ...                    0   \n",
       "2        0.174846   0.693647  -0.802985  -0.369361  ...                    0   \n",
       "3       -0.139782   0.001000  -1.148135  -0.477202  ...                    0   \n",
       "4       -0.181622   0.693647  -0.802485  -0.080576  ...                    0   \n",
       "...           ...        ...        ...        ...  ...                  ...   \n",
       "398787   0.046332   0.693647  -0.855045  -0.126244  ...                    0   \n",
       "398788  -0.553436   1.098946  -1.148135  -0.326233  ...                    0   \n",
       "398789  -0.140439   0.693647  -0.600162   0.324421  ...                    0   \n",
       "398790  -0.586825   0.693647  -0.980387  -0.250781  ...                    0   \n",
       "398791  -0.015827  -6.907755  -0.980387  -0.299036  ...                    0   \n",
       "\n",
       "        ps_car_11_cat_96__0  ps_car_11_cat_97__0  ps_car_11_cat_98__0  \\\n",
       "0                         0                    0                    0   \n",
       "1                         0                    0                    0   \n",
       "2                         0                    0                    0   \n",
       "3                         0                    0                    0   \n",
       "4                         0                    0                    0   \n",
       "...                     ...                  ...                  ...   \n",
       "398787                    0                    0                    0   \n",
       "398788                    0                    0                    0   \n",
       "398789                    0                    0                    0   \n",
       "398790                    0                    0                    0   \n",
       "398791                    0                    0                    0   \n",
       "\n",
       "        ps_car_11_cat_99__0  ps_car_11_cat_100__0  ps_car_11_cat_101__0  \\\n",
       "0                         0                     0                     0   \n",
       "1                         0                     0                     0   \n",
       "2                         0                     0                     0   \n",
       "3                         0                     0                     0   \n",
       "4                         0                     0                     0   \n",
       "...                     ...                   ...                   ...   \n",
       "398787                    0                     0                     0   \n",
       "398788                    0                     0                     0   \n",
       "398789                    0                     0                     0   \n",
       "398790                    0                     0                     0   \n",
       "398791                    0                     0                     0   \n",
       "\n",
       "        ps_car_11_cat_102__0  ps_car_11_cat_103__0  ps_car_11_cat_104__0  \n",
       "0                          0                     0                     0  \n",
       "1                          0                     0                     0  \n",
       "2                          0                     0                     1  \n",
       "3                          0                     0                     0  \n",
       "4                          0                     0                     1  \n",
       "...                      ...                   ...                   ...  \n",
       "398787                     0                     0                     0  \n",
       "398788                     0                     0                     0  \n",
       "398789                     0                     0                     0  \n",
       "398790                     0                     0                     0  \n",
       "398791                     0                     0                     0  \n",
       "\n",
       "[398792 rows x 198 columns]"
      ]
     },
     "execution_count": 15,
     "metadata": {},
     "output_type": "execute_result"
    }
   ],
   "source": [
    "X_imp_train"
   ]
  },
  {
   "cell_type": "markdown",
   "metadata": {},
   "source": [
    "### Tuned Stacking Classifier"
   ]
  },
  {
   "cell_type": "code",
   "execution_count": 9,
   "metadata": {
    "colab": {
     "base_uri": "https://localhost:8080/",
     "height": 229
    },
    "executionInfo": {
     "elapsed": 1365,
     "status": "error",
     "timestamp": 1617722466050,
     "user": {
      "displayName": "Chandru King",
      "photoUrl": "",
      "userId": "14503008463780041909"
     },
     "user_tz": -330
    },
    "id": "EZYKUIjkJaT2",
    "outputId": "eab2e295-8e2d-45b7-bfe3-31b1a66b9db0"
   },
   "outputs": [
    {
     "name": "stdout",
     "output_type": "stream",
     "text": [
      "The train gini score is  0.3271857220307455 \n",
      "The test gini score is  0.28957317338009614\n"
     ]
    }
   ],
   "source": [
    "classifier1 = XGBClassifier(max_depth=3,min_child_weight=5,n_estimators=200,random_state=42,n_jobs=-1,scale_pos_weight=5.141660248075436,subsample=1,reg_lambda=1,reg_alpha=10)\n",
    "\n",
    "classifier2 = LGBMClassifier(class_weight='balanced',n_jobs=-1,random_state=42,n_estimators=2000,max_depth=2,colsample_bytree=0.5,reg_lambda=1,reg_alpha=10)\n",
    "\n",
    "classifier3=CatBoostClassifier(iterations=200, depth=3, learning_rate=0.1,verbose=0,auto_class_weights='Balanced')\n",
    "\n",
    "meta=LogisticRegression(random_state=42,C=10,n_jobs=-1)\n",
    "\n",
    "#meta=SGDClassifier(loss='log',penalty='elasticnet',random_state=42,n_jobs=-1)\n",
    "\n",
    "\n",
    "sclf = StackingCVClassifier(classifiers = [classifier1, classifier2,classifier3],shuffle = False,use_probas = True,cv =3,\n",
    "                        meta_classifier = meta,random_state=42)\n",
    "\n",
    "\n",
    "sclf.fit(X_imp_train,y_train)\n",
    "train_sc = gini_roc(y_train,sclf.predict_proba(X_imp_train)[:,1])\n",
    "test_sc = gini_roc(y_test,sclf.predict_proba(X_imp_test)[:,1])\n",
    "print(\"The train gini score is \",train_sc, \"\\nThe test gini score is \",test_sc)"
   ]
  },
  {
   "cell_type": "markdown",
   "metadata": {
    "id": "Mar3-8dPJaT2"
   },
   "source": [
    "### Tuning Lightbgm Classifier"
   ]
  },
  {
   "cell_type": "code",
   "execution_count": null,
   "metadata": {
    "colab": {
     "base_uri": "https://localhost:8080/"
    },
    "executionInfo": {
     "elapsed": 496181,
     "status": "ok",
     "timestamp": 1617646057501,
     "user": {
      "displayName": "Chandru King",
      "photoUrl": "",
      "userId": "14503008463780041909"
     },
     "user_tz": -330
    },
    "id": "yL-ZOYKbJaT2",
    "outputId": "b74e9a44-c4f3-44c4-a488-41c31cf0e86f"
   },
   "outputs": [
    {
     "name": "stderr",
     "output_type": "stream",
     "text": [
      "\n",
      "  0%|          | 0/3 [00:00<?, ?it/s]\u001b[A"
     ]
    },
    {
     "name": "stdout",
     "output_type": "stream",
     "text": [
      "Learning_rate =  0.01 num_leaves= 10 min_child_samples= 5 Train Score 0.25375644404885445 test Score 0.25211151825042855\n",
      "Learning_rate =  0.01 num_leaves= 10 min_child_samples= 10 Train Score 0.25375644404885445 test Score 0.25211151825042855\n",
      "Learning_rate =  0.01 num_leaves= 10 min_child_samples= 15 Train Score 0.25375644404885445 test Score 0.25211151825042855\n",
      "Learning_rate =  0.01 num_leaves= 15 min_child_samples= 5 Train Score 0.2645366293901925 test Score 0.2576902489466648\n",
      "Learning_rate =  0.01 num_leaves= 15 min_child_samples= 10 Train Score 0.26482965044234485 test Score 0.2580529760314565\n",
      "Learning_rate =  0.01 num_leaves= 15 min_child_samples= 15 Train Score 0.26469629366588077 test Score 0.25851073311625594\n",
      "Learning_rate =  0.01 num_leaves= 20 min_child_samples= 5 Train Score 0.2735547064488437 test Score 0.261325470082411\n",
      "Learning_rate =  0.01 num_leaves= 20 min_child_samples= 10 Train Score 0.273206788822667 test Score 0.26132117388621334\n",
      "Learning_rate =  0.01 num_leaves= 20 min_child_samples= 15 Train Score 0.2728431694517415 test Score 0.26132058934964064\n",
      "Learning_rate =  0.01 num_leaves= 25 min_child_samples= 5 Train Score 0.2798707011801784 test Score 0.26208416534125023\n",
      "Learning_rate =  0.01 num_leaves= 25 min_child_samples= 10 Train Score 0.2792745508885752 test Score 0.2624348754759489\n"
     ]
    },
    {
     "name": "stderr",
     "output_type": "stream",
     "text": [
      "\n",
      " 33%|███▎      | 1/3 [03:11<06:22, 191.06s/it]\u001b[A"
     ]
    },
    {
     "name": "stdout",
     "output_type": "stream",
     "text": [
      "Learning_rate =  0.01 num_leaves= 25 min_child_samples= 15 Train Score 0.27961366521035336 test Score 0.26216286226758356\n",
      "Learning_rate =  0.03 num_leaves= 10 min_child_samples= 5 Train Score 0.28723273770648095 test Score 0.27446911589542333\n",
      "Learning_rate =  0.03 num_leaves= 10 min_child_samples= 10 Train Score 0.28521153586419246 test Score 0.27536446945767956\n",
      "Learning_rate =  0.03 num_leaves= 10 min_child_samples= 15 Train Score 0.28558142952319154 test Score 0.27611439962013584\n",
      "Learning_rate =  0.03 num_leaves= 15 min_child_samples= 5 Train Score 0.30453685914125406 test Score 0.2780494334003234\n",
      "Learning_rate =  0.03 num_leaves= 15 min_child_samples= 10 Train Score 0.3023827988058594 test Score 0.2795212507307785\n",
      "Learning_rate =  0.03 num_leaves= 15 min_child_samples= 15 Train Score 0.300699448478118 test Score 0.27964263358793096\n",
      "Learning_rate =  0.03 num_leaves= 20 min_child_samples= 5 Train Score 0.32069538130063724 test Score 0.27820346100133886\n",
      "Learning_rate =  0.03 num_leaves= 20 min_child_samples= 10 Train Score 0.31582653142755013 test Score 0.28095521341375296\n",
      "Learning_rate =  0.03 num_leaves= 20 min_child_samples= 15 Train Score 0.31412995537394495 test Score 0.2794639624564148\n",
      "Learning_rate =  0.03 num_leaves= 25 min_child_samples= 5 Train Score 0.33396996006121027 test Score 0.27798708726089405\n",
      "Learning_rate =  0.03 num_leaves= 25 min_child_samples= 10 Train Score 0.3287199952165514 test Score 0.27959505142526564\n"
     ]
    },
    {
     "name": "stderr",
     "output_type": "stream",
     "text": [
      "\n",
      " 67%|██████▋   | 2/3 [05:55<03:03, 183.02s/it]\u001b[A"
     ]
    },
    {
     "name": "stdout",
     "output_type": "stream",
     "text": [
      "Learning_rate =  0.03 num_leaves= 25 min_child_samples= 15 Train Score 0.32731780668961785 test Score 0.28040306990961694\n",
      "Learning_rate =  0.1 num_leaves= 10 min_child_samples= 5 Train Score 0.32168689481797563 test Score 0.2806583382117227\n",
      "Learning_rate =  0.1 num_leaves= 10 min_child_samples= 10 Train Score 0.3235496812262655 test Score 0.2817674299334887\n",
      "Learning_rate =  0.1 num_leaves= 10 min_child_samples= 15 Train Score 0.3228470922022477 test Score 0.2823618999374957\n",
      "Learning_rate =  0.1 num_leaves= 15 min_child_samples= 5 Train Score 0.3485335275037764 test Score 0.2764720976238606\n",
      "Learning_rate =  0.1 num_leaves= 15 min_child_samples= 10 Train Score 0.3511160164538394 test Score 0.2800421067672596\n",
      "Learning_rate =  0.1 num_leaves= 15 min_child_samples= 15 Train Score 0.3516631638089647 test Score 0.2824093116103277\n",
      "Learning_rate =  0.1 num_leaves= 20 min_child_samples= 5 Train Score 0.3761484891353444 test Score 0.2755998398986803\n",
      "Learning_rate =  0.1 num_leaves= 20 min_child_samples= 10 Train Score 0.3776580248710699 test Score 0.2784625014832707\n",
      "Learning_rate =  0.1 num_leaves= 20 min_child_samples= 15 Train Score 0.3756897638898633 test Score 0.28044113194949305\n",
      "Learning_rate =  0.1 num_leaves= 25 min_child_samples= 5 Train Score 0.3934689694114972 test Score 0.273642809239695\n",
      "Learning_rate =  0.1 num_leaves= 25 min_child_samples= 10 Train Score 0.3961229311380843 test Score 0.27710624157162567\n"
     ]
    },
    {
     "name": "stderr",
     "output_type": "stream",
     "text": [
      "\n",
      "100%|██████████| 3/3 [08:15<00:00, 165.12s/it]"
     ]
    },
    {
     "name": "stdout",
     "output_type": "stream",
     "text": [
      "Learning_rate =  0.1 num_leaves= 25 min_child_samples= 15 Train Score 0.39561675850259026 test Score 0.2786892544381341\n"
     ]
    },
    {
     "name": "stderr",
     "output_type": "stream",
     "text": [
      "\n"
     ]
    }
   ],
   "source": [
    "lr = [0.01,0.03,0.1]\n",
    "num_leaves=[10,15,20,25]\n",
    "min_child_samples=[5,10,15]\n",
    "\n",
    "for i in tqdm(lr):\n",
    "    for j in num_leaves:\n",
    "        for k in min_child_samples:\n",
    "            clf = LGBMClassifier(learning_rate =i,num_leaves=j,n_jobs=-1,min_child_samples=k,boosting_type='goss')\n",
    "            clf.fit(X_imp_train,y_train)\n",
    " \n",
    "            train_sc = gini_roc(y_train,clf.predict_proba(X_imp_train)[:,1])\n",
    "            test_sc = gini_roc(y_test,clf.predict_proba(X_imp_test)[:,1])\n",
    "            print('Learning_rate = ',i,\"num_leaves=\",j,'min_child_samples=',k,'Train Score',train_sc,'test Score',test_sc)"
   ]
  },
  {
   "cell_type": "code",
   "execution_count": null,
   "metadata": {
    "colab": {
     "base_uri": "https://localhost:8080/"
    },
    "executionInfo": {
     "elapsed": 296711,
     "status": "ok",
     "timestamp": 1617646403767,
     "user": {
      "displayName": "Chandru King",
      "photoUrl": "",
      "userId": "14503008463780041909"
     },
     "user_tz": -330
    },
    "id": "0lUWpU_hJaT3",
    "outputId": "0b2d70eb-fd87-432f-b8b5-6cf69b9df853"
   },
   "outputs": [
    {
     "name": "stderr",
     "output_type": "stream",
     "text": [
      "\n",
      "\n",
      "  0%|          | 0/3 [00:00<?, ?it/s]\u001b[A\u001b[A"
     ]
    },
    {
     "name": "stdout",
     "output_type": "stream",
     "text": [
      "drop_rate =  0.1 feature_fraction= 0.2 max_drop= 25 Train Score 0.32514705878548233 test Score 0.2838525390503661\n",
      "drop_rate =  0.1 feature_fraction= 0.2 max_drop= 50 Train Score 0.32514705878548233 test Score 0.2838525390503661\n",
      "drop_rate =  0.1 feature_fraction= 0.2 max_drop= 75 Train Score 0.32514705878548233 test Score 0.2838525390503661\n",
      "drop_rate =  0.1 feature_fraction= 0.4 max_drop= 25 Train Score 0.3377599059669296 test Score 0.28368854259141507\n",
      "drop_rate =  0.1 feature_fraction= 0.4 max_drop= 50 Train Score 0.3377599059669296 test Score 0.28368854259141507\n",
      "drop_rate =  0.1 feature_fraction= 0.4 max_drop= 75 Train Score 0.3377599059669296 test Score 0.28368854259141507\n",
      "drop_rate =  0.1 feature_fraction= 0.6 max_drop= 25 Train Score 0.3454058302603078 test Score 0.2844118970052554\n",
      "drop_rate =  0.1 feature_fraction= 0.6 max_drop= 50 Train Score 0.3454058302603078 test Score 0.2844118970052554\n"
     ]
    },
    {
     "name": "stderr",
     "output_type": "stream",
     "text": [
      "\n",
      "\n",
      " 33%|███▎      | 1/3 [01:38<03:17, 98.88s/it]\u001b[A\u001b[A"
     ]
    },
    {
     "name": "stdout",
     "output_type": "stream",
     "text": [
      "drop_rate =  0.1 feature_fraction= 0.6 max_drop= 75 Train Score 0.3454058302603078 test Score 0.2844118970052554\n",
      "drop_rate =  0.5 feature_fraction= 0.2 max_drop= 25 Train Score 0.32514705878548233 test Score 0.2838525390503661\n",
      "drop_rate =  0.5 feature_fraction= 0.2 max_drop= 50 Train Score 0.32514705878548233 test Score 0.2838525390503661\n",
      "drop_rate =  0.5 feature_fraction= 0.2 max_drop= 75 Train Score 0.32514705878548233 test Score 0.2838525390503661\n",
      "drop_rate =  0.5 feature_fraction= 0.4 max_drop= 25 Train Score 0.3377599059669296 test Score 0.28368854259141507\n",
      "drop_rate =  0.5 feature_fraction= 0.4 max_drop= 50 Train Score 0.3377599059669296 test Score 0.28368854259141507\n",
      "drop_rate =  0.5 feature_fraction= 0.4 max_drop= 75 Train Score 0.3377599059669296 test Score 0.28368854259141507\n",
      "drop_rate =  0.5 feature_fraction= 0.6 max_drop= 25 Train Score 0.3454058302603078 test Score 0.2844118970052554\n",
      "drop_rate =  0.5 feature_fraction= 0.6 max_drop= 50 Train Score 0.3454058302603078 test Score 0.2844118970052554\n"
     ]
    },
    {
     "name": "stderr",
     "output_type": "stream",
     "text": [
      "\n",
      "\n",
      " 67%|██████▋   | 2/3 [03:17<01:38, 98.77s/it]\u001b[A\u001b[A"
     ]
    },
    {
     "name": "stdout",
     "output_type": "stream",
     "text": [
      "drop_rate =  0.5 feature_fraction= 0.6 max_drop= 75 Train Score 0.3454058302603078 test Score 0.2844118970052554\n",
      "drop_rate =  0.2 feature_fraction= 0.2 max_drop= 25 Train Score 0.32514705878548233 test Score 0.2838525390503661\n",
      "drop_rate =  0.2 feature_fraction= 0.2 max_drop= 50 Train Score 0.32514705878548233 test Score 0.2838525390503661\n",
      "drop_rate =  0.2 feature_fraction= 0.2 max_drop= 75 Train Score 0.32514705878548233 test Score 0.2838525390503661\n",
      "drop_rate =  0.2 feature_fraction= 0.4 max_drop= 25 Train Score 0.3377599059669296 test Score 0.28368854259141507\n",
      "drop_rate =  0.2 feature_fraction= 0.4 max_drop= 50 Train Score 0.3377599059669296 test Score 0.28368854259141507\n",
      "drop_rate =  0.2 feature_fraction= 0.4 max_drop= 75 Train Score 0.3377599059669296 test Score 0.28368854259141507\n",
      "drop_rate =  0.2 feature_fraction= 0.6 max_drop= 25 Train Score 0.3454058302603078 test Score 0.2844118970052554\n",
      "drop_rate =  0.2 feature_fraction= 0.6 max_drop= 50 Train Score 0.3454058302603078 test Score 0.2844118970052554\n"
     ]
    },
    {
     "name": "stderr",
     "output_type": "stream",
     "text": [
      "\n",
      "\n",
      "100%|██████████| 3/3 [04:55<00:00, 98.61s/it]"
     ]
    },
    {
     "name": "stdout",
     "output_type": "stream",
     "text": [
      "drop_rate =  0.2 feature_fraction= 0.6 max_drop= 75 Train Score 0.3454058302603078 test Score 0.2844118970052554\n"
     ]
    },
    {
     "name": "stderr",
     "output_type": "stream",
     "text": [
      "\n"
     ]
    }
   ],
   "source": [
    "drop_rate = [0.1,0.5,0.2]\n",
    "feature_fraction=[0.2,0.4,0.6]\n",
    "max_drop=[25,50,75]\n",
    "\n",
    "for i in tqdm(drop_rate):\n",
    "    for j in feature_fraction:\n",
    "        for k in max_drop:\n",
    "            clf = LGBMClassifier(learning_rate =0.1,num_leaves=15,min_child_samples=15,drop_rate =i,feature_fraction=j,\n",
    "                                 n_jobs=-1,max_drop=k,boosting_type='goss',is_unbalance= 'False')\n",
    "            clf.fit(X_imp_train,y_train)\n",
    " \n",
    "            train_sc = gini_roc(y_train,clf.predict_proba(X_imp_train)[:,1])\n",
    "            test_sc = gini_roc(y_test,clf.predict_proba(X_imp_test)[:,1])\n",
    "            print('drop_rate = ',i,\"feature_fraction=\",j,'max_drop=',k,'Train Score',train_sc,'test Score',test_sc)"
   ]
  },
  {
   "cell_type": "code",
   "execution_count": null,
   "metadata": {
    "colab": {
     "base_uri": "https://localhost:8080/"
    },
    "executionInfo": {
     "elapsed": 830329,
     "status": "ok",
     "timestamp": 1617647234113,
     "user": {
      "displayName": "Chandru King",
      "photoUrl": "",
      "userId": "14503008463780041909"
     },
     "user_tz": -330
    },
    "id": "nC5CVv4-JaT3",
    "outputId": "2b125031-3109-46cb-900e-6a05dc720329"
   },
   "outputs": [
    {
     "name": "stderr",
     "output_type": "stream",
     "text": [
      "\n",
      "\n",
      "  0%|          | 0/4 [00:00<?, ?it/s]\u001b[A\u001b[A"
     ]
    },
    {
     "name": "stdout",
     "output_type": "stream",
     "text": [
      "min_child_weight =  50 min_split_gain= 0 subsample= 0.2 Train Score 0.33129558894908095 test Score 0.2886209824927761\n",
      "min_child_weight =  50 min_split_gain= 0 subsample= 0.5 Train Score 0.33129558894908095 test Score 0.2886209824927761\n",
      "min_child_weight =  50 min_split_gain= 0 subsample= 0.7 Train Score 0.33129558894908095 test Score 0.2886209824927761\n",
      "min_child_weight =  50 min_split_gain= 0 subsample= 0.9 Train Score 0.33129558894908095 test Score 0.2886209824927761\n",
      "min_child_weight =  50 min_split_gain= 0.2 subsample= 0.2 Train Score 0.33085033096171323 test Score 0.2877808344243187\n",
      "min_child_weight =  50 min_split_gain= 0.2 subsample= 0.5 Train Score 0.33085033096171323 test Score 0.2877808344243187\n",
      "min_child_weight =  50 min_split_gain= 0.2 subsample= 0.7 Train Score 0.33085033096171323 test Score 0.2877808344243187\n",
      "min_child_weight =  50 min_split_gain= 0.2 subsample= 0.9 Train Score 0.33085033096171323 test Score 0.2877808344243187\n",
      "min_child_weight =  50 min_split_gain= 0.5 subsample= 0.2 Train Score 0.33009124469776396 test Score 0.2883792271706027\n",
      "min_child_weight =  50 min_split_gain= 0.5 subsample= 0.5 Train Score 0.33009124469776396 test Score 0.2883792271706027\n",
      "min_child_weight =  50 min_split_gain= 0.5 subsample= 0.7 Train Score 0.33009124469776396 test Score 0.2883792271706027\n",
      "min_child_weight =  50 min_split_gain= 0.5 subsample= 0.9 Train Score 0.33009124469776396 test Score 0.2883792271706027\n",
      "min_child_weight =  50 min_split_gain= 1 subsample= 0.2 Train Score 0.32930135170264685 test Score 0.28752026322414004\n",
      "min_child_weight =  50 min_split_gain= 1 subsample= 0.5 Train Score 0.32930135170264685 test Score 0.28752026322414004\n",
      "min_child_weight =  50 min_split_gain= 1 subsample= 0.7 Train Score 0.32930135170264685 test Score 0.28752026322414004\n"
     ]
    },
    {
     "name": "stderr",
     "output_type": "stream",
     "text": [
      "\n",
      "\n",
      " 25%|██▌       | 1/4 [03:15<09:47, 195.99s/it]\u001b[A\u001b[A"
     ]
    },
    {
     "name": "stdout",
     "output_type": "stream",
     "text": [
      "min_child_weight =  50 min_split_gain= 1 subsample= 0.9 Train Score 0.32930135170264685 test Score 0.28752026322414004\n",
      "min_child_weight =  100 min_split_gain= 0 subsample= 0.2 Train Score 0.32883330660677834 test Score 0.2901663672935302\n",
      "min_child_weight =  100 min_split_gain= 0 subsample= 0.5 Train Score 0.32883330660677834 test Score 0.2901663672935302\n",
      "min_child_weight =  100 min_split_gain= 0 subsample= 0.7 Train Score 0.32883330660677834 test Score 0.2901663672935302\n",
      "min_child_weight =  100 min_split_gain= 0 subsample= 0.9 Train Score 0.32883330660677834 test Score 0.2901663672935302\n",
      "min_child_weight =  100 min_split_gain= 0.2 subsample= 0.2 Train Score 0.32745821606452497 test Score 0.28838798857672954\n",
      "min_child_weight =  100 min_split_gain= 0.2 subsample= 0.5 Train Score 0.32745821606452497 test Score 0.28838798857672954\n",
      "min_child_weight =  100 min_split_gain= 0.2 subsample= 0.7 Train Score 0.32745821606452497 test Score 0.28838798857672954\n",
      "min_child_weight =  100 min_split_gain= 0.2 subsample= 0.9 Train Score 0.32745821606452497 test Score 0.28838798857672954\n",
      "min_child_weight =  100 min_split_gain= 0.5 subsample= 0.2 Train Score 0.3267457732767267 test Score 0.2888422207288639\n",
      "min_child_weight =  100 min_split_gain= 0.5 subsample= 0.5 Train Score 0.3267457732767267 test Score 0.2888422207288639\n",
      "min_child_weight =  100 min_split_gain= 0.5 subsample= 0.7 Train Score 0.3267457732767267 test Score 0.2888422207288639\n",
      "min_child_weight =  100 min_split_gain= 0.5 subsample= 0.9 Train Score 0.3267457732767267 test Score 0.2888422207288639\n",
      "min_child_weight =  100 min_split_gain= 1 subsample= 0.2 Train Score 0.3260205314282607 test Score 0.2895667169079541\n",
      "min_child_weight =  100 min_split_gain= 1 subsample= 0.5 Train Score 0.3260205314282607 test Score 0.2895667169079541\n",
      "min_child_weight =  100 min_split_gain= 1 subsample= 0.7 Train Score 0.3260205314282607 test Score 0.2895667169079541\n"
     ]
    },
    {
     "name": "stderr",
     "output_type": "stream",
     "text": [
      "\n",
      "\n",
      " 50%|█████     | 2/4 [06:49<06:42, 201.26s/it]\u001b[A\u001b[A"
     ]
    },
    {
     "name": "stdout",
     "output_type": "stream",
     "text": [
      "min_child_weight =  100 min_split_gain= 1 subsample= 0.9 Train Score 0.3260205314282607 test Score 0.2895667169079541\n",
      "min_child_weight =  150 min_split_gain= 0 subsample= 0.2 Train Score 0.32643117062877547 test Score 0.28895527910621643\n",
      "min_child_weight =  150 min_split_gain= 0 subsample= 0.5 Train Score 0.32643117062877547 test Score 0.28895527910621643\n",
      "min_child_weight =  150 min_split_gain= 0 subsample= 0.7 Train Score 0.32643117062877547 test Score 0.28895527910621643\n",
      "min_child_weight =  150 min_split_gain= 0 subsample= 0.9 Train Score 0.32643117062877547 test Score 0.28895527910621643\n",
      "min_child_weight =  150 min_split_gain= 0.2 subsample= 0.2 Train Score 0.3255940784005751 test Score 0.28988347521006474\n",
      "min_child_weight =  150 min_split_gain= 0.2 subsample= 0.5 Train Score 0.3255940784005751 test Score 0.28988347521006474\n",
      "min_child_weight =  150 min_split_gain= 0.2 subsample= 0.7 Train Score 0.3255940784005751 test Score 0.28988347521006474\n",
      "min_child_weight =  150 min_split_gain= 0.2 subsample= 0.9 Train Score 0.3255940784005751 test Score 0.28988347521006474\n",
      "min_child_weight =  150 min_split_gain= 0.5 subsample= 0.2 Train Score 0.32519379840901497 test Score 0.28809538078689956\n",
      "min_child_weight =  150 min_split_gain= 0.5 subsample= 0.5 Train Score 0.32519379840901497 test Score 0.28809538078689956\n",
      "min_child_weight =  150 min_split_gain= 0.5 subsample= 0.7 Train Score 0.32519379840901497 test Score 0.28809538078689956\n",
      "min_child_weight =  150 min_split_gain= 0.5 subsample= 0.9 Train Score 0.32519379840901497 test Score 0.28809538078689956\n",
      "min_child_weight =  150 min_split_gain= 1 subsample= 0.2 Train Score 0.32402660339323863 test Score 0.2867620107960378\n",
      "min_child_weight =  150 min_split_gain= 1 subsample= 0.5 Train Score 0.32402660339323863 test Score 0.2867620107960378\n",
      "min_child_weight =  150 min_split_gain= 1 subsample= 0.7 Train Score 0.32402660339323863 test Score 0.2867620107960378\n"
     ]
    },
    {
     "name": "stderr",
     "output_type": "stream",
     "text": [
      "\n",
      "\n",
      " 75%|███████▌  | 3/4 [10:19<03:23, 203.82s/it]\u001b[A\u001b[A"
     ]
    },
    {
     "name": "stdout",
     "output_type": "stream",
     "text": [
      "min_child_weight =  150 min_split_gain= 1 subsample= 0.9 Train Score 0.32402660339323863 test Score 0.2867620107960378\n",
      "min_child_weight =  200 min_split_gain= 0 subsample= 0.2 Train Score 0.32347274147739213 test Score 0.28977444142605835\n",
      "min_child_weight =  200 min_split_gain= 0 subsample= 0.5 Train Score 0.32347274147739213 test Score 0.28977444142605835\n",
      "min_child_weight =  200 min_split_gain= 0 subsample= 0.7 Train Score 0.32347274147739213 test Score 0.28977444142605835\n",
      "min_child_weight =  200 min_split_gain= 0 subsample= 0.9 Train Score 0.32347274147739213 test Score 0.28977444142605835\n",
      "min_child_weight =  200 min_split_gain= 0.2 subsample= 0.2 Train Score 0.3234135308043711 test Score 0.28744380775938616\n",
      "min_child_weight =  200 min_split_gain= 0.2 subsample= 0.5 Train Score 0.3234135308043711 test Score 0.28744380775938616\n",
      "min_child_weight =  200 min_split_gain= 0.2 subsample= 0.7 Train Score 0.3234135308043711 test Score 0.28744380775938616\n",
      "min_child_weight =  200 min_split_gain= 0.2 subsample= 0.9 Train Score 0.3234135308043711 test Score 0.28744380775938616\n",
      "min_child_weight =  200 min_split_gain= 0.5 subsample= 0.2 Train Score 0.323479427569894 test Score 0.28820257829945084\n",
      "min_child_weight =  200 min_split_gain= 0.5 subsample= 0.5 Train Score 0.323479427569894 test Score 0.28820257829945084\n",
      "min_child_weight =  200 min_split_gain= 0.5 subsample= 0.7 Train Score 0.323479427569894 test Score 0.28820257829945084\n",
      "min_child_weight =  200 min_split_gain= 0.5 subsample= 0.9 Train Score 0.323479427569894 test Score 0.28820257829945084\n",
      "min_child_weight =  200 min_split_gain= 1 subsample= 0.2 Train Score 0.3213056113646793 test Score 0.2851576785817591\n",
      "min_child_weight =  200 min_split_gain= 1 subsample= 0.5 Train Score 0.3213056113646793 test Score 0.2851576785817591\n",
      "min_child_weight =  200 min_split_gain= 1 subsample= 0.7 Train Score 0.3213056113646793 test Score 0.2851576785817591\n"
     ]
    },
    {
     "name": "stderr",
     "output_type": "stream",
     "text": [
      "\n",
      "\n",
      "100%|██████████| 4/4 [13:48<00:00, 207.23s/it]"
     ]
    },
    {
     "name": "stdout",
     "output_type": "stream",
     "text": [
      "min_child_weight =  200 min_split_gain= 1 subsample= 0.9 Train Score 0.3213056113646793 test Score 0.2851576785817591\n"
     ]
    },
    {
     "name": "stderr",
     "output_type": "stream",
     "text": [
      "\n"
     ]
    }
   ],
   "source": [
    "min_child_weight = [50,100,150,200]\n",
    "min_split_gain=[0,0.2,0.5,1]\n",
    "subsample=[0.2,0.5,0.7,0.9]\n",
    "\n",
    "for i in tqdm(min_child_weight):\n",
    "    for j in min_split_gain:\n",
    "        for k in subsample:\n",
    "            clf = LGBMClassifier(objective='binary',is_unbalance= 'False',learning_rate =0.1,num_leaves=15,min_child_samples=15,\n",
    "                                 drop_rate =0.1,feature_fraction=0.6,n_jobs=-1,random_state=42,max_drop=50,\n",
    "                                 boosting_type='goss',min_child_weight=i,min_split_gain=j,subsample=k)\n",
    "            clf.fit(X_imp_train,y_train)\n",
    " \n",
    "            train_sc = gini_roc(y_train,clf.predict_proba(X_imp_train)[:,1])\n",
    "            test_sc = gini_roc(y_test,clf.predict_proba(X_imp_test)[:,1])\n",
    "            print('min_child_weight = ',i,\"min_split_gain=\",j,'subsample=',k,'Train Score',train_sc,'test Score',test_sc)"
   ]
  },
  {
   "cell_type": "code",
   "execution_count": null,
   "metadata": {
    "colab": {
     "base_uri": "https://localhost:8080/"
    },
    "executionInfo": {
     "elapsed": 703055,
     "status": "ok",
     "timestamp": 1617648050170,
     "user": {
      "displayName": "Chandru King",
      "photoUrl": "",
      "userId": "14503008463780041909"
     },
     "user_tz": -330
    },
    "id": "45e3dL4-JaT3",
    "outputId": "e19d1207-391e-4d10-ed7d-93540be1d4f8"
   },
   "outputs": [
    {
     "name": "stderr",
     "output_type": "stream",
     "text": [
      "\n",
      "\n",
      "\n",
      "  0%|          | 0/5 [00:00<?, ?it/s]\u001b[A\u001b[A\u001b[A"
     ]
    },
    {
     "name": "stdout",
     "output_type": "stream",
     "text": [
      "max_bin =  50 n_estimators= 100 Train Score 0.32690085327390417 test Score 0.28999870788633464\n",
      "max_bin =  50 n_estimators= 250 Train Score 0.3692909869790941 test Score 0.28930827719972174\n",
      "max_bin =  50 n_estimators= 500 Train Score 0.4241641633500719 test Score 0.2830138678224159\n"
     ]
    },
    {
     "name": "stderr",
     "output_type": "stream",
     "text": [
      "\n",
      "\n",
      "\n",
      " 20%|██        | 1/5 [02:24<09:37, 144.47s/it]\u001b[A\u001b[A\u001b[A"
     ]
    },
    {
     "name": "stdout",
     "output_type": "stream",
     "text": [
      "max_bin =  50 n_estimators= 750 Train Score 0.4647784448893133 test Score 0.2776551745529199\n",
      "max_bin =  100 n_estimators= 100 Train Score 0.3295493637841367 test Score 0.29128692833137815\n",
      "max_bin =  100 n_estimators= 250 Train Score 0.37419059524109 test Score 0.2904368734012883\n",
      "max_bin =  100 n_estimators= 500 Train Score 0.4264711010660909 test Score 0.2850431271267726\n"
     ]
    },
    {
     "name": "stderr",
     "output_type": "stream",
     "text": [
      "\n",
      "\n",
      "\n",
      " 40%|████      | 2/5 [04:42<07:07, 142.54s/it]\u001b[A\u001b[A\u001b[A"
     ]
    },
    {
     "name": "stdout",
     "output_type": "stream",
     "text": [
      "max_bin =  100 n_estimators= 750 Train Score 0.4693056408606189 test Score 0.27747230686212143\n",
      "max_bin =  128 n_estimators= 100 Train Score 0.3294148668465431 test Score 0.2901715757210459\n",
      "max_bin =  128 n_estimators= 250 Train Score 0.37463371793297595 test Score 0.2892291721310596\n",
      "max_bin =  128 n_estimators= 500 Train Score 0.42899099753355197 test Score 0.28192451970904875\n"
     ]
    },
    {
     "name": "stderr",
     "output_type": "stream",
     "text": [
      "\n",
      "\n",
      "\n",
      " 60%|██████    | 3/5 [07:00<04:42, 141.15s/it]\u001b[A\u001b[A\u001b[A"
     ]
    },
    {
     "name": "stdout",
     "output_type": "stream",
     "text": [
      "max_bin =  128 n_estimators= 750 Train Score 0.47260162359499835 test Score 0.27421938888193687\n",
      "max_bin =  256 n_estimators= 100 Train Score 0.3283632180657199 test Score 0.2899324308860656\n",
      "max_bin =  256 n_estimators= 250 Train Score 0.37339067176437934 test Score 0.2887557181727445\n",
      "max_bin =  256 n_estimators= 500 Train Score 0.42904949954486593 test Score 0.28153358725852984\n"
     ]
    },
    {
     "name": "stderr",
     "output_type": "stream",
     "text": [
      "\n",
      "\n",
      "\n",
      " 80%|████████  | 4/5 [09:20<02:20, 140.69s/it]\u001b[A\u001b[A\u001b[A"
     ]
    },
    {
     "name": "stdout",
     "output_type": "stream",
     "text": [
      "max_bin =  256 n_estimators= 750 Train Score 0.47007721948045966 test Score 0.27518751724747315\n",
      "max_bin =  512 n_estimators= 100 Train Score 0.3298174135529113 test Score 0.2913364323794414\n",
      "max_bin =  512 n_estimators= 250 Train Score 0.37660048621265396 test Score 0.2879789163031301\n",
      "max_bin =  512 n_estimators= 500 Train Score 0.4322365668117649 test Score 0.2797388813724646\n"
     ]
    },
    {
     "name": "stderr",
     "output_type": "stream",
     "text": [
      "\n",
      "\n",
      "\n",
      "100%|██████████| 5/5 [11:42<00:00, 140.43s/it]"
     ]
    },
    {
     "name": "stdout",
     "output_type": "stream",
     "text": [
      "max_bin =  512 n_estimators= 750 Train Score 0.47507004773177686 test Score 0.27213102274499046\n"
     ]
    },
    {
     "name": "stderr",
     "output_type": "stream",
     "text": [
      "\n"
     ]
    }
   ],
   "source": [
    "n_estimators=[100,250,500,750]\n",
    "max_bin=[50,100,128,256,512]\n",
    "\n",
    "for i in tqdm(max_bin):\n",
    "    for j in n_estimators:\n",
    "        clf = LGBMClassifier(is_unbalance= 'False',learning_rate =0.1,num_leaves=15,min_child_samples=15,\n",
    "                             drop_rate =0.1,feature_fraction=0.6,n_jobs=-1,max_drop=50,\n",
    "                             boosting_type='goss',min_child_weight=100,min_split_gain=0,subsample=0.9,max_bin=i,n_estimators=j)\n",
    "        clf.fit(X_imp_train,y_train)\n",
    "        \n",
    "        train_sc = gini_roc(y_train,clf.predict_proba(X_imp_train)[:,1])\n",
    "        test_sc = gini_roc(y_test,clf.predict_proba(X_imp_test)[:,1])\n",
    "        print('max_bin = ',i,'n_estimators=',j,'Train Score',train_sc,'test Score',test_sc)"
   ]
  },
  {
   "cell_type": "code",
   "execution_count": 12,
   "metadata": {
    "colab": {
     "base_uri": "https://localhost:8080/"
    },
    "executionInfo": {
     "elapsed": 13387,
     "status": "ok",
     "timestamp": 1617722517410,
     "user": {
      "displayName": "Chandru King",
      "photoUrl": "",
      "userId": "14503008463780041909"
     },
     "user_tz": -330
    },
    "id": "vaFifNjeUPku",
    "outputId": "0134dafc-6929-4556-a952-3f2b03961bde"
   },
   "outputs": [
    {
     "name": "stdout",
     "output_type": "stream",
     "text": [
      "Train Score 0.32674335383618947 test Score 0.2931289159932593\n"
     ]
    }
   ],
   "source": [
    "#Final Tuned Light gbm \n",
    "\n",
    "clf = LGBMClassifier(objective='binary',boosting_type='goss',\n",
    "                       learning_rate= 0.1,\n",
    "          num_leaves=15,\n",
    "           max_bin= 256,\n",
    "          feature_fraction= 0.6,\n",
    "          drop_rate= 0.1,\n",
    "          is_unbalance= 'False',\n",
    "          max_drop= 50,\n",
    "          min_child_samples= 15,\n",
    "          min_child_weight= 150,\n",
    "          min_split_gain= 0,\n",
    "          subsample=0.9)\n",
    "clf.fit(X_imp_train,y_train)\n",
    "\n",
    "train_sc = gini_roc(y_train,clf.predict_proba(X_imp_train)[:,1])\n",
    "test_sc = gini_roc(y_test,clf.predict_proba(X_imp_test)[:,1])\n",
    "print('Train Score',train_sc,'test Score',test_sc)"
   ]
  },
  {
   "cell_type": "code",
   "execution_count": 1,
   "metadata": {},
   "outputs": [
    {
     "name": "stdout",
     "output_type": "stream",
     "text": [
      "+---------------------------------------------+--------------+------------------------+-----------------------+\n",
      "| Model                                       |   Gini Score |   Kaggle Private score |   Kaggle Public score |\n",
      "+=============================================+==============+========================+=======================+\n",
      "| Stacked classifier (GBDT+Catboost+Lightgbm) |        0.289 |                  0.278 |                 0.273 |\n",
      "+---------------------------------------------+--------------+------------------------+-----------------------+\n",
      "| Tuned GBDT (lightgbm)                       |        0.293 |                  0.283 |                 0.28  |\n",
      "+---------------------------------------------+--------------+------------------------+-----------------------+\n"
     ]
    }
   ],
   "source": [
    "from tabulate import tabulate\n",
    "head=['Model','Gini Score','Kaggle Private score','Kaggle Public score']\n",
    "mydata=[\n",
    "       ('Stacked classifier (GBDT+Catboost+Lightgbm)','0.289','0.278','0.273'),\n",
    "       ('Tuned GBDT (lightgbm)','0.293','0.283','0.280')\n",
    "        ]\n",
    "\n",
    "print(tabulate(mydata,headers=head,tablefmt=\"grid\"))"
   ]
  },
  {
   "cell_type": "markdown",
   "metadata": {},
   "source": [
    "Approaches which didnt work well:\n",
    "\n",
    "1. Tried using SMOTE to balance between the classes but the performance didn't improve much.\n",
    "\n",
    "2. Tried to add different number of features obtained from SVD but the performance degraded.\n",
    "\n",
    "3. Implemented autoencoder to generate 50,100,150 additional features but the performance didnt show any improvement.\n",
    "\n",
    "4. Figured out top 50 ,100 features and trained models on them which again didn't show any considerable improvement.\n",
    "\n",
    "5. Tried normalising the data instead of log transformation as per Kaggle discussion but it didnt work out well."
   ]
  },
  {
   "cell_type": "code",
   "execution_count": null,
   "metadata": {},
   "outputs": [],
   "source": []
  }
 ],
 "metadata": {
  "colab": {
   "collapsed_sections": [
    "S3wQwK9TJaTb",
    "Qb2cYwznJaTd",
    "sWR64dRkJaTf",
    "ns85FTZ1JaTi",
    "KOR04hUgJaTj",
    "H4o7fmaKJaTj",
    "8LkAljFVJaTk",
    "R01ibvG3JaTk",
    "TzIPlOQZJaTl",
    "Hu-2C22fJaTm",
    "lT0xOoWhJaTn",
    "FvuncciNJaTn",
    "6ZXy7rr2JaTo",
    "wLL6a-A6JaTo",
    "I_RN4-SZJaTq",
    "nZAphy2lJaTq",
    "XQwObBEiJaTr",
    "AFSy013kJaTs",
    "oQVtfF6lJaTs",
    "x6ba7qUqJaTt",
    "miayMoO2JaTt",
    "NVb8cR3-JaTu",
    "6Nl9oofvJaTv",
    "b3MvkHDpJaTv",
    "q9SYQn-CJaTw",
    "5xtrzXeQJaTw",
    "loSucCMTJaTx",
    "xiavFwMvJaTx",
    "Fg95FR_kJaTy",
    "Lz3XaauLJaTy"
   ],
   "name": "Untitled-Copy1.ipynb",
   "provenance": []
  },
  "kernelspec": {
   "display_name": "Python 3",
   "language": "python",
   "name": "python3"
  },
  "language_info": {
   "codemirror_mode": {
    "name": "ipython",
    "version": 3
   },
   "file_extension": ".py",
   "mimetype": "text/x-python",
   "name": "python",
   "nbconvert_exporter": "python",
   "pygments_lexer": "ipython3",
   "version": "3.6.5"
  }
 },
 "nbformat": 4,
 "nbformat_minor": 1
}
